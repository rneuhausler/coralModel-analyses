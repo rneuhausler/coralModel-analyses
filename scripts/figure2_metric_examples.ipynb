{
 "cells": [
  {
   "cell_type": "markdown",
   "metadata": {},
   "source": [
    "# Figure 2, Metric examples"
   ]
  },
  {
   "cell_type": "code",
   "execution_count": 1,
   "metadata": {},
   "outputs": [],
   "source": [
    "import os\n",
    "import sys\n",
    "import re\n",
    "import numpy as np\n",
    "import pandas as pd\n",
    "import seaborn as sns\n",
    "import math\n",
    "import random\n",
    "import tools as tl\n",
    "from coralModel import Reef, Organism, Ocean\n",
    "import matplotlib.pyplot as plt\n",
    "import matplotlib.colors as clt\n",
    "from matplotlib.legend_handler import HandlerPatch\n",
    "import matplotlib.patches as mpatches\n",
    "from mpl_toolkits.axes_grid1.inset_locator import InsetPosition\n",
    "\n",
    "type_dictionary = {'coral':0, 'turf':1, 'macroalgae':2}"
   ]
  },
  {
   "cell_type": "code",
   "execution_count": 2,
   "metadata": {},
   "outputs": [],
   "source": [
    "##### Style setup\n",
    "sns.set_style(\"ticks\")\n",
    "colors =['#EE8382', '#508991', '#172A3A']\n",
    "success_palette = sns.set_palette(sns.color_palette(colors))\n",
    "\n",
    "levels = [0, 1, 2]\n",
    "legend_keys = ['Coral', 'Turf', 'Macroalgae']\n",
    "cmap, norm = clt.from_levels_and_colors(levels=levels, colors=colors, extend='max')\n",
    "\n",
    "\n",
    "##### Functions\n",
    "\n",
    "## For plots\n",
    "class HandlerSquare(HandlerPatch):\n",
    "    def create_artists(self, legend, orig_handle,\n",
    "                       xdescent, ydescent, width, height, fontsize, trans):\n",
    "        center = xdescent + 0.5 * (width - height), ydescent\n",
    "        p = mpatches.Rectangle(xy=center, width=height,\n",
    "                               height=height, angle=0.0)\n",
    "        self.update_prop(p, orig_handle, legend)\n",
    "        p.set_transform(trans)\n",
    "        return [p] \n",
    "\n",
    "## For pulling/processing image info in pandas df to plotable matrix\n",
    "def prep_image(df, simulation, timestep):    \n",
    "    image = df[(df['time']==timestep)&(df['simulation']==simulation)]['image']\n",
    "    image = np.genfromtxt([image.values[0].replace('[', '').replace(']', '')])\n",
    "    image = np.reshape(image, (25,25))\n",
    "    return(image)\n",
    " \n",
    "def density_from_image(image):\n",
    "    \n",
    "    Moorea = Reef()\n",
    "    count=0\n",
    "    for i in range(0, number_of_rows):\n",
    "        for j in range(0, number_of_columns):\n",
    "            \n",
    "            node = Organism(type=image[i,j], \n",
    "                            location=[i,j], \n",
    "                            ID=count)\n",
    "            Moorea.append(node)\n",
    "            count = count + 1\n",
    "    Moorea.generate_graph(1.45)\n",
    "    densities = np.array([Moorea.nodes[n].neighbors[0] for n,val in enumerate(Moorea.nodes)])\n",
    "    values = [Moorea.nodes[n].type for n,val in enumerate(Moorea.nodes)]\n",
    "    return(values, densities)"
   ]
  },
  {
   "cell_type": "code",
   "execution_count": 3,
   "metadata": {},
   "outputs": [],
   "source": [
    "path = './figures/paper/2_metric_examples/'\n",
    "extension = '.png'"
   ]
  },
  {
   "cell_type": "markdown",
   "metadata": {},
   "source": [
    "## Example Timeseries"
   ]
  },
  {
   "cell_type": "code",
   "execution_count": 5,
   "metadata": {},
   "outputs": [
    {
     "data": {
      "text/html": [
       "<div>\n",
       "<style scoped>\n",
       "    .dataframe tbody tr th:only-of-type {\n",
       "        vertical-align: middle;\n",
       "    }\n",
       "\n",
       "    .dataframe tbody tr th {\n",
       "        vertical-align: top;\n",
       "    }\n",
       "\n",
       "    .dataframe thead th {\n",
       "        text-align: right;\n",
       "    }\n",
       "</style>\n",
       "<table border=\"1\" class=\"dataframe\">\n",
       "  <thead>\n",
       "    <tr style=\"text-align: right;\">\n",
       "      <th></th>\n",
       "      <th>number_of_rows</th>\n",
       "      <th>number_of_columns</th>\n",
       "      <th>grid_option</th>\n",
       "      <th>grazing</th>\n",
       "      <th>neighborhood_threshold</th>\n",
       "      <th>initial_coral_percent</th>\n",
       "      <th>initial_macroalgae_percent</th>\n",
       "      <th>r</th>\n",
       "      <th>d</th>\n",
       "      <th>a</th>\n",
       "      <th>y</th>\n",
       "      <th>number_of_timesteps</th>\n",
       "      <th>record_rate</th>\n",
       "      <th>number_of_simulations</th>\n",
       "      <th>file</th>\n",
       "    </tr>\n",
       "  </thead>\n",
       "  <tbody>\n",
       "    <tr>\n",
       "      <th>0</th>\n",
       "      <td>25</td>\n",
       "      <td>25</td>\n",
       "      <td>0</td>\n",
       "      <td>57</td>\n",
       "      <td>145</td>\n",
       "      <td>33</td>\n",
       "      <td>33</td>\n",
       "      <td>10</td>\n",
       "      <td>40</td>\n",
       "      <td>20</td>\n",
       "      <td>75</td>\n",
       "      <td>1100</td>\n",
       "      <td>10</td>\n",
       "      <td>10</td>\n",
       "      <td>0</td>\n",
       "    </tr>\n",
       "  </tbody>\n",
       "</table>\n",
       "</div>"
      ],
      "text/plain": [
       "   number_of_rows  number_of_columns  grid_option  grazing  \\\n",
       "0              25                 25            0       57   \n",
       "\n",
       "   neighborhood_threshold  initial_coral_percent  initial_macroalgae_percent  \\\n",
       "0                     145                     33                          33   \n",
       "\n",
       "    r   d   a   y  number_of_timesteps  record_rate  number_of_simulations  \\\n",
       "0  10  40  20  75                 1100           10                     10   \n",
       "\n",
       "   file  \n",
       "0     0  "
      ]
     },
     "execution_count": 5,
     "metadata": {},
     "output_type": "execute_result"
    }
   ],
   "source": [
    "top_directory = \"./output/\" #os.getcwd()\n",
    "files, runs = tl.view_runs(top_directory)\n",
    "subset = runs[(runs['neighborhood_threshold']==145)&\n",
    "              (runs['number_of_rows']==25)&\n",
    "              (runs['grazing']==57)&\n",
    "              (runs['grid_option']==0)]\n",
    "subset"
   ]
  },
  {
   "cell_type": "code",
   "execution_count": 6,
   "metadata": {},
   "outputs": [],
   "source": [
    "df = tl.load_runs(files, subset)\n",
    "df = tl.split_neighbors(df)\n",
    "df = tl.add_percent(df)\n",
    "df['time'] = df['timestep']*.1"
   ]
  },
  {
   "cell_type": "code",
   "execution_count": 7,
   "metadata": {},
   "outputs": [
    {
     "data": {
      "text/html": [
       "<div>\n",
       "<style scoped>\n",
       "    .dataframe tbody tr th:only-of-type {\n",
       "        vertical-align: middle;\n",
       "    }\n",
       "\n",
       "    .dataframe tbody tr th {\n",
       "        vertical-align: top;\n",
       "    }\n",
       "\n",
       "    .dataframe thead th {\n",
       "        text-align: right;\n",
       "    }\n",
       "</style>\n",
       "<table border=\"1\" class=\"dataframe\">\n",
       "  <thead>\n",
       "    <tr style=\"text-align: right;\">\n",
       "      <th></th>\n",
       "      <th>time</th>\n",
       "      <th>timestep</th>\n",
       "    </tr>\n",
       "  </thead>\n",
       "  <tbody>\n",
       "    <tr>\n",
       "      <th>0</th>\n",
       "      <td>0.0</td>\n",
       "      <td>0</td>\n",
       "    </tr>\n",
       "    <tr>\n",
       "      <th>1</th>\n",
       "      <td>1.0</td>\n",
       "      <td>10</td>\n",
       "    </tr>\n",
       "    <tr>\n",
       "      <th>2</th>\n",
       "      <td>2.0</td>\n",
       "      <td>20</td>\n",
       "    </tr>\n",
       "    <tr>\n",
       "      <th>3</th>\n",
       "      <td>3.0</td>\n",
       "      <td>30</td>\n",
       "    </tr>\n",
       "    <tr>\n",
       "      <th>4</th>\n",
       "      <td>4.0</td>\n",
       "      <td>40</td>\n",
       "    </tr>\n",
       "    <tr>\n",
       "      <th>...</th>\n",
       "      <td>...</td>\n",
       "      <td>...</td>\n",
       "    </tr>\n",
       "    <tr>\n",
       "      <th>1095</th>\n",
       "      <td>105.0</td>\n",
       "      <td>1050</td>\n",
       "    </tr>\n",
       "    <tr>\n",
       "      <th>1096</th>\n",
       "      <td>106.0</td>\n",
       "      <td>1060</td>\n",
       "    </tr>\n",
       "    <tr>\n",
       "      <th>1097</th>\n",
       "      <td>107.0</td>\n",
       "      <td>1070</td>\n",
       "    </tr>\n",
       "    <tr>\n",
       "      <th>1098</th>\n",
       "      <td>108.0</td>\n",
       "      <td>1080</td>\n",
       "    </tr>\n",
       "    <tr>\n",
       "      <th>1099</th>\n",
       "      <td>109.0</td>\n",
       "      <td>1090</td>\n",
       "    </tr>\n",
       "  </tbody>\n",
       "</table>\n",
       "<p>1100 rows × 2 columns</p>\n",
       "</div>"
      ],
      "text/plain": [
       "       time  timestep\n",
       "0       0.0         0\n",
       "1       1.0        10\n",
       "2       2.0        20\n",
       "3       3.0        30\n",
       "4       4.0        40\n",
       "...     ...       ...\n",
       "1095  105.0      1050\n",
       "1096  106.0      1060\n",
       "1097  107.0      1070\n",
       "1098  108.0      1080\n",
       "1099  109.0      1090\n",
       "\n",
       "[1100 rows x 2 columns]"
      ]
     },
     "execution_count": 7,
     "metadata": {},
     "output_type": "execute_result"
    }
   ],
   "source": [
    "df[['time','timestep']]"
   ]
  },
  {
   "cell_type": "code",
   "execution_count": 8,
   "metadata": {},
   "outputs": [],
   "source": [
    "simulation = 1"
   ]
  },
  {
   "cell_type": "markdown",
   "metadata": {},
   "source": [
    "#### Coral, Turf, and Macroalgae"
   ]
  },
  {
   "cell_type": "code",
   "execution_count": 10,
   "metadata": {},
   "outputs": [
    {
     "data": {
      "image/png": "[encoded data removed]",
      "text/plain": [
       "<Figure size 864x144 with 1 Axes>"
      ]
     },
     "metadata": {},
     "output_type": "display_data"
    }
   ],
   "source": [
    "### create df with columns of interest\n",
    "name = 'temporal_evolution_3_species'\n",
    "simulation=1\n",
    "time_final = 100\n",
    "timesteps=[]\n",
    "columns =['coral_percent', 'turf_percent', 'macroalgae_percent']\n",
    "data = df[(df['simulation']==simulation)&(df['time']<=time_final)].set_index('time')[columns]\n",
    "data.plot(figsize=(12,2), legend=False)\n",
    "plt.title('Example Simulation, Species Evolution')\n",
    "plt.savefig(path + name + extension, dpi=400)"
   ]
  },
  {
   "cell_type": "code",
   "execution_count": 11,
   "metadata": {},
   "outputs": [],
   "source": [
    "columns =['coral_percent', 'turf_percent', 'macroalgae_percent','time','simulation', 'image', 'coral_coral_neighbors']\n",
    "data = df[(df['simulation']==simulation)&(df['time']<=time_final)][columns]"
   ]
  },
  {
   "cell_type": "code",
   "execution_count": 12,
   "metadata": {},
   "outputs": [
    {
     "data": {
      "image/png": "[encoded data removed]",
      "text/plain": [
       "<Figure size 864x216 with 6 Axes>"
      ]
     },
     "metadata": {},
     "output_type": "display_data"
    }
   ],
   "source": [
    "name = 'spatial_evolution_images'\n",
    "\n",
    "simulation = 1\n",
    "timesteps = [0, 20,40,60,80,100]\n",
    "\n",
    "fig, ax = plt.subplots(1, len(timesteps), figsize=(12,3)) \n",
    "\n",
    "for index in range(0, len(timesteps)):\n",
    "    \n",
    "    image = prep_image(data,simulation,timesteps[index])\n",
    "    \n",
    "    ax[index].imshow(image, cmap=cmap, norm=norm)\n",
    "    ax[index].set_title('Time = ' + str(int(timesteps[index])))\n",
    "    ax[index].axes.xaxis.set_visible(False)\n",
    "    ax[index].axes.yaxis.set_visible(False)\n",
    "    ax[index].set_frame_on(False)\n",
    "    \n",
    "#fig.suptitle(title)\n",
    "fig.subplots_adjust(wspace=0.2, top=.75)\n",
    "plt.savefig(path + name + extension, dpi=400)"
   ]
  },
  {
   "cell_type": "code",
   "execution_count": 13,
   "metadata": {},
   "outputs": [
    {
     "data": {
      "image/png": "[encoded data removed]",
      "text/plain": [
       "<Figure size 864x216 with 6 Axes>"
      ]
     },
     "metadata": {},
     "output_type": "display_data"
    }
   ],
   "source": [
    "name = 'coral_neighbors_images'\n",
    "\n",
    "simulation = 1\n",
    "timesteps = [0, 20,40,60,80,100]\n",
    "number_of_columns, number_of_rows = 25, 25\n",
    "fig, ax = plt.subplots(1, len(timesteps), figsize=(12,3)) \n",
    "\n",
    "for index in range(0, len(timesteps)):\n",
    "    \n",
    "    image = prep_image(data,simulation,timesteps[index])    \n",
    "    values, densities=density_from_image(image)\n",
    "    image = np.reshape(densities, (number_of_columns, number_of_rows))\n",
    "    \n",
    "    ax[index].imshow(image)\n",
    "    ax[index].set_title('Time = ' + str(int(timesteps[index])))\n",
    "    ax[index].axes.xaxis.set_visible(False)\n",
    "    ax[index].axes.yaxis.set_visible(False)\n",
    "    ax[index].set_frame_on(False)\n",
    "    \n",
    "#fig.suptitle(title)\n",
    "fig.subplots_adjust(wspace=0.2, top=.75)\n",
    "plt.savefig(path + name + extension, dpi=400)"
   ]
  },
  {
   "cell_type": "code",
   "execution_count": 14,
   "metadata": {},
   "outputs": [
    {
     "name": "stderr",
     "output_type": "stream",
     "text": [
      "/Users/rosannaneuhausler/.local/lib/python3.7/site-packages/ipykernel_launcher.py:13: RuntimeWarning: invalid value encountered in true_divide\n",
      "  del sys.path[0]\n",
      "/Users/rosannaneuhausler/.local/lib/python3.7/site-packages/ipykernel_launcher.py:18: RuntimeWarning: divide by zero encountered in true_divide\n",
      "/Users/rosannaneuhausler/.local/lib/python3.7/site-packages/ipykernel_launcher.py:18: RuntimeWarning: invalid value encountered in true_divide\n"
     ]
    },
    {
     "data": {
      "image/png": "[encoded data removed]",
      "text/plain": [
       "<Figure size 864x288 with 6 Axes>"
      ]
     },
     "metadata": {},
     "output_type": "display_data"
    }
   ],
   "source": [
    "name = 'masked_images'\n",
    "\n",
    "simulation = 1\n",
    "times = [0, 20,40,60,80,100]\n",
    "number_of_columns, number_of_rows = 25, 25\n",
    "fig, ax = plt.subplots(1, len(timesteps), figsize=(12,4)) \n",
    "\n",
    "for index in range(0, len(times)):\n",
    "    \n",
    "    time=times[index]\n",
    "    \n",
    "    image = prep_image(data,simulation,time)\n",
    "    image_binary = np.nan_to_num(image/image)\n",
    "    \n",
    "    values, densities=density_from_image(image)\n",
    "    image = np.reshape(densities, (number_of_columns, number_of_rows))\n",
    "    \n",
    "    image_nan = image/(1-image_binary)\n",
    "    masked_array = np.ma.array(image_nan, mask=np.isnan(image_nan))\n",
    "    \n",
    "    cmap = plt.cm.Reds\n",
    "    cmap.set_bad('gray',1.)\n",
    "\n",
    "    ax[index].imshow(masked_array, cmap=cmap)\n",
    "    ax[index].set_title('t = ' + str(int(time)) + '\\n ccn: ' + \n",
    "                         str(round((data[(data['time']==time)&\n",
    "                                  (data['simulation']==simulation)]['coral_coral_neighbors'].values[0]),2)))\n",
    "    ax[index].axes.xaxis.set_visible(False)\n",
    "    ax[index].axes.yaxis.set_visible(False)\n",
    "    ax[index].set_frame_on(False)\n",
    "    ax[index].set_xlabel('neighbors: \\n' + 'coral_coral: ' + \n",
    "                         str(data[(data['time']==time)&\n",
    "                                  (data['simulation']==simulation)]['coral_coral_neighbors']))\n",
    "    \n",
    "#fig.suptitle(title)\n",
    "fig.subplots_adjust(wspace=0.2, top=.75)\n",
    "plt.savefig(path + name + extension, dpi=400)"
   ]
  },
  {
   "cell_type": "markdown",
   "metadata": {},
   "source": [
    "____"
   ]
  },
  {
   "cell_type": "markdown",
   "metadata": {},
   "source": [
    "## Not used in final plot"
   ]
  },
  {
   "cell_type": "markdown",
   "metadata": {},
   "source": [
    "------"
   ]
  },
  {
   "cell_type": "markdown",
   "metadata": {},
   "source": [
    "# For pseudo simulation / generate reef"
   ]
  },
  {
   "cell_type": "code",
   "execution_count": 72,
   "metadata": {},
   "outputs": [],
   "source": [
    "## Functions\n",
    "\n",
    "def create_reef(simulation):\n",
    "    \n",
    "    Moorea = Reef()\n",
    "    count = 0\n",
    "    \n",
    "    if grid_option == 0:\n",
    "        \n",
    "        random.seed(simulation)\n",
    "        grid = [(i,j)\n",
    "                for i in range(0, number_of_columns) \n",
    "                for j in range(0, number_of_rows)]\n",
    "        random.shuffle(grid)\n",
    "        coral_count = round(number_of_nodes*coral_percent)\n",
    "        macro_count = round(number_of_nodes*macroalgae_percent)\n",
    "        locations = {'coral': grid[0:coral_count],\n",
    "                     'macro': grid[coral_count: coral_count + macro_count]}\n",
    "    \n",
    "    for i in range(0, number_of_rows):\n",
    "        \n",
    "        for j in range(0, number_of_columns):\n",
    "\n",
    "            if grid_option == 0:  \n",
    "                if (i,j) in locations['coral']:\n",
    "                    U = 0\n",
    "                elif (i,j) in locations['macro']:\n",
    "                    U = 2\n",
    "                else:\n",
    "                    U = 1    \n",
    "            node = Organism(type=U, location=[i,j], ID=count)\n",
    "            Moorea.append(node)\n",
    "            count = count + 1\n",
    "    return(Moorea)"
   ]
  },
  {
   "cell_type": "code",
   "execution_count": 73,
   "metadata": {},
   "outputs": [],
   "source": [
    "grid_option = 0\n",
    "number_of_columns, number_of_rows = 15, 15\n",
    "number_of_nodes = number_of_columns * number_of_rows\n",
    "coral_percent = float(40)/100\n",
    "macroalgae_percent = float(30)/100\n",
    "turf_percent = round(1 - coral_percent - macroalgae_percent, 2)\n",
    "neighborhood_threshold = 1.45"
   ]
  },
  {
   "cell_type": "code",
   "execution_count": 74,
   "metadata": {},
   "outputs": [],
   "source": [
    "seed=12\n",
    "Moorea = create_reef(seed)\n",
    "Moorea.generate_graph(neighborhood_threshold)\n",
    "\n",
    "densities = np.array([Moorea.nodes[n].neighbors[0] for n,val in enumerate(Moorea.nodes)])\n",
    "values = [Moorea.nodes[n].type for n,val in enumerate(Moorea.nodes)]"
   ]
  },
  {
   "cell_type": "code",
   "execution_count": 75,
   "metadata": {},
   "outputs": [
    {
     "data": {
      "image/png": "[encoded data removed]",
      "text/plain": [
       "<Figure size 144x144 with 1 Axes>"
      ]
     },
     "metadata": {},
     "output_type": "display_data"
    }
   ],
   "source": [
    "name = 'generated_example_grid'\n",
    "\n",
    "plt.figure(figsize=(2,2))\n",
    "plt.imshow(np.reshape(values, (number_of_columns, number_of_rows)), cmap=cmap, norm=norm)\n",
    "    \n",
    "#plt.legend(handles=patches, bbox_to_anchor=(.99, .7), borderaxespad=0.,\n",
    "#           handler_map={patches[i]:HandlerSquare() for i in levels})\n",
    "plt.axis((-.50,14.5,-.5,14.5))\n",
    "\n",
    "plt.savefig(path + name + extension, dpi=400)"
   ]
  },
  {
   "cell_type": "code",
   "execution_count": 76,
   "metadata": {},
   "outputs": [
    {
     "data": {
      "image/png": "[encoded data removed]",
      "text/plain": [
       "<Figure size 288x432 with 1 Axes>"
      ]
     },
     "metadata": {},
     "output_type": "display_data"
    }
   ],
   "source": [
    "name = 'generated_example_zoom'\n",
    "\n",
    "colors =['#b75c83', '#ccebd2','#9db3ad']\n",
    "success_palette = sns.set_palette(sns.color_palette(colors))\n",
    "\n",
    "plt.figure(figsize=(4,6))\n",
    "\n",
    "\n",
    "levels = [0, 1, 2]\n",
    "legend_keys = ['Coral', 'Turf', 'Macroalgae']\n",
    "cmap, norm = clt.from_levels_and_colors(levels=levels, colors=colors, extend='max')\n",
    "\n",
    "plt.imshow(np.reshape(values, (number_of_columns, number_of_rows)), cmap=cmap, norm=norm)\n",
    "#plt.axis((-.5,5.5,-.5,3.5))\n",
    "plt.axis((-.5,10.5,-.5,6.5))\n",
    "plt.savefig(path + name + extension, dpi=400)"
   ]
  },
  {
   "cell_type": "code",
   "execution_count": 78,
   "metadata": {},
   "outputs": [
    {
     "data": {
      "image/png": "[encoded data removed]",
      "text/plain": [
       "<Figure size 432x288 with 1 Axes>"
      ]
     },
     "metadata": {},
     "output_type": "display_data"
    }
   ],
   "source": [
    "name = 'generated_example_weights'\n",
    "\n",
    "\n",
    "image = np.reshape(densities, (number_of_columns, number_of_rows))\n",
    "plt.imshow(image)\n",
    "\n",
    "\n",
    "#plt.legend()\n",
    "plt.axis((-.5,10.5,-.5,6.5))\n",
    "#plt.colorbar(im)\n",
    "\n",
    "#ax = fig.add_subplot(111)\n",
    "#for (j,i),label in np.ndenumerate(image):\n",
    "#    ax1.text(i,j,label,ha='center',va='center')\n",
    "#    ax2.text(i,j,label,ha='center',va='center')\n",
    "plt.savefig(path + name + extension, dpi=400)"
   ]
  },
  {
   "cell_type": "markdown",
   "metadata": {},
   "source": [
    "## attempt to add numbers"
   ]
  },
  {
   "cell_type": "code",
   "execution_count": 140,
   "metadata": {},
   "outputs": [
    {
     "data": {
      "image/png": "[encoded data removed]",
      "text/plain": [
       "<Figure size 360x504 with 2 Axes>"
      ]
     },
     "metadata": {},
     "output_type": "display_data"
    }
   ],
   "source": [
    "size = 7\n",
    "data = np.arange(size * size).reshape((size, size))\n",
    "values = np.random.rand(size, size)\n",
    "\n",
    "\n",
    "#plt.axis((0,15,0,15))\n",
    "\n",
    "\n",
    "# Limits for the extent\n",
    "x_start = 0\n",
    "x_end = 7\n",
    "y_start = 0\n",
    "y_end = 7\n",
    "\n",
    "extent = [x_start, x_end, y_start, y_end]\n",
    "\n",
    "# The normal figure\n",
    "fig = plt.figure(figsize=(5, 7))\n",
    "ax = fig.add_subplot(111)\n",
    "im = ax.imshow(image, extent=extent, origin='lower', interpolation='None')\n",
    "\n",
    "    \n",
    "# Add the text\n",
    "jump_x = (x_end - x_start) / (2.0 * size)\n",
    "jump_y = (y_end - y_start) / (2.0 * size)\n",
    "x_positions = np.linspace(start=x_start, stop=x_end, num=size, endpoint=False)\n",
    "y_positions = np.linspace(start=y_start, stop=y_end, num=size, endpoint=False)\n",
    "\n",
    "for y_index, y in enumerate(y_positions):\n",
    "    for x_index, x in enumerate(x_positions):\n",
    "        label = image[y_index, x_index]\n",
    "        text_x = x + jump_x\n",
    "        text_y = y + jump_y\n",
    "        ax.text(text_x, text_y, label, color='black', ha='center', va='center')\n",
    "\n",
    "fig.colorbar(im)\n",
    "\n",
    "plt.axis((0,7.5,0,7.5))\n",
    "plt.show()"
   ]
  }
 ],
 "metadata": {
  "kernelspec": {
   "display_name": "Python 3",
   "language": "python",
   "name": "python3"
  },
  "language_info": {
   "codemirror_mode": {
    "name": "ipython",
    "version": 3
   },
   "file_extension": ".py",
   "mimetype": "text/x-python",
   "name": "python",
   "nbconvert_exporter": "python",
   "pygments_lexer": "ipython3",
   "version": "3.7.3"
  }
 },
 "nbformat": 4,
 "nbformat_minor": 4
}
