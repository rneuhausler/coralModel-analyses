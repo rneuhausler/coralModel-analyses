{
 "cells": [
  {
   "cell_type": "markdown",
   "metadata": {},
   "source": [
    "# Setting up Grid Options and Checking"
   ]
  },
  {
   "cell_type": "code",
   "execution_count": 55,
   "metadata": {},
   "outputs": [],
   "source": [
    "from coralModel import Reef, Organism, Ocean\n",
    "import numpy as np\n",
    "import matplotlib.pyplot as plt "
   ]
  },
  {
   "cell_type": "code",
   "execution_count": 120,
   "metadata": {},
   "outputs": [],
   "source": [
    "gridOption = 2 ## 0: random, 1: checkered, 2: blob\n",
    "\n",
    "rows = 15\n",
    "columns = 15"
   ]
  },
  {
   "cell_type": "code",
   "execution_count": 137,
   "metadata": {},
   "outputs": [],
   "source": [
    "coralPercent = .50\n",
    "algaePercent = .33\n",
    "turfPercent = 1 - coralPercent - algaePercent\n",
    "\n",
    "if gridOption == 1: #setup checkered\n",
    "    m = rows + 2\n",
    "    n = columns + 2\n",
    "    checkerBoard = np.tile(np.array([[0,1,2],[1,2,0],[2,0,1]]), ((m+2)//3, (n+2)//3))\n",
    "    \n",
    "elif gridOption == 2: #setup blob\n",
    "    \n",
    "    blobValue = 0 #input system argument\n",
    "    notBlob = [a for a in [0,1,2] if a != blobValue]\n",
    "    \n",
    "    center = (rows/2, columns/2)\n",
    "    distanceGrid = np.array([Reef.distance([i+.5,j+.5], center)\n",
    "                             for i in range(0,rows)\n",
    "                             for j in range(0,columns)])\n",
    "    maxDistance = np.sort(distanceGrid)[round(coralPercent*NumberOfNodes)]\n",
    "    blobLocations = (np.where(distanceGrid.reshape(rows,columns) < maxDistance))\n",
    "    blobLocations = [(blobLocations[0][n],blobLocations[1][n]) for n in range(0,len(blobLocations[0]))]"
   ]
  },
  {
   "cell_type": "code",
   "execution_count": 138,
   "metadata": {},
   "outputs": [],
   "source": [
    "count = 0\n",
    "threshold = 1.5\n",
    "Moorea = Reef()\n",
    "for i in range(0,rows):        \n",
    "    for j in range(0,columns):\n",
    "        if gridOption == 0:\n",
    "            U = np.random.choice([0,1,2],\n",
    "                                 p=[coralPercent, turfPercent, algaePercent])                    \n",
    "        elif gridOption == 1:\n",
    "            U = checkerBoard[i,j]\n",
    "        elif gridOption == 2:\n",
    "            if (i,j) in blobLocations: \n",
    "                U = blobValue\n",
    "            else:\n",
    "                U = np.random.choice(notBlob,\n",
    "                                     p=[.5, .5])                    \n",
    "        node = Organism(type=U, location=[i,j], ID=count)\n",
    "        Moorea.append(node)\n",
    "        count = count + 1            \n",
    "Moorea.generateGraph(threshold)"
   ]
  },
  {
   "cell_type": "code",
   "execution_count": 139,
   "metadata": {},
   "outputs": [
    {
     "data": {
      "text/plain": [
       "<matplotlib.image.AxesImage at 0x1a1dc67080>"
      ]
     },
     "execution_count": 139,
     "metadata": {},
     "output_type": "execute_result"
    },
    {
     "data": {
      "image/png": "[encoded data removed]",
      "text/plain": [
       "<Figure size 432x288 with 1 Axes>"
      ]
     },
     "metadata": {
      "needs_background": "light"
     },
     "output_type": "display_data"
    }
   ],
   "source": [
    "plt.figure()\n",
    "plt.imshow(np.reshape(np.array([Moorea.nodes[i].type for \n",
    "                                i,val in enumerate(Moorea.nodes)]),\n",
    "                      (rows,columns)))"
   ]
  },
  {
   "cell_type": "markdown",
   "metadata": {},
   "source": [
    "# How to parallelize"
   ]
  },
  {
   "cell_type": "code",
   "execution_count": 5,
   "metadata": {},
   "outputs": [
    {
     "name": "stdout",
     "output_type": "stream",
     "text": [
      "[1, 4, 9]\n"
     ]
    }
   ],
   "source": [
    "from multiprocessing import Pool\n",
    "\n",
    "def f(x):\n",
    "    return x*x\n",
    "\n",
    "if __name__ == '__main__':\n",
    "\n",
    "    with Pool(5) as p:\n",
    "        print(p.map(f, [1, 2, 3])) #function, argument"
   ]
  },
  {
   "cell_type": "code",
   "execution_count": 91,
   "metadata": {},
   "outputs": [],
   "source": [
    "#!/usr/bin/env python3\n",
    "# -*- coding: utf-8 -*-\n",
    "\n",
    "from coralModel import Reef, Organism, Ocean\n",
    "import numpy as np\n",
    "import sys\n",
    "import matplotlib.pyplot as plt\n",
    "from mpl_toolkits.axes_grid1.inset_locator import InsetPosition\n",
    "from multiprocessing import Pool\n"
   ]
  },
  {
   "cell_type": "code",
   "execution_count": 92,
   "metadata": {
    "scrolled": true
   },
   "outputs": [
    {
     "name": "stdout",
     "output_type": "stream",
     "text": [
      "running simulation0\n",
      "running simulation1\n",
      "running simulation3\n",
      "running simulation2\n",
      "running simulation4\n",
      "running simulation5\n",
      "running simulation6\n",
      "running simulation7\n",
      "running simulation8\n",
      "running simulation9\n",
      "CPU times: user 73.6 ms, sys: 133 ms, total: 207 ms\n",
      "Wall time: 18.3 s\n"
     ]
    }
   ],
   "source": [
    "%%time\n",
    "## Parameters\n",
    "nProcessors = 4\n",
    "threshold = 1.45                            \n",
    "coralPercent = .33\n",
    "algaePercent = .33\n",
    "turfPercent = 1 - coralPercent - algaePercent\n",
    "r=1.0\n",
    "d=.4 \n",
    "a=.2\n",
    "y=.75\n",
    "g=.4\n",
    "\n",
    "## Time and Grid Settings\n",
    "\n",
    "NumberOfSimulations = 10\n",
    "tf, dt= 200, .1 \n",
    "NumberOfTimesteps = int(tf/dt)\n",
    "\n",
    "rows, columns = 15, 15\n",
    "NumberOfNodes = rows * columns\n",
    "\n",
    "data = np.zeros((NumberOfTimesteps, NumberOfNodes))\n",
    "\n",
    "def runModel(simulation):\n",
    "    print('running simulation' + str(simulation))\n",
    "    Moorea = Reef()\n",
    "    count = 0\n",
    "    for i in range(0,rows):        \n",
    "        for j in range(0,columns):\n",
    "            U = np.random.choice([0,1,2],\n",
    "                                 p=[coralPercent, turfPercent, algaePercent])\n",
    "            node = Organism(type=U, location=[i,j], ID=count)\n",
    "            Moorea.append(node)\n",
    "            count = count + 1            \n",
    "    Moorea.generateGraph(threshold)\n",
    "    \n",
    "    for n in range(0,NumberOfTimesteps):\n",
    "        for i,val in enumerate(Moorea.nodes):\n",
    "            data[n,i] = Moorea.nodes[i].type\n",
    "        Moorea.roll(r=r, d=d, a=a, g=g, y=y, dt=dt)\n",
    "    \n",
    "    if simulation == 0: ## check on progress\n",
    "        plt.figure()\n",
    "        plt.imshow(np.reshape(np.array([Moorea.nodes[i].type for\n",
    "                                        i,val in enumerate(Moorea.nodes)]),(rows,columns)))\n",
    "    return(data)\n",
    "        \n",
    "if __name__ == '__main__':\n",
    "    \n",
    "    with Pool(nProcessors) as p:\n",
    "        results = p.map(runModel, np.arange(NumberOfSimulations))\n"
   ]
  },
  {
   "cell_type": "markdown",
   "metadata": {
    "jupyter": {
     "source_hidden": true
    }
   },
   "source": [
    "### Format of results under parallelization"
   ]
  },
  {
   "cell_type": "code",
   "execution_count": 7,
   "metadata": {},
   "outputs": [
    {
     "data": {
      "text/plain": [
       "1.0"
      ]
     },
     "execution_count": 7,
     "metadata": {},
     "output_type": "execute_result"
    }
   ],
   "source": [
    "results[2][2,2]"
   ]
  },
  {
   "cell_type": "code",
   "execution_count": 14,
   "metadata": {},
   "outputs": [
    {
     "data": {
      "image/png": "[encoded data removed]",
      "text/plain": [
       "<Figure size 432x288 with 1 Axes>"
      ]
     },
     "metadata": {
      "needs_background": "light"
     },
     "output_type": "display_data"
    },
    {
     "data": {
      "image/png": "[encoded data removed]",
      "text/plain": [
       "<Figure size 432x288 with 1 Axes>"
      ]
     },
     "metadata": {
      "needs_background": "light"
     },
     "output_type": "display_data"
    },
    {
     "data": {
      "image/png": "[encoded data removed]",
      "text/plain": [
       "<Figure size 432x288 with 1 Axes>"
      ]
     },
     "metadata": {
      "needs_background": "light"
     },
     "output_type": "display_data"
    },
    {
     "data": {
      "image/png": "[encoded data removed]",
      "text/plain": [
       "<Figure size 432x288 with 1 Axes>"
      ]
     },
     "metadata": {
      "needs_background": "light"
     },
     "output_type": "display_data"
    },
    {
     "data": {
      "image/png": "[encoded data removed]",
      "text/plain": [
       "<Figure size 432x288 with 1 Axes>"
      ]
     },
     "metadata": {
      "needs_background": "light"
     },
     "output_type": "display_data"
    }
   ],
   "source": [
    "for i in np.arange(0,500,100):\n",
    "    plt.figure()\n",
    "    plt.imshow(np.reshape(results[5][i,:],(15,15)))"
   ]
  },
  {
   "cell_type": "markdown",
   "metadata": {},
   "source": [
    "# Possible Extractions"
   ]
  },
  {
   "cell_type": "markdown",
   "metadata": {},
   "source": [
    "#### Currently\n",
    "* Number of Patches done via `patchCounts(sim,rows)`\n",
    "* Species count via  `np.count_nonzero(step==2)` (currently written in as \"sim\"\n",
    "\n",
    "\n",
    "#### Other table\n",
    "* Want something that includes summary (age of coral death or algae death)\n",
    "\n"
   ]
  },
  {
   "cell_type": "code",
   "execution_count": 16,
   "metadata": {},
   "outputs": [
    {
     "data": {
      "text/plain": [
       "(2000, 225)"
      ]
     },
     "execution_count": 16,
     "metadata": {},
     "output_type": "execute_result"
    }
   ],
   "source": [
    "results[2].shape"
   ]
  },
  {
   "cell_type": "code",
   "execution_count": 20,
   "metadata": {},
   "outputs": [
    {
     "data": {
      "text/plain": [
       "(225,)"
      ]
     },
     "execution_count": 20,
     "metadata": {},
     "output_type": "execute_result"
    }
   ],
   "source": [
    "results[2][1,:].shape"
   ]
  },
  {
   "cell_type": "markdown",
   "metadata": {},
   "source": [
    "## Number of Each Species "
   ]
  },
  {
   "cell_type": "code",
   "execution_count": 49,
   "metadata": {},
   "outputs": [
    {
     "name": "stdout",
     "output_type": "stream",
     "text": [
      "63 77 85\n"
     ]
    },
    {
     "data": {
      "text/plain": [
       "225"
      ]
     },
     "execution_count": 49,
     "metadata": {},
     "output_type": "execute_result"
    },
    {
     "data": {
      "image/png": "[encoded data removed]",
      "text/plain": [
       "<Figure size 432x288 with 1 Axes>"
      ]
     },
     "metadata": {
      "needs_background": "light"
     },
     "output_type": "display_data"
    }
   ],
   "source": [
    "image = results[2][20,:]\n",
    "plt.imshow(shaper(image,rows))\n",
    "print(np.count_nonzero(image==0),\n",
    "      np.count_nonzero(image==1),\n",
    "      np.count_nonzero(image==2))\n",
    "63+77+85"
   ]
  },
  {
   "cell_type": "markdown",
   "metadata": {},
   "source": [
    "## Number of Patches Count"
   ]
  },
  {
   "cell_type": "code",
   "execution_count": 41,
   "metadata": {},
   "outputs": [
    {
     "name": "stdout",
     "output_type": "stream",
     "text": [
      "[[1. 2. 1. 0. 0. 0. 2. 2. 0. 0. 1. 1. 2. 2. 1.]\n",
      " [1. 1. 0. 2. 0. 1. 0. 0. 1. 0. 1. 2. 2. 2. 2.]\n",
      " [2. 1. 2. 2. 2. 1. 1. 2. 2. 1. 2. 2. 0. 2. 2.]\n",
      " [0. 0. 0. 2. 1. 1. 1. 0. 1. 0. 2. 2. 2. 2. 2.]\n",
      " [1. 0. 0. 2. 1. 0. 0. 2. 0. 2. 1. 0. 1. 2. 2.]\n",
      " [0. 2. 1. 2. 2. 0. 2. 1. 1. 1. 1. 1. 2. 1. 2.]\n",
      " [2. 1. 2. 2. 0. 0. 0. 2. 1. 2. 2. 0. 1. 2. 0.]\n",
      " [1. 2. 1. 1. 2. 1. 1. 1. 2. 1. 1. 0. 0. 1. 1.]\n",
      " [2. 2. 0. 1. 0. 0. 1. 0. 2. 2. 1. 0. 2. 2. 1.]\n",
      " [0. 0. 2. 0. 0. 0. 0. 0. 2. 1. 1. 0. 0. 1. 2.]\n",
      " [1. 0. 0. 2. 1. 0. 2. 2. 1. 1. 2. 0. 2. 1. 2.]\n",
      " [1. 1. 0. 2. 1. 1. 2. 1. 2. 1. 2. 2. 2. 2. 0.]\n",
      " [2. 1. 1. 0. 2. 1. 2. 1. 2. 1. 1. 1. 1. 0. 1.]\n",
      " [2. 1. 2. 1. 1. 0. 2. 2. 1. 0. 0. 1. 0. 2. 2.]\n",
      " [2. 1. 2. 0. 0. 2. 2. 2. 0. 0. 1. 0. 1. 0. 2.]]\n",
      "10 1 9 11\n"
     ]
    },
    {
     "data": {
      "text/plain": [
       "<matplotlib.image.AxesImage at 0x116c4be80>"
      ]
     },
     "execution_count": 41,
     "metadata": {},
     "output_type": "execute_result"
    },
    {
     "data": {
      "image/png": "[encoded data removed]",
      "text/plain": [
       "<Figure size 432x288 with 1 Axes>"
      ]
     },
     "metadata": {
      "needs_background": "light"
     },
     "output_type": "display_data"
    },
    {
     "data": {
      "image/png": "[encoded data removed]",
      "text/plain": [
       "<Figure size 432x288 with 1 Axes>"
      ]
     },
     "metadata": {
      "needs_background": "light"
     },
     "output_type": "display_data"
    },
    {
     "data": {
      "image/png": "[encoded data removed]",
      "text/plain": [
       "<Figure size 432x288 with 1 Axes>"
      ]
     },
     "metadata": {
      "needs_background": "light"
     },
     "output_type": "display_data"
    }
   ],
   "source": [
    "from ripser import ripser, lower_star_img\n",
    "\n",
    "def shaper(df, rows):\n",
    "    df = np.reshape(df, (-1, rows))\n",
    "    return(df)\n",
    "\n",
    "def binary(df,ones='coral'):\n",
    "    with np.errstate(divide='ignore',invalid='ignore'):\n",
    "        if ones == 'coral':\n",
    "            df = np.nan_to_num(df/df)\n",
    "        elif ones == 'turf':\n",
    "            df = (df-1)**2\n",
    "        elif ones == 'macro':\n",
    "            df = np.nan_to_num((df-2)**2/(df-2)**2)\n",
    "    return(df)\n",
    "\n",
    "def tdaPrep(df, rows, ones='coral'):\n",
    "    df = binary(df,ones)\n",
    "    dfi = 1-df   \n",
    "    df = shaper(df,rows)\n",
    "    dfi = shaper(dfi,rows)\n",
    "    return(df, dfi)\n",
    "\n",
    "\n",
    "def patchCounts(image, rows):\n",
    "\n",
    "# TDA measure for coral:\n",
    "    df, dfi = tdaPrep(image, rows, ones='coral')\n",
    "    countCoralPatches = len(lower_star_img(df))\n",
    "    countAlgaePatches = len(lower_star_img(dfi))\n",
    "\n",
    "# TDA meaure for turf:\n",
    "    df, dfi = tdaPrep(image, rows, ones='turf')\n",
    "    countTurfPatches = len(lower_star_img(df))\n",
    "\n",
    "# TDA measure for macroalgae:\n",
    "    df, dfi = tdaPrep(image, rows, ones='macro')\n",
    "    countMacroPatches = len(lower_star_img(df))\n",
    "    \n",
    "    return(countCoralPatches, countAlgaePatches, countTurfPatches, countMacroPatches)\n",
    "\n",
    "\n",
    "print(shaper(image,rows))\n",
    "\n",
    "CP,AP,TP, MP = patchCounts(image, rows)\n",
    "print(CP,AP,TP, MP)\n",
    "\n",
    "df,dfi = tdaPrep(image,rows, ones='coral')\n",
    "plt.figure()\n",
    "plt.imshow(shaper(image,rows))\n",
    "plt.figure()\n",
    "plt.imshow(df)\n",
    "plt.figure()\n",
    "plt.imshow(dfi)"
   ]
  },
  {
   "cell_type": "markdown",
   "metadata": {},
   "source": [
    "## Automate"
   ]
  },
  {
   "cell_type": "code",
   "execution_count": null,
   "metadata": {},
   "outputs": [],
   "source": [
    "timestepsOfInterest = np.arange(0,500,20)\n",
    "simulationsOfInterest = np.arange(0,500,20)\n",
    "\n",
    "\n",
    "\n",
    "numberOfObservations = len(simulationsOfInterest) * len(timestepsOfInterest)\n",
    "\n",
    "CP = np.zeros(numberOfObservations)\n",
    "AP = np.zeros(numberOfObservations)\n",
    "TP = np.zeros(numberOfObservations)\n",
    "MP = np.zeros(numberOfObservations)\n",
    "Msim = np.zeros(numberOfObservations)\n",
    "Tsim = np.zeros(numberOfObservations)\n",
    "Csim = np.zeros(numberOfObservations)\n",
    "CNsim = np.zeros(numberOfObservations)\n",
    "CNrsim = np.zeros(numberOfObservations)\n",
    "observation = np.empty(numberOfObservations, dtype=\"<U10\")\n",
    "simulation_rec = np.empty(numberOfObservations, dtype=\"<U10\")\n",
    "timestep_rec = np.empty(numberOfObservations, dtype=\"<U10\")"
   ]
  },
  {
   "cell_type": "code",
   "execution_count": null,
   "metadata": {},
   "outputs": [],
   "source": []
  },
  {
   "cell_type": "code",
   "execution_count": null,
   "metadata": {},
   "outputs": [],
   "source": []
  },
  {
   "cell_type": "code",
   "execution_count": null,
   "metadata": {},
   "outputs": [],
   "source": []
  },
  {
   "cell_type": "markdown",
   "metadata": {},
   "source": [
    "# Other"
   ]
  },
  {
   "cell_type": "code",
   "execution_count": 46,
   "metadata": {},
   "outputs": [],
   "source": [
    "inputs = np.arange(0,8,.01)\n",
    "outputs = np.zeros(len(inputs))\n",
    "count = 0\n",
    "for dist in inputs:\n",
    "    coralNodeLocations = (np.where(distanceGrid < dist))\n",
    "    coralNodeLocations = [(coralNodeLocations[0][n],coralNodeLocations[1][n]) \n",
    "                          for n in range(0,len(coralNodeLocations[0]))]\n",
    "    ### Sudo Making of Initial Reef\n",
    "    grid = np.zeros((rows,columns))\n",
    "    for i in range(0,rows):        \n",
    "        for j in range(0,columns):\n",
    "            U = np.random.choice([1,2],\n",
    "                                 p=[.5, .5])\n",
    "            if (i,j) in coralNodeLocations:\n",
    "                U = 0\n",
    "            grid[i,j] = U\n",
    "    outputs[count] = len(coralNodeLocations)\n",
    "    count = count + 1"
   ]
  },
  {
   "cell_type": "code",
   "execution_count": 47,
   "metadata": {},
   "outputs": [
    {
     "data": {
      "text/plain": [
       "[<matplotlib.lines.Line2D at 0x119cd4ba8>]"
      ]
     },
     "execution_count": 47,
     "metadata": {},
     "output_type": "execute_result"
    },
    {
     "data": {
      "image/png": "[encoded data removed]",
      "text/plain": [
       "<Figure size 432x288 with 1 Axes>"
      ]
     },
     "metadata": {
      "needs_background": "light"
     },
     "output_type": "display_data"
    }
   ],
   "source": [
    "plt.figure()\n",
    "plt.plot(inputs,outputs)"
   ]
  }
 ],
 "metadata": {
  "kernelspec": {
   "display_name": "Python 3",
   "language": "python",
   "name": "python3"
  },
  "language_info": {
   "codemirror_mode": {
    "name": "ipython",
    "version": 3
   },
   "file_extension": ".py",
   "mimetype": "text/x-python",
   "name": "python",
   "nbconvert_exporter": "python",
   "pygments_lexer": "ipython3",
   "version": "3.7.3"
  }
 },
 "nbformat": 4,
 "nbformat_minor": 4
}
