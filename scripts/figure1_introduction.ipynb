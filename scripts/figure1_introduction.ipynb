{
 "cells": [
  {
   "cell_type": "code",
   "execution_count": 1,
   "metadata": {},
   "outputs": [],
   "source": [
    "## Libraries\n",
    "import os\n",
    "import sys\n",
    "import re\n",
    "import numpy as np\n",
    "import pandas as pd\n",
    "import seaborn as sns\n",
    "import math\n",
    "import random\n",
    "import tools as tl\n",
    "from coralModel import Reef, Organism, Ocean\n",
    "import matplotlib.pyplot as plt\n",
    "import matplotlib.colors as clt\n",
    "from matplotlib.legend_handler import HandlerPatch\n",
    "import matplotlib.patches as mpatches\n",
    "from mpl_toolkits.axes_grid1.inset_locator import InsetPosition\n",
    "\n",
    "## Functions\n",
    "\n",
    "class HandlerSquare(HandlerPatch):\n",
    "    def create_artists(self, legend, orig_handle,\n",
    "                       xdescent, ydescent, width, height, fontsize, trans):\n",
    "        center = xdescent + 0.5 * (width - height), ydescent\n",
    "        p = mpatches.Rectangle(xy=center, width=height,\n",
    "                               height=height, angle=0.0)\n",
    "        self.update_prop(p, orig_handle, legend)\n",
    "        p.set_transform(trans)\n",
    "        return [p] \n",
    "    \n",
    "def prep_image(df, simulation, timestep):    \n",
    "    image = df[(df['timestep']==timestep)&(df['simulation']==simulation)]['image']\n",
    "    image = np.genfromtxt([image.values[0].replace('[', '').replace(']', '')])\n",
    "    image = np.reshape(image, (25,25))\n",
    "    return(image)\n",
    "\n",
    "def create_reef(simulation):\n",
    "    \n",
    "    if grid_option == 0:\n",
    "        \n",
    "        random.seed(simulation)\n",
    "        grid = [(i,j)\n",
    "                for i in range(0, number_of_columns) \n",
    "                for j in range(0, number_of_rows)]\n",
    "        random.shuffle(grid)\n",
    "        coral_count = round(number_of_nodes*coral_percent)\n",
    "        macro_count = round(number_of_nodes*macroalgae_percent)\n",
    "        locations = {'coral': grid[0:coral_count],\n",
    "                     'macro': grid[coral_count: coral_count + macro_count]}\n",
    "    elif grid_option == 2:\n",
    "        type_percent_dictionary = {0:coral_percent, 1:turf_percent, 2:macroalgae_percent}\n",
    "        blob_percent = type_percent_dictionary[blob_value]\n",
    "        not_blob = [a for a in [0,1,2] if a != blob_value]\n",
    "        not_blob_percentages_adjusted = [round(type_percent_dictionary[n]/ \n",
    "                                               (1 - blob_percent), 2) for n in not_blob]\n",
    "        blob_locations = tl.generate_blob(blob_percent, blob_value, \n",
    "                                          number_of_rows, number_of_columns, number_of_nodes)\n",
    "    \n",
    "    Moorea = Reef()\n",
    "    count = 0\n",
    "    for i in range(0, number_of_rows): \n",
    "        for j in range(0, number_of_columns):\n",
    "            if grid_option == 0:  \n",
    "                if (i,j) in locations['coral']:\n",
    "                    U = 0\n",
    "                elif (i,j) in locations['macro']:\n",
    "                    U = 2\n",
    "                else:\n",
    "                    U = 1                   \n",
    "            elif grid_option == 2:\n",
    "                if (i,j) in blob_locations:\n",
    "                    U = blob_value\n",
    "                else:\n",
    "                    U = np.random.choice(not_blob, p=not_blob_percentages_adjusted)\n",
    "            elif grid_option == 3: ##for threshold plotting\n",
    "                U = 0\n",
    "            node = Organism(type=U, location=[i,j], ID=count)\n",
    "            Moorea.append(node)\n",
    "            count = count + 1\n",
    "    return(Moorea)"
   ]
  },
  {
   "cell_type": "code",
   "execution_count": 2,
   "metadata": {},
   "outputs": [],
   "source": [
    "sns.set_style(\"ticks\")\n",
    "\n",
    "colors = ['#EE8382', '#508991', '#172A3A']\n",
    "success_palette = sns.set_palette(sns.color_palette(colors))\n",
    "\n",
    "levels = [0, 1, 2]\n",
    "legend_keys = ['Coral', 'Turf', 'Macroalgae']\n",
    "cmap, norm = clt.from_levels_and_colors(levels=levels, colors=colors, extend='max')"
   ]
  },
  {
   "cell_type": "code",
   "execution_count": 3,
   "metadata": {},
   "outputs": [],
   "source": [
    "path = './figures/paper/1_introduction_figure/'\n",
    "extension = '.png'\n",
    "\n",
    "#runs\n",
    "top_directory = \"./output/\" #os.getcwd()\n",
    "files, runs = tl.view_runs(top_directory)"
   ]
  },
  {
   "cell_type": "markdown",
   "metadata": {},
   "source": [
    "### Random vs Blob"
   ]
  },
  {
   "cell_type": "code",
   "execution_count": 4,
   "metadata": {},
   "outputs": [],
   "source": [
    "number_of_rows, number_of_columns = 25,25\n",
    "number_of_nodes = number_of_rows * number_of_columns\n",
    "coral_percent, macroalgae_percent = float(33)/100, float(33)/100\n",
    "turf_percent = round(1 - coral_percent - macroalgae_percent, 2)\n",
    "\n",
    "simulation = 3\n",
    "blob_value = 0\n",
    "grid_option = 0\n",
    "reef_random = create_reef(simulation)\n",
    "grid_option = 2\n",
    "reef_blob = create_reef(simulation)\n",
    "\n",
    "reef_random = np.reshape(np.array([reef_random.nodes[i].type for i,val in enumerate(reef_random.nodes)]),(number_of_rows,number_of_columns))\n",
    "reef_blob = np.reshape(np.array([reef_blob.nodes[i].type for i,val in enumerate(reef_blob.nodes)]),(number_of_rows,number_of_columns))"
   ]
  },
  {
   "cell_type": "code",
   "execution_count": 7,
   "metadata": {},
   "outputs": [
    {
     "data": {
      "image/png": "[encoded data removed]",
      "text/plain": [
       "<Figure size 324x216 with 2 Axes>"
      ]
     },
     "metadata": {},
     "output_type": "display_data"
    }
   ],
   "source": [
    "name = 'initial_grid'\n",
    "def initial_grid_visualization():\n",
    "    images = [reef_random, reef_blob]\n",
    "    titles = [\"random\", \"blob\"]\n",
    "    fig, ax = plt.subplots(1,2, figsize=(4.5, 3))  \n",
    "    fig.suptitle('Initial Spatial Distribution (Initial Grid)')\n",
    "    \n",
    "    for index, value in enumerate(images):\n",
    "        ax[index].imshow(value, cmap=cmap, norm=norm)\n",
    "        ax[index].set_title(titles[index])\n",
    "        #ax[index].set_frame_on(False)\n",
    "        ax[index].set_yticks([])\n",
    "        ax[index].set_xticks([])\n",
    "        ax[index].set_frame_on(True)     \n",
    "    fig.subplots_adjust(top=1.05)\n",
    "    plt.savefig(path + name + extension, dpi=200)\n",
    "    plt.show()\n",
    "initial_grid_visualization()"
   ]
  },
  {
   "cell_type": "markdown",
   "metadata": {},
   "source": [
    "\n",
    "### Threshold example"
   ]
  },
  {
   "cell_type": "code",
   "execution_count": 65,
   "metadata": {},
   "outputs": [],
   "source": [
    "thresholds = [1.45, 11]\n",
    "number_of_rows, number_of_columns = 25,25\n",
    "number_of_nodes = number_of_rows * number_of_columns\n",
    "middle_node =  68 #27 #round(rows*rows/2)\n",
    "simulation = 19"
   ]
  },
  {
   "cell_type": "code",
   "execution_count": 66,
   "metadata": {},
   "outputs": [],
   "source": [
    "threshold_images = []\n",
    "grid_option = 3 #specifically for plotting thresholds\n",
    "reef = create_reef(simulation)\n",
    "\n",
    "for threshold in thresholds:\n",
    "    \n",
    "    reef.generate_graph(threshold)\n",
    "    neighbors = reef.graph[middle_node]\n",
    "    \n",
    "    for neighbor in neighbors:\n",
    "        reef.nodes[neighbor].type = 1 \n",
    "        \n",
    "    reef.nodes[middle_node].type = 2\n",
    "    \n",
    "    reef_types = np.array([reef.nodes[i].type for i,val in enumerate(reef.nodes)], dtype=float)   \n",
    "    threshold_images.append(np.reshape(reef_types, (number_of_rows, number_of_columns)))"
   ]
  },
  {
   "cell_type": "code",
   "execution_count": 78,
   "metadata": {},
   "outputs": [
    {
     "data": {
      "image/png": "[encoded data removed]",
      "text/plain": [
       "<Figure size 324x216 with 2 Axes>"
      ]
     },
     "metadata": {},
     "output_type": "display_data"
    }
   ],
   "source": [
    "name = 'neighborhood_definition'\n",
    "\n",
    "def neighborhood_visualization():\n",
    "    titles = ['Threshold = '+str(thresholds[0]), \n",
    "              'Threshold = '+str(thresholds[1])]\n",
    "    levels = [0, 1, 2]\n",
    "    colors = ['#51D6FF', '#37FF8B', '#522B29']\n",
    "    legend_lables = ['Invisible', 'Neighborhood', 'Node of interest']\n",
    "    cmap, norm = clt.from_levels_and_colors(levels=levels, colors=colors, extend='max')\n",
    "    \n",
    "    fig, ax = plt.subplots(1,2, figsize=(4.5,3))  \n",
    "    fig.suptitle('Neighborhood Definition')\n",
    "\n",
    "    for index, value in enumerate(threshold_images):\n",
    "        ax[index].imshow(value, cmap=cmap, norm=norm)#, interpolation='none', aspect='equal') \n",
    "        ax[index].set_xticks(np.arange(-.5, number_of_rows, 1), minor=True)\n",
    "        ax[index].set_yticks(np.arange(-.5, number_of_rows, 1), minor=True)\n",
    "        ax[index].set_yticks([])\n",
    "        ax[index].set_xticks([])\n",
    "        ax[index].set_frame_on(False)\n",
    "        ax[index].grid(color='green', linestyle='-', linewidth=.5, which='minor')\n",
    "        ax[index].set_title(titles[index])\n",
    "\n",
    "    patches = [mpatches.Patch(facecolor=colors[i], edgecolor=\"green\", label=legend_lables[i]) for i in levels]\n",
    "    fig.legend(handles=patches, bbox_to_anchor=(.50, .60), borderaxespad=0., handler_map={patches[i]:HandlerSquare() for i in levels})\n",
    "    fig.subplots_adjust(top=1.05)\n",
    "    plt.savefig(path + name + extension, dpi=200)\n",
    "    plt.show()\n",
    "\n",
    "\n",
    "neighborhood_visualization()"
   ]
  },
  {
   "cell_type": "code",
   "execution_count": 10,
   "metadata": {},
   "outputs": [
    {
     "data": {
      "text/html": [
       "<div>\n",
       "<style scoped>\n",
       "    .dataframe tbody tr th:only-of-type {\n",
       "        vertical-align: middle;\n",
       "    }\n",
       "\n",
       "    .dataframe tbody tr th {\n",
       "        vertical-align: top;\n",
       "    }\n",
       "\n",
       "    .dataframe thead th {\n",
       "        text-align: right;\n",
       "    }\n",
       "</style>\n",
       "<table border=\"1\" class=\"dataframe\">\n",
       "  <thead>\n",
       "    <tr style=\"text-align: right;\">\n",
       "      <th></th>\n",
       "      <th>number_of_rows</th>\n",
       "      <th>number_of_columns</th>\n",
       "      <th>grid_option</th>\n",
       "      <th>grazing</th>\n",
       "      <th>neighborhood_threshold</th>\n",
       "      <th>initial_coral_percent</th>\n",
       "      <th>initial_macroalgae_percent</th>\n",
       "      <th>r</th>\n",
       "      <th>d</th>\n",
       "      <th>a</th>\n",
       "      <th>y</th>\n",
       "      <th>number_of_timesteps</th>\n",
       "      <th>record_rate</th>\n",
       "      <th>number_of_simulations</th>\n",
       "      <th>file</th>\n",
       "    </tr>\n",
       "  </thead>\n",
       "  <tbody>\n",
       "    <tr>\n",
       "      <th>0</th>\n",
       "      <td>25</td>\n",
       "      <td>25</td>\n",
       "      <td>0</td>\n",
       "      <td>57</td>\n",
       "      <td>145</td>\n",
       "      <td>33</td>\n",
       "      <td>33</td>\n",
       "      <td>10</td>\n",
       "      <td>40</td>\n",
       "      <td>20</td>\n",
       "      <td>75</td>\n",
       "      <td>1100</td>\n",
       "      <td>10</td>\n",
       "      <td>10</td>\n",
       "      <td>0</td>\n",
       "    </tr>\n",
       "  </tbody>\n",
       "</table>\n",
       "</div>"
      ],
      "text/plain": [
       "   number_of_rows  number_of_columns  grid_option  grazing  \\\n",
       "0              25                 25            0       57   \n",
       "\n",
       "   neighborhood_threshold  initial_coral_percent  initial_macroalgae_percent  \\\n",
       "0                     145                     33                          33   \n",
       "\n",
       "    r   d   a   y  number_of_timesteps  record_rate  number_of_simulations  \\\n",
       "0  10  40  20  75                 1100           10                     10   \n",
       "\n",
       "   file  \n",
       "0     0  "
      ]
     },
     "execution_count": 10,
     "metadata": {},
     "output_type": "execute_result"
    }
   ],
   "source": [
    "grazing = 57\n",
    "subset = runs[(runs['neighborhood_threshold']==145)&\n",
    "              (runs['number_of_rows']==25)&\n",
    "              (runs['grazing']==grazing)&\n",
    "              (runs['grid_option']==0)]\n",
    "subset"
   ]
  },
  {
   "cell_type": "code",
   "execution_count": 11,
   "metadata": {},
   "outputs": [],
   "source": [
    "df = tl.load_runs(files, subset)\n",
    "df = tl.split_neighbors(df)\n",
    "df = tl.add_percent(df)\n",
    "df['time'] = df['timestep']*.1\n",
    "df['time'] = df['time'].astype('int')"
   ]
  },
  {
   "cell_type": "code",
   "execution_count": 12,
   "metadata": {},
   "outputs": [
    {
     "data": {
      "text/html": [
       "<div>\n",
       "<style scoped>\n",
       "    .dataframe tbody tr th:only-of-type {\n",
       "        vertical-align: middle;\n",
       "    }\n",
       "\n",
       "    .dataframe tbody tr th {\n",
       "        vertical-align: top;\n",
       "    }\n",
       "\n",
       "    .dataframe thead th {\n",
       "        text-align: right;\n",
       "    }\n",
       "</style>\n",
       "<table border=\"1\" class=\"dataframe\">\n",
       "  <thead>\n",
       "    <tr style=\"text-align: right;\">\n",
       "      <th></th>\n",
       "      <th>timestep</th>\n",
       "      <th>time</th>\n",
       "      <th>simulation</th>\n",
       "      <th>variable</th>\n",
       "      <th>value</th>\n",
       "    </tr>\n",
       "  </thead>\n",
       "  <tbody>\n",
       "    <tr>\n",
       "      <th>0</th>\n",
       "      <td>0</td>\n",
       "      <td>0</td>\n",
       "      <td>0</td>\n",
       "      <td>coral</td>\n",
       "      <td>32.96</td>\n",
       "    </tr>\n",
       "    <tr>\n",
       "      <th>1</th>\n",
       "      <td>10</td>\n",
       "      <td>1</td>\n",
       "      <td>0</td>\n",
       "      <td>coral</td>\n",
       "      <td>34.40</td>\n",
       "    </tr>\n",
       "    <tr>\n",
       "      <th>2</th>\n",
       "      <td>20</td>\n",
       "      <td>2</td>\n",
       "      <td>0</td>\n",
       "      <td>coral</td>\n",
       "      <td>33.44</td>\n",
       "    </tr>\n",
       "    <tr>\n",
       "      <th>3</th>\n",
       "      <td>30</td>\n",
       "      <td>3</td>\n",
       "      <td>0</td>\n",
       "      <td>coral</td>\n",
       "      <td>32.80</td>\n",
       "    </tr>\n",
       "    <tr>\n",
       "      <th>4</th>\n",
       "      <td>40</td>\n",
       "      <td>4</td>\n",
       "      <td>0</td>\n",
       "      <td>coral</td>\n",
       "      <td>32.96</td>\n",
       "    </tr>\n",
       "  </tbody>\n",
       "</table>\n",
       "</div>"
      ],
      "text/plain": [
       "   timestep  time  simulation variable  value\n",
       "0         0     0           0    coral  32.96\n",
       "1        10     1           0    coral  34.40\n",
       "2        20     2           0    coral  33.44\n",
       "3        30     3           0    coral  32.80\n",
       "4        40     4           0    coral  32.96"
      ]
     },
     "execution_count": 12,
     "metadata": {},
     "output_type": "execute_result"
    }
   ],
   "source": [
    "dfplot = df.copy()\n",
    "dfplot = dfplot.rename(columns={'coral_percent':'coral','macroalgae_percent':'macroalgae','turf_percent':'turf'})\n",
    "df_to_melt = dfplot[['coral','timestep', 'time', 'simulation', 'macroalgae', 'turf']]\n",
    "df_melted = pd.melt(df_to_melt, id_vars=['timestep','time','simulation'], value_vars=['coral', 'turf','macroalgae'])\n",
    "df_melted.head()"
   ]
  },
  {
   "cell_type": "code",
   "execution_count": 13,
   "metadata": {},
   "outputs": [
    {
     "data": {
      "image/png": "[encoded data removed]",
      "text/plain": [
       "<Figure size 1008x126 with 1 Axes>"
      ]
     },
     "metadata": {},
     "output_type": "display_data"
    }
   ],
   "source": [
    "name ='boxplot_temporal_evolution'\n",
    "\n",
    "timesteps = [0, 50, 100, 150, 200, 250, 300, 350, 400, \n",
    "             450, 500, 550, 600, 650, 700, 750, 800, \n",
    "             850, 900, 950, 1000]\n",
    "\n",
    "plt.figure(figsize=(14,1.75))\n",
    "fig = sns.boxplot(x=\"time\", y=\"value\", hue=\"variable\", \n",
    "            data=df_melted[df_melted['timestep'].isin(timesteps)], palette=success_palette,\n",
    "            linewidth=.5)\n",
    "plt.title('Species Temporal Evolution of 100 Simulations')\n",
    "plt.legend(loc='upper left')\n",
    "plt.ylabel(\"percent cover\")\n",
    "plt.savefig(path + name + extension, dpi=200, bbox_inches = \"tight\")"
   ]
  },
  {
   "cell_type": "code",
   "execution_count": 14,
   "metadata": {},
   "outputs": [
    {
     "data": {
      "image/png": "[encoded data removed]",
      "text/plain": [
       "<Figure size 1008x288 with 6 Axes>"
      ]
     },
     "metadata": {},
     "output_type": "display_data"
    }
   ],
   "source": [
    "name = 'spatial_evolution_images'\n",
    "\n",
    "simulation = 1\n",
    "timesteps = [0, 200, 400, 600, 800, 1000]\n",
    "\n",
    "fig, ax = plt.subplots(1, len(timesteps), figsize=(14,4)) \n",
    "\n",
    "for index in range(0, len(timesteps)):    \n",
    "    image = prep_image(df,simulation,timesteps[index])    \n",
    "    ax[index].imshow(image, cmap=cmap, norm=norm)\n",
    "    ax[index].set_title('Time = ' + str(int(timesteps[index]*.1)))\n",
    "    ax[index].axes.xaxis.set_visible(False)\n",
    "    ax[index].axes.yaxis.set_visible(False)\n",
    "    #ax[index].set_frame_on(False)\n",
    "fig.subplots_adjust(wspace=0.2, top=.75)\n",
    "plt.savefig(path + name + extension, dpi=400)\n"
   ]
  },
  {
   "cell_type": "markdown",
   "metadata": {},
   "source": [
    "### Zoomed-in example"
   ]
  },
  {
   "cell_type": "code",
   "execution_count": 15,
   "metadata": {},
   "outputs": [
    {
     "data": {
      "image/png": "[encoded data removed]",
      "text/plain": [
       "<Figure size 144x144 with 1 Axes>"
      ]
     },
     "metadata": {},
     "output_type": "display_data"
    }
   ],
   "source": [
    "name = 'example_grid'\n",
    "\n",
    "\n",
    "image = prep_image(df, simulation=simulation, timestep=0)\n",
    "plt.figure(figsize=(2,2))\n",
    "plt.imshow(image, cmap=cmap, norm=norm)\n",
    "#plt.legend(handles=patches, bbox_to_anchor=(.99, .7), borderaxespad=0.,\n",
    "#           handler_map={patches[i]:HandlerSquare() for i in levels})\n",
    "plt.savefig(path + name + extension, dpi=400)"
   ]
  },
  {
   "cell_type": "code",
   "execution_count": 16,
   "metadata": {},
   "outputs": [
    {
     "data": {
      "image/png": "[encoded data removed]",
      "text/plain": [
       "<Figure size 144x144 with 1 Axes>"
      ]
     },
     "metadata": {},
     "output_type": "display_data"
    }
   ],
   "source": [
    "name = 'example_zoom'\n",
    "\n",
    "fig = plt.figure(figsize=(2,2))\n",
    "\n",
    "image = prep_image(df, simulation=simulation, timestep=0)\n",
    "#plt.yticks(np.arange(-.5, number_of_rows, 1), minor=True)\n",
    "#plt.yticks(np.arange(-.5, number_of_rows, 1), minor=True)\n",
    "plt.yticks([])\n",
    "plt.xticks([])\n",
    "plt.box(False)\n",
    "ax[index].grid(color='green', linestyle='-', linewidth=.5, which='minor')\n",
    "plt.imshow(image, cmap=cmap, norm=norm)\n",
    "\n",
    "    \n",
    "#plt.legend(handles=patches, bbox_to_anchor=(.99, .7), borderaxespad=0.,\n",
    "#           handler_map={patches[i]:HandlerSquare() for i in levels})\n",
    "plt.axis((16.5,19.5,15.5,12.5))\n",
    "plt.savefig(path + name + extension, dpi=400)"
   ]
  },
  {
   "cell_type": "code",
   "execution_count": null,
   "metadata": {},
   "outputs": [],
   "source": []
  }
 ],
 "metadata": {
  "kernelspec": {
   "display_name": "Python 3",
   "language": "python",
   "name": "python3"
  },
  "language_info": {
   "codemirror_mode": {
    "name": "ipython",
    "version": 3
   },
   "file_extension": ".py",
   "mimetype": "text/x-python",
   "name": "python",
   "nbconvert_exporter": "python",
   "pygments_lexer": "ipython3",
   "version": "3.7.3"
  }
 },
 "nbformat": 4,
 "nbformat_minor": 4
}
