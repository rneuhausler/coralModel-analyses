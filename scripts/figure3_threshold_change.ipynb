{
 "cells": [
  {
   "cell_type": "code",
   "execution_count": 221,
   "metadata": {},
   "outputs": [],
   "source": [
    "import os\n",
    "import sys\n",
    "import re\n",
    "\n",
    "import numpy as np\n",
    "import pandas as pd\n",
    "import seaborn as sns\n",
    "import math\n",
    "import random\n",
    "\n",
    "import tools as tl\n",
    "from coralModel import Reef, Organism, Ocean\n",
    "\n",
    "import matplotlib.pyplot as plt\n",
    "import matplotlib.colors as clt\n",
    "from matplotlib.legend_handler import HandlerPatch\n",
    "import matplotlib.patches as mpatches\n",
    "from mpl_toolkits.axes_grid1.inset_locator import InsetPosition"
   ]
  },
  {
   "cell_type": "code",
   "execution_count": 67,
   "metadata": {},
   "outputs": [],
   "source": [
    "## Function to pull info from image\n",
    "def reef_from_image(image, threshold, number_of_rows, number_of_columns):\n",
    "    \n",
    "    Moorea = Reef()\n",
    "    count=0\n",
    "    for i in range(0, number_of_rows):\n",
    "        for j in range(0, number_of_columns):\n",
    "            \n",
    "            node = Organism(type=image[i,j], \n",
    "                            location=[i,j], \n",
    "                            ID=count)\n",
    "            Moorea.append(node)\n",
    "            count = count + 1\n",
    "    Moorea.generate_graph(1.45)\n",
    "    #densities = np.array([Moorea.nodes[n].neighbors[0] for n,val in enumerate(Moorea.nodes)])\n",
    "    #values = [Moorea.nodes[n].type for n,val in enumerate(Moorea.nodes)]\n",
    "    return(Moorea)\n",
    "\n",
    "def extract_neighbors(Moorea, node, count):\n",
    "    if count == 0:\n",
    "        neighbors = 0\n",
    "    else:\n",
    "        neighbors = np.array([Moorea.nodes[n].neighbors/\n",
    "                              Moorea.nodes[n].neighbors.sum()\n",
    "                              for n,val in enumerate(Moorea.nodes)\n",
    "                              if Moorea.nodes[n].type == node]).mean(axis=0)\n",
    "    return(neighbors)\n",
    "\n",
    "def prep_image(df, simulation, time):    \n",
    "    image = df[(df['time']==time)&(df['simulation']==simulation)]['image']\n",
    "    image = np.genfromtxt([image.values[0].replace('[', '').replace(']', '')])\n",
    "    image = np.reshape(image, (25,25))\n",
    "    return(image)\n",
    "    \n",
    "## For plots\n",
    "class HandlerSquare(HandlerPatch):\n",
    "    def create_artists(self, legend, orig_handle,\n",
    "                       xdescent, ydescent, width, height, fontsize, trans):\n",
    "        center = xdescent + 0.5 * (width - height), ydescent\n",
    "        p = mpatches.Rectangle(xy=center, width=height,\n",
    "                               height=height, angle=0.0)\n",
    "        self.update_prop(p, orig_handle, legend)\n",
    "        p.set_transform(trans)\n",
    "        return [p] \n",
    "\n",
    "def create_reef(simulation): \n",
    "    \n",
    "    Moorea = Reef()\n",
    "    count = 0\n",
    "    for i in range(0, number_of_rows): \n",
    "        for j in range(0, number_of_columns):\n",
    "            if grid_option == 3: ##for threshold plotting\n",
    "                U = 0\n",
    "            node = Organism(type=U, location=[i,j], ID=count)\n",
    "            Moorea.append(node)\n",
    "            count = count + 1\n",
    "    return(Moorea)"
   ]
  },
  {
   "cell_type": "code",
   "execution_count": 3,
   "metadata": {},
   "outputs": [],
   "source": [
    "path = './figures/paper/3_threshold_change/'\n",
    "extension = '.png'\n",
    "\n",
    "top_directory = \"./output/\" #os.getcwd()\n",
    "files, runs = tl.view_runs(top_directory)"
   ]
  },
  {
   "cell_type": "markdown",
   "metadata": {},
   "source": [
    "## A. Threshold Setup Visual"
   ]
  },
  {
   "cell_type": "code",
   "execution_count": 4,
   "metadata": {},
   "outputs": [],
   "source": [
    "## Create Images\n",
    "\n",
    "thresholds = [1.45, 36]\n",
    "number_of_rows, number_of_columns = 25,25\n",
    "number_of_nodes = number_of_rows * number_of_columns\n",
    "middle_node =  68 #27 #round(rows*rows/2)\n",
    "simulation = 19\n",
    "\n",
    "threshold_images = []\n",
    "grid_option = 3 #specifically for plotting thresholds\n",
    "reef = create_reef(simulation)\n",
    "\n",
    "for threshold in thresholds:\n",
    "    \n",
    "    reef.generate_graph(threshold)\n",
    "    neighbors = reef.graph[middle_node]\n",
    "    \n",
    "    for neighbor in neighbors:\n",
    "        reef.nodes[neighbor].type = 1 \n",
    "        \n",
    "    reef.nodes[middle_node].type = 2\n",
    "    \n",
    "    reef_types = np.array([reef.nodes[i].type for i,val in enumerate(reef.nodes)], dtype=float)   \n",
    "    threshold_images.append(np.reshape(reef_types, (number_of_rows, number_of_columns)))"
   ]
  },
  {
   "cell_type": "code",
   "execution_count": 5,
   "metadata": {},
   "outputs": [],
   "source": [
    "## Plot Parameters\n",
    "\n",
    "titles = ['$\\ell$ = '+str(thresholds[0]), \n",
    "          '$\\ell$ = '+str(thresholds[1])]\n",
    "levels = [0, 1, 2]\n",
    "colors = ['#f0f0f0', 'yellow', '#522B29']\n",
    "legend_lables = ['Invisible', 'Neighborhood', 'Node of interest']\n",
    "cmap, norm = clt.from_levels_and_colors(levels=levels, colors=colors, extend='max')"
   ]
  },
  {
   "cell_type": "code",
   "execution_count": 6,
   "metadata": {},
   "outputs": [
    {
     "data": {
      "image/png": "[encoded data removed]",
      "text/plain": [
       "<Figure size 144x180 with 1 Axes>"
      ]
     },
     "metadata": {},
     "output_type": "display_data"
    }
   ],
   "source": [
    "## Plot\n",
    "\n",
    "fig, ax = plt.subplots(1,1, figsize=(2,2.5))  \n",
    "\n",
    "name = 'topology_visual_1'\n",
    "ax.imshow(threshold_images[0], cmap=cmap, norm=norm)#, interpolation='none', aspect='equal') \n",
    "ax.set_xticks(np.arange(-.5, number_of_rows, 1), minor=True)\n",
    "ax.set_yticks(np.arange(-.5, number_of_rows, 1), minor=True)\n",
    "ax.set_frame_on(False)\n",
    "ax.set_yticks([])\n",
    "ax.set_xticks([])\n",
    "ax.grid(color='grey', linestyle='-', linewidth=.6, which='minor')\n",
    "ax.set_title(titles[0])\n",
    "ax.tick_params(which='minor', top=[], left=[], right=[], bottom=[])\n",
    "ax.set_frame_on(True)\n",
    "patches = [mpatches.Patch(facecolor=colors[i], edgecolor=\"grey\", label=legend_lables[i]) for i in levels]\n",
    "fig.legend(handles=patches, bbox_to_anchor=(.82, .50), borderaxespad=0., handler_map={patches[i]:HandlerSquare() for i in levels})\n",
    "fig.subplots_adjust(top=.94)\n",
    "plt.savefig(path + name + extension, dpi=200)\n",
    "plt.show()"
   ]
  },
  {
   "cell_type": "code",
   "execution_count": 7,
   "metadata": {},
   "outputs": [
    {
     "data": {
      "image/png": "[encoded data removed]",
      "text/plain": [
       "<Figure size 144x180 with 1 Axes>"
      ]
     },
     "metadata": {},
     "output_type": "display_data"
    }
   ],
   "source": [
    "fig, ax = plt.subplots(1,1, figsize=(2,2.5))  \n",
    "\n",
    "name = 'topology_visual_2'\n",
    "ax.imshow(threshold_images[1], cmap=cmap, norm=norm)#, interpolation='none', aspect='equal') \n",
    "ax.set_xticks(np.arange(-.5, number_of_rows, 1), minor=True)\n",
    "ax.set_yticks(np.arange(-.5, number_of_rows, 1), minor=True)\n",
    "ax.set_frame_on(False)\n",
    "ax.set_yticks([])\n",
    "ax.set_xticks([])\n",
    "ax.grid(color='grey', linestyle='-', linewidth=.6, which='minor')\n",
    "ax.set_title(titles[1])\n",
    "ax.tick_params(which='minor', top=[], left=[], right=[], bottom=[])\n",
    "ax.set_frame_on(True)\n",
    "patches = [mpatches.Patch(facecolor=colors[i], edgecolor=\"grey\", label=legend_lables[i]) for i in levels]\n",
    "#fig.legend(handles=patches, bbox_to_anchor=(.80, .40), borderaxespad=0., handler_map={patches[i]:HandlerSquare() for i in levels})\n",
    "fig.subplots_adjust(top=.94)\n",
    "plt.savefig(path + name + extension, dpi=200)\n",
    "plt.show()"
   ]
  },
  {
   "cell_type": "markdown",
   "metadata": {},
   "source": [
    "## Plotted Together Option:"
   ]
  },
  {
   "cell_type": "code",
   "execution_count": 19,
   "metadata": {},
   "outputs": [],
   "source": [
    "## Plot Parameters\n",
    "\n",
    "# Names\n",
    "name = 'neighborhood_definition' \n",
    "titles = [r\"Threshold ($\\ell$) = \"+str(thresholds[0]), \n",
    "          r\"Threshold ($\\ell$) = \"+str(thresholds[1])]\n",
    "legend_lables = ['Invisible', 'Neighborhood', 'Node of interest']\n",
    "\n",
    "# Color Scheme\n",
    "levels = [0, 1, 2]\n",
    "colors = ['#f0f0f0', 'yellow', '#522B29']\n",
    "cmap, norm = clt.from_levels_and_colors(levels=levels, colors=colors, extend='max')\n",
    "\n"
   ]
  },
  {
   "cell_type": "code",
   "execution_count": 20,
   "metadata": {},
   "outputs": [
    {
     "data": {
      "image/png": "[encoded data removed]",
      "text/plain": [
       "<Figure size 324x216 with 2 Axes>"
      ]
     },
     "metadata": {},
     "output_type": "display_data"
    }
   ],
   "source": [
    "def neighborhood_visualization():\n",
    "    \n",
    "    fig, ax = plt.subplots(1,2, figsize=(4.5,3))  \n",
    "    fig.suptitle('Neighborhood Topologies Compared', fontweight='bold')\n",
    "    \n",
    "    for index, value in enumerate(threshold_images):\n",
    "        ax[index].imshow(value, cmap=cmap, norm=norm)\n",
    "        ax[index].set_xticks(np.arange(-.5, number_of_rows, 1), minor=True)\n",
    "        ax[index].set_yticks(np.arange(-.5, number_of_rows, 1), minor=True)\n",
    "        ax[index].set_frame_on(False)\n",
    "        ax[index].set_yticks([])\n",
    "        ax[index].set_xticks([])\n",
    "        ax[index].grid(color='black', linestyle='-', linewidth=.2, which='minor')\n",
    "        ax[index].set_title(titles[index])\n",
    "        ax[index].tick_params(which='minor',top=[], left=[],right=[], bottom=[])\n",
    "        ax[index].set_frame_on(True)\n",
    "    patches = [mpatches.Patch(facecolor=colors[i], edgecolor=\"grey\", label=legend_lables[i]) for i in levels]\n",
    "    fig.legend(handles=patches,\n",
    "               borderaxespad=0., handler_map={patches[i]:HandlerSquare() for i in levels},\n",
    "               loc='center', bbox_to_anchor=(0.35,.55), shadow=False, ncol=1)\n",
    "    fig.subplots_adjust(top=.97)\n",
    "    plt.savefig(path + name + extension, dpi=200)\n",
    "    plt.show()\n",
    "\n",
    "neighborhood_visualization()"
   ]
  },
  {
   "cell_type": "markdown",
   "metadata": {},
   "source": [
    "## B. Initial Image"
   ]
  },
  {
   "cell_type": "code",
   "execution_count": 22,
   "metadata": {
    "scrolled": true
   },
   "outputs": [
    {
     "data": {
      "text/html": [
       "<div>\n",
       "<style scoped>\n",
       "    .dataframe tbody tr th:only-of-type {\n",
       "        vertical-align: middle;\n",
       "    }\n",
       "\n",
       "    .dataframe tbody tr th {\n",
       "        vertical-align: top;\n",
       "    }\n",
       "\n",
       "    .dataframe thead th {\n",
       "        text-align: right;\n",
       "    }\n",
       "</style>\n",
       "<table border=\"1\" class=\"dataframe\">\n",
       "  <thead>\n",
       "    <tr style=\"text-align: right;\">\n",
       "      <th></th>\n",
       "      <th>number_of_rows</th>\n",
       "      <th>number_of_columns</th>\n",
       "      <th>grid_option</th>\n",
       "      <th>grazing</th>\n",
       "      <th>neighborhood_threshold</th>\n",
       "      <th>initial_coral_percent</th>\n",
       "      <th>initial_macroalgae_percent</th>\n",
       "      <th>r</th>\n",
       "      <th>d</th>\n",
       "      <th>a</th>\n",
       "      <th>y</th>\n",
       "      <th>number_of_timesteps</th>\n",
       "      <th>record_rate</th>\n",
       "      <th>number_of_simulations</th>\n",
       "      <th>file</th>\n",
       "    </tr>\n",
       "  </thead>\n",
       "  <tbody>\n",
       "    <tr>\n",
       "      <th>0</th>\n",
       "      <td>25</td>\n",
       "      <td>25</td>\n",
       "      <td>0</td>\n",
       "      <td>51</td>\n",
       "      <td>145</td>\n",
       "      <td>33</td>\n",
       "      <td>33</td>\n",
       "      <td>10</td>\n",
       "      <td>40</td>\n",
       "      <td>20</td>\n",
       "      <td>75</td>\n",
       "      <td>2100</td>\n",
       "      <td>10</td>\n",
       "      <td>100</td>\n",
       "      <td>0</td>\n",
       "    </tr>\n",
       "    <tr>\n",
       "      <th>1</th>\n",
       "      <td>25</td>\n",
       "      <td>25</td>\n",
       "      <td>0</td>\n",
       "      <td>51</td>\n",
       "      <td>3600</td>\n",
       "      <td>33</td>\n",
       "      <td>33</td>\n",
       "      <td>10</td>\n",
       "      <td>40</td>\n",
       "      <td>20</td>\n",
       "      <td>75</td>\n",
       "      <td>2100</td>\n",
       "      <td>10</td>\n",
       "      <td>100</td>\n",
       "      <td>1</td>\n",
       "    </tr>\n",
       "    <tr>\n",
       "      <th>6</th>\n",
       "      <td>25</td>\n",
       "      <td>25</td>\n",
       "      <td>0</td>\n",
       "      <td>52</td>\n",
       "      <td>145</td>\n",
       "      <td>33</td>\n",
       "      <td>33</td>\n",
       "      <td>10</td>\n",
       "      <td>40</td>\n",
       "      <td>20</td>\n",
       "      <td>75</td>\n",
       "      <td>2100</td>\n",
       "      <td>10</td>\n",
       "      <td>100</td>\n",
       "      <td>6</td>\n",
       "    </tr>\n",
       "    <tr>\n",
       "      <th>7</th>\n",
       "      <td>25</td>\n",
       "      <td>25</td>\n",
       "      <td>0</td>\n",
       "      <td>52</td>\n",
       "      <td>3600</td>\n",
       "      <td>33</td>\n",
       "      <td>33</td>\n",
       "      <td>10</td>\n",
       "      <td>40</td>\n",
       "      <td>20</td>\n",
       "      <td>75</td>\n",
       "      <td>2100</td>\n",
       "      <td>10</td>\n",
       "      <td>100</td>\n",
       "      <td>7</td>\n",
       "    </tr>\n",
       "    <tr>\n",
       "      <th>8</th>\n",
       "      <td>25</td>\n",
       "      <td>25</td>\n",
       "      <td>0</td>\n",
       "      <td>55</td>\n",
       "      <td>145</td>\n",
       "      <td>33</td>\n",
       "      <td>33</td>\n",
       "      <td>10</td>\n",
       "      <td>40</td>\n",
       "      <td>20</td>\n",
       "      <td>75</td>\n",
       "      <td>2100</td>\n",
       "      <td>10</td>\n",
       "      <td>100</td>\n",
       "      <td>8</td>\n",
       "    </tr>\n",
       "  </tbody>\n",
       "</table>\n",
       "</div>"
      ],
      "text/plain": [
       "   number_of_rows  number_of_columns  grid_option  grazing  \\\n",
       "0              25                 25            0       51   \n",
       "1              25                 25            0       51   \n",
       "6              25                 25            0       52   \n",
       "7              25                 25            0       52   \n",
       "8              25                 25            0       55   \n",
       "\n",
       "   neighborhood_threshold  initial_coral_percent  initial_macroalgae_percent  \\\n",
       "0                     145                     33                          33   \n",
       "1                    3600                     33                          33   \n",
       "6                     145                     33                          33   \n",
       "7                    3600                     33                          33   \n",
       "8                     145                     33                          33   \n",
       "\n",
       "    r   d   a   y  number_of_timesteps  record_rate  number_of_simulations  \\\n",
       "0  10  40  20  75                 2100           10                    100   \n",
       "1  10  40  20  75                 2100           10                    100   \n",
       "6  10  40  20  75                 2100           10                    100   \n",
       "7  10  40  20  75                 2100           10                    100   \n",
       "8  10  40  20  75                 2100           10                    100   \n",
       "\n",
       "   file  \n",
       "0     0  \n",
       "1     1  \n",
       "6     6  \n",
       "7     7  \n",
       "8     8  "
      ]
     },
     "execution_count": 22,
     "metadata": {},
     "output_type": "execute_result"
    }
   ],
   "source": [
    "## Data Overview\n",
    "\n",
    "subset = runs[(runs['number_of_rows']==25)&\n",
    "              (runs['grazing'].isin([51,52,53,54,55]))&\n",
    "              (runs['grid_option']==0)&\n",
    "              (runs['initial_coral_percent']==33)&\n",
    "              (runs['neighborhood_threshold'].isin([145,3600]))]\n",
    "subset.head()"
   ]
  },
  {
   "cell_type": "code",
   "execution_count": 111,
   "metadata": {},
   "outputs": [],
   "source": [
    "# Load Data\n",
    "\n",
    "df = tl.load_runs(files, subset)\n",
    "df = tl.split_neighbors(df)\n",
    "df = tl.add_percent(df)\n",
    "df = tl.label_crash_statistics(df, coral_success=70)\n",
    "\n",
    "df['time'] = df['timestep']*.1\n",
    "df['time'] = df['time'].astype('int')\n",
    "df['C'] = round(df.coral_percent/100,2)\n",
    "df['T'] = round(df.turf_percent/100,2)\n",
    "df['M'] = round(df.macroalgae_percent/100,2)"
   ]
  },
  {
   "cell_type": "code",
   "execution_count": 57,
   "metadata": {},
   "outputs": [],
   "source": [
    "## Plot Parameters\n",
    "\n",
    "# Names\n",
    "name = 'initial_profile'\n",
    "\n",
    "# Color Scheme\n",
    "levels = [0, 1, 2]\n",
    "colors = ['#EE8382', '#508991', '#172A3A']\n",
    "type_palette = sns.set_palette(sns.color_palette(colors))\n",
    "cmap, norm = clt.from_levels_and_colors(levels=levels, colors=colors, extend='max')\n",
    "\n",
    "# Parameters\n",
    "simulation = 1\n",
    "time = 0\n",
    "threshold = 1.45"
   ]
  },
  {
   "cell_type": "code",
   "execution_count": 60,
   "metadata": {},
   "outputs": [
    {
     "data": {
      "image/png": "[encoded data removed]",
      "text/plain": [
       "<Figure size 252x176.4 with 2 Axes>"
      ]
     },
     "metadata": {
      "needs_background": "light"
     },
     "output_type": "display_data"
    }
   ],
   "source": [
    "## Plot\n",
    "\n",
    "data=df[df['neighborhood_threshold']==int(threshold*100)]    \n",
    "image = prep_image(data, simulation, time)\n",
    "reef = reef_from_image(image, threshold=threshold, number_of_rows=25, number_of_columns=25)\n",
    "coral_count = np.count_nonzero(image==0)\n",
    "neighbors = extract_neighbors(reef, int(0), coral_count)\n",
    "\n",
    "\n",
    "fig, ax = plt.subplots(1,2, figsize=(3.5,2.45), gridspec_kw={'width_ratios': [2, 1]})\n",
    "\n",
    "ax[0].imshow(image, cmap=cmap, norm=norm)\n",
    "ax[0].set_yticks([])\n",
    "ax[0].set_xticks([])\n",
    "ax[0].set_xticks(np.arange(-.5, number_of_rows, 1), minor=True)\n",
    "ax[0].set_yticks(np.arange(-.5, number_of_rows, 1), minor=True)\n",
    "ax[0].set_frame_on(False)\n",
    "ax[0].grid(color='black', linestyle='-', linewidth=.1, which='minor')\n",
    "ax[0].tick_params(which='minor',top=[], left=[],right=[], bottom=[])\n",
    "ax[0].set_frame_on(True)\n",
    "\n",
    "ax[1].text(0.35, 0.5,\n",
    "           '$C$: ' + str(round(coral_count/(number_of_rows*number_of_columns), 2)) + \n",
    "           '\\n \\n' + 'neighbors: ' + \n",
    "           '\\n $C_C$: ' + str(round(neighbors[0],3)) + \n",
    "           '\\n $T_C$: ' + str(round(neighbors[1],3)) +\n",
    "           '\\n $M_C$: ' + str(round(neighbors[2],3)),\n",
    "           size=12, ha='center', va='center')\n",
    "ax[1].axes.xaxis.set_visible(False)\n",
    "ax[1].axes.yaxis.set_visible(False)\n",
    "ax[1].set_frame_on(False)\n",
    "\n",
    "plt.suptitle(\"Initial Profile\",fontweight='bold',fontsize=12.5)\n",
    "fig.subplots_adjust(wspace=0.2, top=.9)\n",
    "plt.savefig(path + name + extension, dpi=400, bbox_inches = \"tight\")"
   ]
  },
  {
   "cell_type": "markdown",
   "metadata": {},
   "source": [
    "## C. Time = 10 image"
   ]
  },
  {
   "cell_type": "markdown",
   "metadata": {},
   "source": [
    "### l = 1.45"
   ]
  },
  {
   "cell_type": "code",
   "execution_count": 217,
   "metadata": {},
   "outputs": [],
   "source": [
    "## Plot Parameters\n",
    "\n",
    "# Name\n",
    "name='t_10_l_145' \n",
    "\n",
    "# Color Scheme\n",
    "levels = [0, 1, 2]\n",
    "colors = ['#EE8382', '#508991', '#172A3A']\n",
    "type_palette = sns.set_palette(sns.color_palette(colors))\n",
    "cmap, norm = clt.from_levels_and_colors(levels=levels, colors=colors, extend='max')\n",
    "output_facecolor = '#EDEDED'\n",
    "\n",
    "# Parameters\n",
    "time = 10\n",
    "threshold = 1.45\n",
    "simulation=1\n",
    "grazing = 54"
   ]
  },
  {
   "cell_type": "code",
   "execution_count": 218,
   "metadata": {},
   "outputs": [
    {
     "data": {
      "image/png": "[encoded data removed]",
      "text/plain": [
       "<Figure size 252x176.4 with 2 Axes>"
      ]
     },
     "metadata": {
      "needs_background": "light"
     },
     "output_type": "display_data"
    }
   ],
   "source": [
    "## Plot\n",
    "\n",
    "data=df[(df['neighborhood_threshold']==int(threshold*100)) & (df['grazing']==grazing)]    \n",
    "image = prep_image(data, simulation, time)\n",
    "reef = reef_from_image(image, threshold=threshold, number_of_rows=25, number_of_columns=25)\n",
    "coral_count = np.count_nonzero(image==0)\n",
    "neighbors = extract_neighbors(reef, int(0), coral_count)\n",
    "\n",
    "\n",
    "fig, ax = plt.subplots(1,2, figsize=(3.5,2.45), gridspec_kw={'width_ratios': [2, 1]})\n",
    "\n",
    "ax[0].imshow(image, cmap=cmap, norm=norm)\n",
    "ax[0].set_yticks([])\n",
    "ax[0].set_xticks([])\n",
    "ax[0].set_xticks(np.arange(-.5, number_of_rows, 1), minor=True)\n",
    "ax[0].set_yticks(np.arange(-.5, number_of_rows, 1), minor=True)\n",
    "ax[0].set_frame_on(False)\n",
    "ax[0].grid(color='black', linestyle='-', linewidth=.1, which='minor')\n",
    "ax[0].tick_params(which='minor',top=[], left=[],right=[], bottom=[])\n",
    "ax[0].set_frame_on(True)\n",
    "ax[0].set_title(\"$\\ell$ = \" + str(threshold))\n",
    "\n",
    "ax[1].text(0.35, 0.5,\n",
    "           '$C$: ' + str(round(coral_count/(number_of_rows*number_of_columns), 2)) + \n",
    "           '\\n \\n' + 'neighbors: ' + \n",
    "           '\\n $C_C$: ' + str(round(neighbors[0],3)) + \n",
    "           '\\n $T_C$: ' + str(round(neighbors[1],3)) +\n",
    "           '\\n $M_C$: ' + str(round(neighbors[2],3)),\n",
    "           size=12, ha='center', va='center')\n",
    "ax[1].axes.xaxis.set_visible(False)\n",
    "ax[1].axes.yaxis.set_visible(False)\n",
    "ax[1].set_frame_on(False)\n",
    "\n",
    "plt.suptitle(\"Early Evolution, $t$ = 10\",fontweight='bold',fontsize=12)\n",
    "fig.subplots_adjust(wspace=0.2, top=.77)\n",
    "plt.savefig(path + name + extension, dpi=400, bbox_inches = \"tight\", facecolor=output_facecolor)"
   ]
  },
  {
   "cell_type": "markdown",
   "metadata": {},
   "source": [
    "### l = 36"
   ]
  },
  {
   "cell_type": "code",
   "execution_count": 219,
   "metadata": {},
   "outputs": [],
   "source": [
    "## Plot Parameters\n",
    "\n",
    "# Name\n",
    "name='t_10_l_36' \n",
    "\n",
    "\n",
    "# Color Scheme\n",
    "levels = [0, 1, 2]\n",
    "colors = ['#EE8382', '#508991', '#172A3A']\n",
    "type_palette = sns.set_palette(sns.color_palette(colors))\n",
    "cmap, norm = clt.from_levels_and_colors(levels=levels, colors=colors, extend='max')\n",
    "output_facecolor = '#EDEDED'\n",
    "\n",
    "# Parameters\n",
    "time = 10\n",
    "threshold = 36\n",
    "simulation=1"
   ]
  },
  {
   "cell_type": "code",
   "execution_count": 220,
   "metadata": {},
   "outputs": [
    {
     "data": {
      "image/png": "[encoded data removed]",
      "text/plain": [
       "<Figure size 252x176.4 with 2 Axes>"
      ]
     },
     "metadata": {
      "needs_background": "light"
     },
     "output_type": "display_data"
    }
   ],
   "source": [
    "## Plot\n",
    "\n",
    "data=df[(df['neighborhood_threshold']==int(threshold*100))& (df['grazing']==grazing)]    \n",
    "image = prep_image(data, simulation, time)\n",
    "reef = reef_from_image(image, threshold=threshold, number_of_rows=25, number_of_columns=25)\n",
    "coral_count = np.count_nonzero(image==0)\n",
    "neighbors = extract_neighbors(reef, int(0), coral_count)\n",
    "\n",
    "\n",
    "fig, ax = plt.subplots(1,2, figsize=(3.5,2.45), gridspec_kw={'width_ratios': [2, 1]})\n",
    "\n",
    "ax[0].imshow(image, cmap=cmap, norm=norm)\n",
    "ax[0].set_yticks([])\n",
    "ax[0].set_xticks([])\n",
    "ax[0].set_xticks(np.arange(-.5, number_of_rows, 1), minor=True)\n",
    "ax[0].set_yticks(np.arange(-.5, number_of_rows, 1), minor=True)\n",
    "ax[0].set_frame_on(False)\n",
    "ax[0].grid(color='black', linestyle='-', linewidth=.1, which='minor')\n",
    "ax[0].tick_params(which='minor',top=[], left=[],right=[], bottom=[])\n",
    "ax[0].set_frame_on(True)\n",
    "ax[0].set_title(\"$\\ell$ = \" + str(threshold))\n",
    "\n",
    "ax[1].text(0.35, 0.5,\n",
    "           '$C$: ' + str(round(coral_count/(number_of_rows*number_of_columns), 2)) + \n",
    "           '\\n \\n' + 'neighbors: ' + \n",
    "           '\\n $C_C$: ' + str(round(neighbors[0],3)) + \n",
    "           '\\n $T_C$: ' + str(round(neighbors[1],3)) +\n",
    "           '\\n $M_C$: ' + str(round(neighbors[2],3)),\n",
    "           size=12, ha='center', va='center')\n",
    "ax[1].axes.xaxis.set_visible(False)\n",
    "ax[1].axes.yaxis.set_visible(False)\n",
    "ax[1].set_frame_on(False)\n",
    "\n",
    "#plt.suptitle(\"Early Evolution, \\n $t$ = 10\",fontweight='bold',fontsize=12)\n",
    "fig.subplots_adjust(wspace=0.2, top=.7)\n",
    "plt.savefig(path + name + extension, dpi=400, bbox_inches = \"tight\", facecolor=output_facecolor)"
   ]
  },
  {
   "cell_type": "markdown",
   "metadata": {},
   "source": [
    "## D. Temporal Evolution"
   ]
  },
  {
   "cell_type": "code",
   "execution_count": 164,
   "metadata": {},
   "outputs": [
    {
     "data": {
      "text/plain": [
       "array([51, 52, 55, 54, 53])"
      ]
     },
     "execution_count": 164,
     "metadata": {},
     "output_type": "execute_result"
    }
   ],
   "source": [
    "df.grazing.unique()"
   ]
  },
  {
   "cell_type": "code",
   "execution_count": 175,
   "metadata": {},
   "outputs": [],
   "source": [
    "## Set parameters for timeseries shown\n",
    "\n",
    "grazing = 54\n",
    "time_max = 200"
   ]
  },
  {
   "cell_type": "code",
   "execution_count": 176,
   "metadata": {},
   "outputs": [],
   "source": [
    "## Pull data for Threshold = 1.45\n",
    "\n",
    "threshold = 145\n",
    "\n",
    "df145 = df[(df['neighborhood_threshold']==threshold)&\n",
    "           (df['grazing']==grazing)&\n",
    "           (df['time']<time_max)]\n",
    "\n",
    "maxC_145 = df145[['C','time']].groupby('time').max()['C']\n",
    "minC_145 = df145[['C','time']].groupby('time').min()['C']\n",
    "meanC_145 = df145[['C','time']].groupby('time').mean()['C']\n",
    "\n",
    "maxT_145 = df145[['T','time']].groupby('time').max()['T']\n",
    "minT_145 = df145[['T','time']].groupby('time').min()['T']\n",
    "meanT_145 = df145[['T','time']].groupby('time').mean()['T']\n",
    "\n",
    "maxM_145 = df145[['M','time']].groupby('time').max()['M']\n",
    "minM_145 = df145[['M','time']].groupby('time').min()['M']\n",
    "meanM_145 = df145[['M','time']].groupby('time').mean()['M']\n",
    "\n",
    "C_145 = df145[df145['simulation']==simulation]['C']\n",
    "T_145 = df145[df145['simulation']==simulation]['T']\n",
    "M_145 = df145[df145['simulation']==simulation]['M']\n",
    "\n",
    "time = df145['time'].unique()"
   ]
  },
  {
   "cell_type": "code",
   "execution_count": 177,
   "metadata": {},
   "outputs": [],
   "source": [
    "## Pull data for Threshold = 36.00\n",
    "\n",
    "threshold = 3600\n",
    "\n",
    "df36 = df[(df['neighborhood_threshold']==threshold)&\n",
    "           (df['grazing']==grazing)&\n",
    "           (df['time']<time_max)]\n",
    "\n",
    "maxC_36 = df36[['C','time']].groupby('time').max()['C']\n",
    "minC_36 = df36[['C','time']].groupby('time').min()['C']\n",
    "meanC_36 = df36[['C','time']].groupby('time').mean()['C']\n",
    "\n",
    "maxT_36 = df36[['T','time']].groupby('time').max()['T']\n",
    "minT_36 = df36[['T','time']].groupby('time').min()['T']\n",
    "meanT_36 = df36[['T','time']].groupby('time').mean()['T']\n",
    "\n",
    "maxM_36 = df36[['M','time']].groupby('time').max()['M']\n",
    "minM_36 = df36[['M','time']].groupby('time').min()['M']\n",
    "meanM_36 = df36[['M','time']].groupby('time').mean()['M']\n",
    "\n",
    "C_36 = df36[df36['simulation']==simulation]['C']\n",
    "T_36 = df36[df36['simulation']==simulation]['T']\n",
    "M_36 = df36[df36['simulation']==simulation]['M']\n"
   ]
  },
  {
   "cell_type": "code",
   "execution_count": 178,
   "metadata": {},
   "outputs": [],
   "source": [
    "## Plot Parameters\n",
    "\n",
    "name ='min_max_mean_timeseries'\n"
   ]
  },
  {
   "cell_type": "code",
   "execution_count": 203,
   "metadata": {},
   "outputs": [
    {
     "data": {
      "image/png": "[encoded data removed]",
      "text/plain": [
       "<Figure size 331.2x331.2 with 2 Axes>"
      ]
     },
     "metadata": {
      "needs_background": "light"
     },
     "output_type": "display_data"
    }
   ],
   "source": [
    "## Plot\n",
    "\n",
    "fig, ax = plt.subplots(2,1,figsize=(4.6,4.6))\n",
    "\n",
    "\n",
    "ax[0].fill_between(time, minC_145, maxC_145, alpha=.5, color='#EE8382', label='Range, C')\n",
    "ax[0].fill_between(time, minT_145, maxT_145, alpha=.5, color='#508991', label='Range, T')\n",
    "ax[0].fill_between(time, minM_145, maxM_145, alpha=.5, color='#172A3A', label='Range, M')\n",
    "\n",
    "ax[0].plot(time, meanC_145, 'k-', color='#EE8382', label='Mean C')\n",
    "ax[0].plot(time, meanT_145, 'k-', color='#508991', label='Mean T')\n",
    "ax[0].plot(time, meanM_145, 'k-', color='#172A3A', label='Mean M')\n",
    "ax[0].legend(loc='upper left')\n",
    "ax[0].set_title(\"$\\ell$ = 1.45\")\n",
    "ax[0].set_ylabel(\"fractional cover\")\n",
    "\n",
    "ax[1].fill_between(time, minC_36, maxC_36, alpha=.5, color='#EE8382')\n",
    "ax[1].fill_between(time, minT_36, maxT_36 , alpha=.5, color='#508991')\n",
    "ax[1].fill_between(time, minM_36, maxM_36, alpha=.5, color='#172A3A')\n",
    "\n",
    "ax[1].plot(time, meanC_36, 'k-', color='#EE8382')\n",
    "ax[1].plot(time, meanT_36, 'k-', color='#508991')\n",
    "ax[1].plot(time, meanM_36, 'k-', color='#172A3A')\n",
    "\n",
    "ax[1].set_title(\"$\\ell$ = 36\")\n",
    "ax[0].set_ylabel(\"fractional cover\")\n",
    "\n",
    "\n",
    "plt.suptitle('Species Cover Temporal Evolution of 100 Simulations',fontsize =11, fontweight='bold')\n",
    "plt.xlabel(r\"$t$\")\n",
    "\n",
    "\n",
    "#plt.suptitle(\"Early Evolution, \\n $t$ = 10\",fontweight='bold',fontsize=12)\n",
    "fig.subplots_adjust(hspace=.4, top=.87)\n",
    "plt.savefig(path + name + extension, dpi=400, bbox_inches = \"tight\", facecolor=output_facecolor)"
   ]
  },
  {
   "cell_type": "markdown",
   "metadata": {},
   "source": [
    "____\n",
    "____\n",
    "____\n",
    "# Testing And Alternatives Below:\n",
    "____\n",
    "____\n",
    "____"
   ]
  },
  {
   "cell_type": "code",
   "execution_count": null,
   "metadata": {},
   "outputs": [],
   "source": [
    "name = 'threshold_timeseries'\n",
    "\n",
    "sns.relplot(x=\"timestep\", y=\"coral_percent\", units='simulation', estimator=None, data=df, \n",
    "            row='grazing', hue='coral_success', col='neighborhood_threshold', kind=\"line\", \n",
    "            height=1.5, aspect=2.7, alpha=.3)##.legend(loc='bottom')\n",
    "\n",
    "plt.savefig(path+name+extension, dpi=400)"
   ]
  },
  {
   "cell_type": "code",
   "execution_count": null,
   "metadata": {},
   "outputs": [],
   "source": [
    "#Pull fractional cover\n",
    "\n",
    "df['C'] = round(df.coral_percent/100,2)\n",
    "df['T'] = round(df.turf_percent/100,2)\n",
    "df['M'] = round(df.macroalgae_percent/100,2)\n",
    "\n",
    "dfplot = df.copy()\n",
    "\n",
    "df_to_melt = dfplot[['C','timestep', 'time', 'simulation', 'M', 'T']]\n",
    "df_melted = pd.melt(df_to_melt, id_vars=['timestep','time','simulation'], value_vars=['C', 'T','M'])\n",
    "df_melted.head()\n",
    "\n",
    "## Isolate Statistical Descriptors of Example Run\n",
    "\n",
    "maxC = df[['C','time']].groupby('time').max()['C']\n",
    "minC = df[['C','time']].groupby('time').min()['C']\n",
    "meanC = df[['C','time']].groupby('time').mean()['C']\n",
    "\n",
    "maxT = df[['T','time']].groupby('time').max()['T']\n",
    "minT = df[['T','time']].groupby('time').min()['T']\n",
    "meanT = df[['T','time']].groupby('time').mean()['T']\n",
    "\n",
    "maxM = df[['M','time']].groupby('time').max()['M']\n",
    "minM = df[['M','time']].groupby('time').min()['M']\n",
    "meanM = df[['M','time']].groupby('time').mean()['M']\n",
    "\n",
    "C = df[df['simulation']==simulation]['C']\n",
    "T = df[df['simulation']==simulation]['T']\n",
    "M = df[df['simulation']==simulation]['M']\n",
    "\n",
    "time = df['time'].unique()"
   ]
  },
  {
   "cell_type": "code",
   "execution_count": 101,
   "metadata": {},
   "outputs": [],
   "source": [
    "df_full = df.copy()\n",
    "thresholds = [145,3600]"
   ]
  },
  {
   "cell_type": "code",
   "execution_count": 102,
   "metadata": {},
   "outputs": [
    {
     "name": "stderr",
     "output_type": "stream",
     "text": [
      "/Users/rosannaneuhausler/.local/lib/python3.7/site-packages/ipykernel_launcher.py:9: SettingWithCopyWarning: \n",
      "A value is trying to be set on a copy of a slice from a DataFrame.\n",
      "Try using .loc[row_indexer,col_indexer] = value instead\n",
      "\n",
      "See the caveats in the documentation: http://pandas.pydata.org/pandas-docs/stable/user_guide/indexing.html#returning-a-view-versus-a-copy\n",
      "  if __name__ == '__main__':\n",
      "/Users/rosannaneuhausler/.local/lib/python3.7/site-packages/ipykernel_launcher.py:10: SettingWithCopyWarning: \n",
      "A value is trying to be set on a copy of a slice from a DataFrame.\n",
      "Try using .loc[row_indexer,col_indexer] = value instead\n",
      "\n",
      "See the caveats in the documentation: http://pandas.pydata.org/pandas-docs/stable/user_guide/indexing.html#returning-a-view-versus-a-copy\n",
      "  # Remove the CWD from sys.path while we load stuff.\n",
      "/Users/rosannaneuhausler/.local/lib/python3.7/site-packages/ipykernel_launcher.py:11: SettingWithCopyWarning: \n",
      "A value is trying to be set on a copy of a slice from a DataFrame.\n",
      "Try using .loc[row_indexer,col_indexer] = value instead\n",
      "\n",
      "See the caveats in the documentation: http://pandas.pydata.org/pandas-docs/stable/user_guide/indexing.html#returning-a-view-versus-a-copy\n",
      "  # This is added back by InteractiveShellApp.init_path()\n"
     ]
    },
    {
     "data": {
      "image/png": "[encoded data removed]",
      "text/plain": [
       "<Figure size 288x72 with 1 Axes>"
      ]
     },
     "metadata": {
      "needs_background": "light"
     },
     "output_type": "display_data"
    },
    {
     "data": {
      "image/png": "[encoded data removed]",
      "text/plain": [
       "<Figure size 288x72 with 1 Axes>"
      ]
     },
     "metadata": {
      "needs_background": "light"
     },
     "output_type": "display_data"
    }
   ],
   "source": [
    "for threshold in thresholds:\n",
    "    \n",
    "    df = df_full[(df_full['neighborhood_threshold']==threshold)&\n",
    "                 (df_full['grazing']==51)&\n",
    "                 (df_full['time']<200)]\n",
    "\n",
    "    #Pull fractional cover\n",
    "\n",
    "    df['C'] = round(df.coral_percent/100,2)\n",
    "    df['T'] = round(df.turf_percent/100,2)\n",
    "    df['M'] = round(df.macroalgae_percent/100,2)\n",
    "\n",
    "    dfplot = df.copy()\n",
    "\n",
    "    df_to_melt = dfplot[['C','timestep', 'time', 'simulation', 'M', 'T']]\n",
    "    df_melted = pd.melt(df_to_melt, id_vars=['timestep','time','simulation'], value_vars=['C', 'T','M'])\n",
    "    df_melted.head()\n",
    "\n",
    "    ## Isolate Statistical Descriptors of Example Run\n",
    "\n",
    "    maxC = df[['C','time']].groupby('time').max()['C']\n",
    "    minC = df[['C','time']].groupby('time').min()['C']\n",
    "    meanC = df[['C','time']].groupby('time').mean()['C']\n",
    "\n",
    "    maxT = df[['T','time']].groupby('time').max()['T']\n",
    "    minT = df[['T','time']].groupby('time').min()['T']\n",
    "    meanT = df[['T','time']].groupby('time').mean()['T']\n",
    "\n",
    "    maxM = df[['M','time']].groupby('time').max()['M']\n",
    "    minM = df[['M','time']].groupby('time').min()['M']\n",
    "    meanM = df[['M','time']].groupby('time').mean()['M']\n",
    "\n",
    "    C = df[df['simulation']==simulation]['C']\n",
    "    T = df[df['simulation']==simulation]['T']\n",
    "    M = df[df['simulation']==simulation]['M']\n",
    "\n",
    "    time = df['time'].unique()\n",
    "\n",
    "\n",
    "    ## Plot Min/Max/Example Timeseries\n",
    "\n",
    "    name ='min_max_mean_timeseries_threshold_' + str(threshold)\n",
    "    plt.figure(figsize=(4,1))\n",
    "\n",
    "    plt.fill_between(time, minC, maxC, alpha=.7, color='#EE8382', label='C')\n",
    "    plt.fill_between(time, minT, maxT , alpha=.7, color='#508991', label='T')\n",
    "    plt.fill_between(time, minM, maxM, alpha=.7, color='#172A3A', label='M')\n",
    "\n",
    "    plt.plot(time, meanC, 'k-', color='#EE8382')\n",
    "    plt.plot(time, meanT, 'k-', color='#508991')\n",
    "    plt.plot(time, meanM, 'k-', color='#172A3A')\n",
    "\n",
    "    plt.title('Species Cover Temporal Evolution of 100 Simulations',fontsize =11, fontweight='bold',pad=20)\n",
    "    plt.legend(loc='upper left')\n",
    "    plt.ylabel(\"fractional cover\")\n",
    "    plt.xlabel(r\"$t$\")\n",
    "\n",
    "    plt.savefig(path + name + extension, bbox_inches = \"tight\", facecolor=output_facecolor)"
   ]
  },
  {
   "cell_type": "code",
   "execution_count": null,
   "metadata": {},
   "outputs": [],
   "source": [
    "for graze in grazing:\n",
    "    \n",
    "    df = df_full[(df_full['neighborhood_threshold']==3600)&\n",
    "                 (df_full['grazing']==graze)&\n",
    "                 (df_full['time']<200)]\n",
    "\n",
    "    #Pull fractional cover\n",
    "\n",
    "    df['C'] = round(df.coral_percent/100,2)\n",
    "    df['T'] = round(df.turf_percent/100,2)\n",
    "    df['M'] = round(df.macroalgae_percent/100,2)\n",
    "\n",
    "    dfplot = df.copy()\n",
    "\n",
    "    df_to_melt = dfplot[['C','timestep', 'time', 'simulation', 'M', 'T']]\n",
    "    df_melted = pd.melt(df_to_melt, id_vars=['timestep','time','simulation'], value_vars=['C', 'T','M'])\n",
    "    df_melted.head()\n",
    "\n",
    "    ## Isolate Statistical Descriptors of Example Run\n",
    "\n",
    "    maxC = df[['C','time']].groupby('time').max()['C']\n",
    "    minC = df[['C','time']].groupby('time').min()['C']\n",
    "    meanC = df[['C','time']].groupby('time').mean()['C']\n",
    "\n",
    "    maxT = df[['T','time']].groupby('time').max()['T']\n",
    "    minT = df[['T','time']].groupby('time').min()['T']\n",
    "    meanT = df[['T','time']].groupby('time').mean()['T']\n",
    "\n",
    "    maxM = df[['M','time']].groupby('time').max()['M']\n",
    "    minM = df[['M','time']].groupby('time').min()['M']\n",
    "    meanM = df[['M','time']].groupby('time').mean()['M']\n",
    "\n",
    "    C = df[df['simulation']==simulation]['C']\n",
    "    T = df[df['simulation']==simulation]['T']\n",
    "    M = df[df['simulation']==simulation]['M']\n",
    "\n",
    "    time = df['time'].unique()\n",
    "\n",
    "\n",
    "    ## Plot Min/Max/Example Timeseries\n",
    "\n",
    "    name ='min_max_mean_timeseries_grazing_' + str(graze)\n",
    "    plt.figure(figsize=(4,1))\n",
    "\n",
    "    plt.fill_between(time, minC, maxC, alpha=.7, color='#EE8382', label='C')\n",
    "    plt.fill_between(time, minT, maxT , alpha=.7, color='#508991', label='T')\n",
    "    plt.fill_between(time, minM, maxM, alpha=.7, color='#172A3A', label='M')\n",
    "\n",
    "    plt.plot(time, meanC, 'k-', color='#EE8382')\n",
    "    plt.plot(time, meanT, 'k-', color='#508991')\n",
    "    plt.plot(time, meanM, 'k-', color='#172A3A')\n",
    "\n",
    "    plt.title('Species Cover Temporal Evolution of 100 Simulations',fontsize =11, fontweight='bold',pad=20)\n",
    "    plt.legend(loc='upper left')\n",
    "    plt.ylabel(\"fractional cover\")\n",
    "    plt.xlabel(r\"$t$\")\n",
    "\n",
    "    plt.savefig(path + name + extension, bbox_inches = \"tight\")"
   ]
  },
  {
   "cell_type": "markdown",
   "metadata": {},
   "source": [
    "## 3C Visual Evolution"
   ]
  },
  {
   "cell_type": "markdown",
   "metadata": {},
   "source": [
    "## Grazing = .51"
   ]
  },
  {
   "cell_type": "code",
   "execution_count": null,
   "metadata": {},
   "outputs": [],
   "source": [
    "# Data Overview\n",
    "grazing = 51\n",
    "subset = runs[(runs['number_of_timesteps']==1100)&\n",
    "              (runs['number_of_rows']==25)&\n",
    "              (runs['grazing']==grazing)&\n",
    "              (runs['grid_option']==0)&\n",
    "              (runs['initial_coral_percent']==33)]\n",
    "subset"
   ]
  },
  {
   "cell_type": "code",
   "execution_count": null,
   "metadata": {},
   "outputs": [],
   "source": [
    "# Load Data\n",
    "\n",
    "df = tl.load_runs(files, subset)\n",
    "df = tl.split_neighbors(df)\n",
    "df = tl.add_percent(df)\n",
    "df = tl.label_crash_statistics(df, coral_success=70)\n",
    "\n",
    "df['time'] = df['timestep']*.1\n",
    "df['time'] = df['time'].astype('int')\n",
    "df['C'] = round(df.coral_percent/100,2)\n",
    "df['T'] = round(df.turf_percent/100,2)\n",
    "df['M'] = round(df.macroalgae_percent/100,2)"
   ]
  },
  {
   "cell_type": "code",
   "execution_count": null,
   "metadata": {},
   "outputs": [],
   "source": []
  },
  {
   "cell_type": "code",
   "execution_count": null,
   "metadata": {},
   "outputs": [],
   "source": []
  },
  {
   "cell_type": "code",
   "execution_count": null,
   "metadata": {},
   "outputs": [],
   "source": []
  },
  {
   "cell_type": "code",
   "execution_count": null,
   "metadata": {},
   "outputs": [],
   "source": [
    "df_to_melt_145 = df[df['neighborhood_threshold']==145][['C','time','simulation', 'M', 'T']]\n",
    "df_melted_145 = pd.melt(df_to_melt_145, id_vars=['time','simulation'], value_vars=['C', 'T','M'])\n",
    "\n",
    "df_to_melt_500 = df[df['neighborhood_threshold']==500][['C','time','simulation', 'M', 'T']]\n",
    "df_melted_500 = pd.melt(df_to_melt_500, id_vars=['time','simulation'], value_vars=['C', 'T','M'])\n",
    "\n",
    "df_to_melt_1100 = df[df['neighborhood_threshold']==1100][['C','time','simulation', 'M', 'T']]\n",
    "df_melted_1100 = pd.melt(df_to_melt_1100, id_vars=['time','simulation'], value_vars=['C', 'T','M'])\n",
    "\n",
    "df_to_melt_3600 = df[df['neighborhood_threshold']==3600][['C','time','simulation', 'M', 'T']]\n",
    "df_melted_3600 = pd.melt(df_to_melt_3600, id_vars=['time','simulation'], value_vars=['C', 'T','M'])"
   ]
  },
  {
   "cell_type": "code",
   "execution_count": null,
   "metadata": {},
   "outputs": [],
   "source": [
    "df_145 = df[df['neighborhood_threshold']==145]\n",
    "df_3600 = df[df['neighborhood_threshold']==3600]"
   ]
  },
  {
   "cell_type": "code",
   "execution_count": null,
   "metadata": {},
   "outputs": [],
   "source": [
    "df_145['C'].min()"
   ]
  },
  {
   "cell_type": "code",
   "execution_count": null,
   "metadata": {},
   "outputs": [],
   "source": [
    "maxC = df_145[['C','time']].groupby('time').max()['C']\n",
    "minC = df_145[['C','time']].groupby('time').min()['C']\n",
    "meanC = df_145[['C','time']].groupby('time').mean()['C']\n",
    "\n",
    "maxT = df_145[['T','time']].groupby('time').max()['T']\n",
    "minT = df_145[['T','time']].groupby('time').min()['T']\n",
    "meanT = df_145[['T','time']].groupby('time').mean()['T']\n",
    "\n",
    "maxM = df_145[['M','time']].groupby('time').max()['M']\n",
    "minM = df_145[['M','time']].groupby('time').min()['M']\n",
    "meanM = df_145[['M','time']].groupby('time').mean()['M']\n",
    "\n",
    "C = df_145[df_145['simulation']==simulation]['C']\n",
    "T = df_145[df_145['simulation']==simulation]['T']\n",
    "M = df_145[df_145['simulation']==simulation]['M']\n",
    "\n",
    "time = df['time'].unique()"
   ]
  },
  {
   "cell_type": "code",
   "execution_count": null,
   "metadata": {},
   "outputs": [],
   "source": [
    "plt.figure(figsize=(12,2))\n",
    "\n",
    "\n",
    "\n",
    "plt.fill_between(time, minC, maxC, alpha=.2, color='#EE8382')\n",
    "plt.fill_between(time, minM, maxM, alpha=.2, color='#508991')\n",
    "plt.fill_between(time, minT, maxT, alpha=.2, color='#172A3A')\n",
    "\n",
    "plt.plot(time, C, 'k-', color='#dafa73')\n",
    "plt.plot(time, T, 'k-', color='#73fafa')\n",
    "plt.plot(time, M, 'k-', color='#fa73e3')\n",
    "\n",
    "plt.show()"
   ]
  },
  {
   "cell_type": "code",
   "execution_count": null,
   "metadata": {},
   "outputs": [],
   "source": [
    "df_145 = df[df['neighborhood_threshold']==145]\n",
    "df_3600 = df[df['neighborhood_threshold']==3600]\n",
    "\n",
    "plt.figure(figsize=(12,2))\n",
    "\n",
    "\n",
    "plt.fill_between(time, df_145['C'].min(), maxC, alpha=.2, color='#dafa73')\n",
    "plt.fill_between(time, minM, maxM, alpha=.2, color='#73fafa')\n",
    "plt.fill_between(time, minT, maxT, alpha=.2, color='#fa73e3')\n",
    "\n",
    "plt.plot(time, df_145['C'], 'k-', color='#dafa73')\n",
    "plt.plot(time, df_145['T'], 'k-', color='#73fafa')\n",
    "plt.plot(time, df_145['M'], 'k-', color='#fa73e3')\n",
    "\n",
    "plt.show()"
   ]
  },
  {
   "cell_type": "code",
   "execution_count": null,
   "metadata": {},
   "outputs": [],
   "source": [
    "name='boxplot_temporal_evolution_145_grazing_' + str(grazing)\n",
    "\n",
    "#times = [0,40, 80, 120, 160, 200, 240, 280]\n",
    "\n",
    "times = [0,10,20,30,40,50,60,70,80,90,100]\n",
    "\n",
    "plt.figure(figsize=(3,3))\n",
    "fig=sns.boxplot(x=\"time\", y=\"value\", hue=\"variable\",\n",
    "                data=df_melted_145[df_melted_145['time'].isin(times)], \n",
    "                palette=species_palette,\n",
    "                linewidth=.5,\n",
    "                flierprops=dict(markersize=2))\n",
    "\n",
    "plt.setp(fig.get_xticklabels(), rotation=45)\n",
    "#plt.legend([],[], frameon=False)\n",
    "plt.ylabel('fractional cover')\n",
    "plt.xlabel('$t$')\n",
    "plt.legend(loc='upper left')\n",
    "\n",
    "plt.title('$\\ell$ = 1.45,  $g$ = .' + str(grazing))\n",
    "plt.savefig(path + name + extension, dpi=200, bbox_inches = \"tight\")"
   ]
  },
  {
   "cell_type": "code",
   "execution_count": null,
   "metadata": {},
   "outputs": [],
   "source": [
    "name='boxplot_temporal_evolution_1100_grazing_' + str(grazing)\n",
    "\n",
    "plt.figure(figsize=(3,3))\n",
    "fig=sns.boxplot(x=\"time\", y=\"value\", hue=\"variable\",\n",
    "            data=df_melted_1100[df_melted_1100['time'].isin(times)], \n",
    "                palette=species_palette,\n",
    "                linewidth=.5,\n",
    "                flierprops=dict(markersize=2))\n",
    "\n",
    "\n",
    "plt.setp(fig.get_xticklabels(), rotation=45)\n",
    "\n",
    "plt.ylabel('fractional cover')\n",
    "plt.xlabel('$t$')\n",
    "plt.legend([],[], frameon=False)\n",
    "\n",
    "\n",
    "plt.title('$\\ell$ = 11.00,  $g$ = .' + str(grazing))\n",
    "plt.savefig(path + name + extension, dpi=200, bbox_inches = \"tight\")"
   ]
  },
  {
   "cell_type": "code",
   "execution_count": null,
   "metadata": {},
   "outputs": [],
   "source": [
    "name='boxplot_temporal_evolution_3600_grazing_' + str(grazing)\n",
    "\n",
    "plt.figure(figsize=(3,3))\n",
    "fig=sns.boxplot(x=\"time\", y=\"value\", hue=\"variable\",\n",
    "                data=df_melted_3600[df_melted_3600['time'].isin(times)], \n",
    "                palette=species_palette,\n",
    "                linewidth=.5,\n",
    "                flierprops=dict(markersize=2))\n",
    "\n",
    "plt.setp(fig.get_xticklabels(), rotation=45)\n",
    "\n",
    "plt.ylabel('fractional cover')\n",
    "plt.xlabel('$t$')\n",
    "\n",
    "plt.legend([],[], frameon=False)\n",
    "\n",
    "\n",
    "plt.title('$\\ell$ = 36.00,  $g$ = .' + str(grazing))\n",
    "plt.savefig(path + name + extension, dpi=200, bbox_inches = \"tight\")"
   ]
  },
  {
   "cell_type": "code",
   "execution_count": null,
   "metadata": {},
   "outputs": [],
   "source": [
    "name = 'initial_profile'\n",
    "\n",
    "time = 0\n",
    "threshold = 1.45\n",
    "\n",
    "data=df[df['neighborhood_threshold']==int(threshold*100)]    \n",
    "image = prep_image(data, simulation, time)\n",
    "reef = reef_from_image(image, threshold=threshold, number_of_rows=25, number_of_columns=25)\n",
    "coral_count = np.count_nonzero(image==0)\n",
    "neighbors = extract_neighbors(reef, int(0), coral_count)\n",
    "\n",
    "\n",
    "fig, ax = plt.subplots(1,5, figsize=(6,2.45))\n",
    "\n",
    "ax[0].imshow(image, cmap=cmap, norm=norm)\n",
    "ax[0].axes.xaxis.set_visible(False)\n",
    "ax[0].axes.yaxis.set_visible(False)\n",
    "ax[0].set_frame_on(False)\n",
    "\n",
    "ax[1].text(0.35, 0.5,\n",
    "           '$C$: ' + str(round(coral_count/(number_of_rows*number_of_columns), 2)),\n",
    "           size=12, ha='center', va='center')\n",
    "ax[1].axes.xaxis.set_visible(False)\n",
    "ax[1].axes.yaxis.set_visible(False)\n",
    "ax[1].set_frame_on(False)\n",
    "\n",
    "ax[2].text(0.35, 0.5,\n",
    "           '$C_C$: ' + str(round(neighbors[0],3)),\n",
    "           size=12, ha='center', va='center')\n",
    "ax[2].axes.xaxis.set_visible(False)\n",
    "ax[2].axes.yaxis.set_visible(False)\n",
    "ax[2].set_frame_on(False)\n",
    "\n",
    "\n",
    "ax[3].text(0.35, 0.5,\n",
    "           '$T_C$: ' + str(round(neighbors[1],3)),\n",
    "           size=12, ha='center', va='center')\n",
    "ax[3].axes.xaxis.set_visible(False)\n",
    "ax[3].axes.yaxis.set_visible(False)\n",
    "ax[3].set_frame_on(False)\n",
    "\n",
    "ax[4].text(0.35, 0.5,\n",
    "           '$M_C$: ' + str(round(neighbors[2],3)),\n",
    "           size=12, ha='center', va='center')\n",
    "ax[4].axes.xaxis.set_visible(False)\n",
    "ax[4].axes.yaxis.set_visible(False)\n",
    "ax[4].set_frame_on(False)\n",
    "\n",
    "plt.suptitle(\"Profiles, $t$ = 10\")\n",
    "fig.subplots_adjust(wspace=0.2, top=1.3)\n",
    "plt.savefig(path + name + extension, dpi=400, bbox_inches = \"tight\")"
   ]
  },
  {
   "cell_type": "code",
   "execution_count": null,
   "metadata": {},
   "outputs": [],
   "source": [
    "name = 'early_spatial_evolution_images_145_grazing_' + str(grazing)\n",
    "\n",
    "time = 10\n",
    "threshold = 1.45\n",
    "\n",
    "\n",
    "data=df[df['neighborhood_threshold']==int(threshold*100)]    \n",
    "image = prep_image(data, simulation, time)\n",
    "reef = reef_from_image(image, threshold=threshold, number_of_rows=25, number_of_columns=25)\n",
    "coral_count = np.count_nonzero(image==0)\n",
    "neighbors = extract_neighbors(reef, int(0), coral_count)\n",
    "\n",
    "\n",
    "fig, ax = plt.subplots(1,2, figsize=(3.5,2.45), gridspec_kw={'width_ratios': [2, 1]})\n",
    "\n",
    "ax[0].imshow(image, cmap=cmap, norm=norm)\n",
    "ax[0].axes.xaxis.set_visible(False)\n",
    "ax[0].axes.yaxis.set_visible(False)\n",
    "ax[0].set_frame_on(False)\n",
    "\n",
    "ax[1].text(0.35, 0.5,\n",
    "           '$C$: ' + str(round(coral_count/(number_of_rows*number_of_columns), 2)) + \n",
    "           '\\n \\n' + 'neighbors: ' + \n",
    "           '\\n $C_C$: ' + str(round(neighbors[0],3)) + \n",
    "           '\\n $T_C$: ' + str(round(neighbors[1],3)) +\n",
    "           '\\n $M_C$: ' + str(round(neighbors[2],3)),\n",
    "           size=12, ha='center', va='center')\n",
    "ax[1].axes.xaxis.set_visible(False)\n",
    "ax[1].axes.yaxis.set_visible(False)\n",
    "ax[1].set_frame_on(False)\n",
    "\n",
    "plt.suptitle('$t$ = ' + str(int(time)) + \n",
    "                            ',  $\\ell$ = ' + str(threshold) + \n",
    "                            ', $g$ = .' + str(grazing))\n",
    "fig.subplots_adjust(wspace=0.2, top=.9)\n",
    "plt.savefig(path + name + extension, dpi=400, bbox_inches = \"tight\")"
   ]
  },
  {
   "cell_type": "code",
   "execution_count": null,
   "metadata": {},
   "outputs": [],
   "source": [
    "name = 'early_spatial_evolution_images_36_grazing_' + str(grazing)\n",
    "\n",
    "time = 10\n",
    "threshold = 36\n",
    "\n",
    "data=df[df['neighborhood_threshold']==int(threshold*100)]    \n",
    "image = prep_image(data, simulation, time)\n",
    "reef = reef_from_image(image, threshold=threshold, number_of_rows=25, number_of_columns=25)\n",
    "coral_count = np.count_nonzero(image==0)\n",
    "neighbors = extract_neighbors(reef, int(0), coral_count)\n",
    "\n",
    "\n",
    "fig, ax = plt.subplots(1,2, figsize=(3.5,2.45), gridspec_kw={'width_ratios': [2, 1]})\n",
    "\n",
    "ax[0].imshow(image, cmap=cmap, norm=norm)\n",
    "ax[0].axes.xaxis.set_visible(False)\n",
    "ax[0].axes.yaxis.set_visible(False)\n",
    "ax[0].set_frame_on(False)\n",
    "\n",
    "ax[1].text(0.35, 0.5,\n",
    "           '$C$: ' + str(round(coral_count/(number_of_rows*number_of_columns), 2)) + \n",
    "           '\\n \\n' + 'neighbors: ' + \n",
    "           '\\n $C_C$: ' + str(round(neighbors[0],3)) + \n",
    "           '\\n $T_C$: ' + str(round(neighbors[1],3)) +\n",
    "           '\\n $M_C$: ' + str(round(neighbors[2],3)),\n",
    "           size=12, ha='center', va='center')\n",
    "ax[1].axes.xaxis.set_visible(False)\n",
    "ax[1].axes.yaxis.set_visible(False)\n",
    "ax[1].set_frame_on(False)\n",
    "\n",
    "plt.suptitle('$t$ = ' + str(int(time)) + \n",
    "                            ',  $\\ell$ = ' + str(threshold) + \n",
    "                            ', $g$ = .' + str(grazing))\n",
    "fig.subplots_adjust(wspace=0.2, top=.9)\n",
    "plt.savefig(path + name + extension, dpi=400, bbox_inches = \"tight\")"
   ]
  },
  {
   "cell_type": "code",
   "execution_count": null,
   "metadata": {},
   "outputs": [],
   "source": []
  },
  {
   "cell_type": "code",
   "execution_count": null,
   "metadata": {},
   "outputs": [],
   "source": []
  },
  {
   "cell_type": "code",
   "execution_count": null,
   "metadata": {},
   "outputs": [],
   "source": []
  },
  {
   "cell_type": "code",
   "execution_count": null,
   "metadata": {},
   "outputs": [],
   "source": []
  },
  {
   "cell_type": "code",
   "execution_count": null,
   "metadata": {},
   "outputs": [],
   "source": []
  },
  {
   "cell_type": "code",
   "execution_count": null,
   "metadata": {},
   "outputs": [],
   "source": []
  },
  {
   "cell_type": "code",
   "execution_count": null,
   "metadata": {},
   "outputs": [],
   "source": [
    "threshold = 1.45\n",
    "name = 'early_spatial_evolution_images_145_grazing_' + str(grazing)\n",
    "simulation = 1\n",
    "times = [0, 10]\n",
    "\n",
    "annotated_image_plots(threshold=threshold, name=name, \n",
    "                      simulation=simulation, times=times, grazing=grazing)"
   ]
  },
  {
   "cell_type": "code",
   "execution_count": null,
   "metadata": {},
   "outputs": [],
   "source": [
    "threshold = 36\n",
    "name = 'early_spatial_evolution_images_3600_grazing_' + str(grazing)\n",
    "simulation = 1\n",
    "times = [0, 10]\n",
    "\n",
    "annotated_image_plots(threshold=threshold, name=name, \n",
    "                      simulation=simulation, grazing=grazing)"
   ]
  },
  {
   "cell_type": "markdown",
   "metadata": {},
   "source": [
    "## Grazing = .54"
   ]
  },
  {
   "cell_type": "code",
   "execution_count": null,
   "metadata": {},
   "outputs": [],
   "source": [
    "grazing = 54\n",
    "subset = runs[(runs['number_of_timesteps']==1100)&\n",
    "              (runs['number_of_rows']==25)&\n",
    "              (runs['grazing']==grazing)&\n",
    "              (runs['grid_option']==0)&\n",
    "              (runs['initial_coral_percent']==33)]\n",
    "subset"
   ]
  },
  {
   "cell_type": "code",
   "execution_count": null,
   "metadata": {},
   "outputs": [],
   "source": [
    "df = tl.load_runs(files, subset)\n",
    "df = tl.split_neighbors(df)\n",
    "df = tl.add_percent(df)\n",
    "df['time'] = df['timestep']*.1\n",
    "df['time'] = df['time'].astype('int')\n",
    "df['C'] = round(df.coral_percent/100,2)\n",
    "df['T'] = round(df.turf_percent/100,2)\n",
    "df['M'] = round(df.macroalgae_percent/100,2)"
   ]
  },
  {
   "cell_type": "code",
   "execution_count": null,
   "metadata": {},
   "outputs": [],
   "source": [
    "variable='coral_percent'\n",
    "sns.relplot(x=\"time\", y=variable, \n",
    "            units=\"simulation\", estimator=None, \n",
    "            data=df, kind=\"line\",\n",
    "            row='neighborhood_threshold',\n",
    "            height=1, alpha=.8, aspect=3)"
   ]
  },
  {
   "cell_type": "code",
   "execution_count": null,
   "metadata": {},
   "outputs": [],
   "source": [
    "df_to_melt_145 = df[df['neighborhood_threshold']==145][['C','time','simulation', 'M', 'T']]\n",
    "df_melted_145 = pd.melt(df_to_melt_145, id_vars=['time','simulation'], value_vars=['C', 'T','M'])\n",
    "\n",
    "df_to_melt_500 = df[df['neighborhood_threshold']==500][['C','time','simulation', 'M', 'T']]\n",
    "df_melted_500 = pd.melt(df_to_melt_500, id_vars=['time','simulation'], value_vars=['C', 'T','M'])\n",
    "\n",
    "df_to_melt_1100 = df[df['neighborhood_threshold']==1100][['C','time','simulation', 'M', 'T']]\n",
    "df_melted_1100 = pd.melt(df_to_melt_1100, id_vars=['time','simulation'], value_vars=['C', 'T','M'])\n",
    "\n",
    "df_to_melt_3600 = df[df['neighborhood_threshold']==3600][['C','time','simulation', 'M', 'T']]\n",
    "df_melted_3600 = pd.melt(df_to_melt_3600, id_vars=['time','simulation'], value_vars=['C', 'T','M'])"
   ]
  },
  {
   "cell_type": "code",
   "execution_count": null,
   "metadata": {},
   "outputs": [],
   "source": [
    "name='boxplot_temporal_evolution_145_grazing_' + str(grazing)\n",
    "\n",
    "#times = [0,40, 80, 120, 160, 200, 240, 280]\n",
    "\n",
    "times = [0,10,20,30,40,50,60,70,80,90,100]\n",
    "\n",
    "plt.figure(figsize=(3,3))\n",
    "fig=sns.boxplot(x=\"time\", y=\"value\", hue=\"variable\",\n",
    "                data=df_melted_145[df_melted_145['time'].isin(times)], \n",
    "                palette=species_palette,\n",
    "                linewidth=.5,\n",
    "                flierprops=dict(markersize=2))\n",
    "\n",
    "plt.setp(fig.get_xticklabels(), rotation=45)\n",
    "#plt.legend([],[], frameon=False)\n",
    "plt.ylabel('fractional cover')\n",
    "plt.xlabel('$t$')\n",
    "plt.legend(loc='upper left')\n",
    "\n",
    "plt.title('$\\ell$ = 1.45,  $g$ = .' + str(grazing))\n",
    "plt.savefig(path + name + extension, dpi=200, bbox_inches = \"tight\")"
   ]
  },
  {
   "cell_type": "code",
   "execution_count": null,
   "metadata": {},
   "outputs": [],
   "source": [
    "name='boxplot_temporal_evolution_1100_grazing_' + str(grazing)\n",
    "\n",
    "plt.figure(figsize=(3,3))\n",
    "fig=sns.boxplot(x=\"time\", y=\"value\", hue=\"variable\",\n",
    "            data=df_melted_1100[df_melted_1100['time'].isin(times)], \n",
    "                palette=species_palette,\n",
    "                linewidth=.5,\n",
    "                flierprops=dict(markersize=2))\n",
    "\n",
    "\n",
    "plt.setp(fig.get_xticklabels(), rotation=45)\n",
    "\n",
    "plt.ylabel('fractional cover')\n",
    "plt.xlabel('$t$')\n",
    "plt.legend([],[], frameon=False)\n",
    "\n",
    "\n",
    "plt.title('$\\ell$ = 11.00,  $g$ = .' + str(grazing))\n",
    "plt.savefig(path + name + extension, dpi=200, bbox_inches = \"tight\")"
   ]
  },
  {
   "cell_type": "code",
   "execution_count": null,
   "metadata": {},
   "outputs": [],
   "source": [
    "name='boxplot_temporal_evolution_3600_grazing_' + str(grazing)\n",
    "\n",
    "plt.figure(figsize=(3,3))\n",
    "fig=sns.boxplot(x=\"time\", y=\"value\", hue=\"variable\",\n",
    "                data=df_melted_3600[df_melted_3600['time'].isin(times)], \n",
    "                palette=species_palette,\n",
    "                linewidth=.5,\n",
    "                flierprops=dict(markersize=2))\n",
    "\n",
    "plt.setp(fig.get_xticklabels(), rotation=45)\n",
    "\n",
    "plt.ylabel('fractional cover')\n",
    "plt.xlabel('$t$')\n",
    "\n",
    "plt.legend([],[], frameon=False)\n",
    "\n",
    "\n",
    "plt.title('$\\ell$ = 36.00,  $g$ = .' + str(grazing))\n",
    "plt.savefig(path + name + extension, dpi=200, bbox_inches = \"tight\")"
   ]
  },
  {
   "cell_type": "code",
   "execution_count": null,
   "metadata": {},
   "outputs": [],
   "source": [
    "threshold = 1.45\n",
    "name = 'early_spatial_evolution_images_145_grazing_' + str(grazing)\n",
    "simulation = 1\n",
    "times = [0, 10]\n",
    "\n",
    "annotated_image_plots(threshold=threshold, name=name, \n",
    "                      simulation=simulation, times=times, grazing=grazing)"
   ]
  },
  {
   "cell_type": "code",
   "execution_count": null,
   "metadata": {},
   "outputs": [],
   "source": [
    "threshold = 36\n",
    "name = 'early_spatial_evolution_images_3600_grazing_' + str(grazing)\n",
    "simulation = 1\n",
    "times = [0, 10]\n",
    "\n",
    "annotated_image_plots(threshold=threshold, name=name, \n",
    "                      simulation=simulation, grazing=grazing)"
   ]
  },
  {
   "cell_type": "code",
   "execution_count": null,
   "metadata": {},
   "outputs": [],
   "source": []
  },
  {
   "cell_type": "code",
   "execution_count": null,
   "metadata": {},
   "outputs": [],
   "source": []
  },
  {
   "cell_type": "code",
   "execution_count": null,
   "metadata": {},
   "outputs": [],
   "source": []
  },
  {
   "cell_type": "code",
   "execution_count": null,
   "metadata": {},
   "outputs": [],
   "source": []
  },
  {
   "cell_type": "code",
   "execution_count": null,
   "metadata": {},
   "outputs": [],
   "source": []
  },
  {
   "cell_type": "code",
   "execution_count": null,
   "metadata": {},
   "outputs": [],
   "source": [
    "grazing = 54\n",
    "subset = runs[(runs['number_of_timesteps']==3000)&\n",
    "              (runs['number_of_rows']==25)&\n",
    "              (runs['grazing']==grazing)&\n",
    "              (runs['grid_option']==0)&\n",
    "              (runs['initial_coral_percent']==33)]\n",
    "subset"
   ]
  },
  {
   "cell_type": "code",
   "execution_count": null,
   "metadata": {},
   "outputs": [],
   "source": [
    "df = tl.load_runs(files, subset)\n",
    "df = tl.split_neighbors(df)\n",
    "df = tl.add_percent(df)\n",
    "df['time'] = df['timestep']*.1\n",
    "df['time'] = df['time'].astype('int')"
   ]
  },
  {
   "cell_type": "code",
   "execution_count": null,
   "metadata": {},
   "outputs": [],
   "source": [
    "variable='coral_percent'\n",
    "sns.relplot(x=\"time\", y=variable, \n",
    "            units=\"simulation\", estimator=None, \n",
    "            data=df, kind=\"line\",\n",
    "            row='neighborhood_threshold',\n",
    "            height=1, alpha=.8, aspect=3)"
   ]
  },
  {
   "cell_type": "code",
   "execution_count": null,
   "metadata": {},
   "outputs": [],
   "source": [
    "df_to_melt_145 = df[df['neighborhood_threshold']==145][['coral_percent','time','simulation', 'macroalgae_percent', 'turf_percent']]\n",
    "df_melted_145 = pd.melt(df_to_melt_145, id_vars=['time','simulation'], value_vars=['coral_percent', 'turf_percent','macroalgae_percent'])\n",
    "\n",
    "df_to_melt_500 = df[df['neighborhood_threshold']==500][['coral_percent','time','simulation', 'macroalgae_percent', 'turf_percent']]\n",
    "df_melted_500 = pd.melt(df_to_melt_500, id_vars=['time','simulation'], value_vars=['coral_percent', 'turf_percent','macroalgae_percent'])\n",
    "\n",
    "df_to_melt_1100 = df[df['neighborhood_threshold']==1100][['coral_percent','time','simulation', 'macroalgae_percent', 'turf_percent']]\n",
    "df_melted_1100 = pd.melt(df_to_melt_1100, id_vars=['time','simulation'], value_vars=['coral_percent', 'turf_percent','macroalgae_percent'])\n",
    "\n",
    "df_to_melt_3600 = df[df['neighborhood_threshold']==3600][['coral_percent','time','simulation', 'macroalgae_percent', 'turf_percent']]\n",
    "df_melted_3600 = pd.melt(df_to_melt_3600, id_vars=['time','simulation'], value_vars=['coral_percent', 'turf_percent','macroalgae_percent'])"
   ]
  },
  {
   "cell_type": "code",
   "execution_count": null,
   "metadata": {},
   "outputs": [],
   "source": [
    "name='boxplot_temporal_evolution_145_grazing_' + str(grazing)\n",
    "\n",
    "times = [0,40, 80, 120, 160, 200, 240, 280]\n",
    "\n",
    "plt.figure(figsize=(3,3))\n",
    "fig=sns.boxplot(x=\"time\", y=\"value\", hue=\"variable\",\n",
    "                data=df_melted_145[df_melted_145['time'].isin(times)], \n",
    "                palette=species_palette,\n",
    "                linewidth=.5,\n",
    "                flierprops=dict(markersize=2))\n",
    "\n",
    "plt.setp(fig.get_xticklabels(), rotation=45)\n",
    "plt.legend([],[], frameon=False)\n",
    "plt.title('Neighborhood Threshold = 1.45')\n",
    "\n",
    "plt.savefig(path + name + extension, dpi=200, bbox_inches = \"tight\")"
   ]
  },
  {
   "cell_type": "code",
   "execution_count": null,
   "metadata": {},
   "outputs": [],
   "source": [
    "name='boxplot_temporal_evolution_1100_grazing_' + str(grazing)\n",
    "\n",
    "plt.figure(figsize=(3,3))\n",
    "fig=sns.boxplot(x=\"time\", y=\"value\", hue=\"variable\",\n",
    "            data=df_melted_1100[df_melted_1100['time'].isin(times)], \n",
    "                palette=species_palette,\n",
    "                linewidth=.5,\n",
    "                flierprops=dict(markersize=2))\n",
    "\n",
    "\n",
    "plt.setp(fig.get_xticklabels(), rotation=45)\n",
    "plt.legend([],[], frameon=False)\n",
    "plt.title('Neighborhood Threshold = 11.00')\n",
    "\n",
    "plt.savefig(path + name + extension, dpi=200, bbox_inches = \"tight\")"
   ]
  },
  {
   "cell_type": "code",
   "execution_count": null,
   "metadata": {},
   "outputs": [],
   "source": [
    "name='boxplot_temporal_evolution_3600_grazing_' + str(grazing)\n",
    "\n",
    "plt.figure(figsize=(3,3))\n",
    "fig=sns.boxplot(x=\"time\", y=\"value\", hue=\"variable\",\n",
    "                data=df_melted_3600[df_melted_3600['time'].isin(times)], \n",
    "                palette=species_palette,\n",
    "                linewidth=.5,\n",
    "                flierprops=dict(markersize=2))\n",
    "\n",
    "plt.setp(fig.get_xticklabels(), rotation=45)\n",
    "plt.title('Neighborhood Threshold = 36.00')\n",
    "plt.legend([],[], frameon=False)\n",
    "plt.savefig(path + name + extension, dpi=200, bbox_inches = \"tight\")"
   ]
  },
  {
   "cell_type": "code",
   "execution_count": null,
   "metadata": {},
   "outputs": [],
   "source": [
    "threshold = 1.45\n",
    "name = 'early_spatial_evolution_images_145_grazing_' + str(grazing)\n",
    "simulation = 1\n",
    "times = [0, 10]\n",
    "\n",
    "annotated_image_plots(threshold=threshold, name=name, \n",
    "                      simulation=simulation, times=times)"
   ]
  },
  {
   "cell_type": "code",
   "execution_count": null,
   "metadata": {},
   "outputs": [],
   "source": [
    "threshold = 36\n",
    "name = 'early_spatial_evolution_images_3600_grazing_' + str(grazing)\n",
    "simulation = 1\n",
    "times = [0, 10]\n",
    "\n",
    "annotated_image_plots(threshold=threshold, name=name, \n",
    "                      simulation=simulation, times=times)"
   ]
  },
  {
   "cell_type": "markdown",
   "metadata": {},
   "source": [
    "______"
   ]
  },
  {
   "cell_type": "markdown",
   "metadata": {},
   "source": [
    "### Previous Image Plot"
   ]
  },
  {
   "cell_type": "markdown",
   "metadata": {},
   "source": [
    "____"
   ]
  },
  {
   "cell_type": "code",
   "execution_count": null,
   "metadata": {},
   "outputs": [],
   "source": [
    "name='boxplot_temporal_evolution_500_grazing_' + str(grazing)\n",
    "\n",
    "plt.figure(figsize=(3,3))\n",
    "\n",
    "fig=sns.boxplot(x=\"time\", y=\"value\", hue=\"variable\",\n",
    "                data=df_melted_500[df_melted_500['time'].isin(times)], \n",
    "                palette=species_palette,\n",
    "                linewidth=.5,\n",
    "                flierprops=dict(markersize=2))\n",
    "\n",
    "plt.setp(fig.get_xticklabels(), rotation=45)\n",
    "plt.legend([],[], frameon=False)\n",
    "plt.title('Neighborhood Threshold = 5.00')\n",
    "#ax._legend.remove()\n",
    "plt.savefig(path + name + extension, dpi=200, bbox_inches = \"tight\")"
   ]
  },
  {
   "cell_type": "code",
   "execution_count": 46,
   "metadata": {},
   "outputs": [
    {
     "data": {
      "image/png": "[encoded data removed]",
      "text/plain": [
       "<Figure size 360x360 with 2 Axes>"
      ]
     },
     "metadata": {
      "needs_background": "light"
     },
     "output_type": "display_data"
    }
   ],
   "source": [
    "def annotated_image_plots(threshold=1.45, name='example', \n",
    "                          simulation=1, times=[0,10], grazing=51):\n",
    "    \n",
    "    data=df[df['neighborhood_threshold']==int(threshold*100)]    \n",
    "    fig, ax = plt.subplots(1, len(times), figsize=(5,5)) \n",
    "\n",
    "    for index in range(0, len(times)):\n",
    "\n",
    "        image = prep_image(data,simulation,times[index])\n",
    "        reef = reef_from_image(image, threshold=threshold, number_of_rows=25, number_of_columns=25)\n",
    "        coral_count = np.count_nonzero(image==0)\n",
    "        neighbors = extract_neighbors(reef, int(0), coral_count)\n",
    "        ax[index].imshow(image, cmap=cmap, norm=norm)\n",
    "        ax[index].set_xticks([])\n",
    "        ax[index].set_title('$t$ = ' + str(int(times[index])) + \n",
    "                            ',  $\\ell$ = ' + str(threshold) + \n",
    "                            ', $g$ = .' + str(grazing))\n",
    "        ax[index].set_xlabel('$C$: ' \n",
    "                             + str(round(coral_count/(number_of_rows*number_of_columns), 2))\n",
    "                             + '\\n \\n' + 'neighbors: ' + \n",
    "                             '\\n $C_C$: ' +str(round(neighbors[0],3))+ \n",
    "                             '\\n $T_C$: ' + str(round(neighbors[1],3)) +\n",
    "                             '\\n $M_C$: ' + str(round(neighbors[2],3)))\n",
    "        ax[index].axes.yaxis.set_visible(False)        \n",
    "        ax[index].set_frame_on(False)\n",
    "    #fig.suptitle(title)\n",
    "    fig.subplots_adjust(wspace=0.2, top=.75)\n",
    "    plt.savefig(path + name + extension, dpi=400)\n",
    "    \n",
    "    \n",
    "\n",
    "\n",
    "threshold = 1.45\n",
    "name = 'early_spatial_evolution_images_145_grazing_' + str(51)\n",
    "simulation = 1\n",
    "times = [0, 10]\n",
    "\n",
    "annotated_image_plots(threshold=threshold, name=name, \n",
    "                      simulation=simulation, times=times)"
   ]
  },
  {
   "cell_type": "code",
   "execution_count": null,
   "metadata": {},
   "outputs": [],
   "source": [
    "\n",
    "def annotated_image_plots(threshold=1.45, name='example', \n",
    "                          simulation=1, time=10, grazing=51):\n",
    "    \n",
    "    data=df[df['neighborhood_threshold']==int(threshold*100)]    \n",
    "    image = prep_image(data, simulation, time)\n",
    "    reef = reef_from_image(image, threshold=threshold, number_of_rows=25, number_of_columns=25)\n",
    "    coral_count = np.count_nonzero(image==0)\n",
    "    neighbors = extract_neighbors(reef, int(0), coral_count)\n",
    "\n",
    "\n",
    "    fig, ax = plt.subplots(1,2, figsize=(3.5,2.45), gridspec_kw={'width_ratios': [2, 1]})\n",
    "\n",
    "    ax[0].imshow(image, cmap=cmap, norm=norm)\n",
    "    ax[0].set_yticks([])\n",
    "    ax[0].set_xticks([])\n",
    "    ax[0].set_xticks(np.arange(-.5, number_of_rows, 1), minor=True)\n",
    "    ax[0].set_yticks(np.arange(-.5, number_of_rows, 1), minor=True)\n",
    "    ax[0].set_frame_on(False)\n",
    "    ax[0].grid(color='black', linestyle='-', linewidth=.1, which='minor')\n",
    "    ax[0].tick_params(which='minor',top=[], left=[],right=[], bottom=[])\n",
    "    ax[0].set_frame_on(True)\n",
    "    ax[0].set_title(\"$\\ell$ = \" + str(threshold))\n",
    "\n",
    "    ax[1].text(0.35, 0.5,\n",
    "               '$C$: ' + str(round(coral_count/(number_of_rows*number_of_columns), 2)) + \n",
    "               '\\n \\n' + 'neighbors: ' + \n",
    "               '\\n $C_C$: ' + str(round(neighbors[0],3)) + \n",
    "               '\\n $T_C$: ' + str(round(neighbors[1],3)) +\n",
    "               '\\n $M_C$: ' + str(round(neighbors[2],3)),\n",
    "               size=12, ha='center', va='center')\n",
    "    ax[1].axes.xaxis.set_visible(False)\n",
    "    ax[1].axes.yaxis.set_visible(False)\n",
    "    ax[1].set_frame_on(False)\n",
    "\n",
    "    #plt.suptitle(\"Time ($t$) = 10 \\n  ,  $\\ell$ = \" + str(threshold),fontweight='bold',fontsize=12.5)\n",
    "    fig.subplots_adjust(wspace=0.2, top=.79)\n",
    "    plt.savefig(path + name + extension, dpi=400, bbox_inches = \"tight\")    \n",
    "    \n",
    "    \n",
    "    \n",
    "    \n",
    "    "
   ]
  }
 ],
 "metadata": {
  "kernelspec": {
   "display_name": "Python 3",
   "language": "python",
   "name": "python3"
  },
  "language_info": {
   "codemirror_mode": {
    "name": "ipython",
    "version": 3
   },
   "file_extension": ".py",
   "mimetype": "text/x-python",
   "name": "python",
   "nbconvert_exporter": "python",
   "pygments_lexer": "ipython3",
   "version": "3.7.3"
  }
 },
 "nbformat": 4,
 "nbformat_minor": 4
}
