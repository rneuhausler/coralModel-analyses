{
 "cells": [
  {
   "cell_type": "markdown",
   "metadata": {},
   "source": [
    "## Fixing Percentages add to more than 100 bug"
   ]
  },
  {
   "cell_type": "code",
   "execution_count": 13,
   "metadata": {},
   "outputs": [
    {
     "name": "stdout",
     "output_type": "stream",
     "text": [
      "0.33 0.65 0.02\n"
     ]
    }
   ],
   "source": [
    "coral_percent = float(33)/100\n",
    "algae_percent = float(65)/100\n",
    "turf_percent = round(1 - coral_percent - algae_percent, 2)\n",
    "\n",
    "print(coral_percent,algae_percent,turf_percent)"
   ]
  },
  {
   "cell_type": "code",
   "execution_count": null,
   "metadata": {},
   "outputs": [],
   "source": [
    "coral_percent = float(33)/100\n",
    "algae_percent = float(67)/100\n",
    "turf_percent = 1 - coral_percent - algae_percent\n",
    "\n",
    "print(coral_percent,algae_percent,turf_percent)"
   ]
  },
  {
   "cell_type": "markdown",
   "metadata": {},
   "source": [
    "## Determining graphical coral model outputs"
   ]
  },
  {
   "cell_type": "code",
   "execution_count": 1,
   "metadata": {},
   "outputs": [],
   "source": [
    "import pandas as pd"
   ]
  },
  {
   "cell_type": "code",
   "execution_count": 2,
   "metadata": {},
   "outputs": [
    {
     "data": {
      "text/html": [
       "<div>\n",
       "<style scoped>\n",
       "    .dataframe tbody tr th:only-of-type {\n",
       "        vertical-align: middle;\n",
       "    }\n",
       "\n",
       "    .dataframe tbody tr th {\n",
       "        vertical-align: top;\n",
       "    }\n",
       "\n",
       "    .dataframe thead th {\n",
       "        text-align: right;\n",
       "    }\n",
       "</style>\n",
       "<table border=\"1\" class=\"dataframe\">\n",
       "  <thead>\n",
       "    <tr style=\"text-align: right;\">\n",
       "      <th></th>\n",
       "      <th>Simulation</th>\n",
       "      <th>Timestep</th>\n",
       "      <th>CoralCount</th>\n",
       "      <th>TurfCount</th>\n",
       "      <th>MacroalgaeCount</th>\n",
       "      <th>Coral-CoralNeighbors</th>\n",
       "      <th>Turf-TurfNeighbors</th>\n",
       "      <th>Macro-MacroNeighbors</th>\n",
       "      <th>CoralPatchCount</th>\n",
       "      <th>AlgaePatchCount</th>\n",
       "      <th>TurfPatchCount</th>\n",
       "      <th>MacroPatchCount</th>\n",
       "    </tr>\n",
       "  </thead>\n",
       "  <tbody>\n",
       "    <tr>\n",
       "      <th>0</th>\n",
       "      <td>0</td>\n",
       "      <td>0</td>\n",
       "      <td>51</td>\n",
       "      <td>78</td>\n",
       "      <td>96</td>\n",
       "      <td>0.20</td>\n",
       "      <td>0.37</td>\n",
       "      <td>0.46</td>\n",
       "      <td>20</td>\n",
       "      <td>1</td>\n",
       "      <td>11</td>\n",
       "      <td>5</td>\n",
       "    </tr>\n",
       "    <tr>\n",
       "      <th>1</th>\n",
       "      <td>0</td>\n",
       "      <td>900</td>\n",
       "      <td>168</td>\n",
       "      <td>57</td>\n",
       "      <td>0</td>\n",
       "      <td>0.78</td>\n",
       "      <td>0.36</td>\n",
       "      <td>0.00</td>\n",
       "      <td>2</td>\n",
       "      <td>16</td>\n",
       "      <td>16</td>\n",
       "      <td>1</td>\n",
       "    </tr>\n",
       "    <tr>\n",
       "      <th>2</th>\n",
       "      <td>0</td>\n",
       "      <td>1800</td>\n",
       "      <td>166</td>\n",
       "      <td>59</td>\n",
       "      <td>0</td>\n",
       "      <td>0.76</td>\n",
       "      <td>0.32</td>\n",
       "      <td>0.00</td>\n",
       "      <td>1</td>\n",
       "      <td>16</td>\n",
       "      <td>16</td>\n",
       "      <td>1</td>\n",
       "    </tr>\n",
       "    <tr>\n",
       "      <th>3</th>\n",
       "      <td>0</td>\n",
       "      <td>2700</td>\n",
       "      <td>174</td>\n",
       "      <td>51</td>\n",
       "      <td>0</td>\n",
       "      <td>0.80</td>\n",
       "      <td>0.29</td>\n",
       "      <td>0.00</td>\n",
       "      <td>1</td>\n",
       "      <td>15</td>\n",
       "      <td>15</td>\n",
       "      <td>1</td>\n",
       "    </tr>\n",
       "    <tr>\n",
       "      <th>4</th>\n",
       "      <td>0</td>\n",
       "      <td>3600</td>\n",
       "      <td>175</td>\n",
       "      <td>50</td>\n",
       "      <td>0</td>\n",
       "      <td>0.78</td>\n",
       "      <td>0.23</td>\n",
       "      <td>0.00</td>\n",
       "      <td>1</td>\n",
       "      <td>19</td>\n",
       "      <td>19</td>\n",
       "      <td>1</td>\n",
       "    </tr>\n",
       "    <tr>\n",
       "      <th>...</th>\n",
       "      <td>...</td>\n",
       "      <td>...</td>\n",
       "      <td>...</td>\n",
       "      <td>...</td>\n",
       "      <td>...</td>\n",
       "      <td>...</td>\n",
       "      <td>...</td>\n",
       "      <td>...</td>\n",
       "      <td>...</td>\n",
       "      <td>...</td>\n",
       "      <td>...</td>\n",
       "      <td>...</td>\n",
       "    </tr>\n",
       "    <tr>\n",
       "      <th>595</th>\n",
       "      <td>99</td>\n",
       "      <td>900</td>\n",
       "      <td>159</td>\n",
       "      <td>66</td>\n",
       "      <td>0</td>\n",
       "      <td>0.75</td>\n",
       "      <td>0.39</td>\n",
       "      <td>0.00</td>\n",
       "      <td>1</td>\n",
       "      <td>13</td>\n",
       "      <td>13</td>\n",
       "      <td>1</td>\n",
       "    </tr>\n",
       "    <tr>\n",
       "      <th>596</th>\n",
       "      <td>99</td>\n",
       "      <td>1800</td>\n",
       "      <td>162</td>\n",
       "      <td>63</td>\n",
       "      <td>0</td>\n",
       "      <td>0.74</td>\n",
       "      <td>0.30</td>\n",
       "      <td>0.00</td>\n",
       "      <td>2</td>\n",
       "      <td>17</td>\n",
       "      <td>17</td>\n",
       "      <td>1</td>\n",
       "    </tr>\n",
       "    <tr>\n",
       "      <th>597</th>\n",
       "      <td>99</td>\n",
       "      <td>2700</td>\n",
       "      <td>162</td>\n",
       "      <td>63</td>\n",
       "      <td>0</td>\n",
       "      <td>0.75</td>\n",
       "      <td>0.32</td>\n",
       "      <td>0.00</td>\n",
       "      <td>2</td>\n",
       "      <td>14</td>\n",
       "      <td>14</td>\n",
       "      <td>1</td>\n",
       "    </tr>\n",
       "    <tr>\n",
       "      <th>598</th>\n",
       "      <td>99</td>\n",
       "      <td>3600</td>\n",
       "      <td>151</td>\n",
       "      <td>74</td>\n",
       "      <td>0</td>\n",
       "      <td>0.71</td>\n",
       "      <td>0.40</td>\n",
       "      <td>0.00</td>\n",
       "      <td>1</td>\n",
       "      <td>12</td>\n",
       "      <td>12</td>\n",
       "      <td>1</td>\n",
       "    </tr>\n",
       "    <tr>\n",
       "      <th>599</th>\n",
       "      <td>99</td>\n",
       "      <td>4500</td>\n",
       "      <td>159</td>\n",
       "      <td>66</td>\n",
       "      <td>0</td>\n",
       "      <td>0.72</td>\n",
       "      <td>0.31</td>\n",
       "      <td>0.00</td>\n",
       "      <td>1</td>\n",
       "      <td>16</td>\n",
       "      <td>16</td>\n",
       "      <td>1</td>\n",
       "    </tr>\n",
       "  </tbody>\n",
       "</table>\n",
       "<p>600 rows × 12 columns</p>\n",
       "</div>"
      ],
      "text/plain": [
       "     Simulation  Timestep  CoralCount  TurfCount  MacroalgaeCount  \\\n",
       "0             0         0          51         78               96   \n",
       "1             0       900         168         57                0   \n",
       "2             0      1800         166         59                0   \n",
       "3             0      2700         174         51                0   \n",
       "4             0      3600         175         50                0   \n",
       "..          ...       ...         ...        ...              ...   \n",
       "595          99       900         159         66                0   \n",
       "596          99      1800         162         63                0   \n",
       "597          99      2700         162         63                0   \n",
       "598          99      3600         151         74                0   \n",
       "599          99      4500         159         66                0   \n",
       "\n",
       "     Coral-CoralNeighbors  Turf-TurfNeighbors  Macro-MacroNeighbors  \\\n",
       "0                    0.20                0.37                  0.46   \n",
       "1                    0.78                0.36                  0.00   \n",
       "2                    0.76                0.32                  0.00   \n",
       "3                    0.80                0.29                  0.00   \n",
       "4                    0.78                0.23                  0.00   \n",
       "..                    ...                 ...                   ...   \n",
       "595                  0.75                0.39                  0.00   \n",
       "596                  0.74                0.30                  0.00   \n",
       "597                  0.75                0.32                  0.00   \n",
       "598                  0.71                0.40                  0.00   \n",
       "599                  0.72                0.31                  0.00   \n",
       "\n",
       "     CoralPatchCount  AlgaePatchCount  TurfPatchCount  MacroPatchCount  \n",
       "0                 20                1              11                5  \n",
       "1                  2               16              16                1  \n",
       "2                  1               16              16                1  \n",
       "3                  1               15              15                1  \n",
       "4                  1               19              19                1  \n",
       "..               ...              ...             ...              ...  \n",
       "595                1               13              13                1  \n",
       "596                2               17              17                1  \n",
       "597                2               14              14                1  \n",
       "598                1               12              12                1  \n",
       "599                1               16              16                1  \n",
       "\n",
       "[600 rows x 12 columns]"
      ]
     },
     "execution_count": 2,
     "metadata": {},
     "output_type": "execute_result"
    }
   ],
   "source": [
    "coralData = pd.read_csv('table.csv')\n",
    "coralData"
   ]
  },
  {
   "cell_type": "code",
   "execution_count": 4,
   "metadata": {},
   "outputs": [
    {
     "data": {
      "text/plain": [
       "<matplotlib.axes._subplots.AxesSubplot at 0x1169b3518>"
      ]
     },
     "execution_count": 4,
     "metadata": {},
     "output_type": "execute_result"
    },
    {
     "data": {
      "image/png": "[encoded data removed]",
      "text/plain": [
       "<Figure size 432x288 with 1 Axes>"
      ]
     },
     "metadata": {
      "needs_background": "light"
     },
     "output_type": "display_data"
    }
   ],
   "source": [
    "coralData['Coral-CoralNeighbors'].hist()"
   ]
  },
  {
   "cell_type": "code",
   "execution_count": 12,
   "metadata": {},
   "outputs": [
    {
     "data": {
      "text/plain": [
       "<matplotlib.axes._subplots.AxesSubplot at 0x1179b4898>"
      ]
     },
     "execution_count": 12,
     "metadata": {},
     "output_type": "execute_result"
    },
    {
     "data": {
      "image/png": "[encoded data removed]",
      "text/plain": [
       "<Figure size 720x720 with 2 Axes>"
      ]
     },
     "metadata": {
      "needs_background": "light"
     },
     "output_type": "display_data"
    }
   ],
   "source": [
    "coralData.plot.scatter(x= 'CoralPatchCount', y='Coral-CoralNeighbors', c='CoralCount', colormap='viridis', figsize=(10,10))"
   ]
  },
  {
   "cell_type": "code",
   "execution_count": null,
   "metadata": {},
   "outputs": [],
   "source": []
  },
  {
   "cell_type": "code",
   "execution_count": null,
   "metadata": {},
   "outputs": [],
   "source": []
  },
  {
   "cell_type": "code",
   "execution_count": null,
   "metadata": {},
   "outputs": [],
   "source": [
    "def pandasHistogram(dataframe, variable, by):\n",
    "    ax = dataframe.hist(column=variable, by=by, figsize=(8,10),\n",
    "                        layout=(3,1), sharex=True, sharey=True)\n",
    "    for i,x in enumerate(ax):\n",
    "        x.spines['right'].set_visible(False)\n",
    "        x.spines['top'].set_visible(False)\n",
    "        x.spines['left'].set_visible(False)\n",
    "        x.set_xlabel(variable, labelpad=20, size=12)\n",
    "        if i == 1:\n",
    "            x.set_ylabel(\"Count\", labelpad=50, weight='bold', size=12)\n",
    "            x.tick_params(axis='x', rotation=0)"
   ]
  },
  {
   "cell_type": "code",
   "execution_count": 5,
   "metadata": {},
   "outputs": [
    {
     "name": "stdout",
     "output_type": "stream",
     "text": [
      "[<matplotlib.axes._subplots.AxesSubplot object at 0x116a6fc88>\n",
      " <matplotlib.axes._subplots.AxesSubplot object at 0x116b5cb70>\n",
      " <matplotlib.axes._subplots.AxesSubplot object at 0x116b92d68>\n",
      " <matplotlib.axes._subplots.AxesSubplot object at 0x116bd1048>\n",
      " <matplotlib.axes._subplots.AxesSubplot object at 0x116c032e8>\n",
      " <matplotlib.axes._subplots.AxesSubplot object at 0x116c34588>]\n"
     ]
    },
    {
     "data": {
      "image/png": "[encoded data removed]",
      "text/plain": [
       "<Figure size 216x720 with 6 Axes>"
      ]
     },
     "metadata": {
      "needs_background": "light"
     },
     "output_type": "display_data"
    }
   ],
   "source": [
    "yo = coralData.hist(column='TurfPatchCount', by='Timestep', figsize=(3,10), layout=(6,1), sharex=True, sharey=True)\n",
    "print(yo)"
   ]
  },
  {
   "cell_type": "code",
   "execution_count": 165,
   "metadata": {},
   "outputs": [
    {
     "data": {
      "image/png": "[encoded data removed]",
      "text/plain": [
       "<Figure size 1008x1008 with 6 Axes>"
      ]
     },
     "metadata": {
      "needs_background": "light"
     },
     "output_type": "display_data"
    }
   ],
   "source": [
    "ax = coralData.hist(column='Coral-CoralNeighbors', by='Timestep', figsize=(14,14), layout=(6,1), sharex=True, sharey=True)\n",
    "for i,x in enumerate(ax):\n",
    "    \n",
    "    # Despine\n",
    "    x.spines['right'].set_visible(False)\n",
    "    x.spines['top'].set_visible(False)\n",
    "    x.spines['left'].set_visible(False)\n",
    "    \n",
    "    # Set x-axis label\n",
    "    x.set_xlabel(\"Coral Count\", labelpad=20, size=12)\n",
    "    \n",
    "    # Set y-axis label\n",
    "    if i == 1:\n",
    "        x.set_ylabel(\"Sessions\", labelpad=50, weight='bold', size=12)\n",
    "    x.tick_params(axis='x', rotation=0)"
   ]
  },
  {
   "cell_type": "code",
   "execution_count": null,
   "metadata": {},
   "outputs": [],
   "source": [
    "gridOption = PathsOfInterest[1].split('/')[3].split('d')[1]\n",
    "grazing = PathsOfInterest[1].split('/')[4].split('g')[2]\n",
    "\n",
    "coral, macro, r, d, a, y, time, recordRate, nsim = \n",
    "PathsOfInterest[1].split('/')[5].split('-').split('coral').split('macro').split('')"
   ]
  },
  {
   "cell_type": "markdown",
   "metadata": {},
   "source": [
    "## Browsing Through Output Data Directory/Files"
   ]
  },
  {
   "cell_type": "code",
   "execution_count": null,
   "metadata": {},
   "outputs": [],
   "source": [
    "import os\n",
    "import numpy as np\n",
    "import pandas as pd\n",
    "import re\n",
    "import tools as tl"
   ]
  },
  {
   "cell_type": "code",
   "execution_count": null,
   "metadata": {},
   "outputs": [],
   "source": [
    "#pd.Series([2]).repeat(len(pd.read_csv(files[1])))"
   ]
  },
  {
   "cell_type": "code",
   "execution_count": null,
   "metadata": {},
   "outputs": [],
   "source": [
    "topDirectory = \"./output/15x15\"#os.getcwd()\n",
    "files = [path+'/'+file for path, d, f \n",
    "         in os.walk(topDirectory) \n",
    "         for file in f if file.endswith(\".csv\")]\n",
    "overviewOfRuns = pd.concat([pd.DataFrame([np.array(re.split('[a-z-/.]+',files[n])[1:-1])]) \n",
    "           for n in range(0,len(files))])\n",
    "overviewOfRuns.columns = ['Rows', 'Columns', 'Grid Option', 'Grazing',\n",
    "                  'Initial Coral Percent', 'Initial Macroalgae Percent',\n",
    "                      'r', 'd', 'a', 'y', 'Time', 'Record Rate', 'Number of Simulations']\n",
    "overviewOfRuns = overviewOfRuns.set_index([pd.Series([n for n in range(0,len(files))])])\n",
    "overviewOfRuns"
   ]
  },
  {
   "cell_type": "code",
   "execution_count": null,
   "metadata": {},
   "outputs": [],
   "source": [
    "df = pd.read_csv(files[2])\n",
    "df = df.assign(File = np.repeat(2, len(pd.read_csv(files[2]))))\n",
    "df2 = pd.read_csv(files[3])\n",
    "df2 = df.assign(File = np.repeat(3, len(pd.read_csv(files[3]))))\n",
    "pd.concat([df,df2])\n"
   ]
  },
  {
   "cell_type": "markdown",
   "metadata": {},
   "source": [
    "# Setting up Grid Options and Checking"
   ]
  },
  {
   "cell_type": "code",
   "execution_count": 1,
   "metadata": {},
   "outputs": [],
   "source": [
    "from coralModelTable import Reef, Organism, Ocean\n",
    "import numpy as np\n",
    "import matplotlib.pyplot as plt "
   ]
  },
  {
   "cell_type": "code",
   "execution_count": 2,
   "metadata": {},
   "outputs": [],
   "source": [
    "gridOption = 2 ## 0: random, 1: checkered, 2: blob\n",
    "\n",
    "rows = 15\n",
    "columns = 15\n",
    "NumberOfNodes = rows*columns"
   ]
  },
  {
   "cell_type": "code",
   "execution_count": 3,
   "metadata": {},
   "outputs": [],
   "source": [
    "coralPercent = .50\n",
    "algaePercent = .33\n",
    "turfPercent = 1 - coralPercent - algaePercent\n",
    "\n",
    "if gridOption == 1: #setup checkered\n",
    "    m = rows + 2\n",
    "    n = columns + 2\n",
    "    checkerBoard = np.tile(np.array([[0,1,2],[1,2,0],[2,0,1]]), ((m+2)//3, (n+2)//3))\n",
    "    \n",
    "elif gridOption == 2: #setup blob\n",
    "    \n",
    "    blobValue = 0 #input system argument\n",
    "    notBlob = [a for a in [0,1,2] if a != blobValue]\n",
    "    \n",
    "    center = (rows/2, columns/2)\n",
    "    distanceGrid = np.array([Reef.distance([i+.5,j+.5], center)\n",
    "                             for i in range(0,rows)\n",
    "                             for j in range(0,columns)])\n",
    "    maxDistance = np.sort(distanceGrid)[round(coralPercent*NumberOfNodes)]\n",
    "    blobLocations = (np.where(distanceGrid.reshape(rows,columns) < maxDistance))\n",
    "    blobLocations = [(blobLocations[0][n],blobLocations[1][n]) for n in range(0,len(blobLocations[0]))]"
   ]
  },
  {
   "cell_type": "code",
   "execution_count": 4,
   "metadata": {},
   "outputs": [],
   "source": [
    "count = 0\n",
    "threshold = 1.5\n",
    "Moorea = Reef()\n",
    "for i in range(0,rows):        \n",
    "    for j in range(0,columns):\n",
    "        if gridOption == 0:\n",
    "            U = np.random.choice([0,1,2],\n",
    "                                 p=[coralPercent, turfPercent, algaePercent])                    \n",
    "        elif gridOption == 1:\n",
    "            U = checkerBoard[i,j]\n",
    "        elif gridOption == 2:\n",
    "            if (i,j) in blobLocations: \n",
    "                U = blobValue\n",
    "            else:\n",
    "                U = np.random.choice(notBlob,\n",
    "                                     p=[.5, .5])                    \n",
    "        node = Organism(type=U, location=[i,j], ID=count)\n",
    "        Moorea.append(node)\n",
    "        count = count + 1            \n",
    "Moorea.generateGraph(threshold)"
   ]
  },
  {
   "cell_type": "code",
   "execution_count": 5,
   "metadata": {},
   "outputs": [
    {
     "data": {
      "text/plain": [
       "<matplotlib.image.AxesImage at 0x11fb3b438>"
      ]
     },
     "execution_count": 5,
     "metadata": {},
     "output_type": "execute_result"
    },
    {
     "data": {
      "image/png": "[encoded data removed]",
      "text/plain": [
       "<Figure size 432x288 with 1 Axes>"
      ]
     },
     "metadata": {
      "needs_background": "light"
     },
     "output_type": "display_data"
    }
   ],
   "source": [
    "plt.figure()\n",
    "plt.imshow(np.reshape(np.array([Moorea.nodes[i].type for \n",
    "                                i,val in enumerate(Moorea.nodes)]),\n",
    "                      (rows,columns)))"
   ]
  },
  {
   "cell_type": "markdown",
   "metadata": {},
   "source": [
    "# How to parallelize"
   ]
  },
  {
   "cell_type": "code",
   "execution_count": 166,
   "metadata": {},
   "outputs": [
    {
     "name": "stdout",
     "output_type": "stream",
     "text": [
      "[1, 4, 9]\n"
     ]
    }
   ],
   "source": [
    "from multiprocessing import Pool\n",
    "\n",
    "def f(x):\n",
    "    return x*x\n",
    "\n",
    "if __name__ == '__main__':\n",
    "\n",
    "    with Pool(5) as p:\n",
    "        print(p.map(f, [1, 2, 3])) #function, argument"
   ]
  },
  {
   "cell_type": "markdown",
   "metadata": {},
   "source": [
    "# Parallelizing with CoralModel Table"
   ]
  },
  {
   "cell_type": "code",
   "execution_count": 2,
   "metadata": {},
   "outputs": [],
   "source": [
    "#!/usr/bin/env python3\n",
    "# -*- coding: utf-8 -*-\n",
    "from coralModelTable import Reef, Organism, Ocean\n",
    "import numpy as np\n",
    "import sys\n",
    "import matplotlib.pyplot as plt\n",
    "from mpl_toolkits.axes_grid1.inset_locator import InsetPosition\n",
    "from multiprocessing import Pool"
   ]
  },
  {
   "cell_type": "code",
   "execution_count": 3,
   "metadata": {},
   "outputs": [
    {
     "name": "stdout",
     "output_type": "stream",
     "text": [
      "running simulation0\n",
      "running simulation12\n",
      "running simulation4\n",
      "running simulation8\n",
      "running simulation5\n",
      "running simulation9\n",
      "running simulation13\n",
      "running simulation1\n",
      "running simulation6\n",
      "running simulation14\n",
      "running simulation10\n",
      "running simulation2\n",
      "running simulation7\n",
      "running simulation15\n",
      "running simulation11\n",
      "running simulation3\n",
      "running simulation16\n",
      "running simulation20\n",
      "running simulation24\n",
      "running simulation28\n",
      "running simulation17\n",
      "running simulation21\n",
      "running simulation25\n",
      "running simulation29\n",
      "running simulation18\n",
      "running simulation22\n",
      "running simulation26\n",
      "running simulation30\n",
      "running simulation19\n",
      "running simulation23\n",
      "running simulation27\n",
      "running simulation31\n",
      "running simulation32\n",
      "running simulation36\n",
      "running simulation40\n",
      "running simulation44\n",
      "running simulation33\n",
      "running simulation37\n",
      "running simulation41\n",
      "running simulation45\n",
      "running simulation34\n",
      "running simulation38\n",
      "running simulation42\n",
      "running simulation46\n",
      "running simulation35\n",
      "running simulation39\n",
      "running simulation43\n",
      "running simulation47\n",
      "running simulation48\n",
      "running simulation49\n",
      "CPU times: user 387 ms, sys: 443 ms, total: 830 ms\n",
      "Wall time: 1min 36s\n"
     ]
    }
   ],
   "source": [
    "%%time\n",
    "## Parameters\n",
    "nProcessors = 4\n",
    "threshold = 1.45                            \n",
    "coralPercent = .33\n",
    "algaePercent = .33\n",
    "turfPercent = 1 - coralPercent - algaePercent\n",
    "r=1.0\n",
    "d=.4 \n",
    "a=.2\n",
    "y=.75\n",
    "g=.4\n",
    "\n",
    "## Time and Grid Settings\n",
    "\n",
    "NumberOfSimulations = 50\n",
    "tf, dt= 200, .1 \n",
    "NumberOfTimesteps = int(tf/dt)\n",
    "\n",
    "rows, columns = 15, 15\n",
    "NumberOfNodes = rows * columns\n",
    "\n",
    "data = np.zeros((NumberOfTimesteps, NumberOfNodes))\n",
    "neighbors = np.zeros((NumberOfTimesteps, NumberOfNodes), dtype=object)\n",
    "def runModel(simulation):\n",
    "    print('running simulation' + str(simulation))\n",
    "    Moorea = Reef()\n",
    "    count = 0\n",
    "    for i in range(0,rows):        \n",
    "        for j in range(0,columns):\n",
    "            U = np.random.choice([0,1,2],\n",
    "                                 p=[coralPercent, turfPercent, algaePercent])\n",
    "            node = Organism(type=U, location=[i,j], ID=count)\n",
    "            Moorea.append(node)\n",
    "            count = count + 1            \n",
    "    Moorea.generateGraph(threshold)\n",
    "    \n",
    "    for n in range(0,NumberOfTimesteps):\n",
    "        Moorea.roll(r=r, d=d, a=a, g=g, y=y, dt=dt)\n",
    "    \n",
    "    if simulation == 0: ## check on progress\n",
    "        plt.figure()\n",
    "        plt.imshow(np.reshape(np.array([Moorea.nodes[i].type for\n",
    "                                        i,val in enumerate(Moorea.nodes)]),(rows,columns)))\n",
    "    return(Moorea)\n",
    "        \n",
    "if __name__ == '__main__':\n",
    "    \n",
    "    with Pool(nProcessors) as p:\n",
    "        results = p.map(runModel, np.arange(NumberOfSimulations))"
   ]
  },
  {
   "cell_type": "code",
   "execution_count": null,
   "metadata": {},
   "outputs": [],
   "source": [
    "results[1].table"
   ]
  },
  {
   "cell_type": "markdown",
   "metadata": {},
   "source": [
    "# Parallelizing with CoralModel"
   ]
  },
  {
   "cell_type": "markdown",
   "metadata": {},
   "source": [
    "Other properties implemented:\n",
    "* reduced "
   ]
  },
  {
   "cell_type": "code",
   "execution_count": 8,
   "metadata": {},
   "outputs": [],
   "source": [
    "#!/usr/bin/env python3\n",
    "# -*- coding: utf-8 -*-\n",
    "\n",
    "from coralModel import Reef, Organism, Ocean\n",
    "import numpy as np\n",
    "import sys\n",
    "import matplotlib.pyplot as plt\n",
    "from mpl_toolkits.axes_grid1.inset_locator import InsetPosition\n",
    "from multiprocessing import Pool\n"
   ]
  },
  {
   "cell_type": "code",
   "execution_count": 9,
   "metadata": {
    "scrolled": true
   },
   "outputs": [
    {
     "name": "stdout",
     "output_type": "stream",
     "text": [
      "running simulation0\n",
      "running simulation1\n",
      "running simulation2\n",
      "running simulation3\n",
      "CPU times: user 21.4 ms, sys: 26 ms, total: 47.3 ms\n",
      "Wall time: 548 ms\n"
     ]
    }
   ],
   "source": [
    "%%time\n",
    "## Parameters\n",
    "nProcessors = 4\n",
    "threshold = 1.45                            \n",
    "coralPercent = .33\n",
    "algaePercent = .33\n",
    "turfPercent = 1 - coralPercent - algaePercent\n",
    "r=1.0\n",
    "d=.4 \n",
    "a=.2\n",
    "y=.75\n",
    "g=.4\n",
    "\n",
    "## Time and Grid Settings\n",
    "\n",
    "NumberOfSimulations = 4\n",
    "tf, dt= 20, .1 \n",
    "recordRate = 2\n",
    "NumberOfTimesteps = int(tf/dt)\n",
    "\n",
    "rows, columns = 15, 15\n",
    "NumberOfNodes = rows * columns\n",
    "NumberOfRecordedTimesteps = round(NumberOfTimesteps / recordRate)\n",
    "data = np.zeros((NumberOfRecordedTimesteps, NumberOfNodes))\n",
    "neighbors = np.zeros((NumberOfRecordedTimesteps, NumberOfNodes), dtype=object)\n",
    "recordedTimesteps = np.zeros((NumberOfRecordedTimesteps, 1))\n",
    "\n",
    "\n",
    "def runModel(simulation):\n",
    "    print('running simulation' + str(simulation))\n",
    "    Moorea = Reef()\n",
    "    count = 0\n",
    "    for i in range(0,rows):        \n",
    "        for j in range(0,columns):\n",
    "            U = np.random.choice([0,1,2],\n",
    "                                 p=[coralPercent, turfPercent, algaePercent])\n",
    "            node = Organism(type=U, location=[i,j], ID=count)\n",
    "            Moorea.append(node)\n",
    "            count = count + 1            \n",
    "    Moorea.generateGraph(threshold)\n",
    "    \n",
    "    for t in range(0,NumberOfTimesteps):\n",
    "        if t % recordRate == 0:\n",
    "            for n,val in enumerate(Moorea.nodes):\n",
    "                data[round(t/recordRate),n] = Moorea.nodes[n].type\n",
    "                neighbors[round(t/recordRate),n] = Moorea.nodes[n].density\n",
    "                recordedTimesteps[round(t/recordRate)] = n\n",
    "        Moorea.roll(r=r, d=d, a=a, g=g, y=y, dt=dt)\n",
    "    \n",
    "    if simulation == 0: ## check on progress\n",
    "        plt.figure()\n",
    "        plt.imshow(np.reshape(np.array([Moorea.nodes[i].type for\n",
    "                                        i,val in enumerate(Moorea.nodes)]),(rows,columns)))\n",
    "    \n",
    "    return(data, neighbors, recordedTimesteps)\n",
    "        \n",
    "if __name__ == '__main__':\n",
    "    \n",
    "    with Pool(nProcessors) as p:\n",
    "        results = p.map(runModel, np.arange(NumberOfSimulations))"
   ]
  },
  {
   "cell_type": "code",
   "execution_count": 22,
   "metadata": {},
   "outputs": [
    {
     "data": {
      "text/plain": [
       "array([0.96444444, 2.05777778, 4.19555556])"
      ]
     },
     "execution_count": 22,
     "metadata": {},
     "output_type": "execute_result"
    }
   ],
   "source": [
    "a, b, c = results[1][1][1].mean()\n",
    "results[1][1][1].mean()"
   ]
  },
  {
   "cell_type": "code",
   "execution_count": 23,
   "metadata": {},
   "outputs": [
    {
     "data": {
      "text/plain": [
       "0.9644444444444444"
      ]
     },
     "execution_count": 23,
     "metadata": {},
     "output_type": "execute_result"
    }
   ],
   "source": [
    "a"
   ]
  },
  {
   "cell_type": "code",
   "execution_count": 24,
   "metadata": {},
   "outputs": [
    {
     "data": {
      "text/plain": [
       "2.057777777777778"
      ]
     },
     "execution_count": 24,
     "metadata": {},
     "output_type": "execute_result"
    }
   ],
   "source": [
    "b"
   ]
  },
  {
   "cell_type": "code",
   "execution_count": null,
   "metadata": {},
   "outputs": [],
   "source": [
    "data, neighbors = 0,1\n",
    "def pullInfo(simulation):\n",
    "    \n",
    "    print('quantifying simulation' + str(simulation))\n",
    "    count = 0\n",
    "    \n",
    "    simulation_rec = np.zeros(NumberOfRecordedTimesteps)\n",
    "    timestep_rec = np.zeros(NumberOfRecordedTimesteps)\n",
    "    \n",
    "    C = np.zeros(NumberOfRecordedTimesteps)\n",
    "    M = np.zeros(NumberOfRecordedTimesteps)\n",
    "    T = np.zeros(NumberOfRecordedTimesteps)\n",
    "    CP = np.zeros(NumberOfRecordedTimesteps)\n",
    "    MP = np.zeros(NumberOfRecordedTimesteps)\n",
    "    TP = np.zeros(NumberOfRecordedTimesteps)\n",
    "    #CN =     #PULL FROM results[2]\n",
    "    #MN = \n",
    "    #TN =\n",
    "    \n",
    "    for timestep in range(0,NumberOfRecordedTimesteps):\n",
    "        \n",
    "        image = results[simulation][data][timestep]\n",
    "        neighborCount = results[simulation][neighbors][timestep]\n",
    "        \n",
    "        simulation_rec[count] = str(simulation)\n",
    "        timestep_rec[count] = str(timestep * recordRate)\n",
    "        \n",
    "        if C[t,s] == 0:\n",
    "            CP[count], AP[count], TP[count], MP[count] = [0,0,0,0]\n",
    "            Msim[count], Tsim[count], Csim[count] = [0,0,0]\n",
    "            CNsim[count], CNrsim[count] = [0,0]\n",
    "            \n",
    "        else:\n",
    "            C[count] = np.count_nonzero(image==0)\n",
    "            T[count] = np.count_nonzero(image==1)\n",
    "            M[count] = np.count_nonzero(image==2)\n",
    "            CP[count], AP[count], TP[count], MP[count] = patchCounts(image,rows)\n",
    "            \n",
    "            CN[count], TN[count], MN[count] = ## use function\n",
    "            \n",
    "        count = count + 1\n",
    "        \n",
    "        ##combine via pandas\n",
    "        \n",
    "        snapshot = results[simulation][data][timestep]"
   ]
  },
  {
   "cell_type": "markdown",
   "metadata": {},
   "source": [
    "### Format of results under parallelization"
   ]
  },
  {
   "cell_type": "code",
   "execution_count": 17,
   "metadata": {},
   "outputs": [
    {
     "data": {
      "text/plain": [
       "array([0., 0., 0., 1., 0., 0., 0., 2., 2., 1., 1., 0., 1., 2., 2., 1., 0.,\n",
       "       0., 0., 0., 0., 2., 1., 1., 2., 2., 1., 1., 1., 0., 1., 2., 1., 0.,\n",
       "       0., 0., 2., 2., 2., 2., 1., 0., 1., 0., 2., 0., 2., 1., 2., 2., 0.,\n",
       "       1., 2., 0., 1., 1., 1., 0., 2., 1., 1., 0., 2., 0., 2., 2., 2., 1.,\n",
       "       1., 2., 1., 1., 1., 2., 2., 1., 2., 1., 0., 2., 0., 2., 2., 2., 2.,\n",
       "       1., 1., 0., 2., 1., 1., 0., 2., 2., 0., 0., 0., 1., 2., 2., 1., 2.,\n",
       "       1., 0., 0., 1., 0., 1., 2., 1., 0., 0., 1., 2., 2., 1., 1., 0., 0.,\n",
       "       0., 0., 1., 1., 2., 0., 0., 0., 1., 2., 2., 2., 1., 0., 1., 0., 2.,\n",
       "       0., 0., 1., 0., 2., 2., 0., 0., 1., 2., 0., 1., 2., 0., 1., 1., 2.,\n",
       "       1., 1., 1., 2., 2., 1., 2., 2., 1., 1., 1., 0., 1., 1., 2., 0., 2.,\n",
       "       0., 0., 1., 2., 1., 2., 2., 1., 1., 0., 2., 2., 2., 2., 2., 0., 0.,\n",
       "       1., 1., 0., 2., 1., 0., 1., 1., 0., 0., 0., 0., 0., 0., 0., 0., 0.,\n",
       "       0., 1., 0., 0., 0., 0., 2., 2., 0., 2., 0., 0., 2., 2., 2., 0., 0.,\n",
       "       0., 1., 1., 0.])"
      ]
     },
     "execution_count": 17,
     "metadata": {},
     "output_type": "execute_result"
    }
   ],
   "source": [
    "results[2][0][1]"
   ]
  },
  {
   "cell_type": "code",
   "execution_count": 14,
   "metadata": {},
   "outputs": [
    {
     "data": {
      "image/png": "[encoded data removed]",
      "text/plain": [
       "<Figure size 432x288 with 1 Axes>"
      ]
     },
     "metadata": {
      "needs_background": "light"
     },
     "output_type": "display_data"
    },
    {
     "data": {
      "image/png": "[encoded data removed]",
      "text/plain": [
       "<Figure size 432x288 with 1 Axes>"
      ]
     },
     "metadata": {
      "needs_background": "light"
     },
     "output_type": "display_data"
    },
    {
     "data": {
      "image/png": "[encoded data removed]",
      "text/plain": [
       "<Figure size 432x288 with 1 Axes>"
      ]
     },
     "metadata": {
      "needs_background": "light"
     },
     "output_type": "display_data"
    },
    {
     "data": {
      "image/png": "[encoded data removed]",
      "text/plain": [
       "<Figure size 432x288 with 1 Axes>"
      ]
     },
     "metadata": {
      "needs_background": "light"
     },
     "output_type": "display_data"
    },
    {
     "data": {
      "image/png": "[encoded data removed]",
      "text/plain": [
       "<Figure size 432x288 with 1 Axes>"
      ]
     },
     "metadata": {
      "needs_background": "light"
     },
     "output_type": "display_data"
    }
   ],
   "source": [
    "for i in np.arange(0,500,100):\n",
    "    plt.figure()\n",
    "    plt.imshow(np.reshape(results[5][i,:],(15,15)))"
   ]
  },
  {
   "cell_type": "markdown",
   "metadata": {},
   "source": [
    "# Possible Extractions"
   ]
  },
  {
   "cell_type": "markdown",
   "metadata": {},
   "source": [
    "#### Currently\n",
    "* Number of Patches done via `patchCounts(sim,rows)`\n",
    "* Species count via  `np.count_nonzero(step==2)` (currently written in as \"sim\"\n",
    "\n",
    "\n",
    "#### Other table\n",
    "* Want something that includes summary (age of coral death or algae death)\n",
    "\n"
   ]
  },
  {
   "cell_type": "code",
   "execution_count": 33,
   "metadata": {},
   "outputs": [
    {
     "data": {
      "text/plain": [
       "(10, 225)"
      ]
     },
     "execution_count": 33,
     "metadata": {},
     "output_type": "execute_result"
    }
   ],
   "source": [
    "simulation = 2\n",
    "matrixData = 0\n",
    "timestep = 2\n",
    "results[simulation][matrixData].shape"
   ]
  },
  {
   "cell_type": "code",
   "execution_count": 34,
   "metadata": {},
   "outputs": [
    {
     "data": {
      "text/plain": [
       "(225,)"
      ]
     },
     "execution_count": 34,
     "metadata": {},
     "output_type": "execute_result"
    }
   ],
   "source": [
    "results[simulation][matrixData][timestep].shape"
   ]
  },
  {
   "cell_type": "markdown",
   "metadata": {},
   "source": [
    "## Number of Each Species "
   ]
  },
  {
   "cell_type": "code",
   "execution_count": 28,
   "metadata": {},
   "outputs": [
    {
     "name": "stdout",
     "output_type": "stream",
     "text": [
      "66 73 86\n"
     ]
    },
    {
     "data": {
      "text/plain": [
       "225"
      ]
     },
     "execution_count": 28,
     "metadata": {},
     "output_type": "execute_result"
    },
    {
     "data": {
      "image/png": "[encoded data removed]",
      "text/plain": [
       "<Figure size 432x288 with 1 Axes>"
      ]
     },
     "metadata": {
      "needs_background": "light"
     },
     "output_type": "display_data"
    }
   ],
   "source": [
    "image = results[simulation][matrixData][timestep]\n",
    "plt.imshow(shaper(image,rows))\n",
    "print(np.count_nonzero(image==0),\n",
    "      np.count_nonzero(image==1),\n",
    "      np.count_nonzero(image==2))\n",
    "63+77+85"
   ]
  },
  {
   "cell_type": "markdown",
   "metadata": {},
   "source": [
    "## Number of Patches Count"
   ]
  },
  {
   "cell_type": "code",
   "execution_count": 29,
   "metadata": {},
   "outputs": [
    {
     "name": "stdout",
     "output_type": "stream",
     "text": [
      "[[1. 2. 0. 1. 0. 2. 0. 2. 2. 2. 2. 1. 2. 1. 2.]\n",
      " [2. 2. 2. 0. 0. 0. 0. 2. 2. 1. 1. 2. 1. 1. 1.]\n",
      " [1. 1. 0. 2. 0. 1. 0. 1. 1. 2. 1. 1. 2. 1. 1.]\n",
      " [1. 0. 0. 1. 1. 0. 0. 2. 0. 0. 1. 1. 2. 2. 0.]\n",
      " [1. 0. 0. 2. 2. 1. 2. 1. 2. 1. 2. 2. 1. 1. 0.]\n",
      " [0. 0. 2. 2. 2. 1. 2. 2. 2. 2. 2. 2. 1. 1. 1.]\n",
      " [2. 2. 1. 2. 2. 1. 1. 1. 2. 0. 1. 1. 1. 1. 0.]\n",
      " [2. 2. 1. 2. 2. 2. 1. 1. 0. 2. 0. 0. 0. 2. 1.]\n",
      " [2. 2. 1. 0. 0. 2. 1. 1. 0. 0. 0. 0. 1. 2. 2.]\n",
      " [2. 2. 2. 2. 0. 2. 0. 2. 0. 0. 0. 0. 1. 2. 0.]\n",
      " [1. 2. 1. 1. 0. 1. 0. 0. 0. 2. 0. 2. 1. 0. 1.]\n",
      " [0. 2. 0. 2. 1. 1. 0. 0. 0. 0. 2. 2. 0. 0. 0.]\n",
      " [0. 1. 2. 2. 2. 1. 2. 0. 0. 1. 2. 2. 0. 0. 1.]\n",
      " [1. 0. 2. 1. 1. 2. 1. 2. 2. 2. 2. 1. 2. 0. 0.]\n",
      " [2. 2. 1. 2. 1. 2. 1. 2. 1. 1. 2. 0. 0. 1. 2.]]\n",
      "9 3 17 8\n"
     ]
    },
    {
     "data": {
      "text/plain": [
       "<matplotlib.image.AxesImage at 0x108663ef0>"
      ]
     },
     "execution_count": 29,
     "metadata": {},
     "output_type": "execute_result"
    },
    {
     "data": {
      "image/png": "[encoded data removed]",
      "text/plain": [
       "<Figure size 432x288 with 1 Axes>"
      ]
     },
     "metadata": {
      "needs_background": "light"
     },
     "output_type": "display_data"
    },
    {
     "data": {
      "image/png": "[encoded data removed]",
      "text/plain": [
       "<Figure size 432x288 with 1 Axes>"
      ]
     },
     "metadata": {
      "needs_background": "light"
     },
     "output_type": "display_data"
    },
    {
     "data": {
      "image/png": "[encoded data removed]",
      "text/plain": [
       "<Figure size 432x288 with 1 Axes>"
      ]
     },
     "metadata": {
      "needs_background": "light"
     },
     "output_type": "display_data"
    }
   ],
   "source": [
    "from ripser import ripser, lower_star_img\n",
    "\n",
    "def shaper(df, rows):\n",
    "    df = np.reshape(df, (-1, rows))\n",
    "    return(df)\n",
    "\n",
    "def binary(df,ones='coral'):\n",
    "    with np.errstate(divide='ignore',invalid='ignore'):\n",
    "        if ones == 'coral':\n",
    "            df = np.nan_to_num(df/df)\n",
    "        elif ones == 'turf':\n",
    "            df = (df-1)**2\n",
    "        elif ones == 'macro':\n",
    "            df = np.nan_to_num((df-2)**2/(df-2)**2)\n",
    "    return(df)\n",
    "\n",
    "def tdaPrep(df, rows, ones='coral'):\n",
    "    df = binary(df,ones)\n",
    "    dfi = 1-df   \n",
    "    df = shaper(df,rows)\n",
    "    dfi = shaper(dfi,rows)\n",
    "    return(df, dfi)\n",
    "\n",
    "\n",
    "def patchCounts(image, rows):\n",
    "\n",
    "# TDA measure for coral:\n",
    "    df, dfi = tdaPrep(image, rows, ones='coral')\n",
    "    countCoralPatches = len(lower_star_img(df))\n",
    "    countAlgaePatches = len(lower_star_img(dfi))\n",
    "\n",
    "# TDA meaure for turf:\n",
    "    df, dfi = tdaPrep(image, rows, ones='turf')\n",
    "    countTurfPatches = len(lower_star_img(df))\n",
    "\n",
    "# TDA measure for macroalgae:\n",
    "    df, dfi = tdaPrep(image, rows, ones='macro')\n",
    "    countMacroPatches = len(lower_star_img(df))\n",
    "    \n",
    "    return(countCoralPatches, countAlgaePatches, countTurfPatches, countMacroPatches)\n",
    "\n",
    "print(shaper(image,rows))\n",
    "\n",
    "CP,AP,TP, MP = patchCounts(image, rows)\n",
    "print(CP,AP,TP, MP)\n",
    "\n",
    "df,dfi = tdaPrep(image,rows, ones='coral')\n",
    "plt.figure()\n",
    "plt.imshow(shaper(image,rows))\n",
    "plt.figure()\n",
    "plt.imshow(df)\n",
    "plt.figure()\n",
    "plt.imshow(dfi)"
   ]
  },
  {
   "cell_type": "code",
   "execution_count": 5,
   "metadata": {},
   "outputs": [
    {
     "data": {
      "text/plain": [
       "array([0., 0., 0., 1., 1., 0., 0., 2., 0., 2., 1., 0., 2., 2., 2., 1., 1.,\n",
       "       0., 2., 1., 1., 1., 1., 2., 2., 2., 1., 2., 1., 0., 0., 2., 1., 0.,\n",
       "       1., 0., 0., 2., 2., 1., 1., 1., 0., 0., 1., 0., 1., 2., 0., 2., 0.,\n",
       "       1., 2., 0., 1., 1., 0., 0., 2., 0., 0., 1., 2., 0., 1., 2., 1., 1.,\n",
       "       1., 2., 0., 1., 1., 1., 2., 0., 1., 1., 1., 0., 0., 0., 2., 2., 1.,\n",
       "       1., 0., 0., 1., 1., 2., 1., 2., 2., 1., 1., 1., 2., 2., 2., 1., 2.,\n",
       "       1., 0., 1., 1., 0., 0., 2., 2., 0., 0., 1., 1., 2., 1., 1., 0., 2.,\n",
       "       1., 0., 1., 1., 2., 1., 0., 0., 1., 1., 2., 1., 1., 0., 0., 1., 2.,\n",
       "       0., 1., 1., 0., 2., 2., 0., 0., 0., 2., 0., 0., 2., 0., 0., 2., 2.,\n",
       "       1., 2., 1., 0., 2., 0., 2., 1., 1., 2., 1., 0., 0., 2., 1., 0., 2.,\n",
       "       1., 1., 2., 2., 1., 2., 2., 1., 1., 0., 2., 2., 2., 1., 2., 0., 0.,\n",
       "       2., 0., 0., 2., 2., 0., 1., 2., 0., 1., 0., 1., 0., 0., 0., 0., 1.,\n",
       "       0., 2., 0., 1., 0., 1., 0., 2., 0., 2., 0., 0., 2., 1., 2., 1., 1.,\n",
       "       2., 0., 1., 1.])"
      ]
     },
     "execution_count": 5,
     "metadata": {},
     "output_type": "execute_result"
    }
   ],
   "source": [
    "results[2][0][1]"
   ]
  },
  {
   "cell_type": "markdown",
   "metadata": {},
   "source": [
    "# Automate"
   ]
  },
  {
   "cell_type": "markdown",
   "metadata": {},
   "source": [
    "### Modulo Operator for limiting when data is pulled"
   ]
  },
  {
   "cell_type": "code",
   "execution_count": 8,
   "metadata": {},
   "outputs": [
    {
     "name": "stdout",
     "output_type": "stream",
     "text": [
      "0\n",
      "100\n",
      "200\n",
      "300\n"
     ]
    }
   ],
   "source": [
    "for t in range(0,301):\n",
    "    if t % 100 == 0:\n",
    "        print(t)"
   ]
  },
  {
   "cell_type": "markdown",
   "metadata": {},
   "source": [
    "### Running Coral Model, exploring available data inside loop"
   ]
  },
  {
   "cell_type": "code",
   "execution_count": 62,
   "metadata": {},
   "outputs": [],
   "source": [
    "#!/usr/bin/env python3\n",
    "# -*- coding: utf-8 -*-\n",
    "\n",
    "from coralModel import Reef, Organism, Ocean\n",
    "import numpy as np\n",
    "import sys\n",
    "import matplotlib.pyplot as plt\n",
    "from mpl_toolkits.axes_grid1.inset_locator import InsetPosition\n",
    "from multiprocessing import Pool\n",
    "\n",
    "nProcessors = 4\n",
    "threshold = 1.45                            \n",
    "coralPercent = .33\n",
    "algaePercent = .33\n",
    "turfPercent = 1 - coralPercent - algaePercent\n",
    "r=1.0\n",
    "d=.4 \n",
    "a=.2\n",
    "y=.75\n",
    "g=.4\n",
    "gridOption = 0\n",
    "\n",
    "\n",
    "NumberOfSimulations = 10\n",
    "tf, dt= 100, .1 \n",
    "recordRate = 200\n",
    "NumberOfTimesteps = int(tf/dt)\n",
    "rows, columns = 15, 15\n",
    "NumberOfNodes = rows * columns\n",
    "NumberOfRecordedTimesteps = round(NumberOfTimesteps / recordRate)\n",
    "\n",
    "## Grid Options Setup\n",
    "if gridOption == 1:\n",
    "    checkerBoard = generateCheckerBoard(rows, columns)\n",
    "\n",
    "elif gridOption == 2:\n",
    "    blobLocations, notBlob = generateBlob(rows, columns, blobValue, coralPercent)"
   ]
  },
  {
   "cell_type": "code",
   "execution_count": 64,
   "metadata": {},
   "outputs": [
    {
     "name": "stdout",
     "output_type": "stream",
     "text": [
      "running simulation2\n",
      "running simulation1\n",
      "running simulation0\n",
      "running simulation3\n",
      "running simulation4\n",
      "running simulation5\n",
      "running simulation6\n",
      "running simulation7\n",
      "running simulation8\n",
      "running simulation9\n",
      "CPU times: user 29.3 ms, sys: 25.3 ms, total: 54.6 ms\n",
      "Wall time: 4.74 s\n"
     ]
    }
   ],
   "source": [
    "%%time\n",
    "\n",
    "def createReef():\n",
    "    Moorea = Reef()\n",
    "    count = 0   \n",
    "    for i in range(0,rows):\n",
    "        for j in range(0,columns):\n",
    "            if gridOption == 0:\n",
    "                U = np.random.choice([0,1,2], p=[coralPercent, \n",
    "                                                 turfPercent, algaePercent])\n",
    "            elif gridOption == 1:\n",
    "                U = checkerBoard[i,j]\n",
    "                \n",
    "            elif gridOption == 2:\n",
    "                if (i,j) in blobLocations: \n",
    "                    U = blobValue\n",
    "                else:\n",
    "                    U = np.random.choice(notBlob, p=[.5, .5])\n",
    "            node = Organism(type=U, location=[i,j], ID=count)\n",
    "            Moorea.append(node)\n",
    "            count = count + 1\n",
    "    return(Moorea)\n",
    "    \n",
    "def runModel(simulation):\n",
    "    \n",
    "    print('running simulation' + str(simulation))\n",
    "    Moorea = createReef()\n",
    "    Moorea.generateGraph(threshold) \n",
    "    \n",
    "    for timestep in range(0,NumberOfTimesteps):\n",
    "        \n",
    "        ## Recording at defined record rate\n",
    "        \n",
    "        if timestep % recordRate == 0:\n",
    "            for n,val in enumerate(Moorea.nodes):\n",
    "                data[round(timestep/recordRate),n] = Moorea.nodes[n].type\n",
    "                neighbors[round(timestep/recordRate),n] = Moorea.nodes[n].density\n",
    "            \n",
    "                \n",
    "        ## Run model        \n",
    "        Moorea.roll(r=r, d=d, a=a, g=g, y=y, dt=dt)\n",
    "        \n",
    "    return(Moorea)\n",
    "\n",
    "if __name__ == '__main__':\n",
    "    \n",
    "    with Pool(nProcessors) as p:\n",
    "        results = p.map(runModel, np.arange(NumberOfSimulations))"
   ]
  },
  {
   "cell_type": "code",
   "execution_count": 65,
   "metadata": {},
   "outputs": [
    {
     "data": {
      "text/plain": [
       "[<coralModel.Reef at 0x116b71358>,\n",
       " <coralModel.Reef at 0x116b71390>,\n",
       " <coralModel.Reef at 0x116b71400>,\n",
       " <coralModel.Reef at 0x116b71438>,\n",
       " <coralModel.Reef at 0x116b71208>,\n",
       " <coralModel.Reef at 0x116954208>,\n",
       " <coralModel.Reef at 0x116a67e48>,\n",
       " <coralModel.Reef at 0x116ba9198>,\n",
       " <coralModel.Reef at 0x116a67f28>,\n",
       " <coralModel.Reef at 0x1169cc710>]"
      ]
     },
     "execution_count": 65,
     "metadata": {},
     "output_type": "execute_result"
    }
   ],
   "source": [
    "results"
   ]
  },
  {
   "cell_type": "code",
   "execution_count": null,
   "metadata": {},
   "outputs": [],
   "source": [
    "Moorea = results[1]\n",
    "\n",
    "CN = np.array([Moorea.nodes[n].density/\n",
    "               Moorea.nodes[n].density.sum()\n",
    "               for n,val in enumerate(Moorea.nodes)\n",
    "               if Moorea.nodes[n].type == 0]).mean(axis=0)[0]\n",
    "TN = np.array([Moorea.nodes[n].density/\n",
    "               Moorea.nodes[n].density.sum()\n",
    "               for n,val in enumerate(Moorea.nodes)\n",
    "               if Moorea.nodes[n].type == 1]).mean(axis=0)[1]\n",
    "MN = np.array([Moorea.nodes[n].density/\n",
    "               Moorea.nodes[n].density.sum()\n",
    "               for n,val in enumerate(Moorea.nodes)\n",
    "               if Moorea.nodes[n].type == 2]).mean(axis=0)[2]"
   ]
  },
  {
   "cell_type": "code",
   "execution_count": 76,
   "metadata": {},
   "outputs": [
    {
     "data": {
      "text/plain": [
       "0.8"
      ]
     },
     "execution_count": 76,
     "metadata": {},
     "output_type": "execute_result"
    }
   ],
   "source": [
    "[results[1].nodes[2].density/results[1].nodes[2].density.sum()][0][1]"
   ]
  },
  {
   "cell_type": "code",
   "execution_count": 118,
   "metadata": {},
   "outputs": [
    {
     "name": "stdout",
     "output_type": "stream",
     "text": [
      "CPU times: user 2 µs, sys: 1 µs, total: 3 µs\n",
      "Wall time: 5.01 µs\n"
     ]
    },
    {
     "data": {
      "text/plain": [
       "numpy.float64"
      ]
     },
     "execution_count": 118,
     "metadata": {},
     "output_type": "execute_result"
    }
   ],
   "source": [
    "## via for loop\n",
    "%time\n",
    "\n",
    "grid = np.zeros(225)\n",
    "neigbors = np.zeros(225)\n",
    "\n",
    "for n,val in enumerate(results[1].nodes):\n",
    "    grid[n] = np.array(results[1].nodes[n].type)\n",
    "    neighbors[n] = np.array(results[1].nodes[n].density/results[1].nodes[n].density.sum())\n",
    "type(grid[1])"
   ]
  },
  {
   "cell_type": "code",
   "execution_count": 126,
   "metadata": {},
   "outputs": [
    {
     "name": "stdout",
     "output_type": "stream",
     "text": [
      "CPU times: user 2 µs, sys: 0 ns, total: 2 µs\n",
      "Wall time: 4.77 µs\n"
     ]
    },
    {
     "data": {
      "text/plain": [
       "numpy.int64"
      ]
     },
     "execution_count": 126,
     "metadata": {},
     "output_type": "execute_result"
    }
   ],
   "source": [
    "#### via list comp\n",
    "%time\n",
    "\n",
    "grid = np.array([results[1].nodes[n].type for n,val in enumerate(results[1].nodes)])\n",
    "\n",
    "neighbors = np.array([results[1].nodes[n].density/results[1].nodes[n].density.sum()\n",
    "                      for n,val in enumerate(results[1].nodes)])\n",
    "\n",
    "type(grid[1])"
   ]
  },
  {
   "cell_type": "code",
   "execution_count": null,
   "metadata": {},
   "outputs": [],
   "source": [
    "### For inside loop\n",
    "\n",
    "if timestep % recordRate == 0:\n",
    "    grid = np.array([results[1].nodes[n].type for n,val in enumerate(results[1].nodes)])\n",
    "    neighbors = np.array([results[1].nodes[n].density for n,val in enumerate(results[1].nodes)])\n",
    "    "
   ]
  },
  {
   "cell_type": "markdown",
   "metadata": {},
   "source": [
    "### Creating and Concating Pandas dataframes"
   ]
  },
  {
   "cell_type": "code",
   "execution_count": 26,
   "metadata": {},
   "outputs": [],
   "source": [
    "import pandas as pd"
   ]
  },
  {
   "cell_type": "code",
   "execution_count": 53,
   "metadata": {},
   "outputs": [],
   "source": [
    "data1 = [3,2,3]\n",
    "data2 = [4,2,3]"
   ]
  },
  {
   "cell_type": "code",
   "execution_count": 54,
   "metadata": {},
   "outputs": [
    {
     "data": {
      "text/html": [
       "<div>\n",
       "<style scoped>\n",
       "    .dataframe tbody tr th:only-of-type {\n",
       "        vertical-align: middle;\n",
       "    }\n",
       "\n",
       "    .dataframe tbody tr th {\n",
       "        vertical-align: top;\n",
       "    }\n",
       "\n",
       "    .dataframe thead th {\n",
       "        text-align: right;\n",
       "    }\n",
       "</style>\n",
       "<table border=\"1\" class=\"dataframe\">\n",
       "  <thead>\n",
       "    <tr style=\"text-align: right;\">\n",
       "      <th></th>\n",
       "      <th>0</th>\n",
       "      <th>1</th>\n",
       "      <th>2</th>\n",
       "    </tr>\n",
       "  </thead>\n",
       "  <tbody>\n",
       "    <tr>\n",
       "      <th>0</th>\n",
       "      <td>4</td>\n",
       "      <td>2</td>\n",
       "      <td>3</td>\n",
       "    </tr>\n",
       "  </tbody>\n",
       "</table>\n",
       "</div>"
      ],
      "text/plain": [
       "   0  1  2\n",
       "0  4  2  3"
      ]
     },
     "execution_count": 54,
     "metadata": {},
     "output_type": "execute_result"
    }
   ],
   "source": [
    "## Each timestep create a new row\n",
    "df1 = pd.DataFrame([data1])\n",
    "df2 = pd.DataFrame([data2])\n",
    "df2"
   ]
  },
  {
   "cell_type": "code",
   "execution_count": 55,
   "metadata": {},
   "outputs": [
    {
     "data": {
      "text/html": [
       "<div>\n",
       "<style scoped>\n",
       "    .dataframe tbody tr th:only-of-type {\n",
       "        vertical-align: middle;\n",
       "    }\n",
       "\n",
       "    .dataframe tbody tr th {\n",
       "        vertical-align: top;\n",
       "    }\n",
       "\n",
       "    .dataframe thead th {\n",
       "        text-align: right;\n",
       "    }\n",
       "</style>\n",
       "<table border=\"1\" class=\"dataframe\">\n",
       "  <thead>\n",
       "    <tr style=\"text-align: right;\">\n",
       "      <th></th>\n",
       "      <th>0</th>\n",
       "      <th>1</th>\n",
       "      <th>2</th>\n",
       "    </tr>\n",
       "  </thead>\n",
       "  <tbody>\n",
       "    <tr>\n",
       "      <th>0</th>\n",
       "      <td>3</td>\n",
       "      <td>2</td>\n",
       "      <td>3</td>\n",
       "    </tr>\n",
       "    <tr>\n",
       "      <th>0</th>\n",
       "      <td>4</td>\n",
       "      <td>2</td>\n",
       "      <td>3</td>\n",
       "    </tr>\n",
       "  </tbody>\n",
       "</table>\n",
       "</div>"
      ],
      "text/plain": [
       "   0  1  2\n",
       "0  3  2  3\n",
       "0  4  2  3"
      ]
     },
     "execution_count": 55,
     "metadata": {},
     "output_type": "execute_result"
    }
   ],
   "source": [
    "df = pd.concat([df1, df2])\n",
    "df"
   ]
  },
  {
   "cell_type": "code",
   "execution_count": 56,
   "metadata": {},
   "outputs": [
    {
     "data": {
      "text/html": [
       "<div>\n",
       "<style scoped>\n",
       "    .dataframe tbody tr th:only-of-type {\n",
       "        vertical-align: middle;\n",
       "    }\n",
       "\n",
       "    .dataframe tbody tr th {\n",
       "        vertical-align: top;\n",
       "    }\n",
       "\n",
       "    .dataframe thead th {\n",
       "        text-align: right;\n",
       "    }\n",
       "</style>\n",
       "<table border=\"1\" class=\"dataframe\">\n",
       "  <thead>\n",
       "    <tr style=\"text-align: right;\">\n",
       "      <th></th>\n",
       "      <th>a</th>\n",
       "      <th>b</th>\n",
       "      <th>c</th>\n",
       "    </tr>\n",
       "  </thead>\n",
       "  <tbody>\n",
       "    <tr>\n",
       "      <th>0</th>\n",
       "      <td>3</td>\n",
       "      <td>2</td>\n",
       "      <td>3</td>\n",
       "    </tr>\n",
       "    <tr>\n",
       "      <th>0</th>\n",
       "      <td>4</td>\n",
       "      <td>2</td>\n",
       "      <td>3</td>\n",
       "    </tr>\n",
       "  </tbody>\n",
       "</table>\n",
       "</div>"
      ],
      "text/plain": [
       "   a  b  c\n",
       "0  3  2  3\n",
       "0  4  2  3"
      ]
     },
     "execution_count": 56,
     "metadata": {},
     "output_type": "execute_result"
    }
   ],
   "source": [
    "df.columns = ['a','b','c']\n",
    "df"
   ]
  },
  {
   "cell_type": "code",
   "execution_count": null,
   "metadata": {},
   "outputs": [],
   "source": []
  }
 ],
 "metadata": {
  "kernelspec": {
   "display_name": "Python 3",
   "language": "python",
   "name": "python3"
  },
  "language_info": {
   "codemirror_mode": {
    "name": "ipython",
    "version": 3
   },
   "file_extension": ".py",
   "mimetype": "text/x-python",
   "name": "python",
   "nbconvert_exporter": "python",
   "pygments_lexer": "ipython3",
   "version": "3.7.3"
  }
 },
 "nbformat": 4,
 "nbformat_minor": 4
}
