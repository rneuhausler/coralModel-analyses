{
 "cells": [
  {
   "cell_type": "code",
   "execution_count": 13,
   "metadata": {},
   "outputs": [],
   "source": [
    "import os\n",
    "import numpy as np\n",
    "import pandas as pd\n",
    "import seaborn as sns\n",
    "import tools as tl\n",
    "import matplotlib.pyplot as plt\n",
    "import matplo0tlib.colors as clt\n",
    "import matplotlib.animation as animation\n",
    "import re\n",
    "\n",
    "sns.set_style(\"ticks\")\n",
    "\n",
    "colors =['#b75c83', '#9cd8a8','#2f9090']\n",
    "success_palette = sns.set_palette(sns.color_palette(colors))\n",
    "\n",
    "path = './figures/paper/5_grazing_bifurcation/'\n",
    "extension = '.png'\n",
    "\n",
    "top_directory = \"./output/\" #os.getcwd()\n",
    "files, runs = tl.view_runs(top_directory)"
   ]
  },
  {
   "cell_type": "markdown",
   "metadata": {},
   "source": [
    "### Grazing = .51"
   ]
  },
  {
   "cell_type": "code",
   "execution_count": 10,
   "metadata": {},
   "outputs": [
    {
     "data": {
      "text/html": [
       "<div>\n",
       "<style scoped>\n",
       "    .dataframe tbody tr th:only-of-type {\n",
       "        vertical-align: middle;\n",
       "    }\n",
       "\n",
       "    .dataframe tbody tr th {\n",
       "        vertical-align: top;\n",
       "    }\n",
       "\n",
       "    .dataframe thead th {\n",
       "        text-align: right;\n",
       "    }\n",
       "</style>\n",
       "<table border=\"1\" class=\"dataframe\">\n",
       "  <thead>\n",
       "    <tr style=\"text-align: right;\">\n",
       "      <th></th>\n",
       "      <th>number_of_rows</th>\n",
       "      <th>number_of_columns</th>\n",
       "      <th>grid_option</th>\n",
       "      <th>grazing</th>\n",
       "      <th>neighborhood_threshold</th>\n",
       "      <th>initial_coral_percent</th>\n",
       "      <th>initial_macroalgae_percent</th>\n",
       "      <th>r</th>\n",
       "      <th>d</th>\n",
       "      <th>a</th>\n",
       "      <th>y</th>\n",
       "      <th>number_of_timesteps</th>\n",
       "      <th>record_rate</th>\n",
       "      <th>number_of_simulations</th>\n",
       "      <th>file</th>\n",
       "    </tr>\n",
       "  </thead>\n",
       "  <tbody>\n",
       "    <tr>\n",
       "      <th>5</th>\n",
       "      <td>25</td>\n",
       "      <td>25</td>\n",
       "      <td>0</td>\n",
       "      <td>51</td>\n",
       "      <td>145</td>\n",
       "      <td>33</td>\n",
       "      <td>33</td>\n",
       "      <td>10</td>\n",
       "      <td>40</td>\n",
       "      <td>20</td>\n",
       "      <td>75</td>\n",
       "      <td>3000</td>\n",
       "      <td>10</td>\n",
       "      <td>100</td>\n",
       "      <td>5</td>\n",
       "    </tr>\n",
       "  </tbody>\n",
       "</table>\n",
       "</div>"
      ],
      "text/plain": [
       "   number_of_rows  number_of_columns  grid_option  grazing  \\\n",
       "5              25                 25            0       51   \n",
       "\n",
       "   neighborhood_threshold  initial_coral_percent  initial_macroalgae_percent  \\\n",
       "5                     145                     33                          33   \n",
       "\n",
       "    r   d   a   y  number_of_timesteps  record_rate  number_of_simulations  \\\n",
       "5  10  40  20  75                 3000           10                    100   \n",
       "\n",
       "   file  \n",
       "5     5  "
      ]
     },
     "execution_count": 10,
     "metadata": {},
     "output_type": "execute_result"
    }
   ],
   "source": [
    "grazing = 51\n",
    "subset = runs[(runs['neighborhood_threshold']==145)&\n",
    "              (runs['number_of_timesteps']==3000)&\n",
    "              (runs['number_of_rows']==25)&\n",
    "              (runs['grazing']==grazing)&\n",
    "              (runs['grid_option']==0)&\n",
    "              (runs['initial_coral_percent']==33)]\n",
    "subset"
   ]
  },
  {
   "cell_type": "code",
   "execution_count": 11,
   "metadata": {},
   "outputs": [],
   "source": [
    "df = tl.load_runs(files, subset)\n",
    "df = tl.split_neighbors(df)\n",
    "df = tl.add_percent(df)"
   ]
  },
  {
   "cell_type": "code",
   "execution_count": 12,
   "metadata": {},
   "outputs": [
    {
     "data": {
      "image/png": "[encoded data removed]",
      "text/plain": [
       "<Figure size 216x180 with 1 Axes>"
      ]
     },
     "metadata": {
      "needs_background": "light"
     },
     "output_type": "display_data"
    }
   ],
   "source": [
    "timestep = 1000\n",
    "name='Hist_species_histogram_grazing_' + str(grazing) + '_timestep_' + str(timestep)\n",
    "\n",
    "coral = df[(df['timestep']==timestep)&(df['coral_percent']!=0)]['coral_percent']\n",
    "turf = df[(df['timestep']==timestep)&(df['turf_percent']!=0)]['turf_percent']\n",
    "macroalgae = df[(df['timestep']==timestep)&(df['macroalgae_percent']!=0)]['macroalgae_percent']\n",
    "\n",
    "weights_coral = np.ones_like(np.array(coral))/float(len(np.array(coral)))\n",
    "weights_turf = np.ones_like(np.array(turf))/float(len(np.array(turf)))\n",
    "weights_macroalgae = np.ones_like(np.array(macroalgae))/float(len(np.array(macroalgae)))\n",
    "\n",
    "\n",
    "plt.figure(figsize=(3,2.5))\n",
    "plt.hist(coral, color='#b75c83',edgecolor='#b75c83',weights=weights_coral, label=\"Coral\", alpha=.7, bins=10)\n",
    "plt.hist(turf, color='#9cd8a8',edgecolor='#9cd8a8',weights=weights_turf, label=\"Turf\", alpha=.7, bins=3)\n",
    "plt.hist(macroalgae, color='#2f9090',edgecolor='#2f9090', weights=weights_macroalgae, label=\"Macroalgae\", alpha=.7, bins=10)\n",
    "\n",
    "\n",
    "#plt.xlabel(\"Coral Percent\", size=14)\n",
    "#plt.ylabel(\"Count\", size=14)\n",
    "\n",
    "plt.title(\"Grazing = .\" + str(grazing) + ' Timestep = ' + str(timestep))\n",
    "plt.axis((0,80,0,.3))\n",
    "plt.legend(loc='upper right')\n",
    "plt.savefig(path + name + extension, dpi=200, bbox_inches = \"tight\")"
   ]
  },
  {
   "cell_type": "markdown",
   "metadata": {},
   "source": [
    "### Grazing = .54"
   ]
  },
  {
   "cell_type": "code",
   "execution_count": 5,
   "metadata": {},
   "outputs": [
    {
     "data": {
      "text/html": [
       "<div>\n",
       "<style scoped>\n",
       "    .dataframe tbody tr th:only-of-type {\n",
       "        vertical-align: middle;\n",
       "    }\n",
       "\n",
       "    .dataframe tbody tr th {\n",
       "        vertical-align: top;\n",
       "    }\n",
       "\n",
       "    .dataframe thead th {\n",
       "        text-align: right;\n",
       "    }\n",
       "</style>\n",
       "<table border=\"1\" class=\"dataframe\">\n",
       "  <thead>\n",
       "    <tr style=\"text-align: right;\">\n",
       "      <th></th>\n",
       "      <th>number_of_rows</th>\n",
       "      <th>number_of_columns</th>\n",
       "      <th>grid_option</th>\n",
       "      <th>grazing</th>\n",
       "      <th>neighborhood_threshold</th>\n",
       "      <th>initial_coral_percent</th>\n",
       "      <th>initial_macroalgae_percent</th>\n",
       "      <th>r</th>\n",
       "      <th>d</th>\n",
       "      <th>a</th>\n",
       "      <th>y</th>\n",
       "      <th>number_of_timesteps</th>\n",
       "      <th>record_rate</th>\n",
       "      <th>number_of_simulations</th>\n",
       "      <th>file</th>\n",
       "    </tr>\n",
       "  </thead>\n",
       "  <tbody>\n",
       "    <tr>\n",
       "      <th>13</th>\n",
       "      <td>25</td>\n",
       "      <td>25</td>\n",
       "      <td>0</td>\n",
       "      <td>54</td>\n",
       "      <td>145</td>\n",
       "      <td>33</td>\n",
       "      <td>33</td>\n",
       "      <td>10</td>\n",
       "      <td>40</td>\n",
       "      <td>20</td>\n",
       "      <td>75</td>\n",
       "      <td>3000</td>\n",
       "      <td>10</td>\n",
       "      <td>100</td>\n",
       "      <td>13</td>\n",
       "    </tr>\n",
       "  </tbody>\n",
       "</table>\n",
       "</div>"
      ],
      "text/plain": [
       "    number_of_rows  number_of_columns  grid_option  grazing  \\\n",
       "13              25                 25            0       54   \n",
       "\n",
       "    neighborhood_threshold  initial_coral_percent  initial_macroalgae_percent  \\\n",
       "13                     145                     33                          33   \n",
       "\n",
       "     r   d   a   y  number_of_timesteps  record_rate  number_of_simulations  \\\n",
       "13  10  40  20  75                 3000           10                    100   \n",
       "\n",
       "    file  \n",
       "13    13  "
      ]
     },
     "execution_count": 5,
     "metadata": {},
     "output_type": "execute_result"
    }
   ],
   "source": [
    "grazing = 54\n",
    "subset = runs[(runs['neighborhood_threshold']==145)&\n",
    "              (runs['number_of_timesteps']==3000)&\n",
    "              (runs['number_of_rows']==25)&\n",
    "              (runs['grazing']==grazing)&\n",
    "              (runs['grid_option']==0)&\n",
    "              (runs['initial_coral_percent']==33)]\n",
    "subset"
   ]
  },
  {
   "cell_type": "code",
   "execution_count": 6,
   "metadata": {},
   "outputs": [
    {
     "data": {
      "image/png": "[encoded data removed]",
      "text/plain": [
       "<Figure size 216x180 with 1 Axes>"
      ]
     },
     "metadata": {
      "needs_background": "light"
     },
     "output_type": "display_data"
    }
   ],
   "source": [
    "df = tl.load_runs(files, subset)\n",
    "df = tl.split_neighbors(df)\n",
    "df = tl.add_percent(df)\n",
    "\n",
    "timestep = 1000\n",
    "name='Hist_species_histogram_grazing_' + str(grazing) + '_timestep_' + str(timestep)\n",
    "\n",
    "coral = df[(df['timestep']==timestep)&(df['coral_percent']!=0)]['coral_percent']\n",
    "turf = df[(df['timestep']==timestep)&(df['turf_percent']!=0)]['turf_percent']\n",
    "macroalgae = df[(df['timestep']==timestep)&(df['macroalgae_percent']!=0)]['macroalgae_percent']\n",
    "\n",
    "weights_coral = np.ones_like(np.array(coral))/float(len(np.array(coral)))\n",
    "weights_turf = np.ones_like(np.array(turf))/float(len(np.array(turf)))\n",
    "weights_macroalgae = np.ones_like(np.array(macroalgae))/float(len(np.array(macroalgae)))\n",
    "\n",
    "\n",
    "plt.figure(figsize=(3,2.5))\n",
    "plt.hist(coral, color='#b75c83',edgecolor='#b75c83',weights=weights_coral, label=\"Coral\", alpha=.7, bins=10)\n",
    "plt.hist(turf, color='#9cd8a8',edgecolor='#9cd8a8',weights=weights_turf, label=\"Turf\", alpha=.7, bins=3)\n",
    "plt.hist(macroalgae, color='#2f9090',edgecolor='#2f9090', weights=weights_macroalgae, label=\"Macroalgae\", alpha=.7, bins=10)\n",
    "\n",
    "\n",
    "#plt.xlabel(\"Coral Percent\", size=14)\n",
    "#plt.ylabel(\"Count\", size=14)\n",
    "\n",
    "plt.title(\"Grazing = .\" + str(grazing) + ' Timestep = ' + str(timestep))\n",
    "plt.axis((0,80,0,.3))\n",
    "plt.legend(loc='upper right')\n",
    "plt.savefig(path + name + extension, dpi=200, bbox_inches = \"tight\")"
   ]
  },
  {
   "cell_type": "markdown",
   "metadata": {},
   "source": [
    "----\n",
    "### With KDE\n",
    "___"
   ]
  },
  {
   "cell_type": "code",
   "execution_count": 84,
   "metadata": {},
   "outputs": [
    {
     "data": {
      "image/png": "[encoded data removed]",
      "text/plain": [
       "<Figure size 216x180 with 1 Axes>"
      ]
     },
     "metadata": {},
     "output_type": "display_data"
    }
   ],
   "source": [
    "timestep = 100\n",
    "\n",
    "name='species_histogram_grazing_' + str(grazing) + '_timestep_' + str(timestep)\n",
    "\n",
    "coral = df[(df['timestep']==timestep)&(df['coral_percent']!=0)]['coral_percent']\n",
    "turf = df[(df['timestep']==timestep)&(df['turf_percent']!=0)]['turf_percent']\n",
    "macroalgae = df[(df['timestep']==timestep)&(df['macroalgae_percent']!=0)]['macroalgae_percent']\n",
    "\n",
    "kwargs = dict(hist_kws={'alpha':.6}, kde_kws={'linewidth':2})\n",
    "\n",
    "plt.figure(figsize=(3,2.5))\n",
    "\n",
    "sns.distplot(coral, color='#b75c83', label=\"Coral\", **kwargs)\n",
    "sns.distplot(turf, color='#9cd8a8', label=\"Turf\", **kwargs)\n",
    "sns.distplot(macroalgae, color='#2f9090', label=\"Macroalgae\", **kwargs)\n",
    "\n",
    "\n",
    "plt.title(\"Grazing = .\" + str(grazing) + ' Timestep = ' + str(timestep))\n",
    "plt.legend(loc='upper right')\n",
    "plt.savefig(path + name + extension, dpi=200, bbox_inches = \"tight\")"
   ]
  },
  {
   "cell_type": "code",
   "execution_count": 14,
   "metadata": {},
   "outputs": [
    {
     "data": {
      "text/plain": [
       "'.54'"
      ]
     },
     "execution_count": 14,
     "metadata": {},
     "output_type": "execute_result"
    }
   ],
   "source": [
    "'.54'"
   ]
  },
  {
   "cell_type": "code",
   "execution_count": 15,
   "metadata": {},
   "outputs": [],
   "source": [
    "x='.54'"
   ]
  },
  {
   "cell_type": "code",
   "execution_count": 16,
   "metadata": {},
   "outputs": [
    {
     "data": {
      "text/plain": [
       "'.54'"
      ]
     },
     "execution_count": 16,
     "metadata": {},
     "output_type": "execute_result"
    }
   ],
   "source": [
    "x"
   ]
  },
  {
   "cell_type": "code",
   "execution_count": 19,
   "metadata": {},
   "outputs": [
    {
     "data": {
      "text/plain": [
       "'54'"
      ]
     },
     "execution_count": 19,
     "metadata": {},
     "output_type": "execute_result"
    }
   ],
   "source": [
    "x.replace('.', '')"
   ]
  },
  {
   "cell_type": "code",
   "execution_count": null,
   "metadata": {},
   "outputs": [],
   "source": []
  }
 ],
 "metadata": {
  "kernelspec": {
   "display_name": "Python 3",
   "language": "python",
   "name": "python3"
  },
  "language_info": {
   "codemirror_mode": {
    "name": "ipython",
    "version": 3
   },
   "file_extension": ".py",
   "mimetype": "text/x-python",
   "name": "python",
   "nbconvert_exporter": "python",
   "pygments_lexer": "ipython3",
   "version": "3.7.3"
  }
 },
 "nbformat": 4,
 "nbformat_minor": 4
}
