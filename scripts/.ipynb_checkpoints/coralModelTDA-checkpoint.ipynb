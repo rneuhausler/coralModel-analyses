{
 "cells": [
  {
   "cell_type": "code",
   "execution_count": 1,
   "metadata": {},
   "outputs": [],
   "source": [
    "from coralModel import Reef\n",
    "from coralModel import Organism\n",
    "import numpy as np\n",
    "import matplotlib.pyplot as plt\n",
    "import matplotlib.colors as clt\n",
    "import tools as tl\n",
    "\n",
    "from mpl_toolkits.axes_grid1.inset_locator import InsetPosition"
   ]
  },
  {
   "cell_type": "code",
   "execution_count": 2,
   "metadata": {},
   "outputs": [],
   "source": [
    "def finer(array, scale=3, rows=10, columns=10):\n",
    "    columnCenter = 0\n",
    "    rowCenter = 0\n",
    "    columnCount = 0\n",
    "    rowCount = 0\n",
    "\n",
    "    fine = np.zeros((rows*scale,columns*scale))\n",
    "\n",
    "    for r in range(0,rows*scale):\n",
    "        for c in range(0,columns*scale):\n",
    "            \n",
    "            fine[r,c] = array[rowCenter, columnCenter]\n",
    "            \n",
    "            columnCount += 1\n",
    "            if columnCount == scale:\n",
    "                columnCenter += 1\n",
    "                columnCount = 0\n",
    "        rowCount += 1\n",
    "        if rowCount == scale:\n",
    "            rowCenter += 1\n",
    "            rowCount = 0\n",
    "        columnCenter = 0\n",
    "        \n",
    "    return(fine)\n",
    "\n",
    "def initialFinal(data1, data2, title1=\"initial\", title2=\"final\"):\n",
    "    fig, (ax, ax2, cax) = plt.subplots(1,3,        #subplot 3 to include color bar\n",
    "     gridspec_kw={'width_ratios':[1,1, 0.05]})     #creates space allocated to each subplot\n",
    "    fig.subplots_adjust(wspace=0.3)                #space btw subplots\n",
    "\n",
    "    colors = ['pink', 'lightgreen','darkgreen']\n",
    "    levels = [0, 1, 2]\n",
    "\n",
    "    cmap, norm = clt.from_levels_and_colors(levels=levels, colors=colors, extend='max')\n",
    "\n",
    "    im = ax.imshow(data1, cmap=cmap,norm=norm)\n",
    "    im2 = ax2.imshow(data2,cmap=cmap,norm=norm)\n",
    "\n",
    "    ip = InsetPosition(ax2, [1.05,0,0.05,1]) \n",
    "    cax.set_axes_locator(ip)\n",
    "\n",
    "    fig.colorbar(im, cax=cax, ax=[ax,ax2])\n",
    "\n",
    "    ax.set_title(title1)\n",
    "    ax2.set_title(title2)\n",
    "    plt.show()\n",
    "\n",
    "def averageHists(x, coralCount, turfCount, algaeCount, ylabel):\n",
    "    fig, (ax, ax2, ax3) = plt.subplots(1,3, facecolor = 'w', sharey='row')\n",
    "    im = ax.bar(x, coralCount.mean(axis=1), color='pink')\n",
    "    im2 = ax2.bar(x, turfCount.mean(axis=1), color='lightgreen')\n",
    "    im2 = ax3.bar(x, algaeCount.mean(axis=1), color='darkgreen')\n",
    "    ax.set_ylabel(ylabel)\n",
    "    ax.set_xlabel(\"Time\")\n",
    "    ax2.set_xlabel(\"Time\")\n",
    "    ax3.set_xlabel(\"Time\")\n",
    "    ax.set_facecolor('white')\n",
    "    ax2.set_facecolor('white')\n",
    "    ax3.set_facecolor('white')\n",
    "    plt.show()\n",
    "    \n",
    "def timeSeries(x, x1,x2,x3,legend1='Coral', legend2='Turf', legend3='Algae'):\n",
    "    fig1 = plt.figure()\n",
    "    x = np.arange(NumberOfRuns)\n",
    "    im = plt.plot(x, coralCount[:,1], color='pink')\n",
    "    im2 = plt.plot(x, turfCount[:,1], color='lightgreen')\n",
    "    im2 = plt.plot(x, algaeCount[:,1], color='darkgreen')\n",
    "    plt.legend(['Coral', 'Turf', 'Algae'], loc='upper left', fontsize = 'medium')\n",
    "    plt.ylabel(\"Percent\")\n",
    "    plt.xlabel(\"Time\")\n",
    "    plt.show()\n",
    "\n"
   ]
  },
  {
   "cell_type": "code",
   "execution_count": 3,
   "metadata": {},
   "outputs": [],
   "source": [
    "#Set Parameters\n",
    "coralPercent = .4\n",
    "algaePercent = .3\n",
    "turfPercent = 1 - coralPercent - algaePercent\n",
    "r=1.0\n",
    "d=.4\n",
    "a=.2\n",
    "g=.8\n",
    "y=.75\n",
    "dt=.01\n",
    "tf=10\n",
    "NumberOfRuns = int(tf/dt)\n",
    "NumberOfSimulations = 2\n",
    "rows = 20\n",
    "columns = 20\n",
    "\n",
    "NumberOfNodes = rows * columns\n",
    "coralCount = np.zeros((NumberOfRuns, NumberOfSimulations))\n",
    "turfCount = np.zeros((NumberOfRuns, NumberOfSimulations))\n",
    "algaeCount = np.zeros((NumberOfRuns, NumberOfSimulations))\n",
    "types = np.zeros((NumberOfRuns, NumberOfNodes, NumberOfSimulations))"
   ]
  },
  {
   "cell_type": "code",
   "execution_count": 4,
   "metadata": {},
   "outputs": [
    {
     "data": {
      "text/plain": [
       "1000"
      ]
     },
     "execution_count": 4,
     "metadata": {},
     "output_type": "execute_result"
    }
   ],
   "source": [
    "int(tf/dt)"
   ]
  },
  {
   "cell_type": "code",
   "execution_count": 5,
   "metadata": {},
   "outputs": [],
   "source": [
    "#Generate square 8x8 reef with randomly assigned types\n",
    "#0 = Coral, 1 = Turf, 2 = Algae\n",
    "Moorea = Reef()\n",
    "count = 0\n",
    "for i in range(0,rows):\n",
    "    for j in range(0, columns):\n",
    "        U = np.random.choice([0,1,2],\n",
    "                             p=[coralPercent, turfPercent, algaePercent])\n",
    "        node = Organism(type=U, location=[i,j], ID=count)\n",
    "        Moorea.append(node)\n",
    "        count = count + 1\n",
    "Moorea.generateGraph()\n"
   ]
  },
  {
   "cell_type": "code",
   "execution_count": 6,
   "metadata": {},
   "outputs": [],
   "source": [
    "#Run model \n",
    "for s in range(0,NumberOfSimulations):    \n",
    "    for n in range(0,NumberOfRuns):\n",
    "        for i,val in enumerate(Moorea.nodes):\n",
    "            types[n,i,s] = Moorea.nodes[i].type\n",
    "        coralCount[n,s] = np.count_nonzero(types[n,:,s] == 0)\n",
    "        turfCount[n,s] = np.count_nonzero(types[n,:,s] == 1)\n",
    "        algaeCount[n,s] = np.count_nonzero(types[n,:,s] == 2)\n",
    "        Moorea.roll(r=r, d=d, a=a, g=g, y=y, dt=dt)"
   ]
  },
  {
   "cell_type": "code",
   "execution_count": 7,
   "metadata": {},
   "outputs": [
    {
     "data": {
      "image/png": "[encoded data removed]",
      "text/plain": [
       "<matplotlib.figure.Figure at 0x11513acf8>"
      ]
     },
     "metadata": {},
     "output_type": "display_data"
    }
   ],
   "source": [
    "#Plotting inital and last spatial distribution of model runs\n",
    "data1 = np.reshape(types[0,:,0], (-1, rows))\n",
    "data2 = np.reshape(types[NumberOfRuns-1,:,0], (-1, rows))\n",
    "initialFinal(data1=data1, data2=data2)                   "
   ]
  },
  {
   "cell_type": "code",
   "execution_count": 8,
   "metadata": {},
   "outputs": [
    {
     "data": {
      "image/png": "[encoded data removed]",
      "text/plain": [
       "<matplotlib.figure.Figure at 0x11513a940>"
      ]
     },
     "metadata": {},
     "output_type": "display_data"
    }
   ],
   "source": [
    "#Plotting histograms\n",
    "x = np.arange(NumberOfRuns)\n",
    "ylabel = \"Average Count over 100 Simulations\"\n",
    "averageHists(x, coralCount, turfCount, algaeCount, ylabel) "
   ]
  },
  {
   "cell_type": "code",
   "execution_count": 9,
   "metadata": {},
   "outputs": [
    {
     "data": {
      "image/png": "[encoded data removed]",
      "text/plain": [
       "<matplotlib.figure.Figure at 0x117a6a160>"
      ]
     },
     "metadata": {},
     "output_type": "display_data"
    }
   ],
   "source": [
    "#Plotting progression over time for 1 simulation\n",
    "x1=coralCount[:,1]\n",
    "x2=turfCount[:,1]\n",
    "x3=algaeCount[:,1]\n",
    "timeSeries(x, x1,x2,x3)"
   ]
  },
  {
   "cell_type": "markdown",
   "metadata": {},
   "source": [
    "# Begin TDA"
   ]
  },
  {
   "cell_type": "markdown",
   "metadata": {},
   "source": [
    "#### Steps\n",
    "* Set values to 1 = Coral, 0 = Other\n",
    "* create a finer grid\n",
    "* use gaussians at each node to create variation based on overlap\n",
    "* Do TDA on output \n"
   ]
  },
  {
   "cell_type": "markdown",
   "metadata": {},
   "source": [
    "Proximity of Patches less relevant? looking at neighbour relations, not global"
   ]
  },
  {
   "cell_type": "code",
   "execution_count": 10,
   "metadata": {},
   "outputs": [
    {
     "data": {
      "text/plain": [
       "(1000, 400, 2)"
      ]
     },
     "execution_count": 10,
     "metadata": {},
     "output_type": "execute_result"
    }
   ],
   "source": [
    "types.shape"
   ]
  },
  {
   "cell_type": "code",
   "execution_count": 11,
   "metadata": {},
   "outputs": [],
   "source": [
    "def binaryizer(df):\n",
    "    df[df>0] = 3\n",
    "    df[df == 0] = 1\n",
    "    df[df == 3] = 0\n",
    "    return(df)\n",
    "    \n",
    "def shaper(df, rows):\n",
    "    df = np.reshape(df, (-1, rows))\n",
    "    return(df)\n",
    "\n",
    "def finer(df, rows=10, columns=10, scale=3):\n",
    "    columnCenter, rowCenter = 0, 0\n",
    "    columnCount, rowCount = 0, 0\n",
    "    fine = np.zeros((rows*scale,columns*scale))\n",
    "    for r in range(0,rows*scale):\n",
    "        for c in range(0,columns*scale):            \n",
    "            fine[r,c] = df[rowCenter, columnCenter]           \n",
    "            columnCount += 1\n",
    "            if columnCount == scale:\n",
    "                columnCenter += 1\n",
    "                columnCount = 0\n",
    "        rowCount += 1\n",
    "        if rowCount == scale:\n",
    "            rowCenter += 1\n",
    "            rowCount = 0\n",
    "        columnCenter = 0 \n",
    "    return(fine)\n",
    "\n",
    "def tda_prep(df, columns, rows, fineness, refined_grid = True):\n",
    "    df = binaryizer(df)\n",
    "    df = shaper(df,rows)\n",
    "    if refined_grid == True:\n",
    "        df = finer(df, rows, columns, scale = fineness)\n",
    "    return(df)"
   ]
  },
  {
   "cell_type": "code",
   "execution_count": 19,
   "metadata": {},
   "outputs": [],
   "source": [
    "#saved = types\n",
    "test1 = types[1,:,1]\n",
    "test2 = types[NumberOfRuns-1,:,0]"
   ]
  },
  {
   "cell_type": "code",
   "execution_count": 22,
   "metadata": {},
   "outputs": [
    {
     "data": {
      "text/plain": [
       "array([1., 0., 1., 1., 0., 0., 1., 0., 0., 1., 1., 0., 0., 1., 1., 0., 1.,\n",
       "       1., 1., 0., 0., 0., 1., 1., 1., 1., 0., 0., 1., 0., 0., 1., 0., 1.,\n",
       "       1., 1., 1., 0., 1., 1., 1., 1., 0., 0., 0., 1., 0., 0., 0., 1., 1.,\n",
       "       0., 0., 0., 0., 1., 0., 0., 0., 0., 0., 1., 1., 1., 1., 0., 1., 0.,\n",
       "       1., 1., 1., 0., 0., 0., 0., 0., 1., 1., 1., 0., 0., 1., 1., 1., 1.,\n",
       "       1., 1., 0., 0., 0., 1., 0., 0., 0., 1., 1., 1., 0., 0., 1., 0., 1.,\n",
       "       1., 0., 0., 1., 1., 0., 1., 1., 0., 0., 0., 0., 0., 0., 0., 0., 0.,\n",
       "       1., 0., 1., 1., 0., 1., 0., 0., 0., 0., 0., 1., 1., 0., 0., 1., 0.,\n",
       "       0., 1., 1., 0., 1., 0., 1., 1., 0., 0., 0., 0., 1., 1., 0., 0., 1.,\n",
       "       0., 1., 1., 1., 1., 0., 1., 0., 0., 0., 1., 1., 1., 0., 1., 0., 0.,\n",
       "       0., 1., 0., 0., 0., 1., 1., 0., 0., 1., 0., 1., 1., 1., 0., 1., 0.,\n",
       "       0., 1., 1., 0., 0., 0., 1., 0., 1., 0., 0., 0., 1., 0., 0., 1., 1.,\n",
       "       1., 0., 0., 0., 0., 0., 0., 0., 0., 1., 1., 1., 1., 0., 0., 1., 1.,\n",
       "       1., 1., 0., 0., 1., 0., 0., 1., 0., 1., 0., 0., 0., 0., 0., 0., 1.,\n",
       "       0., 1., 0., 1., 1., 1., 0., 1., 1., 0., 1., 1., 0., 0., 0., 0., 1.,\n",
       "       1., 0., 0., 1., 1., 1., 1., 0., 1., 1., 0., 0., 1., 0., 1., 0., 0.,\n",
       "       1., 0., 1., 1., 1., 1., 0., 1., 0., 1., 0., 0., 1., 0., 0., 1., 0.,\n",
       "       0., 0., 0., 0., 0., 0., 0., 0., 1., 0., 0., 0., 1., 0., 0., 0., 0.,\n",
       "       0., 0., 0., 1., 0., 0., 0., 1., 0., 1., 0., 0., 1., 1., 1., 0., 0.,\n",
       "       1., 1., 1., 1., 1., 0., 0., 0., 0., 1., 0., 1., 1., 1., 0., 0., 1.,\n",
       "       0., 0., 1., 1., 1., 1., 1., 0., 1., 1., 1., 1., 1., 0., 1., 0., 0.,\n",
       "       0., 1., 0., 0., 1., 0., 1., 1., 0., 1., 0., 1., 0., 0., 1., 0., 1.,\n",
       "       0., 0., 0., 0., 0., 1., 1., 1., 0., 1., 0., 1., 0., 0., 0., 1., 0.,\n",
       "       0., 0., 0., 0., 1., 0., 0., 0., 0.])"
      ]
     },
     "execution_count": 22,
     "metadata": {},
     "output_type": "execute_result"
    }
   ],
   "source": [
    "test1"
   ]
  },
  {
   "cell_type": "code",
   "execution_count": 21,
   "metadata": {},
   "outputs": [
    {
     "data": {
      "text/plain": [
       "array([[1., 1., 0., ..., 1., 0., 0.],\n",
       "       [1., 1., 0., ..., 1., 0., 0.],\n",
       "       [0., 0., 0., ..., 1., 1., 1.],\n",
       "       ...,\n",
       "       [0., 0., 1., ..., 0., 1., 1.],\n",
       "       [1., 1., 1., ..., 0., 0., 0.],\n",
       "       [1., 1., 1., ..., 0., 0., 0.]])"
      ]
     },
     "execution_count": 21,
     "metadata": {},
     "output_type": "execute_result"
    }
   ],
   "source": [
    "tda_prep(types[1,:,1], columns, rows, 2, True)"
   ]
  },
  {
   "cell_type": "code",
   "execution_count": 132,
   "metadata": {},
   "outputs": [
    {
     "data": {
      "text/plain": [
       "20"
      ]
     },
     "execution_count": 132,
     "metadata": {},
     "output_type": "execute_result"
    }
   ],
   "source": [
    "data1.shape[1]"
   ]
  },
  {
   "cell_type": "code",
   "execution_count": 104,
   "metadata": {},
   "outputs": [
    {
     "data": {
      "text/plain": [
       "8"
      ]
     },
     "execution_count": 104,
     "metadata": {},
     "output_type": "execute_result"
    }
   ],
   "source": [
    "data1.shape[0]"
   ]
  },
  {
   "cell_type": "code",
   "execution_count": 99,
   "metadata": {},
   "outputs": [],
   "source": [
    "from ripser import lower_star_img\n",
    "from persim import plot_diagrams"
   ]
  },
  {
   "cell_type": "code",
   "execution_count": 101,
   "metadata": {},
   "outputs": [
    {
     "ename": "IndexError",
     "evalue": "arrays used as indices must be of integer (or boolean) type",
     "output_type": "error",
     "traceback": [
      "\u001b[0;31m----------------------------------------------------------------\u001b[0m",
      "\u001b[0;31mIndexError\u001b[0m                     Traceback (most recent call last)",
      "\u001b[0;32m<ipython-input-101-139fc2219917>\u001b[0m in \u001b[0;36m<module>\u001b[0;34m()\u001b[0m\n\u001b[0;32m----> 1\u001b[0;31m \u001b[0mdmg\u001b[0m \u001b[0;34m=\u001b[0m \u001b[0mlower_star_img\u001b[0m\u001b[0;34m(\u001b[0m\u001b[0mdf2\u001b[0m\u001b[0;34m)\u001b[0m\u001b[0;34m[\u001b[0m\u001b[0mdmg\u001b[0m\u001b[0;34m]\u001b[0m\u001b[0;34m\u001b[0m\u001b[0;34m\u001b[0m\u001b[0m\n\u001b[0m",
      "\u001b[0;31mIndexError\u001b[0m: arrays used as indices must be of integer (or boolean) type"
     ]
    }
   ],
   "source": [
    "dmg = lower_star_img(df2)[dmg]"
   ]
  },
  {
   "cell_type": "code",
   "execution_count": 100,
   "metadata": {},
   "outputs": [
    {
     "ename": "NameError",
     "evalue": "name 'dgm' is not defined",
     "output_type": "error",
     "traceback": [
      "\u001b[0;31m----------------------------------------------------------------\u001b[0m",
      "\u001b[0;31mNameError\u001b[0m                      Traceback (most recent call last)",
      "\u001b[0;32m<ipython-input-100-46023ce1231e>\u001b[0m in \u001b[0;36m<module>\u001b[0;34m()\u001b[0m\n\u001b[1;32m      5\u001b[0m \u001b[0mplt\u001b[0m\u001b[0;34m.\u001b[0m\u001b[0mtitle\u001b[0m\u001b[0;34m(\u001b[0m\u001b[0;34m\"Test Image\"\u001b[0m\u001b[0;34m)\u001b[0m\u001b[0;34m\u001b[0m\u001b[0;34m\u001b[0m\u001b[0m\n\u001b[1;32m      6\u001b[0m \u001b[0mplt\u001b[0m\u001b[0;34m.\u001b[0m\u001b[0msubplot\u001b[0m\u001b[0;34m(\u001b[0m\u001b[0;36m122\u001b[0m\u001b[0;34m)\u001b[0m\u001b[0;34m\u001b[0m\u001b[0;34m\u001b[0m\u001b[0m\n\u001b[0;32m----> 7\u001b[0;31m \u001b[0mplot_diagrams\u001b[0m\u001b[0;34m(\u001b[0m\u001b[0mdgm\u001b[0m\u001b[0;34m)\u001b[0m\u001b[0;34m\u001b[0m\u001b[0;34m\u001b[0m\u001b[0m\n\u001b[0m\u001b[1;32m      8\u001b[0m \u001b[0mplt\u001b[0m\u001b[0;34m.\u001b[0m\u001b[0mtitle\u001b[0m\u001b[0;34m(\u001b[0m\u001b[0;34m\"0-D Persistence Diagram\"\u001b[0m\u001b[0;34m)\u001b[0m\u001b[0;34m\u001b[0m\u001b[0;34m\u001b[0m\u001b[0m\n\u001b[1;32m      9\u001b[0m \u001b[0mplt\u001b[0m\u001b[0;34m.\u001b[0m\u001b[0mtight_layout\u001b[0m\u001b[0;34m(\u001b[0m\u001b[0;34m)\u001b[0m\u001b[0;34m\u001b[0m\u001b[0;34m\u001b[0m\u001b[0m\n",
      "\u001b[0;31mNameError\u001b[0m: name 'dgm' is not defined"
     ]
    }
   ],
   "source": [
    "plt.figure(figsize=(10, 5))\n",
    "plt.subplot(121)\n",
    "plt.imshow(df2)\n",
    "plt.colorbar()\n",
    "plt.title(\"Test Image\")\n",
    "plt.subplot(122)\n",
    "plot_diagrams(dgm)\n",
    "plt.title(\"0-D Persistence Diagram\")\n",
    "plt.tight_layout()\n",
    "plt.show()\n",
    "\n",
    "##super level set filtration h0 fast, h1, slower. super level set.  \n",
    "#H1 = Flip"
   ]
  },
  {
   "cell_type": "code",
   "execution_count": 71,
   "metadata": {},
   "outputs": [],
   "source": [
    "binaryizer(df2)"
   ]
  },
  {
   "cell_type": "code",
   "execution_count": 72,
   "metadata": {},
   "outputs": [
    {
     "data": {
      "text/plain": [
       "array([[0., 0., 0., ..., 1., 1., 1.],\n",
       "       [0., 0., 0., ..., 1., 1., 1.],\n",
       "       [0., 0., 0., ..., 1., 1., 1.],\n",
       "       ...,\n",
       "       [1., 1., 1., ..., 1., 1., 1.],\n",
       "       [1., 1., 1., ..., 1., 1., 1.],\n",
       "       [1., 1., 1., ..., 1., 1., 1.]])"
      ]
     },
     "execution_count": 72,
     "metadata": {},
     "output_type": "execute_result"
    }
   ],
   "source": [
    "df2"
   ]
  },
  {
   "cell_type": "code",
   "execution_count": 85,
   "metadata": {},
   "outputs": [
    {
     "ename": "SyntaxError",
     "evalue": "invalid syntax (<ipython-input-85-8b12873a9c67>, line 3)",
     "output_type": "error",
     "traceback": [
      "\u001b[0;36m  File \u001b[0;32m\"<ipython-input-85-8b12873a9c67>\"\u001b[0;36m, line \u001b[0;32m3\u001b[0m\n\u001b[0;31m    output persistant diagrams:\u001b[0m\n\u001b[0m                    ^\u001b[0m\n\u001b[0;31mSyntaxError\u001b[0m\u001b[0;31m:\u001b[0m invalid syntax\n"
     ]
    }
   ],
   "source": [
    "import cv2\n",
    "\n",
    "output persistant diagrams: "
   ]
  },
  {
   "cell_type": "code",
   "execution_count": 68,
   "metadata": {},
   "outputs": [
    {
     "data": {
      "text/plain": [
       "array([[0., 0., 0., ..., 0., 0., 0.],\n",
       "       [0., 0., 0., ..., 0., 0., 0.],\n",
       "       [0., 0., 0., ..., 0., 0., 0.],\n",
       "       ...,\n",
       "       [4., 4., 4., ..., 0., 0., 0.],\n",
       "       [5., 5., 4., ..., 0., 0., 0.],\n",
       "       [6., 5., 4., ..., 0., 0., 0.]])"
      ]
     },
     "execution_count": 68,
     "metadata": {},
     "output_type": "execute_result"
    }
   ],
   "source": [
    "from scipy import ndimage\n",
    "ndimage.distance_transform_edt(df1)"
   ]
  },
  {
   "cell_type": "code",
   "execution_count": 84,
   "metadata": {},
   "outputs": [
    {
     "data": {
      "text/plain": [
       "\u001b[0;31mSignature:\u001b[0m \u001b[0mndimage\u001b[0m\u001b[0;34m.\u001b[0m\u001b[0mdistance_transform_edt\u001b[0m\u001b[0;34m(\u001b[0m\u001b[0minput\u001b[0m\u001b[0;34m,\u001b[0m \u001b[0msampling\u001b[0m\u001b[0;34m=\u001b[0m\u001b[0;32mNone\u001b[0m\u001b[0;34m,\u001b[0m \u001b[0mreturn_distances\u001b[0m\u001b[0;34m=\u001b[0m\u001b[0;32mTrue\u001b[0m\u001b[0;34m,\u001b[0m \u001b[0mreturn_indices\u001b[0m\u001b[0;34m=\u001b[0m\u001b[0;32mFalse\u001b[0m\u001b[0;34m,\u001b[0m \u001b[0mdistances\u001b[0m\u001b[0;34m=\u001b[0m\u001b[0;32mNone\u001b[0m\u001b[0;34m,\u001b[0m \u001b[0mindices\u001b[0m\u001b[0;34m=\u001b[0m\u001b[0;32mNone\u001b[0m\u001b[0;34m)\u001b[0m\u001b[0;34m\u001b[0m\u001b[0;34m\u001b[0m\u001b[0m\n",
       "\u001b[0;31mDocstring:\u001b[0m\n",
       "Exact euclidean distance transform.\n",
       "\n",
       "In addition to the distance transform, the feature transform can\n",
       "be calculated. In this case the index of the closest background\n",
       "element is returned along the first axis of the result.\n",
       "\n",
       "Parameters\n",
       "----------\n",
       "input : array_like\n",
       "    Input data to transform. Can be any type but will be converted\n",
       "    into binary: 1 wherever input equates to True, 0 elsewhere.\n",
       "sampling : float or int, or sequence of same, optional\n",
       "    Spacing of elements along each dimension. If a sequence, must be of\n",
       "    length equal to the input rank; if a single number, this is used for\n",
       "    all axes. If not specified, a grid spacing of unity is implied.\n",
       "return_distances : bool, optional\n",
       "    Whether to return distance matrix. At least one of\n",
       "    return_distances/return_indices must be True. Default is True.\n",
       "return_indices : bool, optional\n",
       "    Whether to return indices matrix. Default is False.\n",
       "distances : ndarray, optional\n",
       "    Used for output of distance array, must be of type float64.\n",
       "indices : ndarray, optional\n",
       "    Used for output of indices, must be of type int32.\n",
       "\n",
       "Returns\n",
       "-------\n",
       "distance_transform_edt : ndarray or list of ndarrays\n",
       "    Either distance matrix, index matrix, or a list of the two,\n",
       "    depending on `return_x` flags and `distance` and `indices`\n",
       "    input parameters.\n",
       "\n",
       "Notes\n",
       "-----\n",
       "The euclidean distance transform gives values of the euclidean\n",
       "distance::\n",
       "\n",
       "                n\n",
       "  y_i = sqrt(sum (x[i]-b[i])**2)\n",
       "                i\n",
       "\n",
       "where b[i] is the background point (value 0) with the smallest\n",
       "Euclidean distance to input points x[i], and n is the\n",
       "number of dimensions.\n",
       "\n",
       "Examples\n",
       "--------\n",
       ">>> from scipy import ndimage\n",
       ">>> a = np.array(([0,1,1,1,1],\n",
       "...               [0,0,1,1,1],\n",
       "...               [0,1,1,1,1],\n",
       "...               [0,1,1,1,0],\n",
       "...               [0,1,1,0,0]))\n",
       ">>> ndimage.distance_transform_edt(a)\n",
       "array([[ 0.    ,  1.    ,  1.4142,  2.2361,  3.    ],\n",
       "       [ 0.    ,  0.    ,  1.    ,  2.    ,  2.    ],\n",
       "       [ 0.    ,  1.    ,  1.4142,  1.4142,  1.    ],\n",
       "       [ 0.    ,  1.    ,  1.4142,  1.    ,  0.    ],\n",
       "       [ 0.    ,  1.    ,  1.    ,  0.    ,  0.    ]])\n",
       "\n",
       "With a sampling of 2 units along x, 1 along y:\n",
       "\n",
       ">>> ndimage.distance_transform_edt(a, sampling=[2,1])\n",
       "array([[ 0.    ,  1.    ,  2.    ,  2.8284,  3.6056],\n",
       "       [ 0.    ,  0.    ,  1.    ,  2.    ,  3.    ],\n",
       "       [ 0.    ,  1.    ,  2.    ,  2.2361,  2.    ],\n",
       "       [ 0.    ,  1.    ,  2.    ,  1.    ,  0.    ],\n",
       "       [ 0.    ,  1.    ,  1.    ,  0.    ,  0.    ]])\n",
       "\n",
       "Asking for indices as well:\n",
       "\n",
       ">>> edt, inds = ndimage.distance_transform_edt(a, return_indices=True)\n",
       ">>> inds\n",
       "array([[[0, 0, 1, 1, 3],\n",
       "        [1, 1, 1, 1, 3],\n",
       "        [2, 2, 1, 3, 3],\n",
       "        [3, 3, 4, 4, 3],\n",
       "        [4, 4, 4, 4, 4]],\n",
       "       [[0, 0, 1, 1, 4],\n",
       "        [0, 1, 1, 1, 4],\n",
       "        [0, 0, 1, 4, 4],\n",
       "        [0, 0, 3, 3, 4],\n",
       "        [0, 0, 3, 3, 4]]])\n",
       "\n",
       "With arrays provided for inplace outputs:\n",
       "\n",
       ">>> indices = np.zeros(((np.ndim(a),) + a.shape), dtype=np.int32)\n",
       ">>> ndimage.distance_transform_edt(a, return_indices=True, indices=indices)\n",
       "array([[ 0.    ,  1.    ,  1.4142,  2.2361,  3.    ],\n",
       "       [ 0.    ,  0.    ,  1.    ,  2.    ,  2.    ],\n",
       "       [ 0.    ,  1.    ,  1.4142,  1.4142,  1.    ],\n",
       "       [ 0.    ,  1.    ,  1.4142,  1.    ,  0.    ],\n",
       "       [ 0.    ,  1.    ,  1.    ,  0.    ,  0.    ]])\n",
       ">>> indices\n",
       "array([[[0, 0, 1, 1, 3],\n",
       "        [1, 1, 1, 1, 3],\n",
       "        [2, 2, 1, 3, 3],\n",
       "        [3, 3, 4, 4, 3],\n",
       "        [4, 4, 4, 4, 4]],\n",
       "       [[0, 0, 1, 1, 4],\n",
       "        [0, 1, 1, 1, 4],\n",
       "        [0, 0, 1, 4, 4],\n",
       "        [0, 0, 3, 3, 4],\n",
       "        [0, 0, 3, 3, 4]]])\n",
       "\u001b[0;31mFile:\u001b[0m      ~/anaconda/lib/python3.6/site-packages/scipy/ndimage/morphology.py\n",
       "\u001b[0;31mType:\u001b[0m      function\n"
      ]
     },
     "metadata": {},
     "output_type": "display_data"
    }
   ],
   "source": [
    "?ndimage.distance_transform_edt()"
   ]
  },
  {
   "cell_type": "code",
   "execution_count": 82,
   "metadata": {},
   "outputs": [
    {
     "data": {
      "image/png": "[encoded data removed]",
      "text/plain": [
       "<matplotlib.figure.Figure at 0x11ace9860>"
      ]
     },
     "metadata": {},
     "output_type": "display_data"
    }
   ],
   "source": [
    "## Do TDA on output\n",
    "from ripser import ripser\n",
    "from persim import plot_diagrams\n",
    "diagrams = ripser(df1,distance_matrix=True)['dgms']\n",
    "plot_diagrams(diagrams, show=True)\n",
    "#diagrams <- output in array form"
   ]
  },
  {
   "cell_type": "code",
   "execution_count": 86,
   "metadata": {},
   "outputs": [
    {
     "ename": "NameError",
     "evalue": "name 'lower_star_img' is not defined",
     "output_type": "error",
     "traceback": [
      "\u001b[0;31m----------------------------------------------------------------\u001b[0m",
      "\u001b[0;31mNameError\u001b[0m                      Traceback (most recent call last)",
      "\u001b[0;32m<ipython-input-86-0d9daafc1bdc>\u001b[0m in \u001b[0;36m<module>\u001b[0;34m()\u001b[0m\n\u001b[0;32m----> 1\u001b[0;31m \u001b[0mdgm\u001b[0m \u001b[0;34m=\u001b[0m \u001b[0mlower_star_img\u001b[0m\u001b[0;34m(\u001b[0m\u001b[0;34m-\u001b[0m\u001b[0mcells_grey\u001b[0m\u001b[0;34m)\u001b[0m\u001b[0;34m\u001b[0m\u001b[0;34m\u001b[0m\u001b[0m\n\u001b[0m\u001b[1;32m      2\u001b[0m \u001b[0;34m\u001b[0m\u001b[0m\n\u001b[1;32m      3\u001b[0m \u001b[0mplt\u001b[0m\u001b[0;34m.\u001b[0m\u001b[0mfigure\u001b[0m\u001b[0;34m(\u001b[0m\u001b[0mfigsize\u001b[0m\u001b[0;34m=\u001b[0m\u001b[0;34m(\u001b[0m\u001b[0;36m6\u001b[0m\u001b[0;34m,\u001b[0m \u001b[0;36m6\u001b[0m\u001b[0;34m)\u001b[0m\u001b[0;34m)\u001b[0m\u001b[0;34m\u001b[0m\u001b[0;34m\u001b[0m\u001b[0m\n\u001b[1;32m      4\u001b[0m \u001b[0mplot_dgms\u001b[0m\u001b[0;34m(\u001b[0m\u001b[0mdgm\u001b[0m\u001b[0;34m,\u001b[0m \u001b[0mlifetime\u001b[0m\u001b[0;34m=\u001b[0m\u001b[0;32mTrue\u001b[0m\u001b[0;34m)\u001b[0m\u001b[0;34m\u001b[0m\u001b[0;34m\u001b[0m\u001b[0m\n\u001b[1;32m      5\u001b[0m \u001b[0mplt\u001b[0m\u001b[0;34m.\u001b[0m\u001b[0mshow\u001b[0m\u001b[0;34m(\u001b[0m\u001b[0;34m)\u001b[0m\u001b[0;34m\u001b[0m\u001b[0;34m\u001b[0m\u001b[0m\n",
      "\u001b[0;31mNameError\u001b[0m: name 'lower_star_img' is not defined"
     ]
    }
   ],
   "source": [
    "dgm = lower_star_img(-cells_grey)\n",
    "\n",
    "plt.figure(figsize=(6, 6))\n",
    "plot_dgms(dgm, lifetime=True)\n",
    "plt.show()"
   ]
  },
  {
   "cell_type": "code",
   "execution_count": 80,
   "metadata": {},
   "outputs": [
    {
     "name": "stderr",
     "output_type": "stream",
     "text": [
      "/Users/rosannaneuhausler/anaconda/lib/python3.6/site-packages/ripser/ripser.py:216: UserWarning: The input matrix is square, but the distance_matrix flag is off.  Did you mean to indicate that this was a distance matrix?\n",
      "  + \"this was a distance matrix?\"\n"
     ]
    },
    {
     "data": {
      "text/plain": [
       "[[], []]"
      ]
     },
     "execution_count": 80,
     "metadata": {},
     "output_type": "execute_result"
    }
   ],
   "source": [
    "ripser(df1)['cocycles']"
   ]
  },
  {
   "cell_type": "code",
   "execution_count": 78,
   "metadata": {},
   "outputs": [
    {
     "data": {
      "text/plain": [
       "\u001b[0;31mSignature:\u001b[0m \u001b[0mripser\u001b[0m\u001b[0;34m(\u001b[0m\u001b[0mX\u001b[0m\u001b[0;34m,\u001b[0m \u001b[0mmaxdim\u001b[0m\u001b[0;34m=\u001b[0m\u001b[0;36m1\u001b[0m\u001b[0;34m,\u001b[0m \u001b[0mthresh\u001b[0m\u001b[0;34m=\u001b[0m\u001b[0minf\u001b[0m\u001b[0;34m,\u001b[0m \u001b[0mcoeff\u001b[0m\u001b[0;34m=\u001b[0m\u001b[0;36m2\u001b[0m\u001b[0;34m,\u001b[0m \u001b[0mdistance_matrix\u001b[0m\u001b[0;34m=\u001b[0m\u001b[0;32mFalse\u001b[0m\u001b[0;34m,\u001b[0m \u001b[0mdo_cocycles\u001b[0m\u001b[0;34m=\u001b[0m\u001b[0;32mFalse\u001b[0m\u001b[0;34m,\u001b[0m \u001b[0mmetric\u001b[0m\u001b[0;34m=\u001b[0m\u001b[0;34m'euclidean'\u001b[0m\u001b[0;34m,\u001b[0m \u001b[0mn_perm\u001b[0m\u001b[0;34m=\u001b[0m\u001b[0;32mNone\u001b[0m\u001b[0;34m)\u001b[0m\u001b[0;34m\u001b[0m\u001b[0;34m\u001b[0m\u001b[0m\n",
       "\u001b[0;31mDocstring:\u001b[0m\n",
       "Compute persistence diagrams for X data array. If X is not a distance matrix, it will be converted to a distance matrix using the chosen metric.\n",
       "\n",
       "Parameters\n",
       "----------\n",
       "X: ndarray (n_samples, n_features)\n",
       "    A numpy array of either data or distance matrix.\n",
       "    Can also be a sparse distance matrix of type scipy.sparse\n",
       "\n",
       "maxdim: int, optional, default 1\n",
       "    Maximum homology dimension computed. Will compute all dimensions \n",
       "    lower than and equal to this value. \n",
       "    For 1, H_0 and H_1 will be computed.\n",
       "\n",
       "thresh: float, default infinity\n",
       "    Maximum distances considered when constructing filtration. \n",
       "    If infinity, compute the entire filtration.\n",
       "\n",
       "coeff: int prime, default 2\n",
       "    Compute homology with coefficients in the prime field Z/pZ for p=coeff.\n",
       "\n",
       "distance_matrix: bool\n",
       "    Indicator that X is a distance matrix, if not we compute a \n",
       "    distance matrix from X using the chosen metric.\n",
       "\n",
       "do_cocycles: bool\n",
       "    Indicator of whether to compute cocycles, if so, we compute and store\n",
       "    cocycles in the `cocycles_` dictionary Rips member variable\n",
       "\n",
       "metric: string or callable\n",
       "    The metric to use when calculating distance between instances in a \n",
       "    feature array. If metric is a string, it must be one of the options \n",
       "    specified in pairwise_distances, including \"euclidean\", \"manhattan\", \n",
       "    or \"cosine\". Alternatively, if metric is a callable function, it is \n",
       "    called on each pair of instances (rows) and the resulting value \n",
       "    recorded. The callable should take two arrays from X as input and \n",
       "    return a value indicating the distance between them.\n",
       "\n",
       "n_perm: int\n",
       "    The number of points to subsample in a \"greedy permutation,\"\n",
       "    or a furthest point sampling of the points.  These points\n",
       "    will be used in lieu of the full point cloud for a faster\n",
       "    computation, at the expense of some accuracy, which can \n",
       "    be bounded as a maximum bottleneck distance to all diagrams\n",
       "    on the original point set\n",
       "\n",
       "Returns\n",
       "-------\n",
       "A dictionary holding all of the results of the computation\n",
       "\n",
       "{'dgms': list (size maxdim) of ndarray (n_pairs, 2)\n",
       "    A list of persistence diagrams, one for each dimension less \n",
       "    than maxdim. Each diagram is an ndarray of size (n_pairs, 2) \n",
       "    with the first column representing the birth time and the \n",
       "    second column representing the death time of each pair.\n",
       " 'cocycles': list (size maxdim) of list of ndarray\n",
       "    A list of representative cocycles in each dimension.  The list \n",
       "    in each dimension is parallel to the diagram in that dimension;\n",
       "    that is, each entry of the list is a representative cocycle of\n",
       "    the corresponding point expressed as an ndarray(K, d+1), where K is\n",
       "    the number of nonzero values of the cocycle and d is the dimension\n",
       "    of the cocycle.  The first d columns of each array index into\n",
       "    the simplices of the (subsampled) point cloud, and the last column\n",
       "    is the value of the cocycle at that simplex\n",
       " 'num_edges': int\n",
       "    The number of edges added during the computation\n",
       " 'dperm2all': ndarray(n_samples, n_samples) or ndarray (n_perm, n_samples) if n_perm\n",
       "    The distance matrix used in the computation if n_perm is none.\n",
       "    Otherwise, the distance from all points in the permutation to\n",
       "    all points in the dataset\n",
       " 'idx_perm': ndarray(n_perm) if n_perm > 0\n",
       "    Index into the original point cloud of the points used\n",
       "    as a subsample in the greedy permutation\n",
       " 'r_cover': float\n",
       "    Covering radius of the subsampled points.  \n",
       "    If n_perm <= 0, then the full point cloud was used and this is 0\n",
       "}\n",
       "\n",
       "Examples\n",
       "--------\n",
       ".. code:: python\n",
       "\n",
       "    from ripser import ripser, plot_dgms\n",
       "    from sklearn import datasets\n",
       "\n",
       "    data = datasets.make_circles(n_samples=110)[0]\n",
       "    dgms = ripser(data)['dgms']\n",
       "    plot_dgms(dgms)\n",
       "\u001b[0;31mFile:\u001b[0m      ~/anaconda/lib/python3.6/site-packages/ripser/ripser.py\n",
       "\u001b[0;31mType:\u001b[0m      function\n"
      ]
     },
     "metadata": {},
     "output_type": "display_data"
    }
   ],
   "source": [
    "?ripser()"
   ]
  },
  {
   "cell_type": "code",
   "execution_count": 73,
   "metadata": {},
   "outputs": [
    {
     "data": {
      "text/plain": [
       "[array([[0.        , 2.44948983],\n",
       "        [0.        , 2.44948983],\n",
       "        [0.        , 2.44948983],\n",
       "        [0.        , 2.44948983],\n",
       "        [0.        , 3.46410155],\n",
       "        [0.        ,        inf]]), array([[2.44948983, 3.46410155]])]"
      ]
     },
     "execution_count": 73,
     "metadata": {},
     "output_type": "execute_result"
    }
   ],
   "source": [
    "diagrams"
   ]
  },
  {
   "cell_type": "code",
   "execution_count": null,
   "metadata": {},
   "outputs": [],
   "source": []
  }
 ],
 "metadata": {
  "kernelspec": {
   "display_name": "Python 3",
   "language": "python",
   "name": "python3"
  },
  "language_info": {
   "codemirror_mode": {
    "name": "ipython",
    "version": 3
   },
   "file_extension": ".py",
   "mimetype": "text/x-python",
   "name": "python",
   "nbconvert_exporter": "python",
   "pygments_lexer": "ipython3",
   "version": "3.6.7"
  }
 },
 "nbformat": 4,
 "nbformat_minor": 2
}
