{
 "cells": [
  {
   "cell_type": "code",
   "execution_count": 1,
   "metadata": {},
   "outputs": [],
   "source": [
    "from coralModel2list import Reef\n",
    "from coralModel2list import Organism\n",
    "import numpy as np\n",
    "import tools as tl"
   ]
  },
  {
   "cell_type": "code",
   "execution_count": 2,
   "metadata": {},
   "outputs": [],
   "source": [
    "#Set Parameters\n",
    "NumberOfRuns = 1000\n",
    "NumberOfSimulations = 3\n",
    "coralPercent = .33\n",
    "algaePercent = .33\n",
    "turfPercent = 1 - coralPercent - algaePercent\n",
    "r=1.0\n",
    "d=.1\n",
    "a=.2\n",
    "g=.9\n",
    "y=.75\n",
    "dt=.01\n",
    "rows = 10\n",
    "columns = 10\n",
    "NumberOfNodes = rows * columns"
   ]
  },
  {
   "cell_type": "code",
   "execution_count": 3,
   "metadata": {},
   "outputs": [],
   "source": [
    "#Generate square 8x8 reef with randomly assigned types\n",
    "#0 = Coral, 1 = Turf, 2 = Algae\n",
    "Moorea = Reef()\n",
    "count = 0\n",
    "for i in range(0,rows):\n",
    "    for j in range(0, columns):\n",
    "        U = np.random.choice([0,1,2],\n",
    "                             p=[coralPercent, turfPercent, algaePercent])\n",
    "        types = np.zeros((NumberOfRuns, NumberOfSimulations))\n",
    "        types[0] = U\n",
    "        node = Organism(type=types, location=[i,j], ID=count)\n",
    "        Moorea.append(node)\n",
    "        count += 1\n",
    "Moorea.generateGraph()"
   ]
  },
  {
   "cell_type": "code",
   "execution_count": 4,
   "metadata": {},
   "outputs": [],
   "source": [
    "#Run model \n",
    "for s in range(0,NumberOfSimulations):    \n",
    "    for r in range(0,NumberOfRuns-1):\n",
    "        Moorea.roll(r=r, d=d, a=a, g=g, y=y, dt=dt, t=r, s=s)"
   ]
  },
  {
   "cell_type": "code",
   "execution_count": 5,
   "metadata": {},
   "outputs": [],
   "source": [
    "time0 = tl.instance(Moorea, 0, 0, True)\n",
    "time4 = tl.instance(Moorea, 899, 0, True)"
   ]
  },
  {
   "cell_type": "code",
   "execution_count": 6,
   "metadata": {},
   "outputs": [
    {
     "data": {
      "image/png": "[encoded data removed]",
      "text/plain": [
       "<matplotlib.figure.Figure at 0x11c6a77f0>"
      ]
     },
     "metadata": {},
     "output_type": "display_data"
    }
   ],
   "source": [
    "tl.initialFinal(data1=time0, data2=time4)                   "
   ]
  },
  {
   "cell_type": "code",
   "execution_count": 8,
   "metadata": {},
   "outputs": [],
   "source": [
    "def instance(reef, timestep, simulation, grid = True, rows=10):\n",
    "    composition = np.zeros(len(reef.nodes))\n",
    "    for n, val in enumerate(reef.nodes):\n",
    "        composition[n] = reef.nodes[n].type[timestep,simulation]\n",
    "    if grid == True:\n",
    "        composition = np.reshape(composition, (-1, rows))\n",
    "    return(composition)\n",
    "          \n",
    "def speciesCount(reef, type, simulation, rows):\n",
    "    count = np.zeros((len(reef.nodes[0].type[:,0]),simulation))\n",
    "    for s in range(0,simulation):\n",
    "        for r in range(0,len(count)):\n",
    "            count[r,s] = np.count_nonzero(instance(reef, r, s, False, rows)== type)\n",
    "    return(count)\n",
    "        "
   ]
  },
  {
   "cell_type": "code",
   "execution_count": 7,
   "metadata": {},
   "outputs": [
    {
     "data": {
      "image/png": "[encoded data removed]",
      "text/plain": [
       "<matplotlib.figure.Figure at 0x11e879e48>"
      ]
     },
     "metadata": {},
     "output_type": "display_data"
    }
   ],
   "source": [
    "#Plotting histograms\n",
    "#speciesCount(reef, type, simulation):\n",
    "\n",
    "coralCount = tl.speciesCount(Moorea, 0, NumberOfSimulations)\n",
    "turfCount = tl.speciesCount(Moorea, 1, NumberOfSimulations)\n",
    "algaeCount = tl.speciesCount(Moorea, 2, NumberOfSimulations)\n",
    "\n",
    "\n",
    "x = np.arange(NumberOfRuns)\n",
    "ylabel = \"Average Count over 100 Simulations\"\n",
    "tl.averageHists(x, coralCount, turfCount, algaeCount, ylabel) "
   ]
  },
  {
   "cell_type": "code",
   "execution_count": null,
   "metadata": {},
   "outputs": [],
   "source": [
    "\n",
    "def averageHists(x, coralCount, turfCount, algaeCount, ylabel):\n",
    "    fig, (ax, ax2, ax3) = plt.subplots(1,3, facecolor = 'w', sharey='row')\n",
    "    im = ax.bar(x, coralCount.mean(axis=1), color='pink')\n",
    "    im2 = ax2.bar(x, turfCount.mean(axis=1), color='lightgreen')\n",
    "    im2 = ax3.bar(x, algaeCount.mean(axis=1), color='darkgreen')\n",
    "    ax.set_ylabel(ylabel)\n",
    "    ax.set_xlabel(\"Time\")\n",
    "    ax2.set_xlabel(\"Time\")\n",
    "    ax3.set_xlabel(\"Time\")\n",
    "    ax.set_facecolor('white')\n",
    "    ax2.set_facecolor('white')\n",
    "    ax3.set_facecolor('white')\n",
    "    plt.show()"
   ]
  },
  {
   "cell_type": "code",
   "execution_count": 18,
   "metadata": {},
   "outputs": [
    {
     "data": {
      "text/plain": [
       "array([[37., 37., 37.],\n",
       "       [91.,  0.,  0.],\n",
       "       [82., 33., 33.],\n",
       "       ...,\n",
       "       [36., 13., 13.],\n",
       "       [36., 32., 31.],\n",
       "       [28., 55., 56.]])"
      ]
     },
     "execution_count": 18,
     "metadata": {},
     "output_type": "execute_result"
    }
   ],
   "source": [
    "coralCount"
   ]
  },
  {
   "cell_type": "code",
   "execution_count": 9,
   "metadata": {},
   "outputs": [
    {
     "ename": "IndexError",
     "evalue": "too many indices for array",
     "output_type": "error",
     "traceback": [
      "\u001b[0;31m---------------------------------------------------------------------------\u001b[0m",
      "\u001b[0;31mIndexError\u001b[0m                                Traceback (most recent call last)",
      "\u001b[0;32m<ipython-input-9-25d5f2a37379>\u001b[0m in \u001b[0;36m<module>\u001b[0;34m()\u001b[0m\n\u001b[1;32m      1\u001b[0m \u001b[0;31m#Plotting progression over time for 1 simulation\u001b[0m\u001b[0;34m\u001b[0m\u001b[0;34m\u001b[0m\u001b[0;34m\u001b[0m\u001b[0m\n\u001b[0;32m----> 2\u001b[0;31m \u001b[0mx1\u001b[0m\u001b[0;34m=\u001b[0m\u001b[0mcoralCount\u001b[0m\u001b[0;34m[\u001b[0m\u001b[0;34m:\u001b[0m\u001b[0;34m,\u001b[0m\u001b[0;36m1\u001b[0m\u001b[0;34m,\u001b[0m\u001b[0;36m0\u001b[0m\u001b[0;34m]\u001b[0m\u001b[0;34m\u001b[0m\u001b[0;34m\u001b[0m\u001b[0m\n\u001b[0m\u001b[1;32m      3\u001b[0m \u001b[0mx2\u001b[0m\u001b[0;34m=\u001b[0m\u001b[0mturfCount\u001b[0m\u001b[0;34m[\u001b[0m\u001b[0;34m:\u001b[0m\u001b[0;34m,\u001b[0m\u001b[0;36m1\u001b[0m\u001b[0;34m,\u001b[0m\u001b[0;36m0\u001b[0m\u001b[0;34m]\u001b[0m\u001b[0;34m\u001b[0m\u001b[0;34m\u001b[0m\u001b[0m\n\u001b[1;32m      4\u001b[0m \u001b[0mx3\u001b[0m\u001b[0;34m=\u001b[0m\u001b[0malgaeCount\u001b[0m\u001b[0;34m[\u001b[0m\u001b[0;34m:\u001b[0m\u001b[0;34m,\u001b[0m\u001b[0;36m1\u001b[0m\u001b[0;34m,\u001b[0m\u001b[0;36m0\u001b[0m\u001b[0;34m]\u001b[0m\u001b[0;34m\u001b[0m\u001b[0;34m\u001b[0m\u001b[0m\n\u001b[1;32m      5\u001b[0m \u001b[0mtl\u001b[0m\u001b[0;34m.\u001b[0m\u001b[0mtimeSeries\u001b[0m\u001b[0;34m(\u001b[0m\u001b[0mx\u001b[0m\u001b[0;34m,\u001b[0m \u001b[0mx1\u001b[0m\u001b[0;34m,\u001b[0m\u001b[0mx2\u001b[0m\u001b[0;34m,\u001b[0m\u001b[0mx3\u001b[0m\u001b[0;34m)\u001b[0m\u001b[0;34m\u001b[0m\u001b[0;34m\u001b[0m\u001b[0m\n",
      "\u001b[0;31mIndexError\u001b[0m: too many indices for array"
     ]
    }
   ],
   "source": [
    "#Plotting progression over time for 1 simulation\n",
    "x1=coralCount[:,1,0]\n",
    "x2=turfCount[:,1,0]\n",
    "x3=algaeCount[:,1,0]\n",
    "tl.timeSeries(x, x1,x2,x3)"
   ]
  },
  {
   "cell_type": "markdown",
   "metadata": {},
   "source": [
    "# Begin TDA"
   ]
  },
  {
   "cell_type": "markdown",
   "metadata": {},
   "source": [
    "#### Steps\n",
    "* Set values to 1 = Coral, 0 = Other\n",
    "* create a finer grid\n",
    "* use gaussians at each node to create variation based on overlap\n",
    "* Do TDA on output \n"
   ]
  },
  {
   "cell_type": "code",
   "execution_count": 249,
   "metadata": {},
   "outputs": [],
   "source": [
    "df1=finer(data1,3)\n",
    "df2=finer(data2,3)"
   ]
  },
  {
   "cell_type": "code",
   "execution_count": 250,
   "metadata": {},
   "outputs": [
    {
     "data": {
      "image/png": "[encoded data removed]",
      "text/plain": [
       "<matplotlib.figure.Figure at 0x11c6de828>"
      ]
     },
     "metadata": {},
     "output_type": "display_data"
    }
   ],
   "source": [
    "tl.initialFinal(data1=df1, data2=df2)  "
   ]
  },
  {
   "cell_type": "code",
   "execution_count": 24,
   "metadata": {},
   "outputs": [],
   "source": [
    "## Do TDA on output\n",
    "from ripser import ripser\n",
    "from persim import plot_diagrams\n",
    "diagrams = ripser(np.reshape(types[299,:,0], (-1, length)))['dgms']\n",
    "plot_diagrams(diagrams, show=True)\n",
    "#diagrams <- output in array form"
   ]
  },
  {
   "cell_type": "code",
   "execution_count": 10,
   "metadata": {},
   "outputs": [
    {
     "ename": "TypeError",
     "evalue": "Required argument 'object' (pos 1) not found",
     "output_type": "error",
     "traceback": [
      "\u001b[0;31m---------------------------------------------------------------------------\u001b[0m",
      "\u001b[0;31mTypeError\u001b[0m                                 Traceback (most recent call last)",
      "\u001b[0;32m<ipython-input-10-c9ac20f13f54>\u001b[0m in \u001b[0;36m<module>\u001b[0;34m()\u001b[0m\n\u001b[0;32m----> 1\u001b[0;31m \u001b[0mpurple\u001b[0m \u001b[0;34m=\u001b[0m \u001b[0mnp\u001b[0m\u001b[0;34m.\u001b[0m\u001b[0marray\u001b[0m\u001b[0;34m(\u001b[0m\u001b[0;34m)\u001b[0m\u001b[0;34m\u001b[0m\u001b[0;34m\u001b[0m\u001b[0m\n\u001b[0m",
      "\u001b[0;31mTypeError\u001b[0m: Required argument 'object' (pos 1) not found"
     ]
    }
   ],
   "source": [
    "purple = np.zeros()"
   ]
  },
  {
   "cell_type": "code",
   "execution_count": 9,
   "metadata": {},
   "outputs": [
    {
     "ename": "IndexError",
     "evalue": "too many indices for array",
     "output_type": "error",
     "traceback": [
      "\u001b[0;31m---------------------------------------------------------------------------\u001b[0m",
      "\u001b[0;31mIndexError\u001b[0m                                Traceback (most recent call last)",
      "\u001b[0;32m<ipython-input-9-72d9b9719fc5>\u001b[0m in \u001b[0;36m<module>\u001b[0;34m()\u001b[0m\n\u001b[0;32m----> 1\u001b[0;31m \u001b[0mpurple\u001b[0m\u001b[0;34m[\u001b[0m\u001b[0;36m1\u001b[0m\u001b[0;34m]\u001b[0m \u001b[0;34m=\u001b[0m\u001b[0;36m2\u001b[0m\u001b[0;34m\u001b[0m\u001b[0;34m\u001b[0m\u001b[0m\n\u001b[0m",
      "\u001b[0;31mIndexError\u001b[0m: too many indices for array"
     ]
    }
   ],
   "source": [
    "purple[1]=2"
   ]
  },
  {
   "cell_type": "code",
   "execution_count": 11,
   "metadata": {},
   "outputs": [
    {
     "ename": "IndexError",
     "evalue": "list assignment index out of range",
     "output_type": "error",
     "traceback": [
      "\u001b[0;31m---------------------------------------------------------------------------\u001b[0m",
      "\u001b[0;31mIndexError\u001b[0m                                Traceback (most recent call last)",
      "\u001b[0;32m<ipython-input-11-b3b1a4037ec7>\u001b[0m in \u001b[0;36m<module>\u001b[0;34m()\u001b[0m\n\u001b[0;32m----> 1\u001b[0;31m \u001b[0mnp\u001b[0m\u001b[0;34m.\u001b[0m\u001b[0marray\u001b[0m\u001b[0;34m[\u001b[0m\u001b[0;36m1\u001b[0m\u001b[0;34m]\u001b[0m \u001b[0;34m=\u001b[0m \u001b[0;36m2\u001b[0m\u001b[0;34m\u001b[0m\u001b[0;34m\u001b[0m\u001b[0m\n\u001b[0m",
      "\u001b[0;31mIndexError\u001b[0m: list assignment index out of range"
     ]
    }
   ],
   "source": [
    "np.array[1] = 2"
   ]
  },
  {
   "cell_type": "code",
   "execution_count": null,
   "metadata": {},
   "outputs": [],
   "source": []
  }
 ],
 "metadata": {
  "kernelspec": {
   "display_name": "Python 3",
   "language": "python",
   "name": "python3"
  },
  "language_info": {
   "codemirror_mode": {
    "name": "ipython",
    "version": 3
   },
   "file_extension": ".py",
   "mimetype": "text/x-python",
   "name": "python",
   "nbconvert_exporter": "python",
   "pygments_lexer": "ipython3",
   "version": "3.6.7"
  }
 },
 "nbformat": 4,
 "nbformat_minor": 2
}
