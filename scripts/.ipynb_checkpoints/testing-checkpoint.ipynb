{
 "cells": [
  {
   "cell_type": "markdown",
   "metadata": {},
   "source": [
    "# Setting up Grid Options and Checking"
   ]
  },
  {
   "cell_type": "code",
   "execution_count": 157,
   "metadata": {},
   "outputs": [],
   "source": [
    "from coralModelUpdated import Reef, Organism, Ocean\n",
    "import numpy as np\n",
    "import matplotlib.pyplot as plt "
   ]
  },
  {
   "cell_type": "code",
   "execution_count": 211,
   "metadata": {},
   "outputs": [],
   "source": [
    "gridOption = 0 ## 0: random, 1: checkered, 2: blob\n",
    "\n",
    "rows = 7\n",
    "columns = 10"
   ]
  },
  {
   "cell_type": "code",
   "execution_count": 212,
   "metadata": {},
   "outputs": [],
   "source": [
    "coralPercent = .33\n",
    "algaePercent = .33\n",
    "turfPercent = 1 - coralPercent - algaePercent\n",
    "\n",
    "if gridOption == 1: #setup checkered\n",
    "    m = rows + 2\n",
    "    n = columns + 2\n",
    "    checkerBoard = np.tile(np.array([[0,1,2],[1,2,0],[2,0,1]]), ((m+2)//3, (n+2)//3))\n",
    "    \n",
    "elif gridOption == 2: #setup blob\n",
    "    \n",
    "    blobSize = 5 #input system argument\n",
    "    blobValue = 0 #input system argument\n",
    "    notBlob = [a for a in [0,1,2] if a != blobValue]\n",
    "    \n",
    "    center = (rows/2, columns/2)\n",
    "    distanceGrid = np.array([Reef.distance([i+.5,j+.5], center)\n",
    "                             for i in range(0,rows)\n",
    "                             for j in range(0,columns)]).reshape(rows,columns)\n",
    "    blobLocations = (np.where(distanceGrid < blobSize))\n",
    "    blobLocations = [(blobLocations[0][n],blobLocations[1][n]) \n",
    "                      for n in range(0,len(blobLocations[0]))]"
   ]
  },
  {
   "cell_type": "code",
   "execution_count": 213,
   "metadata": {},
   "outputs": [],
   "source": [
    "count = 0\n",
    "threshold = 1.5\n",
    "Moorea = Reef()\n",
    "for i in range(0,rows):        \n",
    "    for j in range(0,columns):\n",
    "        if gridOption == 0:\n",
    "            U = np.random.choice([0,1,2],\n",
    "                                 p=[coralPercent, turfPercent, algaePercent])                    \n",
    "        elif gridOption == 1:\n",
    "            U = checkerBoard[i,j]\n",
    "        elif gridOption == 2:\n",
    "            if (i,j) in blobLocations: \n",
    "                U = blobValue\n",
    "            else:\n",
    "                U = np.random.choice(notBlob,\n",
    "                                     p=[.5, .5])                    \n",
    "        node = Organism(type=U, location=[i,j], ID=count)\n",
    "        Moorea.append(node)\n",
    "        count = count + 1            \n",
    "Moorea.generateGraph(threshold)"
   ]
  },
  {
   "cell_type": "code",
   "execution_count": 214,
   "metadata": {},
   "outputs": [
    {
     "data": {
      "text/plain": [
       "<matplotlib.image.AxesImage at 0x11f922e10>"
      ]
     },
     "execution_count": 214,
     "metadata": {},
     "output_type": "execute_result"
    },
    {
     "data": {
      "image/png": "[encoded data removed]",
      "text/plain": [
       "<Figure size 432x288 with 1 Axes>"
      ]
     },
     "metadata": {
      "needs_background": "light"
     },
     "output_type": "display_data"
    }
   ],
   "source": [
    "plt.figure()\n",
    "    \n",
    "plt.imshow(np.reshape(np.array([Moorea.nodes[i].type for \n",
    "                                i,val in enumerate(Moorea.nodes)]),\n",
    "                      (rows,columns)))\n"
   ]
  },
  {
   "cell_type": "markdown",
   "metadata": {},
   "source": [
    "# How to parallelize"
   ]
  },
  {
   "cell_type": "code",
   "execution_count": 1,
   "metadata": {},
   "outputs": [
    {
     "name": "stdout",
     "output_type": "stream",
     "text": [
      "[1, 4, 9]\n"
     ]
    }
   ],
   "source": [
    "from multiprocessing import Pool\n",
    "\n",
    "def f(x):\n",
    "    return x*x\n",
    "\n",
    "if __name__ == '__main__':\n",
    "\n",
    "    with Pool(5) as p:\n",
    "        print(p.map(f, [1, 2, 3])) function, argument"
   ]
  },
  {
   "cell_type": "code",
   "execution_count": 10,
   "metadata": {},
   "outputs": [],
   "source": [
    "#!/usr/bin/env python3\n",
    "# -*- coding: utf-8 -*-\n",
    "\n",
    "from coralModelUpdated import Reef, Organism, Ocean\n",
    "import numpy as np\n",
    "import sys\n",
    "import matplotlib.pyplot as plt\n",
    "from mpl_toolkits.axes_grid1.inset_locator import InsetPosition\n",
    "from multiprocessing import Pool\n"
   ]
  },
  {
   "cell_type": "code",
   "execution_count": 222,
   "metadata": {
    "scrolled": true
   },
   "outputs": [
    {
     "name": "stdout",
     "output_type": "stream",
     "text": [
      "running simulation7\n",
      "running simulation0\n",
      "running simulation21\n",
      "running simulation14\n",
      "running simulation8\n",
      "running simulation15\n",
      "running simulation1\n",
      "running simulation22\n",
      "running simulation16\n",
      "running simulation9\n",
      "running simulation2\n",
      "running simulation23\n",
      "running simulation17\n",
      "running simulation3\n",
      "running simulation24\n",
      "running simulation10\n",
      "running simulation18\n",
      "running simulation4\n",
      "running simulation25\n",
      "running simulation11\n",
      "running simulation19\n",
      "running simulation12\n",
      "running simulation26\n",
      "running simulation5\n",
      "running simulation20\n",
      "running simulation13\n",
      "running simulation27\n",
      "running simulation6\n",
      "running simulation28\n",
      "running simulation35\n",
      "running simulation42\n",
      "running simulation49\n",
      "running simulation29\n",
      "running simulation36\n",
      "running simulation43\n",
      "running simulation50\n",
      "running simulation44\n",
      "running simulation30\n",
      "running simulation37\n",
      "running simulation51\n",
      "running simulation45\n",
      "running simulation31\n",
      "running simulation38\n",
      "running simulation52\n",
      "running simulation46\n",
      "running simulation32\n",
      "running simulation39\n",
      "running simulation53\n",
      "running simulation47\n",
      "running simulation33\n",
      "running simulation40\n",
      "running simulation54\n",
      "running simulation48\n",
      "running simulation34\n",
      "running simulation41\n",
      "running simulation55\n",
      "running simulation56\n",
      "running simulation63\n",
      "running simulation70\n",
      "running simulation77\n",
      "running simulation57\n",
      "running simulation71\n",
      "running simulation64\n",
      "running simulation78\n",
      "running simulation58\n",
      "running simulation65\n",
      "running simulation72\n",
      "running simulation79\n",
      "running simulation59\n",
      "running simulation73\n",
      "running simulation66\n",
      "running simulation80\n",
      "running simulation60\n",
      "running simulation74\n",
      "running simulation67\n",
      "running simulation81\n",
      "running simulation61\n",
      "running simulation68\n",
      "running simulation75\n",
      "running simulation82\n",
      "running simulation62\n",
      "running simulation69\n",
      "running simulation76\n",
      "running simulation83\n",
      "running simulation84\n",
      "running simulation91\n",
      "running simulation98\n",
      "running simulation85\n",
      "running simulation92\n",
      "running simulation99\n",
      "running simulation86\n",
      "running simulation93\n",
      "running simulation87\n",
      "running simulation94\n",
      "running simulation88\n",
      "running simulation95\n",
      "running simulation96\n",
      "running simulation89\n",
      "running simulation97\n",
      "running simulation90\n",
      "CPU times: user 173 ms, sys: 181 ms, total: 354 ms\n",
      "Wall time: 1min 23s\n"
     ]
    }
   ],
   "source": [
    "%%time\n",
    "## Parameters\n",
    "nProcessors = 4\n",
    "threshold = 1.45                            \n",
    "coralPercent = .33\n",
    "algaePercent = .33\n",
    "turfPercent = 1 - coralPercent - algaePercent\n",
    "r=1.0\n",
    "d=.4 \n",
    "a=.2\n",
    "y=.75\n",
    "g=.4\n",
    "\n",
    "## Time and Grid Settings\n",
    "\n",
    "NumberOfSimulations = 100\n",
    "tf, dt= 200, .1 \n",
    "NumberOfTimesteps = int(tf/dt)\n",
    "\n",
    "rows, columns = 15, 15\n",
    "NumberOfNodes = rows * columns\n",
    "\n",
    "data = np.zeros((NumberOfTimesteps, NumberOfNodes))\n",
    "\n",
    "def runModel(simulation):\n",
    "    print('running simulation' + str(simulation))\n",
    "    Moorea = Reef()\n",
    "    count = 0\n",
    "    for i in range(0,rows):        \n",
    "        for j in range(0,columns):\n",
    "            U = np.random.choice([0,1,2],\n",
    "                                 p=[coralPercent, turfPercent, algaePercent])\n",
    "            node = Organism(type=U, location=[i,j], ID=count)\n",
    "            Moorea.append(node)\n",
    "            count = count + 1            \n",
    "    Moorea.generateGraph(threshold)\n",
    "    \n",
    "    for n in range(0,NumberOfTimesteps):\n",
    "        for i,val in enumerate(Moorea.nodes):\n",
    "            data[n,i] = Moorea.nodes[i].type\n",
    "        Moorea.roll(r=r, d=d, a=a, g=g, y=y, dt=dt)\n",
    "    \n",
    "    if simulation == 0: ## check on progress\n",
    "        plt.figure()\n",
    "        plt.imshow(np.reshape(np.array([Moorea.nodes[i].type for\n",
    "                                        i,val in enumerate(Moorea.nodes)]),(rows,columns)))\n",
    "    return(data)\n",
    "        \n",
    "if __name__ == '__main__':\n",
    "    \n",
    "    with Pool(nProcessors) as p:\n",
    "        results = p.map(runModel, np.arange(NumberOfSimulations))\n"
   ]
  },
  {
   "cell_type": "markdown",
   "metadata": {},
   "source": [
    "### Format of results under parallelization"
   ]
  },
  {
   "cell_type": "code",
   "execution_count": 221,
   "metadata": {},
   "outputs": [],
   "source": [
    "results[2][2,2]"
   ]
  },
  {
   "cell_type": "code",
   "execution_count": 233,
   "metadata": {},
   "outputs": [
    {
     "data": {
      "image/png": "[encoded data removed]",
      "text/plain": [
       "<Figure size 432x288 with 1 Axes>"
      ]
     },
     "metadata": {
      "needs_background": "light"
     },
     "output_type": "display_data"
    },
    {
     "data": {
      "image/png": "[encoded data removed]",
      "text/plain": [
       "<Figure size 432x288 with 1 Axes>"
      ]
     },
     "metadata": {
      "needs_background": "light"
     },
     "output_type": "display_data"
    },
    {
     "data": {
      "image/png": "[encoded data removed]",
      "text/plain": [
       "<Figure size 432x288 with 1 Axes>"
      ]
     },
     "metadata": {
      "needs_background": "light"
     },
     "output_type": "display_data"
    },
    {
     "data": {
      "image/png": "[encoded data removed]",
      "text/plain": [
       "<Figure size 432x288 with 1 Axes>"
      ]
     },
     "metadata": {
      "needs_background": "light"
     },
     "output_type": "display_data"
    },
    {
     "data": {
      "image/png": "[encoded data removed]",
      "text/plain": [
       "<Figure size 432x288 with 1 Axes>"
      ]
     },
     "metadata": {
      "needs_background": "light"
     },
     "output_type": "display_data"
    },
    {
     "data": {
      "image/png": "[encoded data removed]",
      "text/plain": [
       "<Figure size 432x288 with 1 Axes>"
      ]
     },
     "metadata": {
      "needs_background": "light"
     },
     "output_type": "display_data"
    },
    {
     "data": {
      "image/png": "[encoded data removed]",
      "text/plain": [
       "<Figure size 432x288 with 1 Axes>"
      ]
     },
     "metadata": {
      "needs_background": "light"
     },
     "output_type": "display_data"
    },
    {
     "data": {
      "image/png": "[encoded data removed]",
      "text/plain": [
       "<Figure size 432x288 with 1 Axes>"
      ]
     },
     "metadata": {
      "needs_background": "light"
     },
     "output_type": "display_data"
    },
    {
     "data": {
      "image/png": "[encoded data removed]",
      "text/plain": [
       "<Figure size 432x288 with 1 Axes>"
      ]
     },
     "metadata": {
      "needs_background": "light"
     },
     "output_type": "display_data"
    },
    {
     "data": {
      "image/png": "[encoded data removed]",
      "text/plain": [
       "<Figure size 432x288 with 1 Axes>"
      ]
     },
     "metadata": {
      "needs_background": "light"
     },
     "output_type": "display_data"
    }
   ],
   "source": [
    "for i in np.arange(0,100,10):\n",
    "    plt.figure()\n",
    "    plt.imshow(np.reshape(results[2][i,:],(15,15)))"
   ]
  },
  {
   "cell_type": "markdown",
   "metadata": {},
   "source": [
    "# Other"
   ]
  },
  {
   "cell_type": "code",
   "execution_count": 46,
   "metadata": {},
   "outputs": [],
   "source": [
    "inputs = np.arange(0,8,.01)\n",
    "outputs = np.zeros(len(inputs))\n",
    "count = 0\n",
    "for dist in inputs:\n",
    "    coralNodeLocations = (np.where(distanceGrid < dist))\n",
    "    coralNodeLocations = [(coralNodeLocations[0][n],coralNodeLocations[1][n]) \n",
    "                          for n in range(0,len(coralNodeLocations[0]))]\n",
    "    ### Sudo Making of Initial Reef\n",
    "    grid = np.zeros((rows,columns))\n",
    "    for i in range(0,rows):        \n",
    "        for j in range(0,columns):\n",
    "            U = np.random.choice([1,2],\n",
    "                                 p=[.5, .5])\n",
    "            if (i,j) in coralNodeLocations:\n",
    "                U = 0\n",
    "            grid[i,j] = U\n",
    "    outputs[count] = len(coralNodeLocations)\n",
    "    count = count + 1"
   ]
  },
  {
   "cell_type": "code",
   "execution_count": 47,
   "metadata": {},
   "outputs": [
    {
     "data": {
      "text/plain": [
       "[<matplotlib.lines.Line2D at 0x119cd4ba8>]"
      ]
     },
     "execution_count": 47,
     "metadata": {},
     "output_type": "execute_result"
    },
    {
     "data": {
      "image/png": "[encoded data removed]",
      "text/plain": [
       "<Figure size 432x288 with 1 Axes>"
      ]
     },
     "metadata": {
      "needs_background": "light"
     },
     "output_type": "display_data"
    }
   ],
   "source": [
    "plt.figure()\n",
    "plt.plot(inputs,outputs)"
   ]
  }
 ],
 "metadata": {
  "kernelspec": {
   "display_name": "Python 3",
   "language": "python",
   "name": "python3"
  },
  "language_info": {
   "codemirror_mode": {
    "name": "ipython",
    "version": 3
   },
   "file_extension": ".py",
   "mimetype": "text/x-python",
   "name": "python",
   "nbconvert_exporter": "python",
   "pygments_lexer": "ipython3",
   "version": "3.7.3"
  }
 },
 "nbformat": 4,
 "nbformat_minor": 4
}
