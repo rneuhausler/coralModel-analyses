{
 "cells": [
  {
   "cell_type": "code",
   "execution_count": 29,
   "metadata": {},
   "outputs": [],
   "source": [
    "import os\n",
    "import numpy as np\n",
    "import pandas as pd\n",
    "import re\n",
    "import matplotlib.pyplot as plt\n",
    "plt.close('all')\n",
    "%matplotlib inline"
   ]
  },
  {
   "cell_type": "markdown",
   "metadata": {},
   "source": [
    "## Overview of model runs"
   ]
  },
  {
   "cell_type": "code",
   "execution_count": 6,
   "metadata": {
    "scrolled": true
   },
   "outputs": [],
   "source": [
    "topDirectory = \".././output/\"#os.getcwd()\n",
    "files = [path+'/'+file for path, d, f in os.walk(topDirectory) for file in f if file.endswith(\".csv\")]\n",
    "overviewOfRuns = pd.concat([pd.DataFrame([np.array(re.split('[a-z-/.]+',files[n])[1:-1], dtype='int')]) \n",
    "           for n in range(0,len(files))])\n",
    "overviewOfRuns.columns = ['Rows', 'Columns', 'Grid Option', 'Grazing',\n",
    "                  'Initial Coral Percent', 'Initial Macroalgae Percent',\n",
    "                      'r', 'd', 'a', 'y', 'Time', 'Record Rate', 'Number of Simulations']\n",
    "overviewOfRuns = overviewOfRuns.set_index([pd.Series([n for n in range(0,len(files))])])\n",
    "overviewOfRuns['File']=overviewOfRuns.index\n",
    "#overviewOfRuns.head()"
   ]
  },
  {
   "cell_type": "markdown",
   "metadata": {},
   "source": [
    "## Choose Runs to Explore"
   ]
  },
  {
   "cell_type": "code",
   "execution_count": 15,
   "metadata": {
    "scrolled": true
   },
   "outputs": [
    {
     "data": {
      "text/html": [
       "<div>\n",
       "<style scoped>\n",
       "    .dataframe tbody tr th:only-of-type {\n",
       "        vertical-align: middle;\n",
       "    }\n",
       "\n",
       "    .dataframe tbody tr th {\n",
       "        vertical-align: top;\n",
       "    }\n",
       "\n",
       "    .dataframe thead th {\n",
       "        text-align: right;\n",
       "    }\n",
       "</style>\n",
       "<table border=\"1\" class=\"dataframe\">\n",
       "  <thead>\n",
       "    <tr style=\"text-align: right;\">\n",
       "      <th></th>\n",
       "      <th>Rows</th>\n",
       "      <th>Columns</th>\n",
       "      <th>Grid Option</th>\n",
       "      <th>Grazing</th>\n",
       "      <th>Initial Coral Percent</th>\n",
       "      <th>Initial Macroalgae Percent</th>\n",
       "      <th>r</th>\n",
       "      <th>d</th>\n",
       "      <th>a</th>\n",
       "      <th>y</th>\n",
       "      <th>Time</th>\n",
       "      <th>Record Rate</th>\n",
       "      <th>Number of Simulations</th>\n",
       "      <th>File</th>\n",
       "    </tr>\n",
       "  </thead>\n",
       "  <tbody>\n",
       "    <tr>\n",
       "      <th>0</th>\n",
       "      <td>15</td>\n",
       "      <td>15</td>\n",
       "      <td>0</td>\n",
       "      <td>60</td>\n",
       "      <td>20</td>\n",
       "      <td>10</td>\n",
       "      <td>10</td>\n",
       "      <td>40</td>\n",
       "      <td>20</td>\n",
       "      <td>75</td>\n",
       "      <td>5010</td>\n",
       "      <td>200</td>\n",
       "      <td>100</td>\n",
       "      <td>0</td>\n",
       "    </tr>\n",
       "    <tr>\n",
       "      <th>1</th>\n",
       "      <td>15</td>\n",
       "      <td>15</td>\n",
       "      <td>0</td>\n",
       "      <td>60</td>\n",
       "      <td>5</td>\n",
       "      <td>20</td>\n",
       "      <td>10</td>\n",
       "      <td>40</td>\n",
       "      <td>20</td>\n",
       "      <td>75</td>\n",
       "      <td>5010</td>\n",
       "      <td>200</td>\n",
       "      <td>100</td>\n",
       "      <td>1</td>\n",
       "    </tr>\n",
       "    <tr>\n",
       "      <th>2</th>\n",
       "      <td>15</td>\n",
       "      <td>15</td>\n",
       "      <td>0</td>\n",
       "      <td>60</td>\n",
       "      <td>10</td>\n",
       "      <td>5</td>\n",
       "      <td>10</td>\n",
       "      <td>40</td>\n",
       "      <td>20</td>\n",
       "      <td>75</td>\n",
       "      <td>5010</td>\n",
       "      <td>200</td>\n",
       "      <td>100</td>\n",
       "      <td>2</td>\n",
       "    </tr>\n",
       "    <tr>\n",
       "      <th>3</th>\n",
       "      <td>15</td>\n",
       "      <td>15</td>\n",
       "      <td>0</td>\n",
       "      <td>60</td>\n",
       "      <td>5</td>\n",
       "      <td>5</td>\n",
       "      <td>10</td>\n",
       "      <td>40</td>\n",
       "      <td>20</td>\n",
       "      <td>75</td>\n",
       "      <td>5010</td>\n",
       "      <td>200</td>\n",
       "      <td>100</td>\n",
       "      <td>3</td>\n",
       "    </tr>\n",
       "    <tr>\n",
       "      <th>4</th>\n",
       "      <td>15</td>\n",
       "      <td>15</td>\n",
       "      <td>0</td>\n",
       "      <td>60</td>\n",
       "      <td>10</td>\n",
       "      <td>20</td>\n",
       "      <td>10</td>\n",
       "      <td>40</td>\n",
       "      <td>20</td>\n",
       "      <td>75</td>\n",
       "      <td>5010</td>\n",
       "      <td>200</td>\n",
       "      <td>100</td>\n",
       "      <td>4</td>\n",
       "    </tr>\n",
       "    <tr>\n",
       "      <th>5</th>\n",
       "      <td>15</td>\n",
       "      <td>15</td>\n",
       "      <td>0</td>\n",
       "      <td>60</td>\n",
       "      <td>33</td>\n",
       "      <td>33</td>\n",
       "      <td>10</td>\n",
       "      <td>40</td>\n",
       "      <td>20</td>\n",
       "      <td>75</td>\n",
       "      <td>5010</td>\n",
       "      <td>200</td>\n",
       "      <td>100</td>\n",
       "      <td>5</td>\n",
       "    </tr>\n",
       "    <tr>\n",
       "      <th>6</th>\n",
       "      <td>15</td>\n",
       "      <td>15</td>\n",
       "      <td>0</td>\n",
       "      <td>60</td>\n",
       "      <td>20</td>\n",
       "      <td>20</td>\n",
       "      <td>10</td>\n",
       "      <td>40</td>\n",
       "      <td>20</td>\n",
       "      <td>75</td>\n",
       "      <td>5010</td>\n",
       "      <td>200</td>\n",
       "      <td>100</td>\n",
       "      <td>6</td>\n",
       "    </tr>\n",
       "    <tr>\n",
       "      <th>7</th>\n",
       "      <td>15</td>\n",
       "      <td>15</td>\n",
       "      <td>0</td>\n",
       "      <td>60</td>\n",
       "      <td>5</td>\n",
       "      <td>10</td>\n",
       "      <td>10</td>\n",
       "      <td>40</td>\n",
       "      <td>20</td>\n",
       "      <td>75</td>\n",
       "      <td>5010</td>\n",
       "      <td>200</td>\n",
       "      <td>100</td>\n",
       "      <td>7</td>\n",
       "    </tr>\n",
       "    <tr>\n",
       "      <th>8</th>\n",
       "      <td>15</td>\n",
       "      <td>15</td>\n",
       "      <td>0</td>\n",
       "      <td>60</td>\n",
       "      <td>20</td>\n",
       "      <td>5</td>\n",
       "      <td>10</td>\n",
       "      <td>40</td>\n",
       "      <td>20</td>\n",
       "      <td>75</td>\n",
       "      <td>5010</td>\n",
       "      <td>200</td>\n",
       "      <td>100</td>\n",
       "      <td>8</td>\n",
       "    </tr>\n",
       "    <tr>\n",
       "      <th>9</th>\n",
       "      <td>15</td>\n",
       "      <td>15</td>\n",
       "      <td>0</td>\n",
       "      <td>60</td>\n",
       "      <td>10</td>\n",
       "      <td>10</td>\n",
       "      <td>10</td>\n",
       "      <td>40</td>\n",
       "      <td>20</td>\n",
       "      <td>75</td>\n",
       "      <td>5010</td>\n",
       "      <td>200</td>\n",
       "      <td>100</td>\n",
       "      <td>9</td>\n",
       "    </tr>\n",
       "    <tr>\n",
       "      <th>10</th>\n",
       "      <td>15</td>\n",
       "      <td>15</td>\n",
       "      <td>0</td>\n",
       "      <td>50</td>\n",
       "      <td>20</td>\n",
       "      <td>10</td>\n",
       "      <td>10</td>\n",
       "      <td>40</td>\n",
       "      <td>20</td>\n",
       "      <td>75</td>\n",
       "      <td>5010</td>\n",
       "      <td>200</td>\n",
       "      <td>100</td>\n",
       "      <td>10</td>\n",
       "    </tr>\n",
       "    <tr>\n",
       "      <th>11</th>\n",
       "      <td>15</td>\n",
       "      <td>15</td>\n",
       "      <td>0</td>\n",
       "      <td>50</td>\n",
       "      <td>5</td>\n",
       "      <td>20</td>\n",
       "      <td>10</td>\n",
       "      <td>40</td>\n",
       "      <td>20</td>\n",
       "      <td>75</td>\n",
       "      <td>5010</td>\n",
       "      <td>200</td>\n",
       "      <td>100</td>\n",
       "      <td>11</td>\n",
       "    </tr>\n",
       "    <tr>\n",
       "      <th>13</th>\n",
       "      <td>15</td>\n",
       "      <td>15</td>\n",
       "      <td>0</td>\n",
       "      <td>50</td>\n",
       "      <td>10</td>\n",
       "      <td>5</td>\n",
       "      <td>10</td>\n",
       "      <td>40</td>\n",
       "      <td>20</td>\n",
       "      <td>75</td>\n",
       "      <td>5010</td>\n",
       "      <td>200</td>\n",
       "      <td>100</td>\n",
       "      <td>13</td>\n",
       "    </tr>\n",
       "    <tr>\n",
       "      <th>14</th>\n",
       "      <td>15</td>\n",
       "      <td>15</td>\n",
       "      <td>0</td>\n",
       "      <td>50</td>\n",
       "      <td>5</td>\n",
       "      <td>5</td>\n",
       "      <td>10</td>\n",
       "      <td>40</td>\n",
       "      <td>20</td>\n",
       "      <td>75</td>\n",
       "      <td>5010</td>\n",
       "      <td>200</td>\n",
       "      <td>100</td>\n",
       "      <td>14</td>\n",
       "    </tr>\n",
       "    <tr>\n",
       "      <th>15</th>\n",
       "      <td>15</td>\n",
       "      <td>15</td>\n",
       "      <td>0</td>\n",
       "      <td>50</td>\n",
       "      <td>10</td>\n",
       "      <td>20</td>\n",
       "      <td>10</td>\n",
       "      <td>40</td>\n",
       "      <td>20</td>\n",
       "      <td>75</td>\n",
       "      <td>5010</td>\n",
       "      <td>200</td>\n",
       "      <td>100</td>\n",
       "      <td>15</td>\n",
       "    </tr>\n",
       "    <tr>\n",
       "      <th>16</th>\n",
       "      <td>15</td>\n",
       "      <td>15</td>\n",
       "      <td>0</td>\n",
       "      <td>50</td>\n",
       "      <td>33</td>\n",
       "      <td>33</td>\n",
       "      <td>10</td>\n",
       "      <td>40</td>\n",
       "      <td>20</td>\n",
       "      <td>75</td>\n",
       "      <td>5010</td>\n",
       "      <td>200</td>\n",
       "      <td>100</td>\n",
       "      <td>16</td>\n",
       "    </tr>\n",
       "    <tr>\n",
       "      <th>17</th>\n",
       "      <td>15</td>\n",
       "      <td>15</td>\n",
       "      <td>0</td>\n",
       "      <td>50</td>\n",
       "      <td>20</td>\n",
       "      <td>20</td>\n",
       "      <td>10</td>\n",
       "      <td>40</td>\n",
       "      <td>20</td>\n",
       "      <td>75</td>\n",
       "      <td>5010</td>\n",
       "      <td>200</td>\n",
       "      <td>100</td>\n",
       "      <td>17</td>\n",
       "    </tr>\n",
       "    <tr>\n",
       "      <th>18</th>\n",
       "      <td>15</td>\n",
       "      <td>15</td>\n",
       "      <td>0</td>\n",
       "      <td>50</td>\n",
       "      <td>5</td>\n",
       "      <td>10</td>\n",
       "      <td>10</td>\n",
       "      <td>40</td>\n",
       "      <td>20</td>\n",
       "      <td>75</td>\n",
       "      <td>5010</td>\n",
       "      <td>200</td>\n",
       "      <td>100</td>\n",
       "      <td>18</td>\n",
       "    </tr>\n",
       "    <tr>\n",
       "      <th>19</th>\n",
       "      <td>15</td>\n",
       "      <td>15</td>\n",
       "      <td>0</td>\n",
       "      <td>50</td>\n",
       "      <td>20</td>\n",
       "      <td>5</td>\n",
       "      <td>10</td>\n",
       "      <td>40</td>\n",
       "      <td>20</td>\n",
       "      <td>75</td>\n",
       "      <td>5010</td>\n",
       "      <td>200</td>\n",
       "      <td>100</td>\n",
       "      <td>19</td>\n",
       "    </tr>\n",
       "    <tr>\n",
       "      <th>20</th>\n",
       "      <td>15</td>\n",
       "      <td>15</td>\n",
       "      <td>0</td>\n",
       "      <td>50</td>\n",
       "      <td>10</td>\n",
       "      <td>10</td>\n",
       "      <td>10</td>\n",
       "      <td>40</td>\n",
       "      <td>20</td>\n",
       "      <td>75</td>\n",
       "      <td>5010</td>\n",
       "      <td>200</td>\n",
       "      <td>100</td>\n",
       "      <td>20</td>\n",
       "    </tr>\n",
       "    <tr>\n",
       "      <th>25</th>\n",
       "      <td>15</td>\n",
       "      <td>15</td>\n",
       "      <td>2</td>\n",
       "      <td>60</td>\n",
       "      <td>20</td>\n",
       "      <td>10</td>\n",
       "      <td>10</td>\n",
       "      <td>40</td>\n",
       "      <td>20</td>\n",
       "      <td>75</td>\n",
       "      <td>5010</td>\n",
       "      <td>200</td>\n",
       "      <td>100</td>\n",
       "      <td>25</td>\n",
       "    </tr>\n",
       "    <tr>\n",
       "      <th>26</th>\n",
       "      <td>15</td>\n",
       "      <td>15</td>\n",
       "      <td>2</td>\n",
       "      <td>60</td>\n",
       "      <td>5</td>\n",
       "      <td>20</td>\n",
       "      <td>10</td>\n",
       "      <td>40</td>\n",
       "      <td>20</td>\n",
       "      <td>75</td>\n",
       "      <td>5010</td>\n",
       "      <td>200</td>\n",
       "      <td>100</td>\n",
       "      <td>26</td>\n",
       "    </tr>\n",
       "    <tr>\n",
       "      <th>27</th>\n",
       "      <td>15</td>\n",
       "      <td>15</td>\n",
       "      <td>2</td>\n",
       "      <td>60</td>\n",
       "      <td>10</td>\n",
       "      <td>5</td>\n",
       "      <td>10</td>\n",
       "      <td>40</td>\n",
       "      <td>20</td>\n",
       "      <td>75</td>\n",
       "      <td>5010</td>\n",
       "      <td>200</td>\n",
       "      <td>100</td>\n",
       "      <td>27</td>\n",
       "    </tr>\n",
       "    <tr>\n",
       "      <th>28</th>\n",
       "      <td>15</td>\n",
       "      <td>15</td>\n",
       "      <td>2</td>\n",
       "      <td>60</td>\n",
       "      <td>5</td>\n",
       "      <td>5</td>\n",
       "      <td>10</td>\n",
       "      <td>40</td>\n",
       "      <td>20</td>\n",
       "      <td>75</td>\n",
       "      <td>5010</td>\n",
       "      <td>200</td>\n",
       "      <td>100</td>\n",
       "      <td>28</td>\n",
       "    </tr>\n",
       "    <tr>\n",
       "      <th>29</th>\n",
       "      <td>15</td>\n",
       "      <td>15</td>\n",
       "      <td>2</td>\n",
       "      <td>60</td>\n",
       "      <td>10</td>\n",
       "      <td>20</td>\n",
       "      <td>10</td>\n",
       "      <td>40</td>\n",
       "      <td>20</td>\n",
       "      <td>75</td>\n",
       "      <td>5010</td>\n",
       "      <td>200</td>\n",
       "      <td>100</td>\n",
       "      <td>29</td>\n",
       "    </tr>\n",
       "    <tr>\n",
       "      <th>30</th>\n",
       "      <td>15</td>\n",
       "      <td>15</td>\n",
       "      <td>2</td>\n",
       "      <td>60</td>\n",
       "      <td>20</td>\n",
       "      <td>20</td>\n",
       "      <td>10</td>\n",
       "      <td>40</td>\n",
       "      <td>20</td>\n",
       "      <td>75</td>\n",
       "      <td>5010</td>\n",
       "      <td>200</td>\n",
       "      <td>100</td>\n",
       "      <td>30</td>\n",
       "    </tr>\n",
       "    <tr>\n",
       "      <th>31</th>\n",
       "      <td>15</td>\n",
       "      <td>15</td>\n",
       "      <td>2</td>\n",
       "      <td>60</td>\n",
       "      <td>5</td>\n",
       "      <td>10</td>\n",
       "      <td>10</td>\n",
       "      <td>40</td>\n",
       "      <td>20</td>\n",
       "      <td>75</td>\n",
       "      <td>5010</td>\n",
       "      <td>200</td>\n",
       "      <td>100</td>\n",
       "      <td>31</td>\n",
       "    </tr>\n",
       "    <tr>\n",
       "      <th>32</th>\n",
       "      <td>15</td>\n",
       "      <td>15</td>\n",
       "      <td>2</td>\n",
       "      <td>60</td>\n",
       "      <td>20</td>\n",
       "      <td>5</td>\n",
       "      <td>10</td>\n",
       "      <td>40</td>\n",
       "      <td>20</td>\n",
       "      <td>75</td>\n",
       "      <td>5010</td>\n",
       "      <td>200</td>\n",
       "      <td>100</td>\n",
       "      <td>32</td>\n",
       "    </tr>\n",
       "    <tr>\n",
       "      <th>33</th>\n",
       "      <td>15</td>\n",
       "      <td>15</td>\n",
       "      <td>2</td>\n",
       "      <td>60</td>\n",
       "      <td>10</td>\n",
       "      <td>10</td>\n",
       "      <td>10</td>\n",
       "      <td>40</td>\n",
       "      <td>20</td>\n",
       "      <td>75</td>\n",
       "      <td>5010</td>\n",
       "      <td>200</td>\n",
       "      <td>100</td>\n",
       "      <td>33</td>\n",
       "    </tr>\n",
       "    <tr>\n",
       "      <th>34</th>\n",
       "      <td>15</td>\n",
       "      <td>15</td>\n",
       "      <td>2</td>\n",
       "      <td>50</td>\n",
       "      <td>20</td>\n",
       "      <td>10</td>\n",
       "      <td>10</td>\n",
       "      <td>40</td>\n",
       "      <td>20</td>\n",
       "      <td>75</td>\n",
       "      <td>5010</td>\n",
       "      <td>200</td>\n",
       "      <td>100</td>\n",
       "      <td>34</td>\n",
       "    </tr>\n",
       "    <tr>\n",
       "      <th>35</th>\n",
       "      <td>15</td>\n",
       "      <td>15</td>\n",
       "      <td>2</td>\n",
       "      <td>50</td>\n",
       "      <td>5</td>\n",
       "      <td>20</td>\n",
       "      <td>10</td>\n",
       "      <td>40</td>\n",
       "      <td>20</td>\n",
       "      <td>75</td>\n",
       "      <td>5010</td>\n",
       "      <td>200</td>\n",
       "      <td>100</td>\n",
       "      <td>35</td>\n",
       "    </tr>\n",
       "    <tr>\n",
       "      <th>37</th>\n",
       "      <td>15</td>\n",
       "      <td>15</td>\n",
       "      <td>2</td>\n",
       "      <td>50</td>\n",
       "      <td>10</td>\n",
       "      <td>5</td>\n",
       "      <td>10</td>\n",
       "      <td>40</td>\n",
       "      <td>20</td>\n",
       "      <td>75</td>\n",
       "      <td>5010</td>\n",
       "      <td>200</td>\n",
       "      <td>100</td>\n",
       "      <td>37</td>\n",
       "    </tr>\n",
       "    <tr>\n",
       "      <th>38</th>\n",
       "      <td>15</td>\n",
       "      <td>15</td>\n",
       "      <td>2</td>\n",
       "      <td>50</td>\n",
       "      <td>5</td>\n",
       "      <td>5</td>\n",
       "      <td>10</td>\n",
       "      <td>40</td>\n",
       "      <td>20</td>\n",
       "      <td>75</td>\n",
       "      <td>5010</td>\n",
       "      <td>200</td>\n",
       "      <td>100</td>\n",
       "      <td>38</td>\n",
       "    </tr>\n",
       "    <tr>\n",
       "      <th>39</th>\n",
       "      <td>15</td>\n",
       "      <td>15</td>\n",
       "      <td>2</td>\n",
       "      <td>50</td>\n",
       "      <td>10</td>\n",
       "      <td>20</td>\n",
       "      <td>10</td>\n",
       "      <td>40</td>\n",
       "      <td>20</td>\n",
       "      <td>75</td>\n",
       "      <td>5010</td>\n",
       "      <td>200</td>\n",
       "      <td>100</td>\n",
       "      <td>39</td>\n",
       "    </tr>\n",
       "    <tr>\n",
       "      <th>40</th>\n",
       "      <td>15</td>\n",
       "      <td>15</td>\n",
       "      <td>2</td>\n",
       "      <td>50</td>\n",
       "      <td>20</td>\n",
       "      <td>20</td>\n",
       "      <td>10</td>\n",
       "      <td>40</td>\n",
       "      <td>20</td>\n",
       "      <td>75</td>\n",
       "      <td>5010</td>\n",
       "      <td>200</td>\n",
       "      <td>100</td>\n",
       "      <td>40</td>\n",
       "    </tr>\n",
       "    <tr>\n",
       "      <th>41</th>\n",
       "      <td>15</td>\n",
       "      <td>15</td>\n",
       "      <td>2</td>\n",
       "      <td>50</td>\n",
       "      <td>5</td>\n",
       "      <td>10</td>\n",
       "      <td>10</td>\n",
       "      <td>40</td>\n",
       "      <td>20</td>\n",
       "      <td>75</td>\n",
       "      <td>5010</td>\n",
       "      <td>200</td>\n",
       "      <td>100</td>\n",
       "      <td>41</td>\n",
       "    </tr>\n",
       "    <tr>\n",
       "      <th>42</th>\n",
       "      <td>15</td>\n",
       "      <td>15</td>\n",
       "      <td>2</td>\n",
       "      <td>50</td>\n",
       "      <td>20</td>\n",
       "      <td>5</td>\n",
       "      <td>10</td>\n",
       "      <td>40</td>\n",
       "      <td>20</td>\n",
       "      <td>75</td>\n",
       "      <td>5010</td>\n",
       "      <td>200</td>\n",
       "      <td>100</td>\n",
       "      <td>42</td>\n",
       "    </tr>\n",
       "    <tr>\n",
       "      <th>43</th>\n",
       "      <td>15</td>\n",
       "      <td>15</td>\n",
       "      <td>2</td>\n",
       "      <td>50</td>\n",
       "      <td>10</td>\n",
       "      <td>10</td>\n",
       "      <td>10</td>\n",
       "      <td>40</td>\n",
       "      <td>20</td>\n",
       "      <td>75</td>\n",
       "      <td>5010</td>\n",
       "      <td>200</td>\n",
       "      <td>100</td>\n",
       "      <td>43</td>\n",
       "    </tr>\n",
       "  </tbody>\n",
       "</table>\n",
       "</div>"
      ],
      "text/plain": [
       "    Rows  Columns  Grid Option  Grazing  Initial Coral Percent  \\\n",
       "0     15       15            0       60                     20   \n",
       "1     15       15            0       60                      5   \n",
       "2     15       15            0       60                     10   \n",
       "3     15       15            0       60                      5   \n",
       "4     15       15            0       60                     10   \n",
       "5     15       15            0       60                     33   \n",
       "6     15       15            0       60                     20   \n",
       "7     15       15            0       60                      5   \n",
       "8     15       15            0       60                     20   \n",
       "9     15       15            0       60                     10   \n",
       "10    15       15            0       50                     20   \n",
       "11    15       15            0       50                      5   \n",
       "13    15       15            0       50                     10   \n",
       "14    15       15            0       50                      5   \n",
       "15    15       15            0       50                     10   \n",
       "16    15       15            0       50                     33   \n",
       "17    15       15            0       50                     20   \n",
       "18    15       15            0       50                      5   \n",
       "19    15       15            0       50                     20   \n",
       "20    15       15            0       50                     10   \n",
       "25    15       15            2       60                     20   \n",
       "26    15       15            2       60                      5   \n",
       "27    15       15            2       60                     10   \n",
       "28    15       15            2       60                      5   \n",
       "29    15       15            2       60                     10   \n",
       "30    15       15            2       60                     20   \n",
       "31    15       15            2       60                      5   \n",
       "32    15       15            2       60                     20   \n",
       "33    15       15            2       60                     10   \n",
       "34    15       15            2       50                     20   \n",
       "35    15       15            2       50                      5   \n",
       "37    15       15            2       50                     10   \n",
       "38    15       15            2       50                      5   \n",
       "39    15       15            2       50                     10   \n",
       "40    15       15            2       50                     20   \n",
       "41    15       15            2       50                      5   \n",
       "42    15       15            2       50                     20   \n",
       "43    15       15            2       50                     10   \n",
       "\n",
       "    Initial Macroalgae Percent   r   d   a   y  Time  Record Rate  \\\n",
       "0                           10  10  40  20  75  5010          200   \n",
       "1                           20  10  40  20  75  5010          200   \n",
       "2                            5  10  40  20  75  5010          200   \n",
       "3                            5  10  40  20  75  5010          200   \n",
       "4                           20  10  40  20  75  5010          200   \n",
       "5                           33  10  40  20  75  5010          200   \n",
       "6                           20  10  40  20  75  5010          200   \n",
       "7                           10  10  40  20  75  5010          200   \n",
       "8                            5  10  40  20  75  5010          200   \n",
       "9                           10  10  40  20  75  5010          200   \n",
       "10                          10  10  40  20  75  5010          200   \n",
       "11                          20  10  40  20  75  5010          200   \n",
       "13                           5  10  40  20  75  5010          200   \n",
       "14                           5  10  40  20  75  5010          200   \n",
       "15                          20  10  40  20  75  5010          200   \n",
       "16                          33  10  40  20  75  5010          200   \n",
       "17                          20  10  40  20  75  5010          200   \n",
       "18                          10  10  40  20  75  5010          200   \n",
       "19                           5  10  40  20  75  5010          200   \n",
       "20                          10  10  40  20  75  5010          200   \n",
       "25                          10  10  40  20  75  5010          200   \n",
       "26                          20  10  40  20  75  5010          200   \n",
       "27                           5  10  40  20  75  5010          200   \n",
       "28                           5  10  40  20  75  5010          200   \n",
       "29                          20  10  40  20  75  5010          200   \n",
       "30                          20  10  40  20  75  5010          200   \n",
       "31                          10  10  40  20  75  5010          200   \n",
       "32                           5  10  40  20  75  5010          200   \n",
       "33                          10  10  40  20  75  5010          200   \n",
       "34                          10  10  40  20  75  5010          200   \n",
       "35                          20  10  40  20  75  5010          200   \n",
       "37                           5  10  40  20  75  5010          200   \n",
       "38                           5  10  40  20  75  5010          200   \n",
       "39                          20  10  40  20  75  5010          200   \n",
       "40                          20  10  40  20  75  5010          200   \n",
       "41                          10  10  40  20  75  5010          200   \n",
       "42                           5  10  40  20  75  5010          200   \n",
       "43                          10  10  40  20  75  5010          200   \n",
       "\n",
       "    Number of Simulations  File  \n",
       "0                     100     0  \n",
       "1                     100     1  \n",
       "2                     100     2  \n",
       "3                     100     3  \n",
       "4                     100     4  \n",
       "5                     100     5  \n",
       "6                     100     6  \n",
       "7                     100     7  \n",
       "8                     100     8  \n",
       "9                     100     9  \n",
       "10                    100    10  \n",
       "11                    100    11  \n",
       "13                    100    13  \n",
       "14                    100    14  \n",
       "15                    100    15  \n",
       "16                    100    16  \n",
       "17                    100    17  \n",
       "18                    100    18  \n",
       "19                    100    19  \n",
       "20                    100    20  \n",
       "25                    100    25  \n",
       "26                    100    26  \n",
       "27                    100    27  \n",
       "28                    100    28  \n",
       "29                    100    29  \n",
       "30                    100    30  \n",
       "31                    100    31  \n",
       "32                    100    32  \n",
       "33                    100    33  \n",
       "34                    100    34  \n",
       "35                    100    35  \n",
       "37                    100    37  \n",
       "38                    100    38  \n",
       "39                    100    39  \n",
       "40                    100    40  \n",
       "41                    100    41  \n",
       "42                    100    42  \n",
       "43                    100    43  "
      ]
     },
     "execution_count": 15,
     "metadata": {},
     "output_type": "execute_result"
    }
   ],
   "source": [
    "subset = overviewOfRuns[(overviewOfRuns['Record Rate']==200) & \n",
    "               (overviewOfRuns['Rows'] == 15) & \n",
    "               (overviewOfRuns['Grazing']==50) |\n",
    "               (overviewOfRuns['Grazing']==60)]\n",
    "subset"
   ]
  },
  {
   "cell_type": "markdown",
   "metadata": {},
   "source": [
    "## Load file data and combine with metadata from above"
   ]
  },
  {
   "cell_type": "code",
   "execution_count": 8,
   "metadata": {},
   "outputs": [],
   "source": [
    "simulationData = pd.concat([pd.DataFrame(pd.read_csv(files[f])).assign(\n",
    "    File = np.repeat(f, len(pd.read_csv(files[f])))) \n",
    "                       for f in list(subset.index)])\n",
    "df = pd.merge(simulationData, subset, on='File')"
   ]
  },
  {
   "cell_type": "code",
   "execution_count": 11,
   "metadata": {},
   "outputs": [
    {
     "data": {
      "text/plain": [
       "Index(['Simulation', 'Timestep', 'CoralCount', 'TurfCount', 'MacroalgaeCount',\n",
       "       'Coral-CoralNeighbors', 'Turf-TurfNeighbors', 'Macro-MacroNeighbors',\n",
       "       'CoralPatchCount', 'AlgaePatchCount', 'TurfPatchCount',\n",
       "       'MacroPatchCount', 'File', 'Rows', 'Columns', 'Grid Option', 'Grazing',\n",
       "       'Initial Coral Percent', 'Initial Macroalgae Percent', 'r', 'd', 'a',\n",
       "       'y', 'Time', 'Record Rate', 'Number of Simulations'],\n",
       "      dtype='object')"
      ]
     },
     "execution_count": 11,
     "metadata": {},
     "output_type": "execute_result"
    }
   ],
   "source": [
    "df.columns"
   ]
  },
  {
   "cell_type": "code",
   "execution_count": 14,
   "metadata": {},
   "outputs": [
    {
     "name": "stdout",
     "output_type": "stream",
     "text": [
      "Initial Coral Percent [20  5 10 33] Initial Macroalgae Percent [10 20  5 33] Grid Option [0 2] Grazing [60 50]\n"
     ]
    }
   ],
   "source": [
    "print('Initial Coral Percent', df['Initial Coral Percent'].unique(), \n",
    "      'Initial Macroalgae Percent', df['Initial Macroalgae Percent'].unique(), \n",
    "      'Grid Option', df['Grid Option'].unique(),\n",
    "      'Grazing', df['Grazing'].unique())"
   ]
  },
  {
   "cell_type": "markdown",
   "metadata": {},
   "source": [
    "## Grid Option 0"
   ]
  },
  {
   "cell_type": "code",
   "execution_count": 62,
   "metadata": {},
   "outputs": [],
   "source": [
    "gridOption0 = df[(df['Grid Option']==0)]                        \n",
    "gridOption2 = df[(df['Grid Option']==2)]"
   ]
  },
  {
   "cell_type": "code",
   "execution_count": 64,
   "metadata": {},
   "outputs": [
    {
     "data": {
      "text/plain": [
       "Text(0.5, 1.0, 'Sharing Y axis')"
      ]
     },
     "execution_count": 64,
     "metadata": {},
     "output_type": "execute_result"
    },
    {
     "data": {
      "image/png": "[encoded data removed]",
      "text/plain": [
       "<Figure size 1080x360 with 4 Axes>"
      ]
     },
     "metadata": {
      "needs_background": "light"
     },
     "output_type": "display_data"
    }
   ],
   "source": [
    "fig, (ax1, ax2) = plt.subplots(1, 2, sharey=True, sharex=True, figsize=(15, 5))\n",
    "\n",
    "gridOption0.plot.scatter(x= 'CoralPatchCount', y='Coral-CoralNeighbors',\n",
    "                              c='CoralCount', colormap='viridis', ax=ax1)\n",
    "ax1.set_title('Sharing Y axis')\n",
    "\n",
    "\n",
    "gridOption2.plot.scatter(x= 'CoralPatchCount', y='Coral-CoralNeighbors',\n",
    "                              c='CoralCount', colormap='viridis', ax=ax2)\n",
    "ax2.set_title('Sharing Y axis')"
   ]
  },
  {
   "cell_type": "code",
   "execution_count": 45,
   "metadata": {
    "scrolled": false
   },
   "outputs": [
    {
     "data": {
      "text/plain": [
       "Text(0.5, 1.0, 'Subset Coral Count')"
      ]
     },
     "execution_count": 45,
     "metadata": {},
     "output_type": "execute_result"
    },
    {
     "data": {
      "text/plain": [
       "<Figure size 1440x1080 with 0 Axes>"
      ]
     },
     "metadata": {},
     "output_type": "display_data"
    },
    {
     "data": {
      "image/png": "[encoded data removed]",
      "text/plain": [
       "<Figure size 432x288 with 2 Axes>"
      ]
     },
     "metadata": {
      "needs_background": "light"
     },
     "output_type": "display_data"
    },
    {
     "data": {
      "image/png": "[encoded data removed]",
      "text/plain": [
       "<Figure size 432x288 with 2 Axes>"
      ]
     },
     "metadata": {
      "needs_background": "light"
     },
     "output_type": "display_data"
    }
   ],
   "source": [
    "plt.figure(figsize=(20, 15))\n",
    "f, (ax1, ax2) = plt.subplots(1, 2, sharey=True)\n",
    "ax = gridOption0.plot.scatter(x= 'CoralPatchCount', y='Coral-CoralNeighbors',\n",
    "                              c='CoralCount', colormap='viridis')\n",
    "ax.set_title(\"Subset Coral Count\")\n",
    "\n",
    "ax2 = gridOption0.plot.scatter(x= 'CoralPatchCount', y='Coral-CoralNeighbors',\n",
    "                              c='CoralCount', colormap='viridis')\n",
    "ax2.set_title(\"Subset Coral Count\")\n"
   ]
  },
  {
   "cell_type": "code",
   "execution_count": null,
   "metadata": {},
   "outputs": [],
   "source": []
  },
  {
   "cell_type": "code",
   "execution_count": null,
   "metadata": {},
   "outputs": [],
   "source": []
  },
  {
   "cell_type": "code",
   "execution_count": null,
   "metadata": {},
   "outputs": [],
   "source": []
  },
  {
   "cell_type": "code",
   "execution_count": null,
   "metadata": {},
   "outputs": [],
   "source": []
  },
  {
   "cell_type": "code",
   "execution_count": null,
   "metadata": {},
   "outputs": [],
   "source": [
    "from pandas.plotting import radviz\n",
    "dfTime = df[df['Time'] > 2000]\n",
    "radviz(df.loc[:,['CoralCount', 'TurfCount', 'MacroalgaeCount','Initial Coral Percent']], 'Initial Coral Percent')"
   ]
  },
  {
   "cell_type": "code",
   "execution_count": null,
   "metadata": {},
   "outputs": [],
   "source": [
    "column=[\"Test_1\", \"Test_2\"])"
   ]
  },
  {
   "cell_type": "code",
   "execution_count": null,
   "metadata": {},
   "outputs": [],
   "source": [
    "coralInital5 = df[(df['Timestep']<2000) & (df['Initial Macroalgae Percent']==10)]\n",
    "coralInital5.groupby(['Grazing']).boxplot(column=['CoralCount'], \n",
    "                                          by=['Initial Coral Percent'],\n",
    "                                          figsize=(15,10), layout=(2,1))"
   ]
  },
  {
   "cell_type": "code",
   "execution_count": null,
   "metadata": {},
   "outputs": [],
   "source": [
    "grazing50['Initial Macroalgae Percent'].unique()"
   ]
  },
  {
   "cell_type": "code",
   "execution_count": null,
   "metadata": {},
   "outputs": [],
   "source": [
    "grazing50 = df[(df['Timestep']<2000) & (df['Grazing']==50) & (df['Grid Option']==0)]\n",
    "coralInital5.groupby(['Initial Macroalgae Percent']).boxplot(column=['CoralCount'], \n",
    "                                                             by=['Initial Coral Percent'],\n",
    "                                                             figsize=(15,10), layout=(4,1))"
   ]
  },
  {
   "cell_type": "code",
   "execution_count": null,
   "metadata": {},
   "outputs": [],
   "source": [
    "grazing60 = df[(df['Timestep']<2000) & (df['Grazing']==60) & (df['Grid Option']==0)]\n",
    "coralInital5.groupby(['Initial Coral Percent', 'Initial Macroalgae Percent']).plot(x='Timestep', y='CoralCount', c='Simulation',\n",
    "                                         figsize=(15,5), colormap='viridis')"
   ]
  },
  {
   "cell_type": "code",
   "execution_count": null,
   "metadata": {},
   "outputs": [],
   "source": []
  },
  {
   "cell_type": "markdown",
   "metadata": {},
   "source": [
    "## Plot chosen Runs"
   ]
  },
  {
   "cell_type": "markdown",
   "metadata": {},
   "source": [
    "### Coral Node Count v Time, Ordered by Model Runs"
   ]
  },
  {
   "cell_type": "markdown",
   "metadata": {},
   "source": [
    "### Count v Coral Node Count, Ordered by Model Runs"
   ]
  },
  {
   "cell_type": "markdown",
   "metadata": {},
   "source": [
    "### Coral-Coral Neighbors v Coral Patch Count"
   ]
  },
  {
   "cell_type": "code",
   "execution_count": null,
   "metadata": {},
   "outputs": [],
   "source": [
    "df.plot.scatter(x= 'CoralPatchCount', y='Coral-CoralNeighbors',\n",
    "                c='CoralCount', colormap='viridis', figsize=(10,10))"
   ]
  },
  {
   "cell_type": "markdown",
   "metadata": {},
   "source": [
    "# Exploring Variations in Grid Size / Initial Dist. and Grazing"
   ]
  },
  {
   "cell_type": "code",
   "execution_count": null,
   "metadata": {},
   "outputs": [],
   "source": [
    "overviewOfRuns"
   ]
  },
  {
   "cell_type": "markdown",
   "metadata": {},
   "source": [
    "## 15 X 15 Grazing 30, 40, 50, 60, 70"
   ]
  },
  {
   "cell_type": "code",
   "execution_count": null,
   "metadata": {},
   "outputs": [],
   "source": [
    "filesOfInterest = [6, 3, 2, 0, 4]  ## e.g. [2,3,6] -> will pull simulations with corresponding index in table above\n",
    "\n",
    "coralData = pd.concat([pd.DataFrame(pd.read_csv(files[f])).assign(File = np.repeat(overviewOfRuns['Grazing'][f], len(pd.read_csv(files[f]))))\n",
    "                       for f in filesOfInterest])\n",
    "\n",
    "labels = [overviewOfRuns['Grazing'][index] for index in filesOfInterest]"
   ]
  },
  {
   "cell_type": "code",
   "execution_count": null,
   "metadata": {},
   "outputs": [],
   "source": [
    "coralData.groupby(['File']).plot.scatter(x='Timestep', y='CoralCount', c='Simulation',\n",
    "                                         figsize=(15,5), colormap='viridis')"
   ]
  },
  {
   "cell_type": "code",
   "execution_count": null,
   "metadata": {
    "scrolled": true
   },
   "outputs": [],
   "source": [
    "coralData.groupby(['File']).plot.scatter(x= 'CoralPatchCount', \n",
    "                                         y='Coral-CoralNeighbors', c='CoralCount', \n",
    "                                         colormap='viridis', figsize=(10,10))"
   ]
  },
  {
   "cell_type": "markdown",
   "metadata": {},
   "source": [
    "## 15 X 15, Grazing: 50, 55, Grid Option: Random, Blob"
   ]
  },
  {
   "cell_type": "code",
   "execution_count": null,
   "metadata": {},
   "outputs": [],
   "source": [
    "filesOfInterest = [1,7]  ## e.g. [2,3,6] -> will pull simulations with corresponding index in table above\n",
    "\n",
    "coralData = pd.concat([pd.DataFrame(pd.read_csv(files[f])).assign(File = np.repeat(f, len(pd.read_csv(files[f])))) \n",
    "                       for f in filesOfInterest])\n",
    "\n",
    "#labels = [overviewOfRuns['Grazing'][index] + ' ' overviewOfRuns['Grazing'][index]  for index in filesOfInterest]\n",
    "\n",
    "overviewOfRuns.iloc[filesOfInterest,]"
   ]
  },
  {
   "cell_type": "code",
   "execution_count": null,
   "metadata": {},
   "outputs": [],
   "source": [
    "coralData.groupby(['File']).plot.scatter(x='Timestep', y='CoralCount', c='Simulation',\n",
    "                                         figsize=(15,5), colormap='viridis')"
   ]
  },
  {
   "cell_type": "code",
   "execution_count": null,
   "metadata": {},
   "outputs": [],
   "source": [
    "filesOfInterest = [5,8]  ## e.g. [2,3,6] -> will pull simulations with corresponding index in table above\n",
    "\n",
    "coralData = pd.concat([pd.DataFrame(pd.read_csv(files[f])).assign(File = np.repeat(f, len(pd.read_csv(files[f])))) \n",
    "                       for f in filesOfInterest])\n",
    "\n",
    "#labels = [overviewOfRuns['Grazing'][index] + ' ' overviewOfRuns['Grazing'][index]  for index in filesOfInterest]\n",
    "\n",
    "overviewOfRuns.iloc[filesOfInterest,]"
   ]
  },
  {
   "cell_type": "code",
   "execution_count": null,
   "metadata": {},
   "outputs": [],
   "source": [
    "coralData.groupby(['File']).plot.scatter(x='Timestep', y='CoralCount', c='Simulation',\n",
    "                                         figsize=(15,5), colormap='viridis')"
   ]
  },
  {
   "cell_type": "code",
   "execution_count": null,
   "metadata": {},
   "outputs": [],
   "source": [
    "coralData.groupby(['File']).plot.scatter(x= 'CoralPatchCount', y='Coral-CoralNeighbors', c='CoralCount', colormap='viridis', figsize=(10,10))"
   ]
  },
  {
   "cell_type": "markdown",
   "metadata": {},
   "source": [
    "## 20 X 20, Grazing: 50, 55, Grid Option: Random, Blob"
   ]
  },
  {
   "cell_type": "code",
   "execution_count": null,
   "metadata": {},
   "outputs": [],
   "source": [
    "filesOfInterest = [9,11]  ## e.g. [2,3,6] -> will pull simulations with corresponding index in table above\n",
    "\n",
    "coralData = pd.concat([pd.DataFrame(pd.read_csv(files[f])).assign(File = np.repeat(f, len(pd.read_csv(files[f])))) \n",
    "                       for f in filesOfInterest])\n",
    "\n",
    "#labels = [overviewOfRuns['Grazing'][index] + ' ' overviewOfRuns['Grazing'][index]  for index in filesOfInterest]\n",
    "\n",
    "overviewOfRuns.iloc[filesOfInterest,]"
   ]
  },
  {
   "cell_type": "code",
   "execution_count": null,
   "metadata": {},
   "outputs": [],
   "source": [
    "coralData.groupby(['File']).plot.scatter(x='Timestep', y='CoralCount', c='Simulation',\n",
    "                                         figsize=(15,5), colormap='viridis')"
   ]
  },
  {
   "cell_type": "code",
   "execution_count": null,
   "metadata": {},
   "outputs": [],
   "source": [
    "filesOfInterest = [10,12]  ## e.g. [2,3,6] -> will pull simulations with corresponding index in table above\n",
    "\n",
    "coralData = pd.concat([pd.DataFrame(pd.read_csv(files[f])).assign(File = np.repeat(f, len(pd.read_csv(files[f])))) \n",
    "                       for f in filesOfInterest])\n",
    "\n",
    "#labels = [overviewOfRuns['Grazing'][index] + ' ' overviewOfRuns['Grazing'][index]  for index in filesOfInterest]\n",
    "\n",
    "overviewOfRuns.iloc[filesOfInterest,]"
   ]
  },
  {
   "cell_type": "code",
   "execution_count": null,
   "metadata": {},
   "outputs": [],
   "source": [
    "coralData.groupby(['File']).plot.scatter(x='Timestep', y='CoralCount', c='Simulation',\n",
    "                                         figsize=(15,5), colormap='viridis')"
   ]
  },
  {
   "cell_type": "code",
   "execution_count": null,
   "metadata": {},
   "outputs": [],
   "source": [
    "## blob of same number of nodes, plot in percentage (instead of absolute values)"
   ]
  },
  {
   "cell_type": "code",
   "execution_count": null,
   "metadata": {},
   "outputs": [],
   "source": [
    "overviewOfRuns"
   ]
  },
  {
   "cell_type": "code",
   "execution_count": null,
   "metadata": {},
   "outputs": [],
   "source": [
    "filesOfInterest = [5,6,7,8]  ## e.g. [2,3,6] -> will pull simulations with corresponding index in table above\n",
    "\n",
    "coralData = pd.concat([pd.DataFrame(pd.read_csv(files[f])).assign(File = np.repeat(f, len(pd.read_csv(files[f])))) \n",
    "                       for f in filesOfInterest])\n",
    "coralData"
   ]
  },
  {
   "cell_type": "code",
   "execution_count": null,
   "metadata": {},
   "outputs": [],
   "source": [
    "coralData.groupby(['Timestep'])['CoralCount'].mean(), coralData.groupby(['Timestep'])['CoralCount'].std()"
   ]
  },
  {
   "cell_type": "code",
   "execution_count": null,
   "metadata": {},
   "outputs": [],
   "source": [
    "coralData.groupby(['File']).groupby(['Timestep']).scatter(x='CoralCount')"
   ]
  },
  {
   "cell_type": "code",
   "execution_count": null,
   "metadata": {},
   "outputs": [],
   "source": [
    "overviewOfRuns"
   ]
  },
  {
   "cell_type": "code",
   "execution_count": null,
   "metadata": {},
   "outputs": [],
   "source": [
    "overviewOfRuns.iloc[[1,7],]"
   ]
  },
  {
   "cell_type": "markdown",
   "metadata": {},
   "source": [
    "# Random Grid, g .5  "
   ]
  },
  {
   "cell_type": "code",
   "execution_count": null,
   "metadata": {},
   "outputs": [],
   "source": [
    "filesOfInterest = [1]  ## e.g. [2,3,6] -> will pull simulations with corresponding index in table above\n",
    "\n",
    "coralData = pd.concat([pd.DataFrame(pd.read_csv(files[f])).assign(File = np.repeat(f, len(pd.read_csv(files[f])))) \n",
    "                       for f in filesOfInterest])\n",
    "\n",
    "coralData.boxplot(column=['CoralCount'], by=['Timestep'],figsize=(15,5))"
   ]
  },
  {
   "cell_type": "markdown",
   "metadata": {},
   "source": [
    "# Blob Grid, g .5 "
   ]
  },
  {
   "cell_type": "code",
   "execution_count": null,
   "metadata": {},
   "outputs": [],
   "source": [
    "filesOfInterest = [7]  ## e.g. [2,3,6] -> will pull simulations with corresponding index in table above\n",
    "\n",
    "coralData = pd.concat([pd.DataFrame(pd.read_csv(files[f])).assign(File = np.repeat(f, len(pd.read_csv(files[f])))) \n",
    "                       for f in filesOfInterest])\n",
    "\n",
    "coralData.boxplot(column=['CoralCount'], by=['Timestep'],figsize=(15,5))"
   ]
  },
  {
   "cell_type": "markdown",
   "metadata": {},
   "source": []
  },
  {
   "cell_type": "code",
   "execution_count": null,
   "metadata": {},
   "outputs": [],
   "source": [
    "overviewOfRuns.iloc[[5,8],]"
   ]
  },
  {
   "cell_type": "markdown",
   "metadata": {},
   "source": [
    "## Random Grid, g=.55"
   ]
  },
  {
   "cell_type": "code",
   "execution_count": null,
   "metadata": {},
   "outputs": [],
   "source": [
    "filesOfInterest = [5]\n",
    "coralData = pd.concat([pd.DataFrame(pd.read_csv(files[f])).assign(File = np.repeat(f, len(pd.read_csv(files[f])))) \n",
    "                       for f in filesOfInterest])\n",
    "coralData.boxplot(column=['CoralCount'], by=['Timestep'],figsize=(15,5))"
   ]
  },
  {
   "cell_type": "markdown",
   "metadata": {},
   "source": [
    "## Blob Grid, g=.55"
   ]
  },
  {
   "cell_type": "code",
   "execution_count": null,
   "metadata": {},
   "outputs": [],
   "source": [
    "filesOfInterest = [8]\n",
    "coralData = pd.concat([pd.DataFrame(pd.read_csv(files[f])).assign(File = np.repeat(f, len(pd.read_csv(files[f])))) \n",
    "                       for f in filesOfInterest])\n",
    "coralData.boxplot(column=['CoralCount'], by=['Timestep'],figsize=(15,5))"
   ]
  },
  {
   "cell_type": "code",
   "execution_count": null,
   "metadata": {},
   "outputs": [],
   "source": [
    "overviewOfRuns.iloc[[9,10,11,12],]"
   ]
  },
  {
   "cell_type": "code",
   "execution_count": null,
   "metadata": {},
   "outputs": [],
   "source": [
    "filesOfInterest = [9]\n",
    "coralData = pd.concat([pd.DataFrame(pd.read_csv(files[f])).assign(File = np.repeat(f, len(pd.read_csv(files[f])))) \n",
    "                       for f in filesOfInterest])\n",
    "coralData.boxplot(column=['CoralCount'], by=['Timestep'],figsize=(15,5))"
   ]
  },
  {
   "cell_type": "code",
   "execution_count": null,
   "metadata": {},
   "outputs": [],
   "source": [
    "filesOfInterest = [11]\n",
    "coralData = pd.concat([pd.DataFrame(pd.read_csv(files[f])).assign(File = np.repeat(f, len(pd.read_csv(files[f])))) \n",
    "                       for f in filesOfInterest])\n",
    "coralData.boxplot(column=['CoralCount'], by=['Timestep'],figsize=(15,5))"
   ]
  },
  {
   "cell_type": "code",
   "execution_count": null,
   "metadata": {},
   "outputs": [],
   "source": [
    "filesOfInterest = [10]\n",
    "coralData = pd.concat([pd.DataFrame(pd.read_csv(files[f])).assign(File = np.repeat(f, len(pd.read_csv(files[f])))) \n",
    "                       for f in filesOfInterest])\n",
    "coralData.boxplot(column=['CoralCount'], by=['Timestep'],figsize=(15,5))"
   ]
  },
  {
   "cell_type": "code",
   "execution_count": null,
   "metadata": {},
   "outputs": [],
   "source": [
    "filesOfInterest = [12]\n",
    "coralData = pd.concat([pd.DataFrame(pd.read_csv(files[f])).assign(File = np.repeat(f, len(pd.read_csv(files[f])))) \n",
    "                       for f in filesOfInterest])\n",
    "coralData.boxplot(column=['CoralCount'], by=['Timestep'],figsize=(15,5))"
   ]
  },
  {
   "cell_type": "code",
   "execution_count": null,
   "metadata": {},
   "outputs": [],
   "source": [
    "## Vary initial concentrations of coral, lower bound of coral percent in order to return \n",
    "## save as percentage initially\n",
    "## look into literature regarding patch size"
   ]
  }
 ],
 "metadata": {
  "kernelspec": {
   "display_name": "Python 3",
   "language": "python",
   "name": "python3"
  },
  "language_info": {
   "codemirror_mode": {
    "name": "ipython",
    "version": 3
   },
   "file_extension": ".py",
   "mimetype": "text/x-python",
   "name": "python",
   "nbconvert_exporter": "python",
   "pygments_lexer": "ipython3",
   "version": "3.7.3"
  }
 },
 "nbformat": 4,
 "nbformat_minor": 2
}
