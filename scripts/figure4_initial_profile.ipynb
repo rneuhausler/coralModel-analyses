{
 "cells": [
  {
   "cell_type": "code",
   "execution_count": 178,
   "metadata": {},
   "outputs": [],
   "source": [
    "import os\n",
    "import numpy as np\n",
    "import pandas as pd\n",
    "import seaborn as sns\n",
    "import tools as tl\n",
    "import matplotlib.pyplot as plt\n",
    "import matplotlib.colors as clt\n",
    "import matplotlib.animation as animation\n",
    "import re\n",
    "\n",
    "sns.set_style(\"ticks\")\n",
    "\n",
    "palette = 'Accent'\n",
    "\n",
    "path = './figures/paper/4_initial_profile/'\n",
    "extension = '.png'\n",
    "\n",
    "top_directory = \"./output/\" #os.getcwd()\n",
    "files, runs = tl.view_runs(top_directory)"
   ]
  },
  {
   "cell_type": "code",
   "execution_count": 179,
   "metadata": {},
   "outputs": [],
   "source": [
    "def prep_image(df, simulation, timestep):    \n",
    "    image = df[(df['timestep']==timestep)&(df['simulation']==simulation)]['image']\n",
    "    image = np.genfromtxt([image.values[0].replace('[', '').replace(']', '')])\n",
    "    image = np.reshape(image, (25,25))\n",
    "    return(image)\n",
    "\n",
    "colors = ['#EE8382', '#508991', '#172A3A']\n",
    "levels = [0, 1, 2]\n",
    "legend_keys = ['Coral', 'Turf', 'Macroalgae']\n",
    "cmap_types, norm_types = clt.from_levels_and_colors(levels=levels, colors=colors, extend='max')\n",
    "\n",
    "## for background of plots\n",
    "\n",
    "output_facecolor = '#EDEDED'"
   ]
  },
  {
   "cell_type": "code",
   "execution_count": 180,
   "metadata": {},
   "outputs": [
    {
     "data": {
      "text/html": [
       "<div>\n",
       "<style scoped>\n",
       "    .dataframe tbody tr th:only-of-type {\n",
       "        vertical-align: middle;\n",
       "    }\n",
       "\n",
       "    .dataframe tbody tr th {\n",
       "        vertical-align: top;\n",
       "    }\n",
       "\n",
       "    .dataframe thead th {\n",
       "        text-align: right;\n",
       "    }\n",
       "</style>\n",
       "<table border=\"1\" class=\"dataframe\">\n",
       "  <thead>\n",
       "    <tr style=\"text-align: right;\">\n",
       "      <th></th>\n",
       "      <th>number_of_rows</th>\n",
       "      <th>number_of_columns</th>\n",
       "      <th>grid_option</th>\n",
       "      <th>grazing</th>\n",
       "      <th>neighborhood_threshold</th>\n",
       "      <th>initial_coral_percent</th>\n",
       "      <th>initial_macroalgae_percent</th>\n",
       "      <th>r</th>\n",
       "      <th>d</th>\n",
       "      <th>a</th>\n",
       "      <th>y</th>\n",
       "      <th>number_of_timesteps</th>\n",
       "      <th>record_rate</th>\n",
       "      <th>number_of_simulations</th>\n",
       "      <th>file</th>\n",
       "    </tr>\n",
       "  </thead>\n",
       "  <tbody>\n",
       "    <tr>\n",
       "      <th>0</th>\n",
       "      <td>25</td>\n",
       "      <td>25</td>\n",
       "      <td>0</td>\n",
       "      <td>45</td>\n",
       "      <td>145</td>\n",
       "      <td>15</td>\n",
       "      <td>40</td>\n",
       "      <td>10</td>\n",
       "      <td>40</td>\n",
       "      <td>20</td>\n",
       "      <td>75</td>\n",
       "      <td>2100</td>\n",
       "      <td>10</td>\n",
       "      <td>100</td>\n",
       "      <td>0</td>\n",
       "    </tr>\n",
       "    <tr>\n",
       "      <th>2</th>\n",
       "      <td>25</td>\n",
       "      <td>25</td>\n",
       "      <td>0</td>\n",
       "      <td>51</td>\n",
       "      <td>145</td>\n",
       "      <td>15</td>\n",
       "      <td>40</td>\n",
       "      <td>10</td>\n",
       "      <td>40</td>\n",
       "      <td>20</td>\n",
       "      <td>75</td>\n",
       "      <td>2100</td>\n",
       "      <td>10</td>\n",
       "      <td>100</td>\n",
       "      <td>2</td>\n",
       "    </tr>\n",
       "    <tr>\n",
       "      <th>5</th>\n",
       "      <td>25</td>\n",
       "      <td>25</td>\n",
       "      <td>0</td>\n",
       "      <td>60</td>\n",
       "      <td>145</td>\n",
       "      <td>15</td>\n",
       "      <td>40</td>\n",
       "      <td>10</td>\n",
       "      <td>40</td>\n",
       "      <td>20</td>\n",
       "      <td>75</td>\n",
       "      <td>2100</td>\n",
       "      <td>10</td>\n",
       "      <td>100</td>\n",
       "      <td>5</td>\n",
       "    </tr>\n",
       "    <tr>\n",
       "      <th>7</th>\n",
       "      <td>25</td>\n",
       "      <td>25</td>\n",
       "      <td>0</td>\n",
       "      <td>57</td>\n",
       "      <td>145</td>\n",
       "      <td>15</td>\n",
       "      <td>40</td>\n",
       "      <td>10</td>\n",
       "      <td>40</td>\n",
       "      <td>20</td>\n",
       "      <td>75</td>\n",
       "      <td>2100</td>\n",
       "      <td>10</td>\n",
       "      <td>100</td>\n",
       "      <td>7</td>\n",
       "    </tr>\n",
       "    <tr>\n",
       "      <th>10</th>\n",
       "      <td>25</td>\n",
       "      <td>25</td>\n",
       "      <td>0</td>\n",
       "      <td>48</td>\n",
       "      <td>145</td>\n",
       "      <td>15</td>\n",
       "      <td>40</td>\n",
       "      <td>10</td>\n",
       "      <td>40</td>\n",
       "      <td>20</td>\n",
       "      <td>75</td>\n",
       "      <td>2100</td>\n",
       "      <td>10</td>\n",
       "      <td>100</td>\n",
       "      <td>10</td>\n",
       "    </tr>\n",
       "    <tr>\n",
       "      <th>16</th>\n",
       "      <td>25</td>\n",
       "      <td>25</td>\n",
       "      <td>0</td>\n",
       "      <td>54</td>\n",
       "      <td>145</td>\n",
       "      <td>15</td>\n",
       "      <td>40</td>\n",
       "      <td>10</td>\n",
       "      <td>40</td>\n",
       "      <td>20</td>\n",
       "      <td>75</td>\n",
       "      <td>2100</td>\n",
       "      <td>10</td>\n",
       "      <td>100</td>\n",
       "      <td>16</td>\n",
       "    </tr>\n",
       "    <tr>\n",
       "      <th>21</th>\n",
       "      <td>25</td>\n",
       "      <td>25</td>\n",
       "      <td>2</td>\n",
       "      <td>45</td>\n",
       "      <td>145</td>\n",
       "      <td>15</td>\n",
       "      <td>40</td>\n",
       "      <td>10</td>\n",
       "      <td>40</td>\n",
       "      <td>20</td>\n",
       "      <td>75</td>\n",
       "      <td>2100</td>\n",
       "      <td>10</td>\n",
       "      <td>100</td>\n",
       "      <td>21</td>\n",
       "    </tr>\n",
       "    <tr>\n",
       "      <th>22</th>\n",
       "      <td>25</td>\n",
       "      <td>25</td>\n",
       "      <td>2</td>\n",
       "      <td>51</td>\n",
       "      <td>145</td>\n",
       "      <td>15</td>\n",
       "      <td>40</td>\n",
       "      <td>10</td>\n",
       "      <td>40</td>\n",
       "      <td>20</td>\n",
       "      <td>75</td>\n",
       "      <td>2100</td>\n",
       "      <td>10</td>\n",
       "      <td>100</td>\n",
       "      <td>22</td>\n",
       "    </tr>\n",
       "    <tr>\n",
       "      <th>23</th>\n",
       "      <td>25</td>\n",
       "      <td>25</td>\n",
       "      <td>2</td>\n",
       "      <td>60</td>\n",
       "      <td>145</td>\n",
       "      <td>15</td>\n",
       "      <td>40</td>\n",
       "      <td>10</td>\n",
       "      <td>40</td>\n",
       "      <td>20</td>\n",
       "      <td>75</td>\n",
       "      <td>2100</td>\n",
       "      <td>10</td>\n",
       "      <td>100</td>\n",
       "      <td>23</td>\n",
       "    </tr>\n",
       "    <tr>\n",
       "      <th>24</th>\n",
       "      <td>25</td>\n",
       "      <td>25</td>\n",
       "      <td>2</td>\n",
       "      <td>57</td>\n",
       "      <td>145</td>\n",
       "      <td>15</td>\n",
       "      <td>40</td>\n",
       "      <td>10</td>\n",
       "      <td>40</td>\n",
       "      <td>20</td>\n",
       "      <td>75</td>\n",
       "      <td>2100</td>\n",
       "      <td>10</td>\n",
       "      <td>100</td>\n",
       "      <td>24</td>\n",
       "    </tr>\n",
       "    <tr>\n",
       "      <th>25</th>\n",
       "      <td>25</td>\n",
       "      <td>25</td>\n",
       "      <td>2</td>\n",
       "      <td>48</td>\n",
       "      <td>145</td>\n",
       "      <td>15</td>\n",
       "      <td>40</td>\n",
       "      <td>10</td>\n",
       "      <td>40</td>\n",
       "      <td>20</td>\n",
       "      <td>75</td>\n",
       "      <td>2100</td>\n",
       "      <td>10</td>\n",
       "      <td>100</td>\n",
       "      <td>25</td>\n",
       "    </tr>\n",
       "    <tr>\n",
       "      <th>26</th>\n",
       "      <td>25</td>\n",
       "      <td>25</td>\n",
       "      <td>2</td>\n",
       "      <td>54</td>\n",
       "      <td>145</td>\n",
       "      <td>15</td>\n",
       "      <td>40</td>\n",
       "      <td>10</td>\n",
       "      <td>40</td>\n",
       "      <td>20</td>\n",
       "      <td>75</td>\n",
       "      <td>2100</td>\n",
       "      <td>10</td>\n",
       "      <td>100</td>\n",
       "      <td>26</td>\n",
       "    </tr>\n",
       "  </tbody>\n",
       "</table>\n",
       "</div>"
      ],
      "text/plain": [
       "    number_of_rows  number_of_columns  grid_option  grazing  \\\n",
       "0               25                 25            0       45   \n",
       "2               25                 25            0       51   \n",
       "5               25                 25            0       60   \n",
       "7               25                 25            0       57   \n",
       "10              25                 25            0       48   \n",
       "16              25                 25            0       54   \n",
       "21              25                 25            2       45   \n",
       "22              25                 25            2       51   \n",
       "23              25                 25            2       60   \n",
       "24              25                 25            2       57   \n",
       "25              25                 25            2       48   \n",
       "26              25                 25            2       54   \n",
       "\n",
       "    neighborhood_threshold  initial_coral_percent  initial_macroalgae_percent  \\\n",
       "0                      145                     15                          40   \n",
       "2                      145                     15                          40   \n",
       "5                      145                     15                          40   \n",
       "7                      145                     15                          40   \n",
       "10                     145                     15                          40   \n",
       "16                     145                     15                          40   \n",
       "21                     145                     15                          40   \n",
       "22                     145                     15                          40   \n",
       "23                     145                     15                          40   \n",
       "24                     145                     15                          40   \n",
       "25                     145                     15                          40   \n",
       "26                     145                     15                          40   \n",
       "\n",
       "     r   d   a   y  number_of_timesteps  record_rate  number_of_simulations  \\\n",
       "0   10  40  20  75                 2100           10                    100   \n",
       "2   10  40  20  75                 2100           10                    100   \n",
       "5   10  40  20  75                 2100           10                    100   \n",
       "7   10  40  20  75                 2100           10                    100   \n",
       "10  10  40  20  75                 2100           10                    100   \n",
       "16  10  40  20  75                 2100           10                    100   \n",
       "21  10  40  20  75                 2100           10                    100   \n",
       "22  10  40  20  75                 2100           10                    100   \n",
       "23  10  40  20  75                 2100           10                    100   \n",
       "24  10  40  20  75                 2100           10                    100   \n",
       "25  10  40  20  75                 2100           10                    100   \n",
       "26  10  40  20  75                 2100           10                    100   \n",
       "\n",
       "    file  \n",
       "0      0  \n",
       "2      2  \n",
       "5      5  \n",
       "7      7  \n",
       "10    10  \n",
       "16    16  \n",
       "21    21  \n",
       "22    22  \n",
       "23    23  \n",
       "24    24  \n",
       "25    25  \n",
       "26    26  "
      ]
     },
     "execution_count": 180,
     "metadata": {},
     "output_type": "execute_result"
    }
   ],
   "source": [
    "subset = runs[(runs['neighborhood_threshold']==145)&\n",
    "              (runs['initial_coral_percent']==15)&\n",
    "              (runs['initial_macroalgae_percent']==40)&\n",
    "              (runs['number_of_rows']==25)]\n",
    "subset"
   ]
  },
  {
   "cell_type": "code",
   "execution_count": 181,
   "metadata": {},
   "outputs": [],
   "source": [
    "df = tl.load_runs(files, subset)\n",
    "df = tl.split_neighbors(df)\n",
    "df = tl.add_percent(df)\n",
    "df['time'] = df['timestep']*.1\n",
    "df['time'] = df['time'].astype('int')\n",
    "df['C'] = round(df.coral_percent/100,2)\n",
    "df['T'] = round(df.turf_percent/100,2)\n",
    "df['M'] = round(df.macroalgae_percent/100,2)\n",
    "df['grid option'] = 'none'\n",
    "df.loc[df['grid_option']==0, ['grid option']] = 'random'\n",
    "df.loc[df['grid_option']==2, ['grid option']] = 'blob'"
   ]
  },
  {
   "cell_type": "code",
   "execution_count": 182,
   "metadata": {},
   "outputs": [],
   "source": [
    "times = [0,10,20,30,40,50,60,70,80,90,100]\n",
    "figsize = (6,2)\n",
    "simulation = 19"
   ]
  },
  {
   "cell_type": "code",
   "execution_count": 183,
   "metadata": {},
   "outputs": [],
   "source": [
    "## Pull Images\n",
    "\n",
    "timestep = 0\n",
    "\n",
    "df_image = df[(df['grid option']=='blob')&\n",
    "              (df['grazing']==48)].copy()\n",
    "initial_blob = prep_image(df_image, simulation=6, timestep=timestep)\n",
    "\n",
    "df_image = df[(df['grid option']=='random')&\n",
    "              (df['grazing']==48)].copy()\n",
    "initial_random = prep_image(df_image, simulation=6, timestep=timestep)\n"
   ]
  },
  {
   "cell_type": "markdown",
   "metadata": {},
   "source": [
    "## A. Initial Profiles"
   ]
  },
  {
   "cell_type": "code",
   "execution_count": 194,
   "metadata": {},
   "outputs": [],
   "source": [
    "# Color Scheme\n",
    "levels = [0, 1, 2]\n",
    "colors = ['#EE8382', '#508991', '#172A3A']\n",
    "type_palette = sns.set_palette(sns.color_palette(colors))\n",
    "cmap, norm = clt.from_levels_and_colors(levels=levels, colors=colors, extend='max')"
   ]
  },
  {
   "cell_type": "code",
   "execution_count": 195,
   "metadata": {},
   "outputs": [],
   "source": [
    "## Plot Parameters\n",
    "\n",
    "initial_profile = 'random'\n",
    "time = 0\n",
    "name = 'initial_profile' + '_' + initial_profile"
   ]
  },
  {
   "cell_type": "code",
   "execution_count": 196,
   "metadata": {},
   "outputs": [
    {
     "data": {
      "image/png": "[encoded data removed]",
      "text/plain": [
       "<Figure size 252x176.4 with 2 Axes>"
      ]
     },
     "metadata": {},
     "output_type": "display_data"
    }
   ],
   "source": [
    "## Plot\n",
    "\n",
    "data=df[(df['grid option']==initial_profile)&\n",
    "        (df['grazing']==48)&\n",
    "        (df['simulation']==simulation)&\n",
    "        (df['time']==time)] \n",
    "\n",
    "image = prep_image(data, simulation, time)\n",
    "\n",
    "fig, ax = plt.subplots(1,2, figsize=(3.5,2.45), gridspec_kw={'width_ratios': [2, 1]})\n",
    "\n",
    "ax[0].imshow(image, cmap=cmap, norm=norm)\n",
    "ax[0].set_yticks([])\n",
    "ax[0].set_xticks([])\n",
    "ax[0].set_xticks(np.arange(-.5, data['number_of_rows'].to_numpy()[0], 1), minor=True)\n",
    "ax[0].set_yticks(np.arange(-.5, data['number_of_rows'].to_numpy()[0], 1), minor=True)\n",
    "ax[0].set_frame_on(False)\n",
    "ax[0].grid(color='black', linestyle='-', linewidth=.1, which='minor')\n",
    "ax[0].tick_params(which='minor',top=[], left=[],right=[], bottom=[])\n",
    "ax[0].set_frame_on(True)\n",
    "ax[0].set_title('Random')\n",
    "\n",
    "ax[1].text(0.35, 0.5,\n",
    "           '$C$: ' + str(round(data['C'].to_numpy()[0], 2)) + \n",
    "           '\\n \\n' + 'neighbors: ' + \n",
    "           '\\n $C_C$: ' + str(round(data['coral_coral_neighbors'].to_numpy()[0],3)) + \n",
    "           '\\n $T_C$: ' + str(round(data['coral_turf_neighbors'].to_numpy()[0],3)) +\n",
    "           '\\n $M_C$: ' + str(round(data['coral_macro_neighbors'].to_numpy()[0],3)),\n",
    "           size=12, ha='center', va='center')\n",
    "ax[1].axes.xaxis.set_visible(False)\n",
    "ax[1].axes.yaxis.set_visible(False)\n",
    "ax[1].set_frame_on(False)\n",
    "\n",
    "plt.suptitle(\"Initial Profile\",fontweight='bold',fontsize=13)\n",
    "fig.subplots_adjust(wspace=0.2, top=.77)\n",
    "plt.savefig(path + name + extension, dpi=400, bbox_inches = \"tight\")"
   ]
  },
  {
   "cell_type": "code",
   "execution_count": 197,
   "metadata": {},
   "outputs": [],
   "source": [
    "## Plot Parameters\n",
    "\n",
    "initial_profile = 'blob'\n",
    "time = 0\n",
    "name = 'time_20' + '_' + initial_profile "
   ]
  },
  {
   "cell_type": "code",
   "execution_count": 198,
   "metadata": {},
   "outputs": [
    {
     "data": {
      "image/png": "[encoded data removed]",
      "text/plain": [
       "<Figure size 252x176.4 with 2 Axes>"
      ]
     },
     "metadata": {},
     "output_type": "display_data"
    }
   ],
   "source": [
    "## Plot\n",
    "\n",
    "data=df[(df['grid option']==initial_profile)&\n",
    "        (df['grazing']==48)&\n",
    "        (df['simulation']==simulation)&\n",
    "        (df['time']==time)] \n",
    "\n",
    "image = prep_image(data, simulation, time)\n",
    "\n",
    "fig, ax = plt.subplots(1,2, figsize=(3.5,2.45), gridspec_kw={'width_ratios': [2, 1]})\n",
    "\n",
    "ax[0].imshow(image, cmap=cmap, norm=norm)\n",
    "ax[0].set_yticks([])\n",
    "ax[0].set_xticks([])\n",
    "ax[0].set_xticks(np.arange(-.5, data['number_of_rows'].to_numpy()[0], 1), minor=True)\n",
    "ax[0].set_yticks(np.arange(-.5, data['number_of_rows'].to_numpy()[0], 1), minor=True)\n",
    "ax[0].set_frame_on(False)\n",
    "ax[0].grid(color='black', linestyle='-', linewidth=.1, which='minor')\n",
    "ax[0].tick_params(which='minor',top=[], left=[],right=[], bottom=[])\n",
    "ax[0].set_frame_on(True)\n",
    "ax[0].set_title('Blob')\n",
    "\n",
    "ax[1].text(0.35, 0.5,\n",
    "           '$C$: ' + str(round(data['C'].to_numpy()[0], 2)) + \n",
    "           '\\n \\n' + 'neighbors: ' + \n",
    "           '\\n $C_C$: ' + str(round(data['coral_coral_neighbors'].to_numpy()[0],3)) + \n",
    "           '\\n $T_C$: ' + str(round(data['coral_turf_neighbors'].to_numpy()[0],3)) +\n",
    "           '\\n $M_C$: ' + str(round(data['coral_macro_neighbors'].to_numpy()[0],3)),\n",
    "           size=12, ha='center', va='center')\n",
    "ax[1].axes.xaxis.set_visible(False)\n",
    "ax[1].axes.yaxis.set_visible(False)\n",
    "ax[1].set_frame_on(False)\n",
    "\n",
    "#plt.suptitle(\"Initial Profile\",fontweight='bold',fontsize=13)\n",
    "fig.subplots_adjust(wspace=0.2, top=.8)\n",
    "plt.savefig(path + name + extension, dpi=400, bbox_inches = \"tight\")"
   ]
  },
  {
   "cell_type": "code",
   "execution_count": null,
   "metadata": {},
   "outputs": [],
   "source": []
  },
  {
   "cell_type": "markdown",
   "metadata": {},
   "source": [
    "## B. Images at time t=20"
   ]
  },
  {
   "cell_type": "code",
   "execution_count": null,
   "metadata": {},
   "outputs": [],
   "source": []
  },
  {
   "cell_type": "code",
   "execution_count": 201,
   "metadata": {},
   "outputs": [],
   "source": [
    "## Plot Parameters\n",
    "\n",
    "initial_profile = 'blob'\n",
    "time = 20\n",
    "grazing = 48\n",
    "name = 'time_20' + '_' + initial_profile + '_grazing_' + str(grazing)"
   ]
  },
  {
   "cell_type": "code",
   "execution_count": 202,
   "metadata": {},
   "outputs": [
    {
     "data": {
      "image/png": "[encoded data removed]",
      "text/plain": [
       "<Figure size 252x176.4 with 2 Axes>"
      ]
     },
     "metadata": {},
     "output_type": "display_data"
    }
   ],
   "source": [
    "## Plot\n",
    "\n",
    "data=df[(df['grid option']==initial_profile)&\n",
    "        (df['grazing']==grazing)&\n",
    "        (df['simulation']==simulation)&\n",
    "        (df['time']==time)] \n",
    "\n",
    "timestep = time*10\n",
    "\n",
    "image = prep_image(data, simulation, timestep)\n",
    "\n",
    "fig, ax = plt.subplots(1,2, figsize=(3.5,2.45), gridspec_kw={'width_ratios': [2, 1]})\n",
    "\n",
    "ax[0].imshow(image, cmap=cmap, norm=norm)\n",
    "ax[0].set_yticks([])\n",
    "ax[0].set_xticks([])\n",
    "ax[0].set_xticks(np.arange(-.5, data['number_of_rows'].to_numpy()[0], 1), minor=True)\n",
    "ax[0].set_yticks(np.arange(-.5, data['number_of_rows'].to_numpy()[0], 1), minor=True)\n",
    "ax[0].set_frame_on(False)\n",
    "ax[0].grid(color='black', linestyle='-', linewidth=.1, which='minor')\n",
    "ax[0].tick_params(which='minor',top=[], left=[],right=[], bottom=[])\n",
    "ax[0].set_frame_on(True)\n",
    "ax[0].set_title(\"$g = .$\" + str(grazing))\n",
    "\n",
    "ax[1].text(0.35, 0.5,\n",
    "           '$C$: ' + str(round(data['C'].to_numpy()[0], 2)) + \n",
    "           '\\n \\n' + 'neighbors: ' + \n",
    "           '\\n $C_C$: ' + str(round(data['coral_coral_neighbors'].to_numpy()[0],3)) + \n",
    "           '\\n $T_C$: ' + str(round(data['coral_turf_neighbors'].to_numpy()[0],3)) +\n",
    "           '\\n $M_C$: ' + str(round(data['coral_macro_neighbors'].to_numpy()[0],3)),\n",
    "           size=12, ha='center', va='center')\n",
    "ax[1].axes.xaxis.set_visible(False)\n",
    "ax[1].axes.yaxis.set_visible(False)\n",
    "ax[1].set_frame_on(False)\n",
    "\n",
    "plt.suptitle(\"Blob, t = \" + str(time),fontweight='bold',fontsize=13)\n",
    "fig.subplots_adjust(wspace=0.2, top=.8)\n",
    "plt.savefig(path + name + extension, dpi=400, bbox_inches = \"tight\", facecolor=output_facecolor)"
   ]
  },
  {
   "cell_type": "code",
   "execution_count": 203,
   "metadata": {},
   "outputs": [],
   "source": [
    "## Plot Parameters\n",
    "\n",
    "initial_profile = 'random'\n",
    "time = 20\n",
    "name = 'time_20' + '_' + initial_profile + '_grazing_' + str(grazing)"
   ]
  },
  {
   "cell_type": "code",
   "execution_count": 204,
   "metadata": {
    "scrolled": true
   },
   "outputs": [
    {
     "data": {
      "image/png": "[encoded data removed]",
      "text/plain": [
       "<Figure size 252x176.4 with 2 Axes>"
      ]
     },
     "metadata": {},
     "output_type": "display_data"
    }
   ],
   "source": [
    "## Plot\n",
    "\n",
    "data=df[(df['grid option']==initial_profile)&\n",
    "        (df['grazing']==grazing)&\n",
    "        (df['simulation']==simulation)&\n",
    "        (df['time']==time)] \n",
    "\n",
    "timestep = time*10\n",
    "\n",
    "image = prep_image(data, simulation, timestep)\n",
    "\n",
    "fig, ax = plt.subplots(1,2, figsize=(3.5,2.45), gridspec_kw={'width_ratios': [2, 1]})\n",
    "\n",
    "ax[0].imshow(image, cmap=cmap, norm=norm)\n",
    "ax[0].set_yticks([])\n",
    "ax[0].set_xticks([])\n",
    "ax[0].set_xticks(np.arange(-.5, data['number_of_rows'].to_numpy()[0], 1), minor=True)\n",
    "ax[0].set_yticks(np.arange(-.5, data['number_of_rows'].to_numpy()[0], 1), minor=True)\n",
    "ax[0].set_frame_on(False)\n",
    "ax[0].grid(color='black', linestyle='-', linewidth=.1, which='minor')\n",
    "ax[0].tick_params(which='minor',top=[], left=[],right=[], bottom=[])\n",
    "ax[0].set_frame_on(True)\n",
    "ax[0].set_title(\"$g = .$\" + str(grazing))\n",
    "\n",
    "\n",
    "ax[1].text(0.35, 0.5,\n",
    "           '$C$: ' + str(round(data['C'].to_numpy()[0], 2)) + \n",
    "           '\\n \\n' + 'neighbors: ' + \n",
    "           '\\n $C_C$: ' + str(round(data['coral_coral_neighbors'].to_numpy()[0],3)) + \n",
    "           '\\n $T_C$: ' + str(round(data['coral_turf_neighbors'].to_numpy()[0],3)) +\n",
    "           '\\n $M_C$: ' + str(round(data['coral_macro_neighbors'].to_numpy()[0],3)),\n",
    "           size=12, ha='center', va='center')\n",
    "ax[1].axes.xaxis.set_visible(False)\n",
    "ax[1].axes.yaxis.set_visible(False)\n",
    "ax[1].set_frame_on(False)\n",
    "\n",
    "plt.suptitle(\"Random, t = \" + str(time),fontweight='bold',fontsize=13)\n",
    "\n",
    "fig.subplots_adjust(wspace=0.2, top=.8)\n",
    "plt.savefig(path + name + extension, dpi=400, bbox_inches = \"tight\", facecolor=output_facecolor)"
   ]
  },
  {
   "cell_type": "code",
   "execution_count": 205,
   "metadata": {},
   "outputs": [],
   "source": [
    "## Grazing = 57"
   ]
  },
  {
   "cell_type": "code",
   "execution_count": 207,
   "metadata": {},
   "outputs": [],
   "source": [
    "## Plot Parameters\n",
    "\n",
    "initial_profile = 'blob'\n",
    "time = 20\n",
    "grazing = 57\n",
    "name = 'time_20' + '_' + initial_profile + '_grazing_' + str(grazing)"
   ]
  },
  {
   "cell_type": "code",
   "execution_count": 208,
   "metadata": {},
   "outputs": [
    {
     "data": {
      "image/png": "[encoded data removed]",
      "text/plain": [
       "<Figure size 252x176.4 with 2 Axes>"
      ]
     },
     "metadata": {},
     "output_type": "display_data"
    }
   ],
   "source": [
    "## Plot\n",
    "\n",
    "data=df[(df['grid option']==initial_profile)&\n",
    "        (df['grazing']==grazing)&\n",
    "        (df['simulation']==simulation)&\n",
    "        (df['time']==time)] \n",
    "\n",
    "timestep = time*10\n",
    "\n",
    "image = prep_image(data, simulation, timestep)\n",
    "\n",
    "fig, ax = plt.subplots(1,2, figsize=(3.5,2.45), gridspec_kw={'width_ratios': [2, 1]})\n",
    "\n",
    "ax[0].imshow(image, cmap=cmap, norm=norm)\n",
    "ax[0].set_yticks([])\n",
    "ax[0].set_xticks([])\n",
    "ax[0].set_xticks(np.arange(-.5, data['number_of_rows'].to_numpy()[0], 1), minor=True)\n",
    "ax[0].set_yticks(np.arange(-.5, data['number_of_rows'].to_numpy()[0], 1), minor=True)\n",
    "ax[0].set_frame_on(False)\n",
    "ax[0].grid(color='black', linestyle='-', linewidth=.1, which='minor')\n",
    "ax[0].tick_params(which='minor',top=[], left=[],right=[], bottom=[])\n",
    "ax[0].set_frame_on(True)\n",
    "ax[0].set_title(\"$g = .$\" + str(grazing))\n",
    "\n",
    "ax[1].text(0.35, 0.5,\n",
    "           '$C$: ' + str(round(data['C'].to_numpy()[0], 2)) + \n",
    "           '\\n \\n' + 'neighbors: ' + \n",
    "           '\\n $C_C$: ' + str(round(data['coral_coral_neighbors'].to_numpy()[0],3)) + \n",
    "           '\\n $T_C$: ' + str(round(data['coral_turf_neighbors'].to_numpy()[0],3)) +\n",
    "           '\\n $M_C$: ' + str(round(data['coral_macro_neighbors'].to_numpy()[0],3)),\n",
    "           size=12, ha='center', va='center')\n",
    "ax[1].axes.xaxis.set_visible(False)\n",
    "ax[1].axes.yaxis.set_visible(False)\n",
    "ax[1].set_frame_on(False)\n",
    "\n",
    "#plt.suptitle(\"t = \" + str(time) + \", g = .\" + str(grazing),fontweight='bold',fontsize=13)\n",
    "fig.subplots_adjust(wspace=0.2, top=.8)\n",
    "plt.savefig(path + name + extension, dpi=400, bbox_inches = \"tight\", facecolor=output_facecolor)"
   ]
  },
  {
   "cell_type": "code",
   "execution_count": 209,
   "metadata": {},
   "outputs": [],
   "source": [
    "## Plot Parameters\n",
    "\n",
    "initial_profile = 'random'\n",
    "time = 20\n",
    "grazing = 57\n",
    "name = 'time_20' + '_' + initial_profile + '_grazing_' + str(grazing)"
   ]
  },
  {
   "cell_type": "code",
   "execution_count": 210,
   "metadata": {
    "scrolled": true
   },
   "outputs": [
    {
     "data": {
      "image/png": "[encoded data removed]",
      "text/plain": [
       "<Figure size 252x176.4 with 2 Axes>"
      ]
     },
     "metadata": {},
     "output_type": "display_data"
    }
   ],
   "source": [
    "## Plot\n",
    "\n",
    "data=df[(df['grid option']==initial_profile)&\n",
    "        (df['grazing']==grazing)&\n",
    "        (df['simulation']==simulation)&\n",
    "        (df['time']==time)] \n",
    "\n",
    "timestep = time*10\n",
    "\n",
    "image = prep_image(data, simulation, timestep)\n",
    "\n",
    "fig, ax = plt.subplots(1,2, figsize=(3.5,2.45), gridspec_kw={'width_ratios': [2, 1]})\n",
    "\n",
    "ax[0].imshow(image, cmap=cmap, norm=norm)\n",
    "ax[0].set_yticks([])\n",
    "ax[0].set_xticks([])\n",
    "ax[0].set_xticks(np.arange(-.5, data['number_of_rows'].to_numpy()[0], 1), minor=True)\n",
    "ax[0].set_yticks(np.arange(-.5, data['number_of_rows'].to_numpy()[0], 1), minor=True)\n",
    "ax[0].set_frame_on(False)\n",
    "ax[0].grid(color='black', linestyle='-', linewidth=.1, which='minor')\n",
    "ax[0].tick_params(which='minor',top=[], left=[],right=[], bottom=[])\n",
    "ax[0].set_frame_on(True)\n",
    "ax[0].set_title(\"$g = .$\" + str(grazing))\n",
    "\n",
    "\n",
    "ax[1].text(0.35, 0.5,\n",
    "           '$C$: ' + str(round(data['C'].to_numpy()[0], 2)) + \n",
    "           '\\n \\n' + 'neighbors: ' + \n",
    "           '\\n $C_C$: ' + str(round(data['coral_coral_neighbors'].to_numpy()[0],3)) + \n",
    "           '\\n $T_C$: ' + str(round(data['coral_turf_neighbors'].to_numpy()[0],3)) +\n",
    "           '\\n $M_C$: ' + str(round(data['coral_macro_neighbors'].to_numpy()[0],3)),\n",
    "           size=12, ha='center', va='center')\n",
    "ax[1].axes.xaxis.set_visible(False)\n",
    "ax[1].axes.yaxis.set_visible(False)\n",
    "ax[1].set_frame_on(False)\n",
    "\n",
    "fig.subplots_adjust(wspace=0.2, top=.8)\n",
    "plt.savefig(path + name + extension, dpi=400, bbox_inches = \"tight\", facecolor=output_facecolor)"
   ]
  },
  {
   "cell_type": "markdown",
   "metadata": {},
   "source": [
    "## C. Box Plot of Evolution"
   ]
  },
  {
   "cell_type": "markdown",
   "metadata": {},
   "source": [
    "## Grazing == .48"
   ]
  },
  {
   "cell_type": "code",
   "execution_count": 211,
   "metadata": {},
   "outputs": [],
   "source": [
    "grazing=48"
   ]
  },
  {
   "cell_type": "code",
   "execution_count": 212,
   "metadata": {},
   "outputs": [
    {
     "data": {
      "text/html": [
       "<div>\n",
       "<style scoped>\n",
       "    .dataframe tbody tr th:only-of-type {\n",
       "        vertical-align: middle;\n",
       "    }\n",
       "\n",
       "    .dataframe tbody tr th {\n",
       "        vertical-align: top;\n",
       "    }\n",
       "\n",
       "    .dataframe thead th {\n",
       "        text-align: right;\n",
       "    }\n",
       "</style>\n",
       "<table border=\"1\" class=\"dataframe\">\n",
       "  <thead>\n",
       "    <tr style=\"text-align: right;\">\n",
       "      <th></th>\n",
       "      <th>number_of_rows</th>\n",
       "      <th>number_of_columns</th>\n",
       "      <th>grid_option</th>\n",
       "      <th>grazing</th>\n",
       "      <th>neighborhood_threshold</th>\n",
       "      <th>initial_coral_percent</th>\n",
       "      <th>initial_macroalgae_percent</th>\n",
       "      <th>r</th>\n",
       "      <th>d</th>\n",
       "      <th>a</th>\n",
       "      <th>y</th>\n",
       "      <th>number_of_timesteps</th>\n",
       "      <th>record_rate</th>\n",
       "      <th>number_of_simulations</th>\n",
       "      <th>file</th>\n",
       "    </tr>\n",
       "  </thead>\n",
       "  <tbody>\n",
       "    <tr>\n",
       "      <th>10</th>\n",
       "      <td>25</td>\n",
       "      <td>25</td>\n",
       "      <td>0</td>\n",
       "      <td>48</td>\n",
       "      <td>145</td>\n",
       "      <td>15</td>\n",
       "      <td>40</td>\n",
       "      <td>10</td>\n",
       "      <td>40</td>\n",
       "      <td>20</td>\n",
       "      <td>75</td>\n",
       "      <td>2100</td>\n",
       "      <td>10</td>\n",
       "      <td>100</td>\n",
       "      <td>10</td>\n",
       "    </tr>\n",
       "    <tr>\n",
       "      <th>25</th>\n",
       "      <td>25</td>\n",
       "      <td>25</td>\n",
       "      <td>2</td>\n",
       "      <td>48</td>\n",
       "      <td>145</td>\n",
       "      <td>15</td>\n",
       "      <td>40</td>\n",
       "      <td>10</td>\n",
       "      <td>40</td>\n",
       "      <td>20</td>\n",
       "      <td>75</td>\n",
       "      <td>2100</td>\n",
       "      <td>10</td>\n",
       "      <td>100</td>\n",
       "      <td>25</td>\n",
       "    </tr>\n",
       "  </tbody>\n",
       "</table>\n",
       "</div>"
      ],
      "text/plain": [
       "    number_of_rows  number_of_columns  grid_option  grazing  \\\n",
       "10              25                 25            0       48   \n",
       "25              25                 25            2       48   \n",
       "\n",
       "    neighborhood_threshold  initial_coral_percent  initial_macroalgae_percent  \\\n",
       "10                     145                     15                          40   \n",
       "25                     145                     15                          40   \n",
       "\n",
       "     r   d   a   y  number_of_timesteps  record_rate  number_of_simulations  \\\n",
       "10  10  40  20  75                 2100           10                    100   \n",
       "25  10  40  20  75                 2100           10                    100   \n",
       "\n",
       "    file  \n",
       "10    10  \n",
       "25    25  "
      ]
     },
     "execution_count": 212,
     "metadata": {},
     "output_type": "execute_result"
    }
   ],
   "source": [
    "subset = runs[(runs['neighborhood_threshold']==145)&\n",
    "              (runs['initial_coral_percent']==15)&\n",
    "              (runs['initial_macroalgae_percent']==40)&\n",
    "              (runs['number_of_rows']==25)&\n",
    "              (runs['grazing']==grazing)]\n",
    "subset"
   ]
  },
  {
   "cell_type": "code",
   "execution_count": 213,
   "metadata": {},
   "outputs": [],
   "source": [
    "df = tl.load_runs(files, subset)\n",
    "df = tl.split_neighbors(df)\n",
    "df = tl.add_percent(df)\n",
    "df['time'] = df['timestep']*.1\n",
    "df['time'] = df['time'].astype('int')\n",
    "df['C'] = round(df.coral_percent/100,2)\n",
    "df['T'] = round(df.turf_percent/100,2)\n",
    "df['M'] = round(df.macroalgae_percent/100,2)\n",
    "df['grid option'] = 'none'\n",
    "df.loc[df['grid_option']==0, ['grid option']] = 'random'\n",
    "df.loc[df['grid_option']==2, ['grid option']] = 'blob'"
   ]
  },
  {
   "cell_type": "code",
   "execution_count": 214,
   "metadata": {},
   "outputs": [],
   "source": [
    "colors = [\"#e0e0e0\", \"#4571ff\"]\n",
    "# Set your custom color palette\n",
    "profile_palette = sns.set_palette(sns.color_palette(colors))"
   ]
  },
  {
   "cell_type": "code",
   "execution_count": 215,
   "metadata": {
    "scrolled": true
   },
   "outputs": [
    {
     "name": "stderr",
     "output_type": "stream",
     "text": [
      "No handles with labels found to put in legend.\n"
     ]
    },
    {
     "data": {
      "image/png": "[encoded data removed]",
      "text/plain": [
       "<Figure size 288x216 with 2 Axes>"
      ]
     },
     "metadata": {},
     "output_type": "display_data"
    }
   ],
   "source": [
    "# Grouped boxplot\n",
    "\n",
    "name= 'coral_cover_g_' + str(grazing) + '_blob_v_random' \n",
    "\n",
    "fig, ax = plt.subplots(2,1, figsize=(4,3), gridspec_kw={'height_ratios': [2, .5]})\n",
    "\n",
    "sns.boxplot(x=\"time\", y=\"C\", hue=\"grid option\", data=df[df['time'].isin(times)], palette=profile_palette, linewidth=.9, flierprops=dict(markersize=2),\n",
    "            ax=ax[0])\n",
    "\n",
    "ax[0].set_title(\"Coral Cover ($C$), $g$ = .\"+str(grazing))\n",
    "\n",
    "#plt.suptitle('Evolution of Random Grid v Blob, 100 Simulations each, $g$ = .'+str(grazing), fontsize =12, fontweight='bold')\n",
    "\n",
    "ax[1].axis(\"off\")\n",
    "\n",
    "plt.suptitle('Random Grid v Blob, 100 Simulations', fontsize =12, fontweight='bold')\n",
    "plt.legend(loc='upper left')\n",
    "ax[0].set_ylabel(\"$C$\")\n",
    "ax[0].set_xlabel(\"$t$\")\n",
    "\n",
    "fig.subplots_adjust(top=.8)\n",
    "\n",
    "plt.savefig(path + name + extension, dpi=200, bbox_inches = \"tight\", facecolor=output_facecolor)"
   ]
  },
  {
   "cell_type": "markdown",
   "metadata": {},
   "source": [
    "## Grazing == .57"
   ]
  },
  {
   "cell_type": "code",
   "execution_count": 163,
   "metadata": {},
   "outputs": [],
   "source": [
    "grazing=57"
   ]
  },
  {
   "cell_type": "code",
   "execution_count": 164,
   "metadata": {},
   "outputs": [
    {
     "data": {
      "text/html": [
       "<div>\n",
       "<style scoped>\n",
       "    .dataframe tbody tr th:only-of-type {\n",
       "        vertical-align: middle;\n",
       "    }\n",
       "\n",
       "    .dataframe tbody tr th {\n",
       "        vertical-align: top;\n",
       "    }\n",
       "\n",
       "    .dataframe thead th {\n",
       "        text-align: right;\n",
       "    }\n",
       "</style>\n",
       "<table border=\"1\" class=\"dataframe\">\n",
       "  <thead>\n",
       "    <tr style=\"text-align: right;\">\n",
       "      <th></th>\n",
       "      <th>number_of_rows</th>\n",
       "      <th>number_of_columns</th>\n",
       "      <th>grid_option</th>\n",
       "      <th>grazing</th>\n",
       "      <th>neighborhood_threshold</th>\n",
       "      <th>initial_coral_percent</th>\n",
       "      <th>initial_macroalgae_percent</th>\n",
       "      <th>r</th>\n",
       "      <th>d</th>\n",
       "      <th>a</th>\n",
       "      <th>y</th>\n",
       "      <th>number_of_timesteps</th>\n",
       "      <th>record_rate</th>\n",
       "      <th>number_of_simulations</th>\n",
       "      <th>file</th>\n",
       "    </tr>\n",
       "  </thead>\n",
       "  <tbody>\n",
       "    <tr>\n",
       "      <th>7</th>\n",
       "      <td>25</td>\n",
       "      <td>25</td>\n",
       "      <td>0</td>\n",
       "      <td>57</td>\n",
       "      <td>145</td>\n",
       "      <td>15</td>\n",
       "      <td>40</td>\n",
       "      <td>10</td>\n",
       "      <td>40</td>\n",
       "      <td>20</td>\n",
       "      <td>75</td>\n",
       "      <td>2100</td>\n",
       "      <td>10</td>\n",
       "      <td>100</td>\n",
       "      <td>7</td>\n",
       "    </tr>\n",
       "    <tr>\n",
       "      <th>24</th>\n",
       "      <td>25</td>\n",
       "      <td>25</td>\n",
       "      <td>2</td>\n",
       "      <td>57</td>\n",
       "      <td>145</td>\n",
       "      <td>15</td>\n",
       "      <td>40</td>\n",
       "      <td>10</td>\n",
       "      <td>40</td>\n",
       "      <td>20</td>\n",
       "      <td>75</td>\n",
       "      <td>2100</td>\n",
       "      <td>10</td>\n",
       "      <td>100</td>\n",
       "      <td>24</td>\n",
       "    </tr>\n",
       "  </tbody>\n",
       "</table>\n",
       "</div>"
      ],
      "text/plain": [
       "    number_of_rows  number_of_columns  grid_option  grazing  \\\n",
       "7               25                 25            0       57   \n",
       "24              25                 25            2       57   \n",
       "\n",
       "    neighborhood_threshold  initial_coral_percent  initial_macroalgae_percent  \\\n",
       "7                      145                     15                          40   \n",
       "24                     145                     15                          40   \n",
       "\n",
       "     r   d   a   y  number_of_timesteps  record_rate  number_of_simulations  \\\n",
       "7   10  40  20  75                 2100           10                    100   \n",
       "24  10  40  20  75                 2100           10                    100   \n",
       "\n",
       "    file  \n",
       "7      7  \n",
       "24    24  "
      ]
     },
     "execution_count": 164,
     "metadata": {},
     "output_type": "execute_result"
    }
   ],
   "source": [
    "subset = runs[(runs['neighborhood_threshold']==145)&\n",
    "              (runs['initial_coral_percent']==15)&\n",
    "              (runs['initial_macroalgae_percent']==40)&\n",
    "              (runs['number_of_rows']==25)&\n",
    "              (runs['grazing']==grazing)]\n",
    "subset"
   ]
  },
  {
   "cell_type": "code",
   "execution_count": 165,
   "metadata": {},
   "outputs": [],
   "source": [
    "df = tl.load_runs(files, subset)\n",
    "df = tl.split_neighbors(df)\n",
    "df = tl.add_percent(df)\n",
    "df['time'] = df['timestep']*.1\n",
    "df['time'] = df['time'].astype('int')\n",
    "df['C'] = round(df.coral_percent/100,2)\n",
    "df['T'] = round(df.turf_percent/100,2)\n",
    "df['M'] = round(df.macroalgae_percent/100,2)\n",
    "df['grid option'] = 'none'\n",
    "df.loc[df['grid_option']==0, ['grid option']] = 'random'\n",
    "df.loc[df['grid_option']==2, ['grid option']] = 'blob'"
   ]
  },
  {
   "cell_type": "code",
   "execution_count": 166,
   "metadata": {},
   "outputs": [],
   "source": [
    "colors = [\"#e0e0e0\", \"#4571ff\"]\n",
    "# Set your custom color palette\n",
    "profile_palette = sns.set_palette(sns.color_palette(colors))"
   ]
  },
  {
   "cell_type": "code",
   "execution_count": 171,
   "metadata": {
    "scrolled": true
   },
   "outputs": [
    {
     "data": {
      "image/png": "[encoded data removed]",
      "text/plain": [
       "<Figure size 302.4x165.6 with 1 Axes>"
      ]
     },
     "metadata": {
      "needs_background": "light"
     },
     "output_type": "display_data"
    }
   ],
   "source": [
    "# Grouped boxplot\n",
    "\n",
    "name= 'coral_cover_g_' + str(grazing) + '_blob_v_random' \n",
    "\n",
    "fig, ax = plt.subplots(figsize=(4.2,2.3))\n",
    "\n",
    "sns.boxplot(x=\"time\", y=\"C\", \n",
    "            hue=\"grid option\", data=df[df['time'].isin(times)], \n",
    "            palette=profile_palette, linewidth=.9, flierprops=dict(markersize=2))\n",
    "\n",
    "ax.get_legend().set_title('')\n",
    "\n",
    "plt.title(\"Coral Cover ($C$), $g$ = .\"+str(grazing))\n",
    "plt.xlabel('$t$')\n",
    "plt.ylabel('$T_C$')\n",
    "plt.legend([],[], frameon=False)\n",
    "fig.subplots_adjust(top=.8)\n",
    "\n",
    "plt.savefig(path + name + extension, dpi=200, bbox_inches = \"tight\", facecolor=output_facecolor)"
   ]
  },
  {
   "cell_type": "code",
   "execution_count": null,
   "metadata": {},
   "outputs": [],
   "source": []
  },
  {
   "cell_type": "markdown",
   "metadata": {},
   "source": [
    "## Grazing == .54"
   ]
  },
  {
   "cell_type": "code",
   "execution_count": 131,
   "metadata": {},
   "outputs": [],
   "source": [
    "grazing=54"
   ]
  },
  {
   "cell_type": "code",
   "execution_count": 132,
   "metadata": {},
   "outputs": [
    {
     "data": {
      "text/html": [
       "<div>\n",
       "<style scoped>\n",
       "    .dataframe tbody tr th:only-of-type {\n",
       "        vertical-align: middle;\n",
       "    }\n",
       "\n",
       "    .dataframe tbody tr th {\n",
       "        vertical-align: top;\n",
       "    }\n",
       "\n",
       "    .dataframe thead th {\n",
       "        text-align: right;\n",
       "    }\n",
       "</style>\n",
       "<table border=\"1\" class=\"dataframe\">\n",
       "  <thead>\n",
       "    <tr style=\"text-align: right;\">\n",
       "      <th></th>\n",
       "      <th>number_of_rows</th>\n",
       "      <th>number_of_columns</th>\n",
       "      <th>grid_option</th>\n",
       "      <th>grazing</th>\n",
       "      <th>neighborhood_threshold</th>\n",
       "      <th>initial_coral_percent</th>\n",
       "      <th>initial_macroalgae_percent</th>\n",
       "      <th>r</th>\n",
       "      <th>d</th>\n",
       "      <th>a</th>\n",
       "      <th>y</th>\n",
       "      <th>number_of_timesteps</th>\n",
       "      <th>record_rate</th>\n",
       "      <th>number_of_simulations</th>\n",
       "      <th>file</th>\n",
       "    </tr>\n",
       "  </thead>\n",
       "  <tbody>\n",
       "    <tr>\n",
       "      <th>16</th>\n",
       "      <td>25</td>\n",
       "      <td>25</td>\n",
       "      <td>0</td>\n",
       "      <td>54</td>\n",
       "      <td>145</td>\n",
       "      <td>15</td>\n",
       "      <td>40</td>\n",
       "      <td>10</td>\n",
       "      <td>40</td>\n",
       "      <td>20</td>\n",
       "      <td>75</td>\n",
       "      <td>2100</td>\n",
       "      <td>10</td>\n",
       "      <td>100</td>\n",
       "      <td>16</td>\n",
       "    </tr>\n",
       "    <tr>\n",
       "      <th>26</th>\n",
       "      <td>25</td>\n",
       "      <td>25</td>\n",
       "      <td>2</td>\n",
       "      <td>54</td>\n",
       "      <td>145</td>\n",
       "      <td>15</td>\n",
       "      <td>40</td>\n",
       "      <td>10</td>\n",
       "      <td>40</td>\n",
       "      <td>20</td>\n",
       "      <td>75</td>\n",
       "      <td>2100</td>\n",
       "      <td>10</td>\n",
       "      <td>100</td>\n",
       "      <td>26</td>\n",
       "    </tr>\n",
       "  </tbody>\n",
       "</table>\n",
       "</div>"
      ],
      "text/plain": [
       "    number_of_rows  number_of_columns  grid_option  grazing  \\\n",
       "16              25                 25            0       54   \n",
       "26              25                 25            2       54   \n",
       "\n",
       "    neighborhood_threshold  initial_coral_percent  initial_macroalgae_percent  \\\n",
       "16                     145                     15                          40   \n",
       "26                     145                     15                          40   \n",
       "\n",
       "     r   d   a   y  number_of_timesteps  record_rate  number_of_simulations  \\\n",
       "16  10  40  20  75                 2100           10                    100   \n",
       "26  10  40  20  75                 2100           10                    100   \n",
       "\n",
       "    file  \n",
       "16    16  \n",
       "26    26  "
      ]
     },
     "execution_count": 132,
     "metadata": {},
     "output_type": "execute_result"
    }
   ],
   "source": [
    "subset = runs[(runs['neighborhood_threshold']==145)&\n",
    "              (runs['initial_coral_percent']==15)&\n",
    "              (runs['initial_macroalgae_percent']==40)&\n",
    "              (runs['number_of_rows']==25)&\n",
    "              (runs['grazing']==grazing)]\n",
    "subset"
   ]
  },
  {
   "cell_type": "code",
   "execution_count": 133,
   "metadata": {},
   "outputs": [],
   "source": [
    "df = tl.load_runs(files, subset)\n",
    "df = tl.split_neighbors(df)\n",
    "df = tl.add_percent(df)\n",
    "df['time'] = df['timestep']*.1\n",
    "df['time'] = df['time'].astype('int')\n",
    "df['C'] = round(df.coral_percent/100,2)\n",
    "df['T'] = round(df.turf_percent/100,2)\n",
    "df['M'] = round(df.macroalgae_percent/100,2)\n",
    "df['grid option'] = 'none'\n",
    "df.loc[df['grid_option']==0, ['grid option']] = 'random'\n",
    "df.loc[df['grid_option']==2, ['grid option']] = 'blob'"
   ]
  },
  {
   "cell_type": "code",
   "execution_count": 134,
   "metadata": {},
   "outputs": [],
   "source": [
    "colors = [\"#e0e0e0\", \"#4571ff\"]\n",
    "# Set your custom color palette\n",
    "profile_palette = sns.set_palette(sns.color_palette(colors))"
   ]
  },
  {
   "cell_type": "code",
   "execution_count": 135,
   "metadata": {
    "scrolled": true
   },
   "outputs": [
    {
     "data": {
      "image/png": "[encoded data removed]",
      "text/plain": [
       "<Figure size 288x108 with 1 Axes>"
      ]
     },
     "metadata": {
      "needs_background": "light"
     },
     "output_type": "display_data"
    }
   ],
   "source": [
    "# Grouped boxplot\n",
    "\n",
    "name= 'coral_cover_g_' + str(grazing) + '_blob_v_random' \n",
    "\n",
    "fig, ax = plt.subplots(figsize=(4,1.5))\n",
    "\n",
    "sns.boxplot(x=\"time\", y=\"C\", \n",
    "            hue=\"grid option\", data=df[df['time'].isin(times)], \n",
    "            palette=profile_palette, linewidth=.9, flierprops=dict(markersize=2))\n",
    "\n",
    "ax.get_legend().set_title('')\n",
    "\n",
    "plt.title(\"Coral Cover ($C$), $g$ = .\"+str(grazing))\n",
    "plt.xlabel('$t$')\n",
    "plt.ylabel('$T_C$')\n",
    "plt.legend([],[], frameon=False)\n",
    "fig.subplots_adjust(top=.8)\n",
    "\n",
    "plt.savefig(path + name + extension, dpi=200, bbox_inches = \"tight\", facecolor=output_facecolor)"
   ]
  },
  {
   "cell_type": "code",
   "execution_count": null,
   "metadata": {},
   "outputs": [],
   "source": []
  },
  {
   "cell_type": "code",
   "execution_count": null,
   "metadata": {},
   "outputs": [],
   "source": []
  },
  {
   "cell_type": "code",
   "execution_count": null,
   "metadata": {},
   "outputs": [],
   "source": []
  },
  {
   "cell_type": "code",
   "execution_count": null,
   "metadata": {},
   "outputs": [],
   "source": []
  },
  {
   "cell_type": "code",
   "execution_count": null,
   "metadata": {},
   "outputs": [],
   "source": []
  },
  {
   "cell_type": "code",
   "execution_count": null,
   "metadata": {},
   "outputs": [],
   "source": [
    "name= 'coral_turf_g_' + str(grazing) + '_blob_v_random'\n",
    "\n",
    "fig, ax = plt.subplots(figsize=(4,1.9))\n",
    "\n",
    "sns.boxplot(x=\"time\", y=\"coral_turf_neighbors\", \n",
    "            hue=\"grid option\", data=df[df['time'].isin(times)], \n",
    "            palette=profile_palette, linewidth=.9, flierprops=dict(markersize=2)\n",
    "           )\n",
    "\n",
    "ax.get_legend().set_title('')\n",
    "\n",
    "plt.title('Coral-Turf Neighbors ($T_C$), $g$ = .'+str(grazing))\n",
    "plt.xlabel('$t$')\n",
    "plt.ylabel('$T_C$')\n",
    "plt.legend([],[], frameon=False)\n",
    "plt.savefig(path + name + extension, dpi=200, bbox_inches = \"tight\")\n"
   ]
  },
  {
   "cell_type": "code",
   "execution_count": null,
   "metadata": {},
   "outputs": [],
   "source": []
  },
  {
   "cell_type": "code",
   "execution_count": null,
   "metadata": {},
   "outputs": [],
   "source": []
  },
  {
   "cell_type": "code",
   "execution_count": null,
   "metadata": {},
   "outputs": [],
   "source": []
  },
  {
   "cell_type": "code",
   "execution_count": null,
   "metadata": {},
   "outputs": [],
   "source": [
    "name='grazing_' + str(grazing) + 'blob_v_random_coral_coral_neighbors_low_initial'\n",
    "\n",
    "plt.figure(figsize=figsize)\n",
    "sns.boxplot(x=\"time\", y='coral_coral_neighbors', \n",
    "            hue=\"grid option\", data=df[df['time'].isin(times)], \n",
    "            palette=profile_palette, linewidth=.9, flierprops=dict(markersize=2)\n",
    "           ).set(ylabel='$C_C$')\n",
    "\n",
    "plt.title('Coral-Coral Neighbors ($C_C$)')\n",
    "plt.xlabel('$t$')\n",
    "plt.legend([],[], frameon=False)\n",
    "plt.savefig(path + name + extension, dpi=200, bbox_inches = \"tight\")"
   ]
  },
  {
   "cell_type": "code",
   "execution_count": null,
   "metadata": {},
   "outputs": [],
   "source": [
    "name= 'grazing_' + str(grazing) + 'blob_v_random_coral_macro_neighbors_low_initial'\n",
    "\n",
    "plt.figure(figsize=figsize)\n",
    "sns.boxplot(x=\"time\", y='coral_macro_neighbors', \n",
    "            hue=\"grid option\", data=df[df['time'].isin(times)], \n",
    "            palette=profile_palette, linewidth=.9, flierprops=dict(markersize=2)\n",
    "           ).set(ylabel='$M_C$')\n",
    "plt.title('Coral-Macro Neighbors ($M_C$)')\n",
    "plt.xlabel('$t$')\n",
    "\n",
    "plt.legend([],[], frameon=False)                                 \n",
    "plt.savefig(path + name + extension, dpi=200, bbox_inches = \"tight\")"
   ]
  },
  {
   "cell_type": "markdown",
   "metadata": {},
   "source": [
    "## Grazing == .57"
   ]
  },
  {
   "cell_type": "code",
   "execution_count": null,
   "metadata": {},
   "outputs": [],
   "source": [
    "grazing = 57"
   ]
  },
  {
   "cell_type": "code",
   "execution_count": null,
   "metadata": {},
   "outputs": [],
   "source": [
    "subset = runs[(runs['neighborhood_threshold']==145)&\n",
    "              (runs['initial_coral_percent']==15)&\n",
    "              (runs['initial_macroalgae_percent']==40)&\n",
    "              (runs['number_of_rows']==25)&\n",
    "              (runs['grazing']==grazing)]\n",
    "subset"
   ]
  },
  {
   "cell_type": "code",
   "execution_count": null,
   "metadata": {},
   "outputs": [],
   "source": [
    "df = tl.load_runs(files, subset)\n",
    "df = tl.split_neighbors(df)\n",
    "df = tl.add_percent(df)\n",
    "df['time'] = df['timestep']*.1\n",
    "df['time'] = df['time'].astype('int')\n",
    "df['C'] = round(df.coral_percent/100,2)\n",
    "df['T'] = round(df.turf_percent/100,2)\n",
    "df['M'] = round(df.macroalgae_percent/100,2)\n",
    "df['grid option'] = 'none'\n",
    "df.loc[df['grid_option']==0, ['grid option']] = 'random'\n",
    "df.loc[df['grid_option']==2, ['grid option']] = 'blob'"
   ]
  },
  {
   "cell_type": "code",
   "execution_count": null,
   "metadata": {},
   "outputs": [],
   "source": [
    "# Grouped boxplot\n",
    "\n",
    "name= 'grazing_' + str(grazing) + 'blob_v_random_coral_percent_low_initial_multi' \n",
    "\n",
    "plt.figure(figsize=figsize)\n",
    "\n",
    "sns.boxplot(x=\"time\", y=\"C\", \n",
    "            hue=\"grid option\", data=df[df['time'].isin(times)], \n",
    "            palette=profile_palette, linewidth=.9, flierprops=dict(markersize=2))\n",
    "\n",
    "plt.title('Evolution of Random Grid v Blob, 100 Simulations each, $g$ = .'+str(grazing) + '\\n \\n Coral Cover ($C$)')\n",
    "\n",
    "plt.legend(loc='upper left')\n",
    "plt.ylabel(\"$C$\")\n",
    "plt.xlabel(\"$t$\")\n",
    "\n",
    "plt.savefig(path + name + extension, dpi=200, bbox_inches = \"tight\")"
   ]
  },
  {
   "cell_type": "code",
   "execution_count": null,
   "metadata": {},
   "outputs": [],
   "source": [
    "name='grazing_' + str(grazing) + 'blob_v_random_coral_turf_neighbors_low_initial'\n",
    "\n",
    "fig, ax = plt.subplots(figsize=figsize)\n",
    "\n",
    "sns.boxplot(x=\"time\", y=\"coral_turf_neighbors\", \n",
    "            hue=\"grid option\", data=df[df['time'].isin(times)], \n",
    "            palette=profile_palette, linewidth=.9, flierprops=dict(markersize=2)\n",
    "           ).set(ylabel='$T_C$')\n",
    "\n",
    "ax.get_legend().set_title('')\n",
    "\n",
    "plt.title('Coral-Turf Neighbors ($T_C$)')\n",
    "plt.xlabel('$t$')\n",
    "plt.legend([],[], frameon=False)\n",
    "plt.savefig(path + name + extension, dpi=200, bbox_inches = \"tight\")\n"
   ]
  },
  {
   "cell_type": "code",
   "execution_count": null,
   "metadata": {},
   "outputs": [],
   "source": [
    "name='grazing_' + str(grazing) + 'blob_v_random_coral_coral_neighbors_low_initial'\n",
    "\n",
    "plt.figure(figsize=figsize)\n",
    "sns.boxplot(x=\"time\", y='coral_coral_neighbors', \n",
    "            hue=\"grid option\", data=df[df['time'].isin(times)], \n",
    "            palette=profile_palette, linewidth=.9, flierprops=dict(markersize=2)\n",
    "           ).set(ylabel='$C_C$')\n",
    "\n",
    "plt.title('Coral-Coral Neighbors ($C_C$)')\n",
    "plt.xlabel('$t$')\n",
    "plt.legend([],[], frameon=False)\n",
    "plt.savefig(path + name + extension, dpi=200, bbox_inches = \"tight\")"
   ]
  },
  {
   "cell_type": "code",
   "execution_count": null,
   "metadata": {},
   "outputs": [],
   "source": [
    "name= 'grazing_' + str(grazing) + 'blob_v_random_coral_macro_neighbors_low_initial'\n",
    "\n",
    "plt.figure(figsize=figsize)\n",
    "sns.boxplot(x=\"time\", y='coral_macro_neighbors', \n",
    "            hue=\"grid option\", data=df[df['time'].isin(times)], \n",
    "            palette=profile_palette, linewidth=.9, flierprops=dict(markersize=2)\n",
    "           ).set(ylabel='$M_C$')\n",
    "plt.title('Coral-Macro Neighbors ($M_C$)')\n",
    "plt.xlabel('$t$')\n",
    "\n",
    "plt.legend([],[], frameon=False)                                 \n",
    "plt.savefig(path + name + extension, dpi=200, bbox_inches = \"tight\")"
   ]
  },
  {
   "cell_type": "code",
   "execution_count": null,
   "metadata": {},
   "outputs": [],
   "source": []
  },
  {
   "cell_type": "code",
   "execution_count": null,
   "metadata": {},
   "outputs": [],
   "source": [
    "## Pull Images\n",
    "\n",
    "timestep = 0\n",
    "\n",
    "## g=.48\n",
    "\n",
    "df_image = df[(df['grid option']=='blob')&\n",
    "              (df['grazing']==48)].copy()\n",
    "image_48_blob = prep_image(df_image, simulation=6, timestep=timestep)\n",
    "\n",
    "df_image = df[(df['grid option']=='random')&\n",
    "              (df['grazing']==48)].copy()\n",
    "image_48_random = prep_image(df_image, simulation=6, timestep=timestep)\n",
    "\n",
    "\n",
    "## g=.57\n",
    "\n",
    "df_image = df[(df['grid option']=='blob')&\n",
    "              (df['grazing']==57)].copy()\n",
    "image_57_blob = prep_image(df_image, simulation=6, timestep=timestep)\n",
    "\n",
    "df_image = df[(df['grid option']=='random')&\n",
    "              (df['grazing']==57)].copy()\n",
    "image_57_random = prep_image(df_image, simulation=6, timestep=timestep)"
   ]
  }
 ],
 "metadata": {
  "kernelspec": {
   "display_name": "Python 3",
   "language": "python",
   "name": "python3"
  },
  "language_info": {
   "codemirror_mode": {
    "name": "ipython",
    "version": 3
   },
   "file_extension": ".py",
   "mimetype": "text/x-python",
   "name": "python",
   "nbconvert_exporter": "python",
   "pygments_lexer": "ipython3",
   "version": "3.7.3"
  }
 },
 "nbformat": 4,
 "nbformat_minor": 4
}
