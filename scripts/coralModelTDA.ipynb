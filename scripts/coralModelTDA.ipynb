{
 "cells": [
  {
   "cell_type": "code",
   "execution_count": 10,
   "metadata": {
    "collapsed": true
   },
   "outputs": [],
   "source": [
    "from coralModel import Reef\n",
    "from coralModel import Organism\n",
    "import numpy as np\n",
    "import matplotlib.pyplot as plt\n",
    "import matplotlib.colors as clt\n",
    "import tools as tl\n",
    "\n",
    "from mpl_toolkits.axes_grid1.inset_locator import InsetPosition"
   ]
  },
  {
   "cell_type": "markdown",
   "metadata": {},
   "source": [
    "## Set Parameters"
   ]
  },
  {
   "cell_type": "code",
   "execution_count": 2,
   "metadata": {
    "collapsed": true
   },
   "outputs": [],
   "source": [
    "## What needs to be set\n",
    "NumberOfSimulations = 100\n",
    "dt=.01\n",
    "tf=1\n",
    "\n",
    "coralPercent = .5\n",
    "algaePercent = .25\n",
    "r=1.0\n",
    "d=.4\n",
    "a=.2\n",
    "g=.9\n",
    "y=.75\n",
    "\n",
    "rows = 10\n",
    "columns = 10\n",
    "\n",
    "## Set up based on above\n",
    "NumberOfRuns = int(tf/dt)\n",
    "turfPercent = 1 - coralPercent - algaePercent\n",
    "NumberOfNodes = rows * columns\n",
    "coralCount = np.zeros((NumberOfRuns, NumberOfSimulations))\n",
    "turfCount = np.zeros((NumberOfRuns, NumberOfSimulations))\n",
    "algaeCount = np.zeros((NumberOfRuns, NumberOfSimulations))\n",
    "types = np.zeros((NumberOfRuns, NumberOfNodes, NumberOfSimulations))"
   ]
  },
  {
   "cell_type": "code",
   "execution_count": 3,
   "metadata": {
    "collapsed": true
   },
   "outputs": [],
   "source": [
    "NumberOfRuns = 100\n",
    "NumberOfSimulations = 100\n",
    "coralPercent = .5\n",
    "algaePercent = .25\n",
    "turfPercent = 1 - coralPercent - algaePercent\n",
    "r=1.0\n",
    "d=.4\n",
    "a=.2\n",
    "g=.3\n",
    "y=.75\n",
    "dt=.01\n",
    "\n",
    "rows = 10\n",
    "columns = 10\n",
    "\n",
    "NumberOfNodes = rows * columns\n",
    "coralCount = np.zeros((NumberOfRuns, NumberOfSimulations))\n",
    "turfCount = np.zeros((NumberOfRuns, NumberOfSimulations))\n",
    "algaeCount = np.zeros((NumberOfRuns, NumberOfSimulations))\n",
    "types = np.zeros((NumberOfRuns, NumberOfNodes, NumberOfSimulations))"
   ]
  },
  {
   "cell_type": "code",
   "execution_count": null,
   "metadata": {
    "collapsed": false
   },
   "outputs": [],
   "source": [
    "algaeCount"
   ]
  },
  {
   "cell_type": "markdown",
   "metadata": {},
   "source": [
    "## Generate square 8x8 reef with randomly assigned types"
   ]
  },
  {
   "cell_type": "code",
   "execution_count": 4,
   "metadata": {
    "collapsed": true
   },
   "outputs": [],
   "source": [
    "#0 = Coral, 1 = Turf, 2 = Algae\n",
    "Moorea = Reef()\n",
    "count = 0\n",
    "for i in range(0,rows):\n",
    "    for j in range(0, columns):\n",
    "        U = np.random.choice([0,1,2],\n",
    "                             p=[coralPercent, turfPercent, algaePercent])\n",
    "        node = Organism(type=U, location=[i,j], ID=count)\n",
    "        Moorea.append(node)\n",
    "        count = count + 1\n",
    "Moorea.generateGraph()"
   ]
  },
  {
   "cell_type": "markdown",
   "metadata": {},
   "source": [
    "## Run model"
   ]
  },
  {
   "cell_type": "code",
   "execution_count": 5,
   "metadata": {
    "collapsed": true
   },
   "outputs": [],
   "source": [
    "for s in range(0,NumberOfSimulations):    \n",
    "    for n in range(0,NumberOfRuns):\n",
    "        for i,val in enumerate(Moorea.nodes):\n",
    "            types[n,i,s] = Moorea.nodes[i].type\n",
    "        coralCount[n,s] = np.count_nonzero(types[n,:,s] == 0)\n",
    "        turfCount[n,s] = np.count_nonzero(types[n,:,s] == 1)\n",
    "        algaeCount[n,s] = np.count_nonzero(types[n,:,s] == 2)\n",
    "        Moorea.roll(r=r, d=d, a=a, g=g, y=y, dt=dt)"
   ]
  },
  {
   "cell_type": "markdown",
   "metadata": {},
   "source": [
    "### Run model with new grid each run"
   ]
  },
  {
   "cell_type": "code",
   "execution_count": null,
   "metadata": {
    "collapsed": false
   },
   "outputs": [],
   "source": [
    "length = 10\n",
    "width = 10\n",
    "\n",
    "for s in range(0,NumberOfSimulations):\n",
    "\n",
    "#Generate square 8x8 reef with randomly assigned types\n",
    "#0 = Coral, 1 = Turf, 2 = Algae\n",
    "    Moorea = Reef()\n",
    "    count = 0\n",
    "    for i in range(0,length):\n",
    "        for j in range(0, width):\n",
    "            U = np.random.choice([0,1,2],\n",
    "                                 p=[coralPercent, turfPercent, algaePercent])\n",
    "            node = Organism(type=U, location=[i,j], ID=count)\n",
    "            Moorea.append(node)\n",
    "            count = count + 1\n",
    "    Moorea.generateGraph()\n",
    "    #NumberOfNodes = count\n",
    "\n",
    "#Run model\n",
    "    for n in range(0,NumberOfRuns):\n",
    "        for i,val in enumerate(Moorea.nodes):\n",
    "            types[n,i,s] = Moorea.nodes[i].type\n",
    "        coralCount[n,s] = np.count_nonzero(types[n,:,s] == 0)\n",
    "        turfCount[n,s] = np.count_nonzero(types[n,:,s] == 1)\n",
    "        algaeCount[n,s] = np.count_nonzero(types[n,:,s] == 2)\n",
    "        Moorea.roll(r=r, d=d, a=a, g=g, y=y, dt=dt)\n"
   ]
  },
  {
   "cell_type": "markdown",
   "metadata": {},
   "source": [
    "## Plotting inital and last spatial distribution of model runs"
   ]
  },
  {
   "cell_type": "code",
   "execution_count": null,
   "metadata": {
    "collapsed": false
   },
   "outputs": [],
   "source": [
    "##initial\n",
    "data1 = np.reshape(types[0,:,0], (-1, rows))\n",
    "##final\n",
    "data2 = np.reshape(types[NumberOfRuns-1,:,0], (-1, rows))\n",
    "##plot\n",
    "tl.initialFinal(data1=data1, data2=data2) \n",
    "\n",
    "\n",
    "np.savetxt(\"modelOutput_shifting_Equal_.csv\", np.reshape(types[i,:,1], (-1, rows)), delimiter=\",\")"
   ]
  },
  {
   "cell_type": "markdown",
   "metadata": {},
   "source": [
    "## Animation"
   ]
  },
  {
   "cell_type": "code",
   "execution_count": null,
   "metadata": {
    "collapsed": true
   },
   "outputs": [],
   "source": [
    "\n",
    "#https://towardsdatascience.com/animations-with-matplotlib-d96375c5442c\n",
    "%matplotlib inline\n",
    "import matplotlib.animation as animation\n",
    "from IPython.display import HTML"
   ]
  },
  {
   "cell_type": "code",
   "execution_count": null,
   "metadata": {
    "collapsed": false
   },
   "outputs": [],
   "source": [
    "np.reshape(types[i,:,1], (-1, rows))"
   ]
  },
  {
   "cell_type": "code",
   "execution_count": null,
   "metadata": {
    "collapsed": false
   },
   "outputs": [],
   "source": [
    "import numpy as np\n",
    "import matplotlib.pyplot as plt\n",
    "import matplotlib.animation as animation\n",
    "\n",
    "\n",
    "fig = plt.figure(\"Moving Wavepackage\")\n",
    "colors = ['pink', 'lightgreen','darkgreen']\n",
    "levels = [0, 1, 2]\n",
    "cmap, norm = clt.from_levels_and_colors(levels=levels,\n",
    "                                        colors=colors, \n",
    "                                        extend='max')\n",
    "\n",
    "Z   = []\n",
    "img = []\n",
    "for i in range(NumberOfRuns):\n",
    "    Z.append(np.reshape(types[i,:,1], (-1, rows)))\n",
    "    img.append([plt.imshow(Z[i], cmap=cmap, norm=norm)])\n",
    "\n",
    "ani = animation.ArtistAnimation(fig, img, interval=200, blit=True,repeat_delay=0)\n",
    "\n",
    "HTML(ani.to_html5_video())"
   ]
  },
  {
   "cell_type": "markdown",
   "metadata": {},
   "source": [
    "#### Save Animation"
   ]
  },
  {
   "cell_type": "code",
   "execution_count": null,
   "metadata": {
    "collapsed": false
   },
   "outputs": [],
   "source": [
    "ani.save('./animation.gif', writer='imagemagick', fps=60)"
   ]
  },
  {
   "cell_type": "markdown",
   "metadata": {},
   "source": [
    "## Plotting Historgrams:"
   ]
  },
  {
   "cell_type": "code",
   "execution_count": 6,
   "metadata": {
    "collapsed": false,
    "scrolled": false
   },
   "outputs": [
    {
     "data": {
      "image/png": "[encoded data removed]",
      "text/plain": [
       "<matplotlib.figure.Figure at 0x1220d9f60>"
      ]
     },
     "metadata": {},
     "output_type": "display_data"
    }
   ],
   "source": [
    "x = np.arange(NumberOfRuns)\n",
    "ylabel = \"Average Count over 100 Simulations\"\n",
    "#plot\n",
    "tl.averageHists(x, coralCount, turfCount, algaeCount, ylabel) "
   ]
  },
  {
   "cell_type": "code",
   "execution_count": 7,
   "metadata": {
    "collapsed": false
   },
   "outputs": [],
   "source": [
    "fig, (ax, ax2, ax3) = plt.subplots(1,3, facecolor = 'w', sharey='row')\n",
    "x = np.arange(NumberOfRuns)\n",
    "im = ax.plot(x, coralCount.mean(axis=1), color='red')\n",
    "im = ax.plot(x, coralCount.max(axis=1), color='red')\n",
    "im = ax.plot(x, coralCount.min(axis=1), color='red')\n",
    "\n",
    "im2 = ax2.plot(x, turfCount.mean(axis=1), color='blue')\n",
    "im2 = ax2.plot(x, turfCount.max(axis=1), color='blue')\n",
    "im2 = ax2.plot(x, turfCount.min(axis=1), color='blue')\n",
    "\n",
    "im2 = ax3.plot(x, algaeCount.mean(axis=1), color='green')\n",
    "im2 = ax3.plot(x, algaeCount.max(axis=1), color='green')\n",
    "im2 = ax3.plot(x, algaeCount.min(axis=1), color='green')\n",
    "\n",
    "\n",
    "\n",
    "ax.set_ylabel(\"Average Count over 100 Simulations\")\n",
    "ax.set_xlabel(\"Time\")\n",
    "ax2.set_xlabel(\"Time\")\n",
    "ax3.set_xlabel(\"Time\")\n",
    "ax.set_facecolor('white')\n",
    "ax2.set_facecolor('white')\n",
    "ax3.set_facecolor('white')"
   ]
  },
  {
   "cell_type": "code",
   "execution_count": 8,
   "metadata": {
    "collapsed": false
   },
   "outputs": [
    {
     "data": {
      "image/png": "[encoded data removed]",
      "text/plain": [
       "<matplotlib.figure.Figure at 0x125304f28>"
      ]
     },
     "metadata": {},
     "output_type": "display_data"
    },
    {
     "data": {
      "image/png": "[encoded data removed]",
      "text/plain": [
       "<matplotlib.figure.Figure at 0x12512c390>"
      ]
     },
     "metadata": {},
     "output_type": "display_data"
    }
   ],
   "source": [
    "#Plotting progression over time for 1 simulation\n",
    "x1=coralCount[:,1]\n",
    "x2=turfCount[:,1]\n",
    "x3=algaeCount[:,1]\n",
    "tl.timeSeries(x, x1,x2,x3)"
   ]
  },
  {
   "cell_type": "code",
   "execution_count": 9,
   "metadata": {
    "collapsed": false
   },
   "outputs": [
    {
     "data": {
      "image/png": "[encoded data removed]",
      "text/plain": [
       "<matplotlib.figure.Figure at 0x125ab5668>"
      ]
     },
     "metadata": {},
     "output_type": "display_data"
    }
   ],
   "source": [
    "#Plotting progression over time for 1 simulation\n",
    "x1=coralCount[:,0]\n",
    "x2=turfCount[:,0]\n",
    "x3=algaeCount[:,0]\n",
    "tl.timeSeries(x, x1,x2,x3)"
   ]
  },
  {
   "cell_type": "markdown",
   "metadata": {},
   "source": [
    "# Begin TDA"
   ]
  },
  {
   "cell_type": "markdown",
   "metadata": {},
   "source": [
    "#### Steps\n",
    "* Set values to 1 = Coral, 0 = Other\n",
    "* create a finer grid\n",
    "* use gaussians at each node to create variation based on overlap\n",
    "* Do TDA on output \n"
   ]
  },
  {
   "cell_type": "code",
   "execution_count": null,
   "metadata": {
    "collapsed": true
   },
   "outputs": [],
   "source": [
    "from ripser import ripser, lower_star_img\n",
    "from persim import plot_diagrams\n",
    "from scipy import ndimage\n",
    "import PIL"
   ]
  },
  {
   "cell_type": "markdown",
   "metadata": {},
   "source": [
    "### Make Binary (including inverse (i)) and refine grid"
   ]
  },
  {
   "cell_type": "code",
   "execution_count": null,
   "metadata": {
    "collapsed": true
   },
   "outputs": [],
   "source": [
    "tester, testeri = tl.tda_prep(types[999,:,1], columns, rows, 8, True)"
   ]
  },
  {
   "cell_type": "markdown",
   "metadata": {},
   "source": [
    "### Add texture (empasize larger patches)"
   ]
  },
  {
   "cell_type": "code",
   "execution_count": null,
   "metadata": {
    "collapsed": true
   },
   "outputs": [],
   "source": [
    "yo = ndimage.distance_transform_edt(tester)\n",
    "yoi = ndimage.distance_transform_edt(testeri)"
   ]
  },
  {
   "cell_type": "markdown",
   "metadata": {},
   "source": [
    "### Run TDA\n",
    "RE [Ripser](https://ripser.scikit-tda.org/Lower%20Star%20Image%20Filtrations.html) approach"
   ]
  },
  {
   "cell_type": "code",
   "execution_count": null,
   "metadata": {
    "collapsed": true
   },
   "outputs": [],
   "source": [
    "prep = tl.prep2(yo)\n",
    "prepi = tl.prep2(yoi)\n",
    "\n",
    "#RUN Lower Star Algorithm\n",
    "dgm = lower_star_img(-prep)\n",
    "dgmi = lower_star_img(-prepi)\n",
    "\n",
    "#Grab points above a threshold\n",
    "threshold = 4\n",
    "points = tl.pointDef(dgm, threshold)\n",
    "pointsi = tl.pointDef(dgmi, threshold)\n"
   ]
  },
  {
   "cell_type": "code",
   "execution_count": null,
   "metadata": {
    "collapsed": false
   },
   "outputs": [],
   "source": [
    "### can already grab number of patches here with \n",
    "points.shape[0]"
   ]
  },
  {
   "cell_type": "markdown",
   "metadata": {},
   "source": [
    "### Plot output"
   ]
  },
  {
   "cell_type": "code",
   "execution_count": null,
   "metadata": {
    "collapsed": false
   },
   "outputs": [],
   "source": [
    "tl.plotTDA(points, yo, prep, dgm)"
   ]
  },
  {
   "cell_type": "code",
   "execution_count": null,
   "metadata": {
    "collapsed": false
   },
   "outputs": [],
   "source": [
    "tl.plotTDA(pointsi, yoi, prepi, dgmi)"
   ]
  },
  {
   "cell_type": "code",
   "execution_count": null,
   "metadata": {
    "collapsed": false
   },
   "outputs": [],
   "source": [
    "tester, testeri = tl.tda_prep(types[0,:,1], columns, rows, 8, True)\n",
    "yo = ndimage.distance_transform_edt(tester)\n",
    "yoi = ndimage.distance_transform_edt(testeri)\n",
    "prep = tl.prep2(yo)\n",
    "prepi = tl.prep2(yoi)\n",
    "\n",
    "#RUN Lower Star Algorithm\n",
    "dgm = lower_star_img(-prep)\n",
    "dgmi = lower_star_img(-prepi)\n",
    "\n",
    "#Grab points above a threshold\n",
    "threshold = 8\n",
    "points = tl.pointDef(dgm, threshold)\n",
    "pointsi = tl.pointDef(dgmi, threshold)\n",
    "\n",
    "tl.plotTDA(points, yo, prep, dgm)"
   ]
  },
  {
   "cell_type": "code",
   "execution_count": null,
   "metadata": {
    "collapsed": false
   },
   "outputs": [],
   "source": [
    "tl.plotTDA(pointsi, yoi, prepi, dgmi)"
   ]
  },
  {
   "cell_type": "markdown",
   "metadata": {},
   "source": [
    "--------"
   ]
  },
  {
   "cell_type": "markdown",
   "metadata": {},
   "source": [
    "--------"
   ]
  },
  {
   "cell_type": "markdown",
   "metadata": {},
   "source": [
    "--------"
   ]
  },
  {
   "cell_type": "markdown",
   "metadata": {},
   "source": [
    "--------"
   ]
  },
  {
   "cell_type": "markdown",
   "metadata": {},
   "source": [
    "--------"
   ]
  },
  {
   "cell_type": "markdown",
   "metadata": {},
   "source": [
    "--------"
   ]
  },
  {
   "cell_type": "markdown",
   "metadata": {},
   "source": [
    "--------"
   ]
  },
  {
   "cell_type": "markdown",
   "metadata": {},
   "source": [
    "Proximity of Patches less relevant? looking at neighbour relations, not global"
   ]
  }
 ],
 "metadata": {
  "kernelspec": {
   "display_name": "Python 3",
   "language": "python",
   "name": "python3"
  },
  "language_info": {
   "codemirror_mode": {
    "name": "ipython",
    "version": 3
   },
   "file_extension": ".py",
   "mimetype": "text/x-python",
   "name": "python",
   "nbconvert_exporter": "python",
   "pygments_lexer": "ipython3",
   "version": "3.6.7"
  }
 },
 "nbformat": 4,
 "nbformat_minor": 2
}
