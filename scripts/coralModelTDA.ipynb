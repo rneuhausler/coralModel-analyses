{
 "cells": [
  {
   "cell_type": "code",
   "execution_count": 3,
   "metadata": {
    "collapsed": true
   },
   "outputs": [],
   "source": [
    "from coralModel import Reef\n",
    "from coralModel import Organism\n",
    "import numpy as np\n",
    "import matplotlib.pyplot as plt\n",
    "import matplotlib.colors as clt\n",
    "import tools as tl\n",
    "\n",
    "from mpl_toolkits.axes_grid1.inset_locator import InsetPosition"
   ]
  },
  {
   "cell_type": "markdown",
   "metadata": {},
   "source": [
    "## Set Parameters"
   ]
  },
  {
   "cell_type": "code",
   "execution_count": null,
   "metadata": {
    "collapsed": true
   },
   "outputs": [],
   "source": [
    "NumberOfRuns = 100\n",
    "NumberOfSimulations = 100\n",
    "coralPercent = .5\n",
    "algaePercent = .25\n",
    "turfPercent = 1 - coralPercent - algaePercent\n",
    "r=1.0\n",
    "d=.4\n",
    "a=.2\n",
    "g=.3\n",
    "y=.75\n",
    "dt=.01\n",
    "\n",
    "rows = 50\n",
    "columns = 50\n",
    "\n",
    "NumberOfNodes = rows * columns\n",
    "coralCount = np.zeros((NumberOfRuns, NumberOfSimulations))\n",
    "turfCount = np.zeros((NumberOfRuns, NumberOfSimulations))\n",
    "algaeCount = np.zeros((NumberOfRuns, NumberOfSimulations))\n",
    "types = np.zeros((NumberOfRuns, NumberOfNodes, NumberOfSimulations))"
   ]
  },
  {
   "cell_type": "code",
   "execution_count": null,
   "metadata": {
    "collapsed": true
   },
   "outputs": [],
   "source": [
    "algaeCount"
   ]
  },
  {
   "cell_type": "markdown",
   "metadata": {},
   "source": [
    "## Generate square 8x8 reef with randomly assigned types"
   ]
  },
  {
   "cell_type": "code",
   "execution_count": null,
   "metadata": {
    "collapsed": true
   },
   "outputs": [],
   "source": [
    "#0 = Coral, 1 = Turf, 2 = Algae\n",
    "Moorea = Reef()\n",
    "count = 0\n",
    "for i in range(0,rows):\n",
    "    for j in range(0, columns):\n",
    "        U = np.random.choice([0,1,2],\n",
    "                             p=[coralPercent, turfPercent, algaePercent])\n",
    "        node = Organism(type=U, location=[i,j], ID=count)\n",
    "        Moorea.append(node)\n",
    "        count = count + 1\n",
    "Moorea.generateGraph()"
   ]
  },
  {
   "cell_type": "markdown",
   "metadata": {},
   "source": [
    "## Run model"
   ]
  },
  {
   "cell_type": "code",
   "execution_count": null,
   "metadata": {
    "collapsed": true
   },
   "outputs": [],
   "source": [
    "for s in range(0,NumberOfSimulations):    \n",
    "    for n in range(0,NumberOfRuns):\n",
    "        for i,val in enumerate(Moorea.nodes):\n",
    "            types[n,i,s] = Moorea.nodes[i].type\n",
    "        coralCount[n,s] = np.count_nonzero(types[n,:,s] == 0)\n",
    "        turfCount[n,s] = np.count_nonzero(types[n,:,s] == 1)\n",
    "        algaeCount[n,s] = np.count_nonzero(types[n,:,s] == 2)\n",
    "        Moorea.roll(r=r, d=d, a=a, g=g, y=y, dt=dt)"
   ]
  },
  {
   "cell_type": "markdown",
   "metadata": {},
   "source": [
    "### Run model with new grid each run"
   ]
  },
  {
   "cell_type": "code",
   "execution_count": 63,
   "metadata": {
    "collapsed": true
   },
   "outputs": [],
   "source": [
    "## What needs to be set\n",
    "NumberOfSimulations = 100\n",
    "dt=.1\n",
    "tf=10\n",
    "\n",
    "coralPercent = .5\n",
    "algaePercent = .25\n",
    "r=1.0\n",
    "d=.2\n",
    "a=.2\n",
    "g=.5\n",
    "y=.9\n",
    "\n",
    "rows = 10\n",
    "columns = 10\n",
    "\n",
    "## Set up based on above\n",
    "NumberOfRuns = int(tf/dt)\n",
    "turfPercent = 1 - coralPercent - algaePercent\n",
    "NumberOfNodes = rows * columns\n",
    "coralCount = np.zeros((NumberOfRuns, NumberOfSimulations))\n",
    "turfCount = np.zeros((NumberOfRuns, NumberOfSimulations))\n",
    "algaeCount = np.zeros((NumberOfRuns, NumberOfSimulations))\n",
    "types = np.zeros((NumberOfRuns, NumberOfNodes, NumberOfSimulations))"
   ]
  },
  {
   "cell_type": "code",
   "execution_count": 64,
   "metadata": {
    "collapsed": true
   },
   "outputs": [],
   "source": [
    "length = 10\n",
    "width = 10\n",
    "\n",
    "for s in range(0,NumberOfSimulations):\n",
    "\n",
    "#Generate square 8x8 reef with randomly assigned types\n",
    "#0 = Coral, 1 = Turf, 2 = Algae\n",
    "    Moorea = Reef()\n",
    "    count = 0\n",
    "    for i in range(0,length):\n",
    "        for j in range(0, width):\n",
    "            U = np.random.choice([0,1,2],\n",
    "                                 p=[coralPercent, turfPercent, algaePercent])\n",
    "            node = Organism(type=U, location=[i,j], ID=count)\n",
    "            Moorea.append(node)\n",
    "            count = count + 1\n",
    "    Moorea.generateGraph()\n",
    "    #NumberOfNodes = count\n",
    "\n",
    "#Run model\n",
    "    for n in range(0,NumberOfRuns):\n",
    "        for i,val in enumerate(Moorea.nodes):\n",
    "            types[n,i,s] = Moorea.nodes[i].type\n",
    "        coralCount[n,s] = np.count_nonzero(types[n,:,s] == 0)\n",
    "        turfCount[n,s] = np.count_nonzero(types[n,:,s] == 1)\n",
    "        algaeCount[n,s] = np.count_nonzero(types[n,:,s] == 2)\n",
    "        Moorea.roll(r=r, d=d, a=a, g=g, y=y, dt=dt)\n"
   ]
  },
  {
   "cell_type": "code",
   "execution_count": 65,
   "metadata": {
    "collapsed": false
   },
   "outputs": [
    {
     "data": {
      "image/png": "[encoded data removed]",
      "text/plain": [
       "<matplotlib.figure.Figure at 0x11d5e49b0>"
      ]
     },
     "metadata": {},
     "output_type": "display_data"
    }
   ],
   "source": [
    "fig, (ax, ax2, ax3) = plt.subplots(1,3, facecolor = 'w', sharey='row')\n",
    "x = np.arange(NumberOfRuns)\n",
    "im = ax.plot(x, coralCount.mean(axis=1)/NumberOfNodes, color='red')\n",
    "im = ax.plot(x, coralCount.max(axis=1)/NumberOfNodes, color='red')\n",
    "im = ax.plot(x, coralCount.min(axis=1)/NumberOfNodes, color='red')\n",
    "\n",
    "im2 = ax2.plot(x, turfCount.mean(axis=1)/NumberOfNodes, color='blue')\n",
    "im2 = ax2.plot(x, turfCount.max(axis=1)/NumberOfNodes, color='blue')\n",
    "im2 = ax2.plot(x, turfCount.min(axis=1)/NumberOfNodes, color='blue')\n",
    "\n",
    "im2 = ax3.plot(x, algaeCount.mean(axis=1)/NumberOfNodes, color='green')\n",
    "im2 = ax3.plot(x, algaeCount.max(axis=1)/NumberOfNodes, color='green')\n",
    "im2 = ax3.plot(x, algaeCount.min(axis=1)/NumberOfNodes, color='green')\n",
    "\n",
    "\n",
    "\n",
    "ax.set_ylabel(\"Average Count over 100 Simulations\")\n",
    "ax.set_xlabel(\"Time\")\n",
    "ax2.set_xlabel(\"Time\")\n",
    "ax3.set_xlabel(\"Time\")\n",
    "ax.set_facecolor('white')\n",
    "ax2.set_facecolor('white')\n",
    "ax3.set_facecolor('white')"
   ]
  },
  {
   "cell_type": "markdown",
   "metadata": {},
   "source": [
    "## Find where coral count gets lowest"
   ]
  },
  {
   "cell_type": "code",
   "execution_count": 66,
   "metadata": {
    "collapsed": false
   },
   "outputs": [
    {
     "data": {
      "text/plain": [
       "59.0"
      ]
     },
     "execution_count": 66,
     "metadata": {},
     "output_type": "execute_result"
    }
   ],
   "source": [
    "## lowest value\n",
    "np.max(coralCount[50:,:])"
   ]
  },
  {
   "cell_type": "code",
   "execution_count": 67,
   "metadata": {
    "collapsed": false
   },
   "outputs": [
    {
     "data": {
      "text/plain": [
       "(array([ 0,  0,  0,  0,  0,  0,  0,  0,  0,  0,  0,  0,  0,  0,  0,  0,  0,\n",
       "         0,  0,  0,  0,  0,  0,  0,  0,  0,  0,  0,  0,  0,  0,  0,  0,  0,\n",
       "         0,  0,  0,  0,  1,  1,  1,  1,  1,  1,  1,  1,  1,  1,  1,  1,  1,\n",
       "         1,  1,  1,  1,  1,  1,  1,  1,  1,  1,  1,  1,  1,  1,  1,  1,  1,\n",
       "         1,  1,  1,  1,  1,  1,  1,  1,  1,  1,  1,  1,  1,  1,  1,  1,  1,\n",
       "         1,  1,  1,  1,  1,  1,  1,  1,  2,  2,  2,  2,  2,  2,  2,  2,  2,\n",
       "         2,  2,  2,  2,  2,  2,  2,  2,  2,  2,  2,  2,  2,  2,  2,  2,  2,\n",
       "         2,  2,  2,  2,  2,  2,  2,  2,  2,  2,  2,  2,  2,  2,  2,  2,  2,\n",
       "         2,  2,  2,  2,  2,  2,  2,  2,  2,  2,  2,  3,  3,  3,  3,  3,  3,\n",
       "         3,  3,  3,  3,  3,  3,  3,  3,  3,  3,  3,  3,  3,  3,  3,  3,  3,\n",
       "         3,  3,  3,  3,  3,  3,  3,  3,  3,  3,  3,  3,  3,  3,  3,  3,  3,\n",
       "         3,  3,  3,  3,  3,  3,  3,  3,  3,  3,  4,  4,  4,  4,  4,  4,  4,\n",
       "         4,  4,  4,  4,  4,  4,  4,  4,  4,  4,  4,  4,  4,  4,  4,  4,  4,\n",
       "         4,  4,  4,  4,  4,  4,  4,  4,  4,  4,  4,  4,  4,  4,  4,  4,  4,\n",
       "         4,  4,  4,  4,  4,  4,  4,  4,  4,  5,  5,  5,  5,  5,  5,  5,  5,\n",
       "         5,  5,  5,  5,  5,  5,  5,  5,  5,  5,  5,  5,  5,  5,  5,  5,  5,\n",
       "         5,  5,  5,  5,  5,  5,  5,  5,  5,  5,  5,  5,  5,  5,  5,  5,  5,\n",
       "         5,  5,  6,  6,  6,  6,  6,  6,  6,  6,  6,  6,  6,  6,  6,  6,  6,\n",
       "         6,  6,  6,  6,  6,  6,  6,  6,  6,  6,  6,  6,  6,  6,  6,  6,  6,\n",
       "         6,  7,  7,  7,  7,  7,  7,  7,  7,  7,  7,  7,  7,  7,  7,  7,  7,\n",
       "         7,  7,  7,  7,  7,  7,  7,  7,  7,  7,  7,  7,  7,  7,  7,  7,  8,\n",
       "         8,  8,  8,  8,  8,  8,  8,  8,  8,  8,  8,  8,  8,  8,  8,  8,  8,\n",
       "         8,  8,  8,  8,  8,  8,  8,  8,  8,  8,  9,  9,  9,  9,  9,  9,  9,\n",
       "         9,  9,  9,  9,  9,  9,  9,  9,  9,  9,  9,  9,  9,  9,  9, 10, 10,\n",
       "        10, 10, 10, 10, 10, 10, 10, 10, 10, 10, 10, 10, 10, 11, 11, 11, 11,\n",
       "        11, 11, 11, 11, 11, 11, 11, 11, 11, 12, 12, 12, 12, 12, 12, 12, 13,\n",
       "        13, 13, 13, 13, 13, 13, 14, 14, 14, 14, 14, 14, 14, 14, 15, 15, 15,\n",
       "        15, 15, 15, 15, 16, 16, 16, 16, 16, 16, 17, 17, 17, 17, 17, 17, 18,\n",
       "        18, 18, 18, 18, 18, 18, 18, 19, 19, 19, 19, 19, 20, 20, 20, 20, 20,\n",
       "        21, 21, 21, 22, 22, 22, 22, 22, 23, 23, 23, 23, 23, 24, 24, 24, 25,\n",
       "        26, 27, 28, 28, 29, 29, 30, 31, 32, 32, 32, 33, 33, 33, 34, 34, 35,\n",
       "        36, 36, 37, 37, 37, 38, 38, 39, 39, 39, 40, 40, 40, 40, 41, 41, 41,\n",
       "        41, 42, 42, 42, 42, 43, 43, 43, 43, 43, 44, 44, 45, 45, 45, 45, 46,\n",
       "        46, 47, 47, 48, 48, 48, 49, 49, 50, 50, 50, 51, 52, 52, 53, 54, 55,\n",
       "        56, 60, 63, 64, 65, 67, 69, 70, 74, 76, 77, 78, 79, 80, 81, 81, 82,\n",
       "        83, 84, 85, 86, 87, 91, 92, 93, 94, 95]),\n",
       " array([ 1,  4,  5,  6,  9, 15, 17, 20, 24, 26, 31, 32, 38, 40, 42, 45, 46,\n",
       "        50, 54, 56, 59, 64, 65, 67, 70, 72, 73, 74, 75, 76, 79, 80, 82, 83,\n",
       "        87, 89, 91, 92,  1,  2,  4,  5,  6,  9, 15, 16, 17, 19, 20, 23, 24,\n",
       "        26, 30, 31, 32, 37, 38, 40, 43, 45, 46, 50, 53, 54, 56, 59, 62, 64,\n",
       "        65, 67, 68, 70, 71, 72, 73, 74, 75, 77, 79, 80, 82, 83, 84, 86, 87,\n",
       "        88, 89, 91, 92, 94, 95, 96, 98,  1,  2,  5,  6,  8,  9, 15, 16, 17,\n",
       "        19, 20, 23, 24, 25, 26, 27, 30, 31, 32, 38, 40, 42, 45, 46, 50, 53,\n",
       "        54, 55, 59, 61, 62, 64, 65, 67, 70, 72, 73, 74, 75, 76, 77, 79, 80,\n",
       "        82, 83, 84, 86, 87, 88, 91, 92, 94, 96, 98,  1,  2,  4,  5,  6,  8,\n",
       "         9, 10, 14, 17, 19, 20, 23, 24, 26, 27, 30, 31, 32, 38, 40, 41, 42,\n",
       "        46, 50, 54, 56, 61, 62, 64, 65, 67, 68, 70, 72, 73, 74, 75, 76, 77,\n",
       "        79, 82, 83, 87, 88, 91, 92, 94, 95, 98,  1,  2,  3,  4,  5,  6,  8,\n",
       "         9, 10, 14, 15, 19, 20, 22, 23, 24, 26, 27, 30, 32, 33, 38, 40, 41,\n",
       "        42, 46, 50, 54, 56, 58, 61, 62, 64, 67, 69, 70, 72, 73, 74, 75, 76,\n",
       "        77, 79, 82, 83, 84, 87, 92, 94, 98,  1,  4,  5,  6,  8,  9, 10, 14,\n",
       "        15, 18, 19, 20, 24, 26, 27, 31, 32, 33, 38, 42, 46, 50, 54, 56, 59,\n",
       "        61, 62, 64, 70, 72, 73, 74, 75, 76, 77, 79, 82, 86, 87, 88, 91, 94,\n",
       "        96, 98,  1,  5,  8, 10, 14, 19, 20, 26, 30, 31, 32, 33, 46, 50, 56,\n",
       "        59, 61, 62, 64, 66, 70, 72, 73, 74, 76, 79, 82, 86, 87, 91, 94, 95,\n",
       "        98,  1,  5,  8, 10, 19, 20, 26, 32, 33, 38, 42, 47, 49, 50, 58, 59,\n",
       "        60, 61, 62, 64, 70, 71, 72, 73, 74, 84, 86, 87, 91, 94, 95, 98,  1,\n",
       "         5,  8, 10, 16, 20, 26, 32, 47, 49, 56, 58, 59, 61, 62, 64, 70, 71,\n",
       "        72, 73, 74, 76, 87, 91, 94, 96, 97, 98,  1,  2, 10, 15, 16, 32, 49,\n",
       "        56, 59, 61, 62, 64, 70, 71, 72, 73, 74, 76, 87, 91, 96, 97,  2,  5,\n",
       "        10, 16, 17, 49, 59, 62, 64, 71, 72, 76, 96, 97, 98,  2,  4,  5, 10,\n",
       "        17, 32, 46, 47, 49, 62, 73, 74, 98,  2, 10, 32, 47, 49, 95, 96, 10,\n",
       "        20, 32, 34, 47, 49, 87, 10, 18, 20, 32, 34, 47, 49, 74,  5, 10, 18,\n",
       "        34, 47, 49, 70, 10, 18, 20, 34, 47, 62, 10, 18, 47, 49, 69, 74,  2,\n",
       "         4,  5, 10, 18, 47, 69, 74,  5, 10, 18, 47, 74,  5, 10, 47, 74, 84,\n",
       "         5, 10, 84,  0,  4, 10, 74, 84,  0,  4, 10, 74, 84,  0,  4, 74,  4,\n",
       "        49,  9, 19, 89,  9, 89, 89, 89, 47, 69, 89, 47, 69, 89, 88, 89, 88,\n",
       "        73, 88, 64, 73, 88, 73, 88, 34, 73, 88, 34, 68, 73, 88, 34, 68, 73,\n",
       "        88, 34, 68, 73, 88, 34, 62, 68, 73, 88, 68, 78, 68, 73, 78, 88, 68,\n",
       "        88, 68, 88, 68, 85, 88, 32, 68, 32, 68, 85, 68, 68, 85, 68, 68, 68,\n",
       "        68, 35, 68, 18, 35, 90, 39, 39, 62, 37, 37, 37, 37, 37, 37, 89, 37,\n",
       "        37, 37, 37, 37, 37, 53, 53, 53, 53, 15]))"
      ]
     },
     "execution_count": 67,
     "metadata": {},
     "output_type": "execute_result"
    }
   ],
   "source": [
    "## where it is located, ## run x simlulation \n",
    "np.where(coralCount > 50)"
   ]
  },
  {
   "cell_type": "code",
   "execution_count": 19,
   "metadata": {
    "collapsed": false
   },
   "outputs": [
    {
     "data": {
      "text/plain": [
       "(100, 100)"
      ]
     },
     "execution_count": 19,
     "metadata": {},
     "output_type": "execute_result"
    }
   ],
   "source": [
    "## step 71, 78, and 79 for simulation 37, 10, and 10\n",
    "np.shape()"
   ]
  },
  {
   "cell_type": "code",
   "execution_count": 72,
   "metadata": {
    "collapsed": false
   },
   "outputs": [
    {
     "data": {
      "image/png": "[encoded data removed]",
      "text/plain": [
       "<matplotlib.figure.Figure at 0x121e0dba8>"
      ]
     },
     "metadata": {},
     "output_type": "display_data"
    }
   ],
   "source": [
    "## create animations of those simulations\n",
    "\n",
    "%matplotlib inline\n",
    "import matplotlib.animation as animation\n",
    "from IPython.display import HTML\n",
    "\n",
    "\n",
    "fig = plt.figure(\"Moving Wavepackage\")\n",
    "colors = ['pink', 'lightgreen','darkgreen']\n",
    "levels = [0, 1, 2]\n",
    "cmap, norm = clt.from_levels_and_colors(levels=levels,\n",
    "                                        colors=colors, \n",
    "                                        extend='max')\n",
    "\n",
    "Z   = []\n",
    "img = []\n",
    "for i in range(NumberOfRuns):\n",
    "    Z.append(np.reshape(types[i,:,53], (-1, rows)))\n",
    "    img.append([plt.imshow(Z[i], cmap=cmap, norm=norm)])\n",
    "\n",
    "ani = animation.ArtistAnimation(fig, img, interval=200, blit=True, repeat_delay=0)\n",
    "\n",
    "#HTML(ani.to_html5_video())"
   ]
  },
  {
   "cell_type": "code",
   "execution_count": 73,
   "metadata": {
    "collapsed": true
   },
   "outputs": [],
   "source": [
    "## save animation\n",
    "ani.save('./sim53_highcoral2020.gif', writer='imagemagick', fps=5)"
   ]
  },
  {
   "cell_type": "code",
   "execution_count": null,
   "metadata": {
    "collapsed": true
   },
   "outputs": [],
   "source": []
  },
  {
   "cell_type": "markdown",
   "metadata": {},
   "source": [
    "## Plotting inital and last spatial distribution of model runs"
   ]
  },
  {
   "cell_type": "code",
   "execution_count": 62,
   "metadata": {
    "collapsed": false
   },
   "outputs": [
    {
     "data": {
      "image/png": "[encoded data removed]",
      "text/plain": [
       "<matplotlib.figure.Figure at 0x121ebfeb8>"
      ]
     },
     "metadata": {},
     "output_type": "display_data"
    }
   ],
   "source": [
    "##initial\n",
    "data1 = np.reshape(types[0,:,0], (-1, rows))\n",
    "##final\n",
    "data2 = np.reshape(types[NumberOfRuns-1,:,0], (-1, rows))\n",
    "##plot\n",
    "tl.initialFinal(data1=data1, data2=data2) \n",
    "\n",
    "\n",
    "np.savetxt(\"modelOutput_shifting_Equal_4040.csv\", np.reshape(types[i,:,1], (-1, rows)), delimiter=\",\")"
   ]
  },
  {
   "cell_type": "markdown",
   "metadata": {},
   "source": [
    "## Animation"
   ]
  },
  {
   "cell_type": "code",
   "execution_count": 7,
   "metadata": {
    "collapsed": true
   },
   "outputs": [],
   "source": [
    "\n",
    "#https://towardsdatascience.com/animations-with-matplotlib-d96375c5442c\n",
    "%matplotlib inline\n",
    "import matplotlib.animation as animation\n",
    "from IPython.display import HTML"
   ]
  },
  {
   "cell_type": "code",
   "execution_count": 15,
   "metadata": {
    "collapsed": false
   },
   "outputs": [
    {
     "data": {
      "text/plain": [
       "(100, 400, 100)"
      ]
     },
     "execution_count": 15,
     "metadata": {},
     "output_type": "execute_result"
    }
   ],
   "source": [
    "types.shape"
   ]
  },
  {
   "cell_type": "code",
   "execution_count": 8,
   "metadata": {
    "collapsed": false
   },
   "outputs": [
    {
     "ename": "IndexError",
     "evalue": "index 399 is out of bounds for axis 0 with size 100",
     "output_type": "error",
     "traceback": [
      "\u001b[0;31m---------------------------------------------------------------------------\u001b[0m",
      "\u001b[0;31mIndexError\u001b[0m                                Traceback (most recent call last)",
      "\u001b[0;32m<ipython-input-8-cef658a02d44>\u001b[0m in \u001b[0;36m<module>\u001b[0;34m()\u001b[0m\n\u001b[0;32m----> 1\u001b[0;31m \u001b[0mnp\u001b[0m\u001b[0;34m.\u001b[0m\u001b[0mreshape\u001b[0m\u001b[0;34m(\u001b[0m\u001b[0mtypes\u001b[0m\u001b[0;34m[\u001b[0m\u001b[0mi\u001b[0m\u001b[0;34m,\u001b[0m\u001b[0;34m:\u001b[0m\u001b[0;34m,\u001b[0m\u001b[0;36m1\u001b[0m\u001b[0;34m]\u001b[0m\u001b[0;34m,\u001b[0m \u001b[0;34m(\u001b[0m\u001b[0;34m-\u001b[0m\u001b[0;36m1\u001b[0m\u001b[0;34m,\u001b[0m \u001b[0mrows\u001b[0m\u001b[0;34m)\u001b[0m\u001b[0;34m)\u001b[0m\u001b[0;34m\u001b[0m\u001b[0;34m\u001b[0m\u001b[0m\n\u001b[0m",
      "\u001b[0;31mIndexError\u001b[0m: index 399 is out of bounds for axis 0 with size 100"
     ]
    }
   ],
   "source": [
    "np.reshape(types[,:,1], (-1, rows))"
   ]
  },
  {
   "cell_type": "code",
   "execution_count": null,
   "metadata": {
    "collapsed": true
   },
   "outputs": [],
   "source": [
    "import numpy as np\n",
    "import matplotlib.pyplot as plt\n",
    "import matplotlib.animation as animation\n",
    "\n",
    "\n",
    "fig = plt.figure(\"Moving Wavepackage\")\n",
    "colors = ['pink', 'lightgreen','darkgreen']\n",
    "levels = [0, 1, 2]\n",
    "cmap, norm = clt.from_levels_and_colors(levels=levels,\n",
    "                                        colors=colors, \n",
    "                                        extend='max')\n",
    "\n",
    "Z   = []\n",
    "img = []\n",
    "for i in range(NumberOfRuns):\n",
    "    Z.append(np.reshape(types[i,:,1], (-1, rows)))\n",
    "    img.append([plt.imshow(Z[i], cmap=cmap, norm=norm)])\n",
    "\n",
    "ani = animation.ArtistAnimation(fig, img, interval=200, blit=True,repeat_delay=0)\n",
    "\n",
    "HTML(ani.to_html5_video())"
   ]
  },
  {
   "cell_type": "markdown",
   "metadata": {},
   "source": [
    "#### Save Animation"
   ]
  },
  {
   "cell_type": "code",
   "execution_count": null,
   "metadata": {
    "collapsed": true
   },
   "outputs": [],
   "source": [
    "ani.save('./animation.gif', writer='imagemagick', fps=60)"
   ]
  },
  {
   "cell_type": "markdown",
   "metadata": {},
   "source": [
    "## Plotting Historgrams:"
   ]
  },
  {
   "cell_type": "code",
   "execution_count": null,
   "metadata": {
    "collapsed": true,
    "scrolled": false
   },
   "outputs": [],
   "source": [
    "x = np.arange(NumberOfRuns)\n",
    "ylabel = \"Average Count over 100 Simulations\"\n",
    "#plot\n",
    "tl.averageHists(x, coralCount, turfCount, algaeCount, ylabel) "
   ]
  },
  {
   "cell_type": "code",
   "execution_count": 59,
   "metadata": {
    "collapsed": false
   },
   "outputs": [
    {
     "data": {
      "image/png": "[encoded data removed]",
      "text/plain": [
       "<matplotlib.figure.Figure at 0x1217284a8>"
      ]
     },
     "metadata": {},
     "output_type": "display_data"
    }
   ],
   "source": [
    "#Plotting progression over time for 1 simulation\n",
    "x1=coralCount[:,22]\n",
    "x2=turfCount[:,22]\n",
    "x3=algaeCount[:,22]\n",
    "tl.timeSeries(x, x1,x2,x3)"
   ]
  },
  {
   "cell_type": "code",
   "execution_count": null,
   "metadata": {
    "collapsed": true
   },
   "outputs": [],
   "source": [
    "#Plotting progression over time for 1 simulation\n",
    "x1=coralCount[:,0]\n",
    "x2=turfCount[:,0]\n",
    "x3=algaeCount[:,0]\n",
    "tl.timeSeries(x, x1,x2,x3)"
   ]
  },
  {
   "cell_type": "markdown",
   "metadata": {},
   "source": [
    "# Begin TDA"
   ]
  },
  {
   "cell_type": "markdown",
   "metadata": {},
   "source": [
    "#### Steps\n",
    "* Set values to 1 = Coral, 0 = Other\n",
    "* create a finer grid\n",
    "* use gaussians at each node to create variation based on overlap\n",
    "* Do TDA on output \n"
   ]
  },
  {
   "cell_type": "code",
   "execution_count": null,
   "metadata": {
    "collapsed": true
   },
   "outputs": [],
   "source": [
    "from ripser import ripser, lower_star_img\n",
    "from persim import plot_diagrams\n",
    "from scipy import ndimage\n",
    "import PIL"
   ]
  },
  {
   "cell_type": "markdown",
   "metadata": {},
   "source": [
    "### Make Binary (including inverse (i)) and refine grid"
   ]
  },
  {
   "cell_type": "code",
   "execution_count": null,
   "metadata": {
    "collapsed": true
   },
   "outputs": [],
   "source": [
    "tester, testeri = tl.tda_prep(types[999,:,1], columns, rows, 8, True)"
   ]
  },
  {
   "cell_type": "markdown",
   "metadata": {},
   "source": [
    "### Add texture (empasize larger patches)"
   ]
  },
  {
   "cell_type": "code",
   "execution_count": null,
   "metadata": {
    "collapsed": true
   },
   "outputs": [],
   "source": [
    "yo = ndimage.distance_transform_edt(tester)\n",
    "yoi = ndimage.distance_transform_edt(testeri)"
   ]
  },
  {
   "cell_type": "markdown",
   "metadata": {},
   "source": [
    "### Run TDA\n",
    "RE [Ripser](https://ripser.scikit-tda.org/Lower%20Star%20Image%20Filtrations.html) approach"
   ]
  },
  {
   "cell_type": "code",
   "execution_count": null,
   "metadata": {
    "collapsed": true
   },
   "outputs": [],
   "source": [
    "prep = tl.prep2(yo)\n",
    "prepi = tl.prep2(yoi)\n",
    "\n",
    "#RUN Lower Star Algorithm\n",
    "dgm = lower_star_img(-prep)\n",
    "dgmi = lower_star_img(-prepi)\n",
    "\n",
    "#Grab points above a threshold\n",
    "threshold = 4\n",
    "points = tl.pointDef(dgm, threshold)\n",
    "pointsi = tl.pointDef(dgmi, threshold)\n"
   ]
  },
  {
   "cell_type": "code",
   "execution_count": null,
   "metadata": {
    "collapsed": true
   },
   "outputs": [],
   "source": [
    "### can already grab number of patches here with \n",
    "points.shape[0]"
   ]
  },
  {
   "cell_type": "markdown",
   "metadata": {},
   "source": [
    "### Plot output"
   ]
  },
  {
   "cell_type": "code",
   "execution_count": null,
   "metadata": {
    "collapsed": true
   },
   "outputs": [],
   "source": [
    "tl.plotTDA(points, yo, prep, dgm)"
   ]
  },
  {
   "cell_type": "code",
   "execution_count": null,
   "metadata": {
    "collapsed": true
   },
   "outputs": [],
   "source": [
    "tl.plotTDA(pointsi, yoi, prepi, dgmi)"
   ]
  },
  {
   "cell_type": "code",
   "execution_count": null,
   "metadata": {
    "collapsed": true
   },
   "outputs": [],
   "source": [
    "tester, testeri = tl.tda_prep(types[0,:,1], columns, rows, 8, True)\n",
    "yo = ndimage.distance_transform_edt(tester)\n",
    "yoi = ndimage.distance_transform_edt(testeri)\n",
    "prep = tl.prep2(yo)\n",
    "prepi = tl.prep2(yoi)\n",
    "\n",
    "#RUN Lower Star Algorithm\n",
    "dgm = lower_star_img(-prep)\n",
    "dgmi = lower_star_img(-prepi)\n",
    "\n",
    "#Grab points above a threshold\n",
    "threshold = 8\n",
    "points = tl.pointDef(dgm, threshold)\n",
    "pointsi = tl.pointDef(dgmi, threshold)\n",
    "\n",
    "tl.plotTDA(points, yo, prep, dgm)"
   ]
  },
  {
   "cell_type": "code",
   "execution_count": null,
   "metadata": {
    "collapsed": true
   },
   "outputs": [],
   "source": [
    "tl.plotTDA(pointsi, yoi, prepi, dgmi)"
   ]
  },
  {
   "cell_type": "markdown",
   "metadata": {},
   "source": [
    "--------"
   ]
  },
  {
   "cell_type": "markdown",
   "metadata": {},
   "source": [
    "--------"
   ]
  },
  {
   "cell_type": "markdown",
   "metadata": {},
   "source": [
    "--------"
   ]
  },
  {
   "cell_type": "markdown",
   "metadata": {},
   "source": [
    "--------"
   ]
  },
  {
   "cell_type": "markdown",
   "metadata": {},
   "source": [
    "--------"
   ]
  },
  {
   "cell_type": "markdown",
   "metadata": {},
   "source": [
    "--------"
   ]
  },
  {
   "cell_type": "markdown",
   "metadata": {},
   "source": [
    "--------"
   ]
  },
  {
   "cell_type": "markdown",
   "metadata": {},
   "source": [
    "Proximity of Patches less relevant? looking at neighbour relations, not global"
   ]
  }
 ],
 "metadata": {
  "kernelspec": {
   "display_name": "Python 3",
   "language": "python",
   "name": "python3"
  },
  "language_info": {
   "codemirror_mode": {
    "name": "ipython",
    "version": 3
   },
   "file_extension": ".py",
   "mimetype": "text/x-python",
   "name": "python",
   "nbconvert_exporter": "python",
   "pygments_lexer": "ipython3",
   "version": "3.6.7"
  }
 },
 "nbformat": 4,
 "nbformat_minor": 2
}
